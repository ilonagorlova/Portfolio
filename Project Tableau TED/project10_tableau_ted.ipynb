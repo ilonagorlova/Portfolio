{
 "cells": [
  {
   "cell_type": "markdown",
   "id": "72505719",
   "metadata": {},
   "source": [
    "# Анализ данных конференций TED."
   ]
  },
  {
   "cell_type": "markdown",
   "id": "fa8c3b9d",
   "metadata": {},
   "source": [
    "## Цель проекта"
   ]
  },
  {
   "cell_type": "markdown",
   "id": "f24ecfc3",
   "metadata": {},
   "source": [
    "Целью этого проекта является анализ конференций TED: их истории, развития, набора тем для выступлений и характеристики спикеров.\n",
    "\n",
    "В ходе проекта исследовались следующие вопросы:\n",
    " * история выступлений :\n",
    "     - распределение количества выступлений и тематик по годам и странам\n",
    "     - выделение топ-3 стран по количеству выступлений\n",
    " * распределение тематик выступлений:\n",
    "     - выделение топ-10 тематик \n",
    "     - распределение тематик по топ-3 странам\n",
    "     - анализ частоты аплодисментов и частоты ситуаций, когда аудитория смеется, для разных тематик\n",
    " * анализ длительности выступлений и числа просмотров, их распределений и взаимосвязи\n",
    " * анализ авторов, выступающих на конференциях: \n",
    "     - топ-N профессиональных областей деятельности\n",
    "     - распределение количества выступлений на одного автора\n",
    "     - анализ числа просмотров каждого выступления."
   ]
  },
  {
   "cell_type": "markdown",
   "id": "4c6d1aba",
   "metadata": {},
   "source": [
    "## Данные"
   ]
  },
  {
   "cell_type": "markdown",
   "id": "b023dcff",
   "metadata": {},
   "source": [
    "В этом проекте анализировался набор данных, собранных с сайта TED:\n",
    "    \n",
    "* файлы с данными о выступлениях `tableau_project_data_1.csv, tableau_project_data_2.csv, tableau_project_data_3.csv`;\n",
    "* справочник конференций `tableau_project_event_dict.csv`;\n",
    "* справочник авторов выступления `tableau_project_speakers_dict.csv`.\n",
    "\n",
    "Данные представлены за период с 1984 по 2021 г., однако инструменты Tableau предоставляют возможность изменять исследуемый период интерактивно."
   ]
  },
  {
   "cell_type": "markdown",
   "id": "4e83179a",
   "metadata": {},
   "source": [
    "## Результаты"
   ]
  },
  {
   "cell_type": "markdown",
   "id": "9f3f0542",
   "metadata": {},
   "source": [
    "Исследование проводилось с помощью программы Tableau Public Desktop 2022.1.2.\n",
    "Результаты представлены в виде дашборда, который можно открыть по ссылке:\n",
    "https://public.tableau.com/app/profile/ilona.gorlova/viz/ilona_project2/sheet38?publish=yes "
   ]
  },
  {
   "cell_type": "code",
   "execution_count": null,
   "id": "e86e5114",
   "metadata": {},
   "outputs": [],
   "source": []
  }
 ],
 "metadata": {
  "ExecuteTimeLog": [
   {
    "duration": 4,
    "start_time": "2024-06-10T18:59:58.393Z"
   },
   {
    "duration": 2,
    "start_time": "2024-06-10T19:00:15.314Z"
   },
   {
    "duration": 72,
    "start_time": "2024-06-10T19:19:08.835Z"
   },
   {
    "duration": 61,
    "start_time": "2024-06-10T19:19:12.973Z"
   },
   {
    "duration": 59,
    "start_time": "2024-06-10T19:42:15.443Z"
   }
  ],
  "kernelspec": {
   "display_name": "Python 3 (ipykernel)",
   "language": "python",
   "name": "python3"
  },
  "language_info": {
   "codemirror_mode": {
    "name": "ipython",
    "version": 3
   },
   "file_extension": ".py",
   "mimetype": "text/x-python",
   "name": "python",
   "nbconvert_exporter": "python",
   "pygments_lexer": "ipython3",
   "version": "3.11.5"
  },
  "toc": {
   "base_numbering": 1,
   "nav_menu": {},
   "number_sections": true,
   "sideBar": true,
   "skip_h1_title": true,
   "title_cell": "Table of Contents",
   "title_sidebar": "Contents",
   "toc_cell": false,
   "toc_position": {},
   "toc_section_display": true,
   "toc_window_display": false
  }
 },
 "nbformat": 4,
 "nbformat_minor": 5
}
