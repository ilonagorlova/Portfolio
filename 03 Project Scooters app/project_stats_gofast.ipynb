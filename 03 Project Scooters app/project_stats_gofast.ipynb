{
 "cells": [
  {
   "cell_type": "markdown",
   "id": "d8c22252",
   "metadata": {
    "toc": true
   },
   "source": [
    "<h1>Table of Contents<span class=\"tocSkip\"></span></h1>\n",
    "<div class=\"toc\"><ul class=\"toc-item\"><li><span><a href=\"#Цель-проекта\" data-toc-modified-id=\"Цель-проекта-1\"><span class=\"toc-item-num\">1&nbsp;&nbsp;</span>Цель проекта</a></span></li><li><span><a href=\"#Шаги-и-задачи\" data-toc-modified-id=\"Шаги-и-задачи-2\"><span class=\"toc-item-num\">2&nbsp;&nbsp;</span>Шаги и задачи</a></span></li><li><span><a href=\"#Загрузка-и-обзор-данных.\" data-toc-modified-id=\"Загрузка-и-обзор-данных.-3\"><span class=\"toc-item-num\">3&nbsp;&nbsp;</span>Загрузка и обзор данных.</a></span><ul class=\"toc-item\"><li><span><a href=\"#Вывод-по-разделу-3\" data-toc-modified-id=\"Вывод-по-разделу-3-3.1\"><span class=\"toc-item-num\">3.1&nbsp;&nbsp;</span>Вывод по разделу 3</a></span></li></ul></li><li><span><a href=\"#Предобработка-данных.\" data-toc-modified-id=\"Предобработка-данных.-4\"><span class=\"toc-item-num\">4&nbsp;&nbsp;</span>Предобработка данных.</a></span><ul class=\"toc-item\"><li><span><a href=\"#Изменение-типов-данных\" data-toc-modified-id=\"Изменение-типов-данных-4.1\"><span class=\"toc-item-num\">4.1&nbsp;&nbsp;</span>Изменение типов данных</a></span></li><li><span><a href=\"#Добавление-новых-столбцов\" data-toc-modified-id=\"Добавление-новых-столбцов-4.2\"><span class=\"toc-item-num\">4.2&nbsp;&nbsp;</span>Добавление новых столбцов</a></span></li><li><span><a href=\"#Поиск-и-устранение-пропусков-и-дубликатов\" data-toc-modified-id=\"Поиск-и-устранение-пропусков-и-дубликатов-4.3\"><span class=\"toc-item-num\">4.3&nbsp;&nbsp;</span>Поиск и устранение пропусков и дубликатов</a></span></li><li><span><a href=\"#Выводы-по-разделу-4\" data-toc-modified-id=\"Выводы-по-разделу-4-4.4\"><span class=\"toc-item-num\">4.4&nbsp;&nbsp;</span>Выводы по разделу 4</a></span></li></ul></li><li><span><a href=\"#Исследовательский-анализ-данных.\" data-toc-modified-id=\"Исследовательский-анализ-данных.-5\"><span class=\"toc-item-num\">5&nbsp;&nbsp;</span>Исследовательский анализ данных.</a></span><ul class=\"toc-item\"><li><span><a href=\"#Частота-встречаемости-городов\" data-toc-modified-id=\"Частота-встречаемости-городов-5.1\"><span class=\"toc-item-num\">5.1&nbsp;&nbsp;</span>Частота встречаемости городов</a></span></li><li><span><a href=\"#Cоотношение-пользователей-с-подпиской-и-без-подписки\" data-toc-modified-id=\"Cоотношение-пользователей-с-подпиской-и-без-подписки-5.2\"><span class=\"toc-item-num\">5.2&nbsp;&nbsp;</span>Cоотношение пользователей с подпиской и без подписки</a></span></li><li><span><a href=\"#Возраст-пользователей\" data-toc-modified-id=\"Возраст-пользователей-5.3\"><span class=\"toc-item-num\">5.3&nbsp;&nbsp;</span>Возраст пользователей</a></span></li><li><span><a href=\"#Расстояние,-которое-пользователь-преодолел-за-одну-поездку\" data-toc-modified-id=\"Расстояние,-которое-пользователь-преодолел-за-одну-поездку-5.4\"><span class=\"toc-item-num\">5.4&nbsp;&nbsp;</span>Расстояние, которое пользователь преодолел за одну поездку</a></span></li><li><span><a href=\"#Продолжительность-поездок.\" data-toc-modified-id=\"Продолжительность-поездок.-5.5\"><span class=\"toc-item-num\">5.5&nbsp;&nbsp;</span>Продолжительность поездок.</a></span></li><li><span><a href=\"#Вывод-по-разделу-5\" data-toc-modified-id=\"Вывод-по-разделу-5-5.6\"><span class=\"toc-item-num\">5.6&nbsp;&nbsp;</span>Вывод по разделу 5</a></span></li></ul></li><li><span><a href=\"#Объединение-данных.\" data-toc-modified-id=\"Объединение-данных.-6\"><span class=\"toc-item-num\">6&nbsp;&nbsp;</span>Объединение данных.</a></span><ul class=\"toc-item\"><li><span><a href=\"#Объединение-данные-о-пользователях,-поездках-и-подписках-в-один-датафрейм\" data-toc-modified-id=\"Объединение-данные-о-пользователях,-поездках-и-подписках-в-один-датафрейм-6.1\"><span class=\"toc-item-num\">6.1&nbsp;&nbsp;</span>Объединение данные о пользователях, поездках и подписках в один датафрейм</a></span></li><li><span><a href=\"#Создание-новых-датафремов-о-пользователях-с-подпиской-и-без\" data-toc-modified-id=\"Создание-новых-датафремов-о-пользователях-с-подпиской-и-без-6.2\"><span class=\"toc-item-num\">6.2&nbsp;&nbsp;</span>Создание новых датафремов о пользователях с подпиской и без</a></span></li><li><span><a href=\"#Расстояние-и-время-поездок-для-пользователей-обеих-категорий.\" data-toc-modified-id=\"Расстояние-и-время-поездок-для-пользователей-обеих-категорий.-6.3\"><span class=\"toc-item-num\">6.3&nbsp;&nbsp;</span>Расстояние и время поездок для пользователей обеих категорий.</a></span></li><li><span><a href=\"#Подсчёт-выручки\" data-toc-modified-id=\"Подсчёт-выручки-6.4\"><span class=\"toc-item-num\">6.4&nbsp;&nbsp;</span>Подсчёт выручки</a></span></li><li><span><a href=\"#Вывод-по-разделу-6\" data-toc-modified-id=\"Вывод-по-разделу-6-6.5\"><span class=\"toc-item-num\">6.5&nbsp;&nbsp;</span>Вывод по разделу 6</a></span></li></ul></li><li><span><a href=\"#Проверка-гипотез\" data-toc-modified-id=\"Проверка-гипотез-7\"><span class=\"toc-item-num\">7&nbsp;&nbsp;</span>Проверка гипотез</a></span><ul class=\"toc-item\"><li><span><a href=\"#Длительность-поездок-у-пользователей-с-подпиской-и-без.\" data-toc-modified-id=\"Длительность-поездок-у-пользователей-с-подпиской-и-без.-7.1\"><span class=\"toc-item-num\">7.1&nbsp;&nbsp;</span>Длительность поездок у пользователей с подпиской и без.</a></span></li><li><span><a href=\"#Среднее-расстояние,-которое-проезжают-пользователи.\" data-toc-modified-id=\"Среднее-расстояние,-которое-проезжают-пользователи.-7.2\"><span class=\"toc-item-num\">7.2&nbsp;&nbsp;</span>Среднее расстояние, которое проезжают пользователи.</a></span></li><li><span><a href=\"#Месячная-выручка-от-пользователей-с-подпиской-и-без\" data-toc-modified-id=\"Месячная-выручка-от-пользователей-с-подпиской-и-без-7.3\"><span class=\"toc-item-num\">7.3&nbsp;&nbsp;</span>Месячная выручка от пользователей с подпиской и без</a></span></li><li><span><a href=\"#Обновление-серверов\" data-toc-modified-id=\"Обновление-серверов-7.4\"><span class=\"toc-item-num\">7.4&nbsp;&nbsp;</span>Обновление серверов</a></span></li><li><span><a href=\"#Вывод-по-разделу-7\" data-toc-modified-id=\"Вывод-по-разделу-7-7.5\"><span class=\"toc-item-num\">7.5&nbsp;&nbsp;</span>Вывод по разделу 7</a></span></li></ul></li><li><span><a href=\"#Общий-вывод.\" data-toc-modified-id=\"Общий-вывод.-8\"><span class=\"toc-item-num\">8&nbsp;&nbsp;</span>Общий вывод.</a></span></li></ul></div>"
   ]
  },
  {
   "cell_type": "markdown",
   "id": "a2037386",
   "metadata": {},
   "source": [
    "<h1 id=\"tocheading\">Оглавление</h1>\n",
    "<div id=\"toc\"></div>"
   ]
  },
  {
   "cell_type": "markdown",
   "id": "53a90e2d",
   "metadata": {},
   "source": [
    "# Анализ данных о пользователях приложения сервиса аренды самокатов GoFast"
   ]
  },
  {
   "cell_type": "markdown",
   "id": "9975e3fa",
   "metadata": {},
   "source": [
    "## Цель проекта"
   ]
  },
  {
   "cell_type": "markdown",
   "id": "c25bcaa2",
   "metadata": {},
   "source": [
    "Целью данного проекта является выявление способов увеличить количество пользователей c подпиской мобильного приложения сервиса аренды самокатов GoFast. "
   ]
  },
  {
   "cell_type": "markdown",
   "id": "e0e7e6e5",
   "metadata": {},
   "source": [
    "## Шаги и задачи"
   ]
  },
  {
   "cell_type": "markdown",
   "id": "f8eea452",
   "metadata": {},
   "source": [
    "\n",
    "В ходе исследования необходимо решить следующие задачи.\n",
    "\n",
    "* загрузить данные из предоставленных файлов\n",
    "* провести предобработку данных: проверить типы данных, пропуски и дубликаты, добавить необходимые для дальнейшего анализа столбцы.\n",
    "* провести анализ следующих данных:\n",
    "   - частота встречаемости городов;\n",
    "   - соотношение пользователей с подпиской и без подписки;\n",
    "   - возраст пользователей;\n",
    "   - расстояние, которое пользователь преодолел за одну поездку;\n",
    "   - продолжительность поездок.\n",
    "* объединить данные, полученные из 3 файлов, в сводную таблицу\n",
    "* подсчитать выручку за месяц для каждого пользователя (с подпиской и без)\n",
    "* проверить несколько гипотез о пользователей с подпиской и без для выбора оптимальных маркетинговых акций"
   ]
  },
  {
   "cell_type": "markdown",
   "id": "6abba0dd",
   "metadata": {},
   "source": [
    "## Загрузка и обзор данных."
   ]
  },
  {
   "cell_type": "markdown",
   "id": "124b14ba",
   "metadata": {},
   "source": [
    "Сервис аренды самокатов GoFast предоставил 3 файла исследования. Откроем эти файлы, создадим датафреймы и посмотрим, что за информация в них содержится."
   ]
  },
  {
   "cell_type": "code",
   "execution_count": 1,
   "id": "1a4e5cd7",
   "metadata": {},
   "outputs": [],
   "source": [
    "# импортируем библиотеки и модули, которые понадобятся для работы с проектом\n",
    "# pandas для работы с датафреймами\n",
    "import pandas as pd\n",
    "# pandas для различных разчетов\n",
    "import numpy as np\n",
    "# matplotlib.pyplot для отрисовки графиков\n",
    "import matplotlib.pyplot as plt\n",
    "# модуль stats из библиотеки scipy для проведения статистических тестов\n",
    "from scipy import stats as st"
   ]
  },
  {
   "cell_type": "code",
   "execution_count": 2,
   "id": "863cb026",
   "metadata": {
    "scrolled": true
   },
   "outputs": [],
   "source": [
    "data_users = pd.read_csv('users_go.csv') # файл с данными о пользователях\n",
    "data_rides = pd.read_csv('rides_go.csv') # файл с данными о поездках\n",
    "data_subsciptions = pd.read_csv('subscriptions_go.csv') # файл с данными о подписках"
   ]
  },
  {
   "cell_type": "code",
   "execution_count": 3,
   "id": "13f3c6a9",
   "metadata": {
    "scrolled": true
   },
   "outputs": [
    {
     "data": {
      "text/html": [
       "<div>\n",
       "<style scoped>\n",
       "    .dataframe tbody tr th:only-of-type {\n",
       "        vertical-align: middle;\n",
       "    }\n",
       "\n",
       "    .dataframe tbody tr th {\n",
       "        vertical-align: top;\n",
       "    }\n",
       "\n",
       "    .dataframe thead th {\n",
       "        text-align: right;\n",
       "    }\n",
       "</style>\n",
       "<table border=\"1\" class=\"dataframe\">\n",
       "  <thead>\n",
       "    <tr style=\"text-align: right;\">\n",
       "      <th></th>\n",
       "      <th>user_id</th>\n",
       "      <th>name</th>\n",
       "      <th>age</th>\n",
       "      <th>city</th>\n",
       "      <th>subscription_type</th>\n",
       "    </tr>\n",
       "  </thead>\n",
       "  <tbody>\n",
       "    <tr>\n",
       "      <th>0</th>\n",
       "      <td>1</td>\n",
       "      <td>Кира</td>\n",
       "      <td>22</td>\n",
       "      <td>Тюмень</td>\n",
       "      <td>ultra</td>\n",
       "    </tr>\n",
       "    <tr>\n",
       "      <th>1</th>\n",
       "      <td>2</td>\n",
       "      <td>Станислав</td>\n",
       "      <td>31</td>\n",
       "      <td>Омск</td>\n",
       "      <td>ultra</td>\n",
       "    </tr>\n",
       "    <tr>\n",
       "      <th>2</th>\n",
       "      <td>3</td>\n",
       "      <td>Алексей</td>\n",
       "      <td>20</td>\n",
       "      <td>Москва</td>\n",
       "      <td>ultra</td>\n",
       "    </tr>\n",
       "    <tr>\n",
       "      <th>3</th>\n",
       "      <td>4</td>\n",
       "      <td>Константин</td>\n",
       "      <td>26</td>\n",
       "      <td>Ростов-на-Дону</td>\n",
       "      <td>ultra</td>\n",
       "    </tr>\n",
       "    <tr>\n",
       "      <th>4</th>\n",
       "      <td>5</td>\n",
       "      <td>Адель</td>\n",
       "      <td>28</td>\n",
       "      <td>Омск</td>\n",
       "      <td>ultra</td>\n",
       "    </tr>\n",
       "  </tbody>\n",
       "</table>\n",
       "</div>"
      ],
      "text/plain": [
       "   user_id        name  age            city subscription_type\n",
       "0        1        Кира   22          Тюмень             ultra\n",
       "1        2   Станислав   31            Омск             ultra\n",
       "2        3     Алексей   20          Москва             ultra\n",
       "3        4  Константин   26  Ростов-на-Дону             ultra\n",
       "4        5       Адель   28            Омск             ultra"
      ]
     },
     "execution_count": 3,
     "metadata": {},
     "output_type": "execute_result"
    }
   ],
   "source": [
    "# выводим первые 5 строк\n",
    "data_users.head()"
   ]
  },
  {
   "cell_type": "code",
   "execution_count": 4,
   "id": "19c2efc6",
   "metadata": {},
   "outputs": [
    {
     "name": "stdout",
     "output_type": "stream",
     "text": [
      "<class 'pandas.core.frame.DataFrame'>\n",
      "RangeIndex: 1565 entries, 0 to 1564\n",
      "Data columns (total 5 columns):\n",
      " #   Column             Non-Null Count  Dtype \n",
      "---  ------             --------------  ----- \n",
      " 0   user_id            1565 non-null   int64 \n",
      " 1   name               1565 non-null   object\n",
      " 2   age                1565 non-null   int64 \n",
      " 3   city               1565 non-null   object\n",
      " 4   subscription_type  1565 non-null   object\n",
      "dtypes: int64(2), object(3)\n",
      "memory usage: 61.3+ KB\n"
     ]
    }
   ],
   "source": [
    "# выводим информацию о таблице\n",
    "data_users.info()"
   ]
  },
  {
   "cell_type": "markdown",
   "id": "19d906a4",
   "metadata": {},
   "source": [
    "В датафрейме `data_users` содержится информация о 1565 пользователях\n",
    "* уникальный идентификатор пользователя\n",
    "* имя пользователя\n",
    "* возраст (лет)\n",
    "* город\n",
    "* тип подписки (free, ultra)\n",
    "\n",
    "Пропусков в этом датафрейме нет"
   ]
  },
  {
   "cell_type": "code",
   "execution_count": 5,
   "id": "0de31b13",
   "metadata": {},
   "outputs": [
    {
     "data": {
      "text/html": [
       "<div>\n",
       "<style scoped>\n",
       "    .dataframe tbody tr th:only-of-type {\n",
       "        vertical-align: middle;\n",
       "    }\n",
       "\n",
       "    .dataframe tbody tr th {\n",
       "        vertical-align: top;\n",
       "    }\n",
       "\n",
       "    .dataframe thead th {\n",
       "        text-align: right;\n",
       "    }\n",
       "</style>\n",
       "<table border=\"1\" class=\"dataframe\">\n",
       "  <thead>\n",
       "    <tr style=\"text-align: right;\">\n",
       "      <th></th>\n",
       "      <th>user_id</th>\n",
       "      <th>distance</th>\n",
       "      <th>duration</th>\n",
       "      <th>date</th>\n",
       "    </tr>\n",
       "  </thead>\n",
       "  <tbody>\n",
       "    <tr>\n",
       "      <th>0</th>\n",
       "      <td>1</td>\n",
       "      <td>4409.919140</td>\n",
       "      <td>25.599769</td>\n",
       "      <td>2021-01-01</td>\n",
       "    </tr>\n",
       "    <tr>\n",
       "      <th>1</th>\n",
       "      <td>1</td>\n",
       "      <td>2617.592153</td>\n",
       "      <td>15.816871</td>\n",
       "      <td>2021-01-18</td>\n",
       "    </tr>\n",
       "    <tr>\n",
       "      <th>2</th>\n",
       "      <td>1</td>\n",
       "      <td>754.159807</td>\n",
       "      <td>6.232113</td>\n",
       "      <td>2021-04-20</td>\n",
       "    </tr>\n",
       "    <tr>\n",
       "      <th>3</th>\n",
       "      <td>1</td>\n",
       "      <td>2694.783254</td>\n",
       "      <td>18.511000</td>\n",
       "      <td>2021-08-11</td>\n",
       "    </tr>\n",
       "    <tr>\n",
       "      <th>4</th>\n",
       "      <td>1</td>\n",
       "      <td>4028.687306</td>\n",
       "      <td>26.265803</td>\n",
       "      <td>2021-08-28</td>\n",
       "    </tr>\n",
       "  </tbody>\n",
       "</table>\n",
       "</div>"
      ],
      "text/plain": [
       "   user_id     distance   duration        date\n",
       "0        1  4409.919140  25.599769  2021-01-01\n",
       "1        1  2617.592153  15.816871  2021-01-18\n",
       "2        1   754.159807   6.232113  2021-04-20\n",
       "3        1  2694.783254  18.511000  2021-08-11\n",
       "4        1  4028.687306  26.265803  2021-08-28"
      ]
     },
     "execution_count": 5,
     "metadata": {},
     "output_type": "execute_result"
    }
   ],
   "source": [
    "data_rides.head()"
   ]
  },
  {
   "cell_type": "code",
   "execution_count": 6,
   "id": "5af8c59c",
   "metadata": {},
   "outputs": [
    {
     "name": "stdout",
     "output_type": "stream",
     "text": [
      "<class 'pandas.core.frame.DataFrame'>\n",
      "RangeIndex: 18068 entries, 0 to 18067\n",
      "Data columns (total 4 columns):\n",
      " #   Column    Non-Null Count  Dtype  \n",
      "---  ------    --------------  -----  \n",
      " 0   user_id   18068 non-null  int64  \n",
      " 1   distance  18068 non-null  float64\n",
      " 2   duration  18068 non-null  float64\n",
      " 3   date      18068 non-null  object \n",
      "dtypes: float64(2), int64(1), object(1)\n",
      "memory usage: 564.8+ KB\n"
     ]
    }
   ],
   "source": [
    "data_rides.info()"
   ]
  },
  {
   "cell_type": "markdown",
   "id": "cf7175c2",
   "metadata": {},
   "source": [
    "В датафрейме содержатся данные о 18068 поездках пользователей в 4 столбцах\n",
    "\n",
    "* уникальный идентификатор пользователя\n",
    "* расстояние\n",
    "* длительность поездки\n",
    "* дата поездки"
   ]
  },
  {
   "cell_type": "code",
   "execution_count": 7,
   "id": "8344aef6",
   "metadata": {},
   "outputs": [
    {
     "data": {
      "text/html": [
       "<div>\n",
       "<style scoped>\n",
       "    .dataframe tbody tr th:only-of-type {\n",
       "        vertical-align: middle;\n",
       "    }\n",
       "\n",
       "    .dataframe tbody tr th {\n",
       "        vertical-align: top;\n",
       "    }\n",
       "\n",
       "    .dataframe thead th {\n",
       "        text-align: right;\n",
       "    }\n",
       "</style>\n",
       "<table border=\"1\" class=\"dataframe\">\n",
       "  <thead>\n",
       "    <tr style=\"text-align: right;\">\n",
       "      <th></th>\n",
       "      <th>subscription_type</th>\n",
       "      <th>minute_price</th>\n",
       "      <th>start_ride_price</th>\n",
       "      <th>subscription_fee</th>\n",
       "    </tr>\n",
       "  </thead>\n",
       "  <tbody>\n",
       "    <tr>\n",
       "      <th>0</th>\n",
       "      <td>free</td>\n",
       "      <td>8</td>\n",
       "      <td>50</td>\n",
       "      <td>0</td>\n",
       "    </tr>\n",
       "    <tr>\n",
       "      <th>1</th>\n",
       "      <td>ultra</td>\n",
       "      <td>6</td>\n",
       "      <td>0</td>\n",
       "      <td>199</td>\n",
       "    </tr>\n",
       "  </tbody>\n",
       "</table>\n",
       "</div>"
      ],
      "text/plain": [
       "  subscription_type  minute_price  start_ride_price  subscription_fee\n",
       "0              free             8                50                 0\n",
       "1             ultra             6                 0               199"
      ]
     },
     "execution_count": 7,
     "metadata": {},
     "output_type": "execute_result"
    }
   ],
   "source": [
    "data_subsciptions.head()"
   ]
  },
  {
   "cell_type": "code",
   "execution_count": 8,
   "id": "8db9cf18",
   "metadata": {},
   "outputs": [
    {
     "name": "stdout",
     "output_type": "stream",
     "text": [
      "<class 'pandas.core.frame.DataFrame'>\n",
      "RangeIndex: 2 entries, 0 to 1\n",
      "Data columns (total 4 columns):\n",
      " #   Column             Non-Null Count  Dtype \n",
      "---  ------             --------------  ----- \n",
      " 0   subscription_type  2 non-null      object\n",
      " 1   minute_price       2 non-null      int64 \n",
      " 2   start_ride_price   2 non-null      int64 \n",
      " 3   subscription_fee   2 non-null      int64 \n",
      "dtypes: int64(3), object(1)\n",
      "memory usage: 196.0+ bytes\n"
     ]
    }
   ],
   "source": [
    "data_subsciptions.info()"
   ]
  },
  {
   "cell_type": "markdown",
   "id": "b018dafb",
   "metadata": {},
   "source": [
    "В датафрейме содержится информация о типах подписки: \n",
    "* `subscription_type` тип подписки (free или ultra)\n",
    "* `minute_price` стоимость одной минуты поездки по данной подписке\n",
    "* `start_ride_price` стоимость начала поездки\n",
    "* `subscription_fee` стоимость ежемесячного платежа"
   ]
  },
  {
   "cell_type": "markdown",
   "id": "9c4b5d94",
   "metadata": {},
   "source": [
    "### Вывод по разделу 3"
   ]
  },
  {
   "cell_type": "markdown",
   "id": "8c07da66",
   "metadata": {},
   "source": [
    "1. В файле users_go.csv содержится информация о 1565 пользователях:\n",
    "    - `user_id`: уникальный идентификатор пользователя;\n",
    "    - `name`: имя пользователя;\n",
    "    - `age`: возраст;\n",
    "    - `city`: город;\n",
    "    - `subscription_type`: тип подписки (free, ultra).\n",
    "2. В файле rides_go.csv содержится информация о 18068 поездках пользователей:\n",
    "    - `user_id`: уникальный идентификатор пользователя;\n",
    "    - `distance` расстояние, которое пользователь проехал в текущей сессии (в метрах);\n",
    "    - `duration` продолжительность сессии (в минутах) — время с того момента, как пользователь нажал кнопку «Начать поездку» до момента, как он нажал кнопку «Завершить поездку»;\n",
    "    - `date` дата совершения поездки.\n",
    "3.  В файле rides_go.csv содержится информация о 2 видах подписки.\n",
    "    - `subscription_type`: тип подписки (free или ultra);\n",
    "    - `minute_price`: стоимость одной минуты поездки по данной подписке;\n",
    "    - `start_ride_price`: стоимость начала поездки;\n",
    "    - `subscription_fee`: стоимость ежемесячного платежа.\n",
    "    \n",
    "У пользователей без подписки стоимость 1 минуты поездки составляет 8 рублей, стоимость старта - 50 рублей.\n",
    "\n",
    "У пользователей с подпиской 199р. в месяц стоимость 1 минуты поездки 6 рублей и бесплатный старт.\n"
   ]
  },
  {
   "cell_type": "markdown",
   "id": "1ddef16e",
   "metadata": {},
   "source": [
    "## Предобработка данных."
   ]
  },
  {
   "cell_type": "markdown",
   "id": "cd9205ed",
   "metadata": {},
   "source": [
    "### Изменение типов данных"
   ]
  },
  {
   "cell_type": "code",
   "execution_count": 9,
   "id": "b4ab8805",
   "metadata": {},
   "outputs": [
    {
     "data": {
      "text/plain": [
       "user_id              int64\n",
       "distance           float64\n",
       "duration           float64\n",
       "date        datetime64[ns]\n",
       "dtype: object"
      ]
     },
     "execution_count": 9,
     "metadata": {},
     "output_type": "execute_result"
    }
   ],
   "source": [
    "# изменим тип данных столбца date с object на datetime\n",
    "data_rides['date'] = pd.to_datetime(data_rides['date'], format='%Y-%m-%d')\n",
    "data_rides.dtypes"
   ]
  },
  {
   "cell_type": "markdown",
   "id": "d0e74bd8",
   "metadata": {},
   "source": [
    "### Добавление новых столбцов"
   ]
  },
  {
   "cell_type": "markdown",
   "id": "4655005d",
   "metadata": {},
   "source": [
    "Для расчетов месячной выручки нам понадобится номер месяца из данных о дате. Добавим новый столбец `month` в датафрейм `data_rides`."
   ]
  },
  {
   "cell_type": "code",
   "execution_count": 10,
   "id": "483f9864",
   "metadata": {},
   "outputs": [
    {
     "data": {
      "text/html": [
       "<div>\n",
       "<style scoped>\n",
       "    .dataframe tbody tr th:only-of-type {\n",
       "        vertical-align: middle;\n",
       "    }\n",
       "\n",
       "    .dataframe tbody tr th {\n",
       "        vertical-align: top;\n",
       "    }\n",
       "\n",
       "    .dataframe thead th {\n",
       "        text-align: right;\n",
       "    }\n",
       "</style>\n",
       "<table border=\"1\" class=\"dataframe\">\n",
       "  <thead>\n",
       "    <tr style=\"text-align: right;\">\n",
       "      <th></th>\n",
       "      <th>user_id</th>\n",
       "      <th>distance</th>\n",
       "      <th>duration</th>\n",
       "      <th>date</th>\n",
       "      <th>month</th>\n",
       "    </tr>\n",
       "  </thead>\n",
       "  <tbody>\n",
       "    <tr>\n",
       "      <th>0</th>\n",
       "      <td>1</td>\n",
       "      <td>4409.919140</td>\n",
       "      <td>25.599769</td>\n",
       "      <td>2021-01-01</td>\n",
       "      <td>1</td>\n",
       "    </tr>\n",
       "    <tr>\n",
       "      <th>1</th>\n",
       "      <td>1</td>\n",
       "      <td>2617.592153</td>\n",
       "      <td>15.816871</td>\n",
       "      <td>2021-01-18</td>\n",
       "      <td>1</td>\n",
       "    </tr>\n",
       "    <tr>\n",
       "      <th>2</th>\n",
       "      <td>1</td>\n",
       "      <td>754.159807</td>\n",
       "      <td>6.232113</td>\n",
       "      <td>2021-04-20</td>\n",
       "      <td>4</td>\n",
       "    </tr>\n",
       "    <tr>\n",
       "      <th>3</th>\n",
       "      <td>1</td>\n",
       "      <td>2694.783254</td>\n",
       "      <td>18.511000</td>\n",
       "      <td>2021-08-11</td>\n",
       "      <td>8</td>\n",
       "    </tr>\n",
       "    <tr>\n",
       "      <th>4</th>\n",
       "      <td>1</td>\n",
       "      <td>4028.687306</td>\n",
       "      <td>26.265803</td>\n",
       "      <td>2021-08-28</td>\n",
       "      <td>8</td>\n",
       "    </tr>\n",
       "  </tbody>\n",
       "</table>\n",
       "</div>"
      ],
      "text/plain": [
       "   user_id     distance   duration       date  month\n",
       "0        1  4409.919140  25.599769 2021-01-01      1\n",
       "1        1  2617.592153  15.816871 2021-01-18      1\n",
       "2        1   754.159807   6.232113 2021-04-20      4\n",
       "3        1  2694.783254  18.511000 2021-08-11      8\n",
       "4        1  4028.687306  26.265803 2021-08-28      8"
      ]
     },
     "execution_count": 10,
     "metadata": {},
     "output_type": "execute_result"
    }
   ],
   "source": [
    "data_rides['month'] = pd.DatetimeIndex(data_rides['date']).month\n",
    "data_rides.head()"
   ]
  },
  {
   "cell_type": "markdown",
   "id": "7461c5f2",
   "metadata": {},
   "source": [
    "### Поиск и устранение пропусков и дубликатов"
   ]
  },
  {
   "cell_type": "code",
   "execution_count": 11,
   "id": "f8f998e4",
   "metadata": {},
   "outputs": [
    {
     "data": {
      "text/plain": [
       "user_id              0\n",
       "name                 0\n",
       "age                  0\n",
       "city                 0\n",
       "subscription_type    0\n",
       "dtype: int64"
      ]
     },
     "execution_count": 11,
     "metadata": {},
     "output_type": "execute_result"
    }
   ],
   "source": [
    "# проверка пропусков в датафрейме data_users\n",
    "data_users.isna().sum()"
   ]
  },
  {
   "cell_type": "code",
   "execution_count": 12,
   "id": "98e875dc",
   "metadata": {},
   "outputs": [
    {
     "data": {
      "text/plain": [
       "user_id     0\n",
       "distance    0\n",
       "duration    0\n",
       "date        0\n",
       "month       0\n",
       "dtype: int64"
      ]
     },
     "execution_count": 12,
     "metadata": {},
     "output_type": "execute_result"
    }
   ],
   "source": [
    "# проверка пропусков в датафрейме data_users\n",
    "data_rides.isna().sum()"
   ]
  },
  {
   "cell_type": "markdown",
   "id": "551674c3",
   "metadata": {},
   "source": [
    "Пропусков в датафремах `data_users, data_rides` нет. В датафрейме `data_subscriptions` всего 2 строки и пропусков тоже нет."
   ]
  },
  {
   "cell_type": "code",
   "execution_count": 13,
   "id": "b54c165f",
   "metadata": {},
   "outputs": [
    {
     "data": {
      "text/plain": [
       "31"
      ]
     },
     "execution_count": 13,
     "metadata": {},
     "output_type": "execute_result"
    }
   ],
   "source": [
    "# проверим data_users на наличие явных дубликатов\n",
    "data_users.duplicated().sum()"
   ]
  },
  {
   "cell_type": "markdown",
   "id": "f296522d",
   "metadata": {},
   "source": [
    "В датафреме `data_users` обнаружен 31 явный дубликат. Удалим лишние строки и обновим индексы у датафрейма."
   ]
  },
  {
   "cell_type": "code",
   "execution_count": 14,
   "id": "0c6a932f",
   "metadata": {},
   "outputs": [],
   "source": [
    "# удалим лишние строки и обновим индексы\n",
    "data_users = data_users.drop_duplicates(ignore_index=True)"
   ]
  },
  {
   "cell_type": "code",
   "execution_count": 15,
   "id": "a034f567",
   "metadata": {},
   "outputs": [
    {
     "data": {
      "text/plain": [
       "0"
      ]
     },
     "execution_count": 15,
     "metadata": {},
     "output_type": "execute_result"
    }
   ],
   "source": [
    "# проверим еще раз датафрейм на явные дубликаты\n",
    "data_users.duplicated().sum()"
   ]
  },
  {
   "cell_type": "markdown",
   "id": "7fc9ef4d",
   "metadata": {},
   "source": [
    "Явных дубликатов в датафрейме `data_users` не осталось. Проверим теперь столбцы с именами пользователями на наличие неявных дубликатов."
   ]
  },
  {
   "cell_type": "code",
   "execution_count": 16,
   "id": "28107bf5",
   "metadata": {},
   "outputs": [
    {
     "data": {
      "text/plain": [
       "array(['Агата', 'Аделина', 'Адель', 'Айдар', 'Александр', 'Александра',\n",
       "       'Алексей', 'Алина', 'Алиса', 'Алия', 'Алла', 'Альберт', 'Альбина',\n",
       "       'Алёна', 'Амалия', 'Амина', 'Амир', 'Анастасия', 'Анатолий',\n",
       "       'Ангелина', 'Андрей', 'Анжелика', 'Анна', 'Антон', 'Антонина',\n",
       "       'Ариана', 'Арина', 'Арсен', 'Арсений', 'Артемий', 'Артур', 'Артём',\n",
       "       'Богдан', 'Борис', 'Вадим', 'Валентина', 'Валерий', 'Валерия',\n",
       "       'Варвара', 'Василий', 'Василина', 'Василиса', 'Вера', 'Вероника',\n",
       "       'Виктор', 'Виктория', 'Виолетта', 'Виталий', 'Виталина', 'Влад',\n",
       "       'Влада', 'Владимир', 'Владислав', 'Владислава', 'Всеволод',\n",
       "       'Вячеслав', 'Галина', 'Георгий', 'Герман', 'Глеб', 'Гордей',\n",
       "       'Григорий', 'Давид', 'Дамир', 'Даниил', 'Данил', 'Данила',\n",
       "       'Даниэль', 'Дарина', 'Дарья', 'Демид', 'Денис', 'Диана', 'Дмитрий',\n",
       "       'Ева', 'Евгений', 'Евгения', 'Егор', 'Екатерина', 'Елена',\n",
       "       'Елизавета', 'Елисей', 'Есения', 'Жанна', 'Зарина', 'Захар',\n",
       "       'Злата', 'Иван', 'Игнат', 'Игорь', 'Ильдар', 'Илья', 'Инна',\n",
       "       'Ирина', 'Камилла', 'Карина', 'Каролина', 'Кира', 'Кирилл',\n",
       "       'Константин', 'Кристина', 'Ксения', 'Лариса', 'Лев', 'Леонид',\n",
       "       'Лиана', 'Лидия', 'Лилия', 'Любовь', 'Людмила', 'Мадина', 'Майя',\n",
       "       'Макар', 'Максим', 'Марат', 'Маргарита', 'Марина', 'Мария', 'Марк',\n",
       "       'Марсель', 'Матвей', 'Мелания', 'Милана', 'Милена', 'Мирон',\n",
       "       'Мирослав', 'Мирослава', 'Михаил', 'Назар', 'Наталия', 'Наталья',\n",
       "       'Наташа', 'Нелли', 'Ника', 'Никита', 'Николай', 'Нина', 'Одиссей',\n",
       "       'Оксана', 'Олег', 'Олеся', 'Ольга', 'Павел', 'Петр', 'Платон',\n",
       "       'Полина', 'Радмир', 'Рамиль', 'Регина', 'Роберт', 'Родион',\n",
       "       'Роман', 'Ростислав', 'Руслан', 'Рустам', 'Савелий', 'Самир',\n",
       "       'Самира', 'Светлана', 'Святогор', 'Святослав', 'Семен', 'Сергей',\n",
       "       'Снежана', 'София', 'Софья', 'Станислав', 'Степан', 'Стефания',\n",
       "       'Таисия', 'Тамара', 'Тамерлан', 'Татьяна', 'Тимофей', 'Тимур',\n",
       "       'Тихон', 'Ульяна', 'Федор', 'Эвелина', 'Эдуард', 'Элина',\n",
       "       'Эльвира', 'Эльмира', 'Эмилия', 'Эмиль', 'Юлиана', 'Юлия', 'Юрий',\n",
       "       'Ян', 'Яна', 'Яромир', 'Ярослав', 'Ярослава', 'Ясмина'],\n",
       "      dtype=object)"
      ]
     },
     "execution_count": 16,
     "metadata": {},
     "output_type": "execute_result"
    }
   ],
   "source": [
    "data_users['name'].sort_values().unique()"
   ]
  },
  {
   "cell_type": "code",
   "execution_count": 17,
   "id": "cd306650",
   "metadata": {},
   "outputs": [
    {
     "data": {
      "text/plain": [
       "array(['Екатеринбург', 'Краснодар', 'Москва', 'Омск', 'Пятигорск',\n",
       "       'Ростов-на-Дону', 'Сочи', 'Тюмень'], dtype=object)"
      ]
     },
     "execution_count": 17,
     "metadata": {},
     "output_type": "execute_result"
    }
   ],
   "source": [
    "# выведем уникальные значения названия городов для поиска неявных дубликатов\n",
    "data_users['city'].sort_values().unique()"
   ]
  },
  {
   "cell_type": "markdown",
   "id": "8f3aa57d",
   "metadata": {},
   "source": [
    "Неявных дубликатов в именах и названиях городов нет."
   ]
  },
  {
   "cell_type": "markdown",
   "id": "291f3b5e",
   "metadata": {},
   "source": [
    "### Выводы по разделу 4"
   ]
  },
  {
   "cell_type": "markdown",
   "id": "37a5f505",
   "metadata": {},
   "source": [
    "В предоставленных данных пропусков не было, но были обнаружены дубликаты в датафрейме `data_users` (на основе файла users_go.csv).\n",
    "\n",
    "В датафрейме `data_rides` тип данных столбца `date` был изменен на datetime, а также добавлен новый столбец `month` с номером месяца для дальнейших расчетов."
   ]
  },
  {
   "cell_type": "markdown",
   "id": "2a2b499f",
   "metadata": {},
   "source": [
    "## Исследовательский анализ данных."
   ]
  },
  {
   "cell_type": "markdown",
   "id": "9b589e4a",
   "metadata": {},
   "source": [
    "Проанализируем и визуализируем общую информацию о пользователях и поездках:\n",
    "\n",
    "* частота встречаемости городов;\n",
    "* соотношение пользователей с подпиской и без подписки;\n",
    "* возраст пользователей;\n",
    "* расстояние, которое пользователь преодолел за одну поездку;\n",
    "* продолжительность поездок."
   ]
  },
  {
   "cell_type": "markdown",
   "id": "b19ca617",
   "metadata": {},
   "source": [
    "### Частота встречаемости городов"
   ]
  },
  {
   "cell_type": "markdown",
   "id": "46c5588f",
   "metadata": {},
   "source": [
    "Проанализируем, как распределено количество поездок по разным городам, в которых представлен сервис GoFast."
   ]
  },
  {
   "cell_type": "code",
   "execution_count": 18,
   "id": "9dd4f7b3",
   "metadata": {},
   "outputs": [
    {
     "data": {
      "image/png": "[encoded data removed]",
      "text/plain": [
       "<Figure size 640x480 with 1 Axes>"
      ]
     },
     "metadata": {},
     "output_type": "display_data"
    }
   ],
   "source": [
    "# посчитаем частоту встречаемости каждого города и построим столбчатую диаграмму\n",
    "data_users['city'].value_counts().plot(kind='bar', xlabel='город', ylabel='частота', title='Частота встречаемости городов');"
   ]
  },
  {
   "cell_type": "code",
   "execution_count": 19,
   "id": "00b5a625",
   "metadata": {},
   "outputs": [
    {
     "data": {
      "text/plain": [
       "city\n",
       "Пятигорск         219\n",
       "Екатеринбург      204\n",
       "Ростов-на-Дону    198\n",
       "Краснодар         193\n",
       "Сочи              189\n",
       "Омск              183\n",
       "Тюмень            180\n",
       "Москва            168\n",
       "Name: count, dtype: int64"
      ]
     },
     "execution_count": 19,
     "metadata": {},
     "output_type": "execute_result"
    }
   ],
   "source": [
    "# выведем частоту встречаемости каждого города, т.е. суммарное количество поездок в каждом городе\n",
    "data_users['city'].value_counts()"
   ]
  },
  {
   "cell_type": "code",
   "execution_count": 20,
   "id": "9141ea2e",
   "metadata": {},
   "outputs": [
    {
     "data": {
      "text/plain": [
       "1534"
      ]
     },
     "execution_count": 20,
     "metadata": {},
     "output_type": "execute_result"
    }
   ],
   "source": [
    "# выведем количество строк в датафрейме data_users, то есть количество поездок\n",
    "len(data_users['city'])"
   ]
  },
  {
   "cell_type": "markdown",
   "id": "07ad116f",
   "metadata": {},
   "source": [
    "Как видно на гистограмме, больше всего поездок пользователи совершили в г. Пятигорске (219). Следующие по количеству поездок - г. Екатеринбург (204 поездки) и г. Ростов-на-Дону (168 поездок). Меньше всего пользовались самокатами в г. Москве (168 из 1534 поездок)."
   ]
  },
  {
   "cell_type": "markdown",
   "id": "5aaad295",
   "metadata": {},
   "source": [
    "### Cоотношение пользователей с подпиской и без подписки"
   ]
  },
  {
   "cell_type": "code",
   "execution_count": 21,
   "id": "fa4f5172",
   "metadata": {},
   "outputs": [
    {
     "data": {
      "text/html": [
       "<div>\n",
       "<style scoped>\n",
       "    .dataframe tbody tr th:only-of-type {\n",
       "        vertical-align: middle;\n",
       "    }\n",
       "\n",
       "    .dataframe tbody tr th {\n",
       "        vertical-align: top;\n",
       "    }\n",
       "\n",
       "    .dataframe thead th {\n",
       "        text-align: right;\n",
       "    }\n",
       "</style>\n",
       "<table border=\"1\" class=\"dataframe\">\n",
       "  <thead>\n",
       "    <tr style=\"text-align: right;\">\n",
       "      <th></th>\n",
       "      <th>count</th>\n",
       "      <th>%</th>\n",
       "    </tr>\n",
       "    <tr>\n",
       "      <th>subscription_type</th>\n",
       "      <th></th>\n",
       "      <th></th>\n",
       "    </tr>\n",
       "  </thead>\n",
       "  <tbody>\n",
       "    <tr>\n",
       "      <th>free</th>\n",
       "      <td>835</td>\n",
       "      <td>54.0</td>\n",
       "    </tr>\n",
       "    <tr>\n",
       "      <th>ultra</th>\n",
       "      <td>699</td>\n",
       "      <td>46.0</td>\n",
       "    </tr>\n",
       "  </tbody>\n",
       "</table>\n",
       "</div>"
      ],
      "text/plain": [
       "                   count     %\n",
       "subscription_type             \n",
       "free                 835  54.0\n",
       "ultra                699  46.0"
      ]
     },
     "execution_count": 21,
     "metadata": {},
     "output_type": "execute_result"
    }
   ],
   "source": [
    "subscription_type = data_users.groupby('subscription_type')['subscription_type'].agg(['count'])\n",
    "#subscription_type['%'] = \n",
    "subscription_type['%'] = ((subscription_type['count'] / subscription_type['count'].sum())*100).round(0)\n",
    "#groupby([column])[column].agg(['count']).sort_values(by='count')\n",
    "subscription_type"
   ]
  },
  {
   "cell_type": "code",
   "execution_count": 22,
   "id": "35b24a26",
   "metadata": {},
   "outputs": [
    {
     "data": {
      "image/png": "[encoded data removed]",
      "text/plain": [
       "<Figure size 640x480 with 1 Axes>"
      ]
     },
     "metadata": {},
     "output_type": "display_data"
    }
   ],
   "source": [
    "# выведем полученные значения в виде круговой диаграммы\n",
    "plt.pie(subscription_type['count'], autopct='%.0f%%')\n",
    "plt.title('Доля пользователей с подпиской ultra и без')\n",
    "plt.legend(['free','ultra'])\n",
    "plt.show()"
   ]
  },
  {
   "cell_type": "markdown",
   "id": "d64e5471",
   "metadata": {},
   "source": [
    "Как видно из таблицы и круговой диаграммы, доля пользователей без подписки 54%, остальные 46 % пользователей пользуются подпиской. Действительно, потенциальных подписчиков еще много."
   ]
  },
  {
   "cell_type": "markdown",
   "id": "54caf5c3",
   "metadata": {},
   "source": [
    "### Возраст пользователей"
   ]
  },
  {
   "cell_type": "markdown",
   "id": "d8c80d28",
   "metadata": {},
   "source": [
    "Посмотрим на возраст пользователей сервиса."
   ]
  },
  {
   "cell_type": "code",
   "execution_count": 23,
   "id": "77b49ae9",
   "metadata": {},
   "outputs": [
    {
     "data": {
      "text/plain": [
       "array([12, 13, 14, 15, 16, 17, 18, 19, 20, 21, 22, 23, 24, 25, 26, 27, 28,\n",
       "       29, 30, 31, 32, 33, 34, 35, 36, 37, 38, 39, 43], dtype=int64)"
      ]
     },
     "execution_count": 23,
     "metadata": {},
     "output_type": "execute_result"
    }
   ],
   "source": [
    "# выведем отсортированные уникальные значения из столбца age\n",
    "data_users['age'].sort_values().unique()"
   ]
  },
  {
   "cell_type": "code",
   "execution_count": 24,
   "id": "5ad791c1",
   "metadata": {},
   "outputs": [
    {
     "data": {
      "image/png": "[encoded data removed]",
      "text/plain": [
       "<Figure size 1000x500 with 2 Axes>"
      ]
     },
     "metadata": {},
     "output_type": "display_data"
    }
   ],
   "source": [
    "#  построим гистограмму и диаграмму размаха на 1 холсте\n",
    "fig, axs = plt.subplots(1,2, figsize=(10,5))\n",
    "\n",
    "data_users['age'].hist(bins=31, ax=axs[0]).set(title='Распределение возраста пользователей',\n",
    "                                                    xlabel='возраст, лет');\n",
    "data_users.boxplot(column='age', vert=False, ax=axs[1]).set(title='Диаграмма размаха возраста пользователей',\n",
    "                                                    xlabel='возраст, лет');\n"
   ]
  },
  {
   "cell_type": "code",
   "execution_count": 25,
   "id": "9ccef60b",
   "metadata": {},
   "outputs": [
    {
     "data": {
      "text/plain": [
       "count    1534.000000\n",
       "mean       24.903520\n",
       "std         4.572367\n",
       "min        12.000000\n",
       "25%        22.000000\n",
       "50%        25.000000\n",
       "75%        28.000000\n",
       "max        43.000000\n",
       "Name: age, dtype: float64"
      ]
     },
     "execution_count": 25,
     "metadata": {},
     "output_type": "execute_result"
    }
   ],
   "source": [
    "# выведем числовую статистику для столбца age\n",
    "data_users['age'].describe()"
   ]
  },
  {
   "cell_type": "markdown",
   "id": "49144ee3",
   "metadata": {},
   "source": [
    "Арендуют самокаты пользователи от 12 до 43 лет. Распределение возрастов пользователей близко к нормальному. Средний и медианный возраст пользователя составляет 25 лет. На диаграмме размаха выделяются отдельные выбросы на значениях 12 лет и более 37 лет."
   ]
  },
  {
   "cell_type": "markdown",
   "id": "73bd6b3d",
   "metadata": {},
   "source": [
    "###  Расстояние, которое пользователь преодолел за одну поездку"
   ]
  },
  {
   "cell_type": "code",
   "execution_count": 26,
   "id": "b08c862b",
   "metadata": {},
   "outputs": [
    {
     "data": {
      "text/plain": [
       "Text(0.5, 0.98, 'Распределение расстояний одной поездки')"
      ]
     },
     "execution_count": 26,
     "metadata": {},
     "output_type": "execute_result"
    },
    {
     "data": {
      "image/png": "[encoded data removed]",
      "text/plain": [
       "<Figure size 1000x500 with 2 Axes>"
      ]
     },
     "metadata": {},
     "output_type": "display_data"
    }
   ],
   "source": [
    "#  построим гистограмму и диаграмму размаха для столбца distance на 1 холсте\n",
    "fig, axs = plt.subplots(1,2, figsize=(10,5))\n",
    "data_rides['distance'].hist(bins=60, ax=axs[0]).set(xlabel='расстояние, м');\n",
    "data_rides['distance'].hist(bins=30, range=(0,1500), ax=axs[1]).set(xlabel='расстояние, м');\n",
    "plt.suptitle('Распределение расстояний одной поездки')"
   ]
  },
  {
   "cell_type": "code",
   "execution_count": 27,
   "id": "7df346d7",
   "metadata": {},
   "outputs": [
    {
     "data": {
      "image/png": "[encoded data removed]",
      "text/plain": [
       "<Figure size 640x480 with 1 Axes>"
      ]
     },
     "metadata": {},
     "output_type": "display_data"
    }
   ],
   "source": [
    "# построим диаграмму размаха для столбца distance\n",
    "data_rides.boxplot(column='distance', vert=False).set(title='Диаграмма размаха расстояний одной поездки',\n",
    "                                                    xlabel='расстояние, м');"
   ]
  },
  {
   "cell_type": "code",
   "execution_count": 28,
   "id": "447fc090",
   "metadata": {},
   "outputs": [
    {
     "data": {
      "text/plain": [
       "count    18068.000000\n",
       "mean      3070.659976\n",
       "std       1116.831209\n",
       "min          0.855683\n",
       "25%       2543.226360\n",
       "50%       3133.609994\n",
       "75%       3776.222735\n",
       "max       7211.007745\n",
       "Name: distance, dtype: float64"
      ]
     },
     "execution_count": 28,
     "metadata": {},
     "output_type": "execute_result"
    }
   ],
   "source": [
    "# выведем числовую статистику для столбца distance\n",
    "data_rides['distance'].describe()"
   ]
  },
  {
   "cell_type": "markdown",
   "id": "af7e5698",
   "metadata": {},
   "source": [
    "В распределении дальности поездок наблюдается 2 максимума: основной максимум около значения 3000-3300 м и вторичный максимум около значения 600 м. Диапазон дальности поездок: от 1 м до 7211 м.\n",
    "Так как распределение этого параметра имеет вторичный максимум, то для оценки центрального значения лучше ориентироваться на медиану - 3134 м. При этом среднее значение смещено влево и составляет 3070 м (за счет пика на уровне 650м), но также попадает в пик распределения.\n",
    "На диаграмме размаха наблюдатся выбросы при значениях менее 650 и 5600 м.\n",
    "Таким образом, чаще всего пользователи берут в аренду самокаты для дальних поездок около 3 км. В диапазоне расстояний до 1 км, пользователи чаще всего проезжают около 650 м. Возможно в этих случаях пользователи используют самокаты для того, чтобы доехать до остановок общественного транспорта.\n"
   ]
  },
  {
   "cell_type": "markdown",
   "id": "85022bee",
   "metadata": {},
   "source": [
    "### Продолжительность поездок."
   ]
  },
  {
   "cell_type": "code",
   "execution_count": 29,
   "id": "000c7070",
   "metadata": {},
   "outputs": [
    {
     "data": {
      "text/plain": [
       "Text(0.5, 0.98, 'Распределение продолжительности поездок')"
      ]
     },
     "execution_count": 29,
     "metadata": {},
     "output_type": "execute_result"
    },
    {
     "data": {
      "image/png": "[encoded data removed]",
      "text/plain": [
       "<Figure size 1000x500 with 2 Axes>"
      ]
     },
     "metadata": {},
     "output_type": "display_data"
    }
   ],
   "source": [
    "# построим гистограмму и диаграмму размаха для столбца distance на 1 холсте\n",
    "fig, axs = plt.subplots(1,2, figsize=(10,5))\n",
    "data_rides['duration'].hist(bins=60, ax=axs[0]).set(xlabel='продолжительность поездки, мин');\n",
    "data_rides['duration'].hist(bins=60, range=(0,5), ax=axs[1]).set(xlabel='продолжительность поездки, мин');\n",
    "plt.suptitle('Распределение продолжительности поездок')"
   ]
  },
  {
   "cell_type": "code",
   "execution_count": 30,
   "id": "942405d5",
   "metadata": {},
   "outputs": [
    {
     "data": {
      "image/png": "[encoded data removed]",
      "text/plain": [
       "<Figure size 640x480 with 1 Axes>"
      ]
     },
     "metadata": {},
     "output_type": "display_data"
    }
   ],
   "source": [
    "# построим диаграмму размаха для столбца duration\n",
    "data_rides.boxplot(column='duration', vert=False).set(title='Диаграмма размаха продолжительности поездок',\n",
    "                                                                 xlabel='продолжительность поездки, мин');"
   ]
  },
  {
   "cell_type": "code",
   "execution_count": 31,
   "id": "77dce98e",
   "metadata": {
    "scrolled": true
   },
   "outputs": [
    {
     "data": {
      "text/plain": [
       "count    18068.0\n",
       "mean        17.8\n",
       "std          6.1\n",
       "min          0.5\n",
       "25%         13.6\n",
       "50%         17.7\n",
       "75%         21.7\n",
       "max         40.8\n",
       "Name: duration, dtype: float64"
      ]
     },
     "execution_count": 31,
     "metadata": {},
     "output_type": "execute_result"
    }
   ],
   "source": [
    "# выведем числовую статистику\n",
    "data_rides['duration'].describe().round(1)"
   ]
  },
  {
   "cell_type": "markdown",
   "id": "84da4aba",
   "metadata": {},
   "source": [
    "Распределение продолжительности поездков пользователей близко к нормальному распределению с средним значением 17.8 мин (стандартное отклонение 6 мин) и диапазоном от 0.5 до 41 минуты. Медианная продолжительность поездков почти сравна среднему значению и составляет 17.7 мин. На гистограмме привлекает внимание небольшой пик на уровне 0-1 минуты. Посмотрим, что это были за аномально короткие поездки."
   ]
  },
  {
   "cell_type": "code",
   "execution_count": 32,
   "id": "8196631b",
   "metadata": {},
   "outputs": [
    {
     "data": {
      "text/html": [
       "<div>\n",
       "<style scoped>\n",
       "    .dataframe tbody tr th:only-of-type {\n",
       "        vertical-align: middle;\n",
       "    }\n",
       "\n",
       "    .dataframe tbody tr th {\n",
       "        vertical-align: top;\n",
       "    }\n",
       "\n",
       "    .dataframe thead th {\n",
       "        text-align: right;\n",
       "    }\n",
       "</style>\n",
       "<table border=\"1\" class=\"dataframe\">\n",
       "  <thead>\n",
       "    <tr style=\"text-align: right;\">\n",
       "      <th></th>\n",
       "      <th>user_id</th>\n",
       "      <th>distance</th>\n",
       "      <th>duration</th>\n",
       "      <th>date</th>\n",
       "      <th>month</th>\n",
       "    </tr>\n",
       "  </thead>\n",
       "  <tbody>\n",
       "    <tr>\n",
       "      <th>6531</th>\n",
       "      <td>701</td>\n",
       "      <td>4196.445201</td>\n",
       "      <td>0.5</td>\n",
       "      <td>2021-08-31</td>\n",
       "      <td>8</td>\n",
       "    </tr>\n",
       "    <tr>\n",
       "      <th>6570</th>\n",
       "      <td>704</td>\n",
       "      <td>4830.824371</td>\n",
       "      <td>0.5</td>\n",
       "      <td>2021-10-14</td>\n",
       "      <td>10</td>\n",
       "    </tr>\n",
       "    <tr>\n",
       "      <th>6680</th>\n",
       "      <td>712</td>\n",
       "      <td>4684.004397</td>\n",
       "      <td>0.5</td>\n",
       "      <td>2021-03-04</td>\n",
       "      <td>3</td>\n",
       "    </tr>\n",
       "    <tr>\n",
       "      <th>6695</th>\n",
       "      <td>713</td>\n",
       "      <td>5215.642710</td>\n",
       "      <td>0.5</td>\n",
       "      <td>2021-02-25</td>\n",
       "      <td>2</td>\n",
       "    </tr>\n",
       "    <tr>\n",
       "      <th>6768</th>\n",
       "      <td>718</td>\n",
       "      <td>5197.436649</td>\n",
       "      <td>0.5</td>\n",
       "      <td>2021-02-11</td>\n",
       "      <td>2</td>\n",
       "    </tr>\n",
       "    <tr>\n",
       "      <th>...</th>\n",
       "      <td>...</td>\n",
       "      <td>...</td>\n",
       "      <td>...</td>\n",
       "      <td>...</td>\n",
       "      <td>...</td>\n",
       "    </tr>\n",
       "    <tr>\n",
       "      <th>17004</th>\n",
       "      <td>1460</td>\n",
       "      <td>5531.335845</td>\n",
       "      <td>0.5</td>\n",
       "      <td>2021-01-19</td>\n",
       "      <td>1</td>\n",
       "    </tr>\n",
       "    <tr>\n",
       "      <th>17242</th>\n",
       "      <td>1477</td>\n",
       "      <td>6724.932981</td>\n",
       "      <td>0.5</td>\n",
       "      <td>2021-01-12</td>\n",
       "      <td>1</td>\n",
       "    </tr>\n",
       "    <tr>\n",
       "      <th>17314</th>\n",
       "      <td>1483</td>\n",
       "      <td>4445.481070</td>\n",
       "      <td>0.5</td>\n",
       "      <td>2021-03-06</td>\n",
       "      <td>3</td>\n",
       "    </tr>\n",
       "    <tr>\n",
       "      <th>17505</th>\n",
       "      <td>1496</td>\n",
       "      <td>5722.551787</td>\n",
       "      <td>0.5</td>\n",
       "      <td>2021-02-14</td>\n",
       "      <td>2</td>\n",
       "    </tr>\n",
       "    <tr>\n",
       "      <th>17909</th>\n",
       "      <td>1524</td>\n",
       "      <td>4103.998874</td>\n",
       "      <td>0.5</td>\n",
       "      <td>2021-06-18</td>\n",
       "      <td>6</td>\n",
       "    </tr>\n",
       "  </tbody>\n",
       "</table>\n",
       "<p>95 rows × 5 columns</p>\n",
       "</div>"
      ],
      "text/plain": [
       "       user_id     distance  duration       date  month\n",
       "6531       701  4196.445201       0.5 2021-08-31      8\n",
       "6570       704  4830.824371       0.5 2021-10-14     10\n",
       "6680       712  4684.004397       0.5 2021-03-04      3\n",
       "6695       713  5215.642710       0.5 2021-02-25      2\n",
       "6768       718  5197.436649       0.5 2021-02-11      2\n",
       "...        ...          ...       ...        ...    ...\n",
       "17004     1460  5531.335845       0.5 2021-01-19      1\n",
       "17242     1477  6724.932981       0.5 2021-01-12      1\n",
       "17314     1483  4445.481070       0.5 2021-03-06      3\n",
       "17505     1496  5722.551787       0.5 2021-02-14      2\n",
       "17909     1524  4103.998874       0.5 2021-06-18      6\n",
       "\n",
       "[95 rows x 5 columns]"
      ]
     },
     "execution_count": 32,
     "metadata": {},
     "output_type": "execute_result"
    }
   ],
   "source": [
    "# выведем данные о поездках длительностью не более 1 минуты\n",
    "data_rides.loc[data_rides['duration'] <= 1]"
   ]
  },
  {
   "cell_type": "code",
   "execution_count": 33,
   "id": "59598b59",
   "metadata": {
    "scrolled": true
   },
   "outputs": [
    {
     "data": {
      "text/plain": [
       "95"
      ]
     },
     "execution_count": 33,
     "metadata": {},
     "output_type": "execute_result"
    }
   ],
   "source": [
    "# выведем длину этого среза данных\n",
    "len(data_rides.loc[data_rides['duration'] < 1])"
   ]
  },
  {
   "cell_type": "code",
   "execution_count": 34,
   "id": "55203559",
   "metadata": {},
   "outputs": [
    {
     "data": {
      "text/plain": [
       "4030.308008428866"
      ]
     },
     "execution_count": 34,
     "metadata": {},
     "output_type": "execute_result"
    }
   ],
   "source": [
    "# выведем минимальное расстояние поездки из среза данных с длительностью поездок не более 1 мин\n",
    "data_rides.loc[data_rides['duration'] < 1]['distance'].min()\n",
    "#print(data_rides.loc[data_rides['duration'] < 1]['distance'].maх())"
   ]
  },
  {
   "cell_type": "code",
   "execution_count": 35,
   "id": "017cea3f",
   "metadata": {},
   "outputs": [
    {
     "data": {
      "text/plain": [
       "7211.007744598519"
      ]
     },
     "execution_count": 35,
     "metadata": {},
     "output_type": "execute_result"
    }
   ],
   "source": [
    "# выведем максимальное расстояние поездки из среза данных с длительностью поездок не более 1 мин\n",
    "data_rides.loc[data_rides['duration'] < 1]['distance'].max()"
   ]
  },
  {
   "cell_type": "markdown",
   "id": "b9752c18",
   "metadata": {},
   "source": [
    "Как видно из среза данных (с условием длительностью поездки менее 1 минуты), в датафрейме `data_rides` встречается 95 поездок с однинаковой длительностью 0.5 минуты. При этом расстояние, которое пользователи проехали в этих случаях, не соответсвует длительности в 30 сек, и составляет от 4 до 7,2 км. В связи с этим, возникает предположение, что длительность поездки в этих случаях указана неверно, т.к. не соответствует пройденному расстоянию (продолжительность могла быть указана в часах).."
   ]
  },
  {
   "cell_type": "markdown",
   "id": "61ad5e64",
   "metadata": {},
   "source": [
    "### Вывод по разделу 5"
   ]
  },
  {
   "cell_type": "markdown",
   "id": "04f8f038",
   "metadata": {},
   "source": [
    "\n",
    "В этом разделе анализировались следующие показатели:\n",
    "* частота встречаемости городов;\n",
    "* соотношение пользователей с подпиской и без подписки;\n",
    "* возраст пользователей;\n",
    "* расстояние, которое пользователь преодолел за одну поездку;\n",
    "* продолжительность поездок.\n",
    "\n",
    "Согласно полученным данным из 8 городов, где представлен сервис GoFast, больше всего поездок пользователи совершили в г. Пятигорске (219 из 1534 поездок). Следующие по количеству поездок - г. Екатеринбург (204 поездки) и г. Ростов-на-Дону (198 поездок). Меньше всего пользовались самокатами в г. Москве (168).\n",
    "\n",
    "Более половины пользователей (54 %) используют самокаты без подписки, 46 % пользуются подпиской за 199 р. в месяц, которая представяет меньшую цену за минуту и бесплатный старт. \n",
    "\n",
    "Возраст пользователей составляет от 12 до 43 лет со средним значением 25 лет (совпадает с медианой). \n",
    "\n",
    "Самокаты используют для поездок на расстояния от 1 до 7211 м. В распределении дальности поездок наблюдается 2 максимума: основной максимум около значения 3000-3300 м и вторичный максимум около значения 600 м. Медианное значение дальности поездок 3134 м, среднее 3070 м. Возможно, пик на расстояниях в 600-700 м связан с тем, что самокаты могут брать для того, чтобы быстро добраться до остановок общественного транспорта.\n",
    "\n",
    "Распределение продолжительности поездков пользователей близко к нормальному  диапазоне с средним значением 18 мин (равно медиане) и диапазоном от 0.5 до 41 минуты  При этом на гистограмме наблюдается острый пик в районе 0-1 мин. При более подробном анализе данных с такой длительностью поездок, было выявлено, что это поездки на длинные расстояния (от 4 до 7.2 км), у которых в значениях продолжительности поездки стоит значение 0.5 мин, что скорее всего является ошибкой (продолжительность могла быть указана в часах)."
   ]
  },
  {
   "cell_type": "markdown",
   "id": "bd9dff1a",
   "metadata": {},
   "source": [
    "## Объединение данных."
   ]
  },
  {
   "cell_type": "markdown",
   "id": "f3002a61",
   "metadata": {},
   "source": [
    "### Объединение данные о пользователях, поездках и подписках в один датафрейм"
   ]
  },
  {
   "cell_type": "code",
   "execution_count": 36,
   "id": "d147461d",
   "metadata": {},
   "outputs": [
    {
     "data": {
      "text/html": [
       "<div>\n",
       "<style scoped>\n",
       "    .dataframe tbody tr th:only-of-type {\n",
       "        vertical-align: middle;\n",
       "    }\n",
       "\n",
       "    .dataframe tbody tr th {\n",
       "        vertical-align: top;\n",
       "    }\n",
       "\n",
       "    .dataframe thead th {\n",
       "        text-align: right;\n",
       "    }\n",
       "</style>\n",
       "<table border=\"1\" class=\"dataframe\">\n",
       "  <thead>\n",
       "    <tr style=\"text-align: right;\">\n",
       "      <th></th>\n",
       "      <th>user_id</th>\n",
       "      <th>name</th>\n",
       "      <th>age</th>\n",
       "      <th>city</th>\n",
       "      <th>subscription_type</th>\n",
       "    </tr>\n",
       "  </thead>\n",
       "  <tbody>\n",
       "    <tr>\n",
       "      <th>0</th>\n",
       "      <td>1</td>\n",
       "      <td>Кира</td>\n",
       "      <td>22</td>\n",
       "      <td>Тюмень</td>\n",
       "      <td>ultra</td>\n",
       "    </tr>\n",
       "    <tr>\n",
       "      <th>1</th>\n",
       "      <td>2</td>\n",
       "      <td>Станислав</td>\n",
       "      <td>31</td>\n",
       "      <td>Омск</td>\n",
       "      <td>ultra</td>\n",
       "    </tr>\n",
       "    <tr>\n",
       "      <th>2</th>\n",
       "      <td>3</td>\n",
       "      <td>Алексей</td>\n",
       "      <td>20</td>\n",
       "      <td>Москва</td>\n",
       "      <td>ultra</td>\n",
       "    </tr>\n",
       "    <tr>\n",
       "      <th>3</th>\n",
       "      <td>4</td>\n",
       "      <td>Константин</td>\n",
       "      <td>26</td>\n",
       "      <td>Ростов-на-Дону</td>\n",
       "      <td>ultra</td>\n",
       "    </tr>\n",
       "    <tr>\n",
       "      <th>4</th>\n",
       "      <td>5</td>\n",
       "      <td>Адель</td>\n",
       "      <td>28</td>\n",
       "      <td>Омск</td>\n",
       "      <td>ultra</td>\n",
       "    </tr>\n",
       "  </tbody>\n",
       "</table>\n",
       "</div>"
      ],
      "text/plain": [
       "   user_id        name  age            city subscription_type\n",
       "0        1        Кира   22          Тюмень             ultra\n",
       "1        2   Станислав   31            Омск             ultra\n",
       "2        3     Алексей   20          Москва             ultra\n",
       "3        4  Константин   26  Ростов-на-Дону             ultra\n",
       "4        5       Адель   28            Омск             ultra"
      ]
     },
     "metadata": {},
     "output_type": "display_data"
    },
    {
     "data": {
      "text/html": [
       "<div>\n",
       "<style scoped>\n",
       "    .dataframe tbody tr th:only-of-type {\n",
       "        vertical-align: middle;\n",
       "    }\n",
       "\n",
       "    .dataframe tbody tr th {\n",
       "        vertical-align: top;\n",
       "    }\n",
       "\n",
       "    .dataframe thead th {\n",
       "        text-align: right;\n",
       "    }\n",
       "</style>\n",
       "<table border=\"1\" class=\"dataframe\">\n",
       "  <thead>\n",
       "    <tr style=\"text-align: right;\">\n",
       "      <th></th>\n",
       "      <th>user_id</th>\n",
       "      <th>distance</th>\n",
       "      <th>duration</th>\n",
       "      <th>date</th>\n",
       "      <th>month</th>\n",
       "    </tr>\n",
       "  </thead>\n",
       "  <tbody>\n",
       "    <tr>\n",
       "      <th>0</th>\n",
       "      <td>1</td>\n",
       "      <td>4409.919140</td>\n",
       "      <td>25.599769</td>\n",
       "      <td>2021-01-01</td>\n",
       "      <td>1</td>\n",
       "    </tr>\n",
       "    <tr>\n",
       "      <th>1</th>\n",
       "      <td>1</td>\n",
       "      <td>2617.592153</td>\n",
       "      <td>15.816871</td>\n",
       "      <td>2021-01-18</td>\n",
       "      <td>1</td>\n",
       "    </tr>\n",
       "    <tr>\n",
       "      <th>2</th>\n",
       "      <td>1</td>\n",
       "      <td>754.159807</td>\n",
       "      <td>6.232113</td>\n",
       "      <td>2021-04-20</td>\n",
       "      <td>4</td>\n",
       "    </tr>\n",
       "    <tr>\n",
       "      <th>3</th>\n",
       "      <td>1</td>\n",
       "      <td>2694.783254</td>\n",
       "      <td>18.511000</td>\n",
       "      <td>2021-08-11</td>\n",
       "      <td>8</td>\n",
       "    </tr>\n",
       "    <tr>\n",
       "      <th>4</th>\n",
       "      <td>1</td>\n",
       "      <td>4028.687306</td>\n",
       "      <td>26.265803</td>\n",
       "      <td>2021-08-28</td>\n",
       "      <td>8</td>\n",
       "    </tr>\n",
       "  </tbody>\n",
       "</table>\n",
       "</div>"
      ],
      "text/plain": [
       "   user_id     distance   duration       date  month\n",
       "0        1  4409.919140  25.599769 2021-01-01      1\n",
       "1        1  2617.592153  15.816871 2021-01-18      1\n",
       "2        1   754.159807   6.232113 2021-04-20      4\n",
       "3        1  2694.783254  18.511000 2021-08-11      8\n",
       "4        1  4028.687306  26.265803 2021-08-28      8"
      ]
     },
     "execution_count": 36,
     "metadata": {},
     "output_type": "execute_result"
    }
   ],
   "source": [
    "# еще раз посмотрим на первые строки датафреймов data_users и data_rides\n",
    "display(data_users.head())\n",
    "data_rides.head()"
   ]
  },
  {
   "cell_type": "code",
   "execution_count": 37,
   "id": "93d57eec",
   "metadata": {},
   "outputs": [
    {
     "data": {
      "text/html": [
       "<div>\n",
       "<style scoped>\n",
       "    .dataframe tbody tr th:only-of-type {\n",
       "        vertical-align: middle;\n",
       "    }\n",
       "\n",
       "    .dataframe tbody tr th {\n",
       "        vertical-align: top;\n",
       "    }\n",
       "\n",
       "    .dataframe thead th {\n",
       "        text-align: right;\n",
       "    }\n",
       "</style>\n",
       "<table border=\"1\" class=\"dataframe\">\n",
       "  <thead>\n",
       "    <tr style=\"text-align: right;\">\n",
       "      <th></th>\n",
       "      <th>user_id</th>\n",
       "      <th>distance</th>\n",
       "      <th>duration</th>\n",
       "      <th>date</th>\n",
       "      <th>month</th>\n",
       "      <th>name</th>\n",
       "      <th>age</th>\n",
       "      <th>city</th>\n",
       "      <th>subscription_type</th>\n",
       "    </tr>\n",
       "  </thead>\n",
       "  <tbody>\n",
       "    <tr>\n",
       "      <th>0</th>\n",
       "      <td>1</td>\n",
       "      <td>4409.919140</td>\n",
       "      <td>25.599769</td>\n",
       "      <td>2021-01-01</td>\n",
       "      <td>1</td>\n",
       "      <td>Кира</td>\n",
       "      <td>22</td>\n",
       "      <td>Тюмень</td>\n",
       "      <td>ultra</td>\n",
       "    </tr>\n",
       "    <tr>\n",
       "      <th>1</th>\n",
       "      <td>1</td>\n",
       "      <td>2617.592153</td>\n",
       "      <td>15.816871</td>\n",
       "      <td>2021-01-18</td>\n",
       "      <td>1</td>\n",
       "      <td>Кира</td>\n",
       "      <td>22</td>\n",
       "      <td>Тюмень</td>\n",
       "      <td>ultra</td>\n",
       "    </tr>\n",
       "    <tr>\n",
       "      <th>2</th>\n",
       "      <td>1</td>\n",
       "      <td>754.159807</td>\n",
       "      <td>6.232113</td>\n",
       "      <td>2021-04-20</td>\n",
       "      <td>4</td>\n",
       "      <td>Кира</td>\n",
       "      <td>22</td>\n",
       "      <td>Тюмень</td>\n",
       "      <td>ultra</td>\n",
       "    </tr>\n",
       "    <tr>\n",
       "      <th>3</th>\n",
       "      <td>1</td>\n",
       "      <td>2694.783254</td>\n",
       "      <td>18.511000</td>\n",
       "      <td>2021-08-11</td>\n",
       "      <td>8</td>\n",
       "      <td>Кира</td>\n",
       "      <td>22</td>\n",
       "      <td>Тюмень</td>\n",
       "      <td>ultra</td>\n",
       "    </tr>\n",
       "    <tr>\n",
       "      <th>4</th>\n",
       "      <td>1</td>\n",
       "      <td>4028.687306</td>\n",
       "      <td>26.265803</td>\n",
       "      <td>2021-08-28</td>\n",
       "      <td>8</td>\n",
       "      <td>Кира</td>\n",
       "      <td>22</td>\n",
       "      <td>Тюмень</td>\n",
       "      <td>ultra</td>\n",
       "    </tr>\n",
       "  </tbody>\n",
       "</table>\n",
       "</div>"
      ],
      "text/plain": [
       "   user_id     distance   duration       date  month  name  age    city  \\\n",
       "0        1  4409.919140  25.599769 2021-01-01      1  Кира   22  Тюмень   \n",
       "1        1  2617.592153  15.816871 2021-01-18      1  Кира   22  Тюмень   \n",
       "2        1   754.159807   6.232113 2021-04-20      4  Кира   22  Тюмень   \n",
       "3        1  2694.783254  18.511000 2021-08-11      8  Кира   22  Тюмень   \n",
       "4        1  4028.687306  26.265803 2021-08-28      8  Кира   22  Тюмень   \n",
       "\n",
       "  subscription_type  \n",
       "0             ultra  \n",
       "1             ultra  \n",
       "2             ultra  \n",
       "3             ultra  \n",
       "4             ultra  "
      ]
     },
     "execution_count": 37,
     "metadata": {},
     "output_type": "execute_result"
    }
   ],
   "source": [
    "# будем объединять датафреймы методом merge по столбцу user_id\n",
    "data_all = data_rides.merge(data_users, left_on='user_id', right_on='user_id')\n",
    "# проверим, что получилось\n",
    "data_all.head()"
   ]
  },
  {
   "cell_type": "code",
   "execution_count": 38,
   "id": "226df95e",
   "metadata": {},
   "outputs": [
    {
     "data": {
      "text/html": [
       "<div>\n",
       "<style scoped>\n",
       "    .dataframe tbody tr th:only-of-type {\n",
       "        vertical-align: middle;\n",
       "    }\n",
       "\n",
       "    .dataframe tbody tr th {\n",
       "        vertical-align: top;\n",
       "    }\n",
       "\n",
       "    .dataframe thead th {\n",
       "        text-align: right;\n",
       "    }\n",
       "</style>\n",
       "<table border=\"1\" class=\"dataframe\">\n",
       "  <thead>\n",
       "    <tr style=\"text-align: right;\">\n",
       "      <th></th>\n",
       "      <th>user_id</th>\n",
       "      <th>distance</th>\n",
       "      <th>duration</th>\n",
       "      <th>date</th>\n",
       "      <th>month</th>\n",
       "      <th>name</th>\n",
       "      <th>age</th>\n",
       "      <th>city</th>\n",
       "      <th>subscription_type</th>\n",
       "      <th>minute_price</th>\n",
       "      <th>start_ride_price</th>\n",
       "      <th>subscription_fee</th>\n",
       "    </tr>\n",
       "  </thead>\n",
       "  <tbody>\n",
       "    <tr>\n",
       "      <th>0</th>\n",
       "      <td>1</td>\n",
       "      <td>4409.919140</td>\n",
       "      <td>25.599769</td>\n",
       "      <td>2021-01-01</td>\n",
       "      <td>1</td>\n",
       "      <td>Кира</td>\n",
       "      <td>22</td>\n",
       "      <td>Тюмень</td>\n",
       "      <td>ultra</td>\n",
       "      <td>6</td>\n",
       "      <td>0</td>\n",
       "      <td>199</td>\n",
       "    </tr>\n",
       "    <tr>\n",
       "      <th>1</th>\n",
       "      <td>1</td>\n",
       "      <td>2617.592153</td>\n",
       "      <td>15.816871</td>\n",
       "      <td>2021-01-18</td>\n",
       "      <td>1</td>\n",
       "      <td>Кира</td>\n",
       "      <td>22</td>\n",
       "      <td>Тюмень</td>\n",
       "      <td>ultra</td>\n",
       "      <td>6</td>\n",
       "      <td>0</td>\n",
       "      <td>199</td>\n",
       "    </tr>\n",
       "    <tr>\n",
       "      <th>2</th>\n",
       "      <td>1</td>\n",
       "      <td>754.159807</td>\n",
       "      <td>6.232113</td>\n",
       "      <td>2021-04-20</td>\n",
       "      <td>4</td>\n",
       "      <td>Кира</td>\n",
       "      <td>22</td>\n",
       "      <td>Тюмень</td>\n",
       "      <td>ultra</td>\n",
       "      <td>6</td>\n",
       "      <td>0</td>\n",
       "      <td>199</td>\n",
       "    </tr>\n",
       "    <tr>\n",
       "      <th>3</th>\n",
       "      <td>1</td>\n",
       "      <td>2694.783254</td>\n",
       "      <td>18.511000</td>\n",
       "      <td>2021-08-11</td>\n",
       "      <td>8</td>\n",
       "      <td>Кира</td>\n",
       "      <td>22</td>\n",
       "      <td>Тюмень</td>\n",
       "      <td>ultra</td>\n",
       "      <td>6</td>\n",
       "      <td>0</td>\n",
       "      <td>199</td>\n",
       "    </tr>\n",
       "    <tr>\n",
       "      <th>4</th>\n",
       "      <td>1</td>\n",
       "      <td>4028.687306</td>\n",
       "      <td>26.265803</td>\n",
       "      <td>2021-08-28</td>\n",
       "      <td>8</td>\n",
       "      <td>Кира</td>\n",
       "      <td>22</td>\n",
       "      <td>Тюмень</td>\n",
       "      <td>ultra</td>\n",
       "      <td>6</td>\n",
       "      <td>0</td>\n",
       "      <td>199</td>\n",
       "    </tr>\n",
       "  </tbody>\n",
       "</table>\n",
       "</div>"
      ],
      "text/plain": [
       "   user_id     distance   duration       date  month  name  age    city  \\\n",
       "0        1  4409.919140  25.599769 2021-01-01      1  Кира   22  Тюмень   \n",
       "1        1  2617.592153  15.816871 2021-01-18      1  Кира   22  Тюмень   \n",
       "2        1   754.159807   6.232113 2021-04-20      4  Кира   22  Тюмень   \n",
       "3        1  2694.783254  18.511000 2021-08-11      8  Кира   22  Тюмень   \n",
       "4        1  4028.687306  26.265803 2021-08-28      8  Кира   22  Тюмень   \n",
       "\n",
       "  subscription_type  minute_price  start_ride_price  subscription_fee  \n",
       "0             ultra             6                 0               199  \n",
       "1             ultra             6                 0               199  \n",
       "2             ultra             6                 0               199  \n",
       "3             ultra             6                 0               199  \n",
       "4             ultra             6                 0               199  "
      ]
     },
     "execution_count": 38,
     "metadata": {},
     "output_type": "execute_result"
    }
   ],
   "source": [
    "# теперь добавим информацию о подписках из датафрейма data_subsciptions, объединяем по столбцу 'subscription_type'\n",
    "data_all = data_all.merge(data_subsciptions, left_on='subscription_type', right_on='subscription_type')\n",
    "data_all.head()"
   ]
  },
  {
   "cell_type": "code",
   "execution_count": 39,
   "id": "022807b8",
   "metadata": {},
   "outputs": [
    {
     "data": {
      "text/plain": [
       "user_id              0\n",
       "distance             0\n",
       "duration             0\n",
       "date                 0\n",
       "month                0\n",
       "name                 0\n",
       "age                  0\n",
       "city                 0\n",
       "subscription_type    0\n",
       "minute_price         0\n",
       "start_ride_price     0\n",
       "subscription_fee     0\n",
       "dtype: int64"
      ]
     },
     "execution_count": 39,
     "metadata": {},
     "output_type": "execute_result"
    }
   ],
   "source": [
    "# проверим, не образовалось ли пропусков после объединения таблиц\n",
    "data_all.head().isna().sum()"
   ]
  },
  {
   "cell_type": "markdown",
   "id": "0eccc655",
   "metadata": {},
   "source": [
    "Пропуски в новом объединенном датафрейме `data_all` отсутствуют."
   ]
  },
  {
   "cell_type": "markdown",
   "id": "9dfa4ac5",
   "metadata": {},
   "source": [
    "### Создание новых датафремов о пользователях с подпиской и без"
   ]
  },
  {
   "cell_type": "markdown",
   "id": "cb6075bd",
   "metadata": {},
   "source": [
    "Создадим новые датафреймы с данными о пользователямх с подпиской `data_all_ultra`и без `data_all_free`."
   ]
  },
  {
   "cell_type": "code",
   "execution_count": 40,
   "id": "c345c339",
   "metadata": {},
   "outputs": [
    {
     "data": {
      "text/html": [
       "<div>\n",
       "<style scoped>\n",
       "    .dataframe tbody tr th:only-of-type {\n",
       "        vertical-align: middle;\n",
       "    }\n",
       "\n",
       "    .dataframe tbody tr th {\n",
       "        vertical-align: top;\n",
       "    }\n",
       "\n",
       "    .dataframe thead th {\n",
       "        text-align: right;\n",
       "    }\n",
       "</style>\n",
       "<table border=\"1\" class=\"dataframe\">\n",
       "  <thead>\n",
       "    <tr style=\"text-align: right;\">\n",
       "      <th></th>\n",
       "      <th>user_id</th>\n",
       "      <th>distance</th>\n",
       "      <th>duration</th>\n",
       "      <th>date</th>\n",
       "      <th>month</th>\n",
       "      <th>name</th>\n",
       "      <th>age</th>\n",
       "      <th>city</th>\n",
       "      <th>subscription_type</th>\n",
       "      <th>minute_price</th>\n",
       "      <th>start_ride_price</th>\n",
       "      <th>subscription_fee</th>\n",
       "    </tr>\n",
       "  </thead>\n",
       "  <tbody>\n",
       "    <tr>\n",
       "      <th>6500</th>\n",
       "      <td>700</td>\n",
       "      <td>2515.690719</td>\n",
       "      <td>14.944286</td>\n",
       "      <td>2021-01-02</td>\n",
       "      <td>1</td>\n",
       "      <td>Айдар</td>\n",
       "      <td>22</td>\n",
       "      <td>Омск</td>\n",
       "      <td>free</td>\n",
       "      <td>8</td>\n",
       "      <td>50</td>\n",
       "      <td>0</td>\n",
       "    </tr>\n",
       "    <tr>\n",
       "      <th>6501</th>\n",
       "      <td>700</td>\n",
       "      <td>846.932642</td>\n",
       "      <td>16.234663</td>\n",
       "      <td>2021-02-01</td>\n",
       "      <td>2</td>\n",
       "      <td>Айдар</td>\n",
       "      <td>22</td>\n",
       "      <td>Омск</td>\n",
       "      <td>free</td>\n",
       "      <td>8</td>\n",
       "      <td>50</td>\n",
       "      <td>0</td>\n",
       "    </tr>\n",
       "    <tr>\n",
       "      <th>6502</th>\n",
       "      <td>700</td>\n",
       "      <td>4004.434142</td>\n",
       "      <td>20.016628</td>\n",
       "      <td>2021-02-04</td>\n",
       "      <td>2</td>\n",
       "      <td>Айдар</td>\n",
       "      <td>22</td>\n",
       "      <td>Омск</td>\n",
       "      <td>free</td>\n",
       "      <td>8</td>\n",
       "      <td>50</td>\n",
       "      <td>0</td>\n",
       "    </tr>\n",
       "    <tr>\n",
       "      <th>6503</th>\n",
       "      <td>700</td>\n",
       "      <td>1205.911290</td>\n",
       "      <td>9.782872</td>\n",
       "      <td>2021-02-10</td>\n",
       "      <td>2</td>\n",
       "      <td>Айдар</td>\n",
       "      <td>22</td>\n",
       "      <td>Омск</td>\n",
       "      <td>free</td>\n",
       "      <td>8</td>\n",
       "      <td>50</td>\n",
       "      <td>0</td>\n",
       "    </tr>\n",
       "    <tr>\n",
       "      <th>6504</th>\n",
       "      <td>700</td>\n",
       "      <td>3047.379435</td>\n",
       "      <td>17.427673</td>\n",
       "      <td>2021-02-14</td>\n",
       "      <td>2</td>\n",
       "      <td>Айдар</td>\n",
       "      <td>22</td>\n",
       "      <td>Омск</td>\n",
       "      <td>free</td>\n",
       "      <td>8</td>\n",
       "      <td>50</td>\n",
       "      <td>0</td>\n",
       "    </tr>\n",
       "  </tbody>\n",
       "</table>\n",
       "</div>"
      ],
      "text/plain": [
       "      user_id     distance   duration       date  month   name  age  city  \\\n",
       "6500      700  2515.690719  14.944286 2021-01-02      1  Айдар   22  Омск   \n",
       "6501      700   846.932642  16.234663 2021-02-01      2  Айдар   22  Омск   \n",
       "6502      700  4004.434142  20.016628 2021-02-04      2  Айдар   22  Омск   \n",
       "6503      700  1205.911290   9.782872 2021-02-10      2  Айдар   22  Омск   \n",
       "6504      700  3047.379435  17.427673 2021-02-14      2  Айдар   22  Омск   \n",
       "\n",
       "     subscription_type  minute_price  start_ride_price  subscription_fee  \n",
       "6500              free             8                50                 0  \n",
       "6501              free             8                50                 0  \n",
       "6502              free             8                50                 0  \n",
       "6503              free             8                50                 0  \n",
       "6504              free             8                50                 0  "
      ]
     },
     "execution_count": 40,
     "metadata": {},
     "output_type": "execute_result"
    }
   ],
   "source": [
    "data_all_free = data_all.loc[data_all['subscription_type'] == 'free']\n",
    "data_all_free.head()"
   ]
  },
  {
   "cell_type": "code",
   "execution_count": 41,
   "id": "10ea23cb",
   "metadata": {
    "scrolled": true
   },
   "outputs": [
    {
     "data": {
      "text/html": [
       "<div>\n",
       "<style scoped>\n",
       "    .dataframe tbody tr th:only-of-type {\n",
       "        vertical-align: middle;\n",
       "    }\n",
       "\n",
       "    .dataframe tbody tr th {\n",
       "        vertical-align: top;\n",
       "    }\n",
       "\n",
       "    .dataframe thead th {\n",
       "        text-align: right;\n",
       "    }\n",
       "</style>\n",
       "<table border=\"1\" class=\"dataframe\">\n",
       "  <thead>\n",
       "    <tr style=\"text-align: right;\">\n",
       "      <th></th>\n",
       "      <th>user_id</th>\n",
       "      <th>distance</th>\n",
       "      <th>duration</th>\n",
       "      <th>date</th>\n",
       "      <th>month</th>\n",
       "      <th>name</th>\n",
       "      <th>age</th>\n",
       "      <th>city</th>\n",
       "      <th>subscription_type</th>\n",
       "      <th>minute_price</th>\n",
       "      <th>start_ride_price</th>\n",
       "      <th>subscription_fee</th>\n",
       "    </tr>\n",
       "  </thead>\n",
       "  <tbody>\n",
       "    <tr>\n",
       "      <th>0</th>\n",
       "      <td>1</td>\n",
       "      <td>4409.919140</td>\n",
       "      <td>25.599769</td>\n",
       "      <td>2021-01-01</td>\n",
       "      <td>1</td>\n",
       "      <td>Кира</td>\n",
       "      <td>22</td>\n",
       "      <td>Тюмень</td>\n",
       "      <td>ultra</td>\n",
       "      <td>6</td>\n",
       "      <td>0</td>\n",
       "      <td>199</td>\n",
       "    </tr>\n",
       "    <tr>\n",
       "      <th>1</th>\n",
       "      <td>1</td>\n",
       "      <td>2617.592153</td>\n",
       "      <td>15.816871</td>\n",
       "      <td>2021-01-18</td>\n",
       "      <td>1</td>\n",
       "      <td>Кира</td>\n",
       "      <td>22</td>\n",
       "      <td>Тюмень</td>\n",
       "      <td>ultra</td>\n",
       "      <td>6</td>\n",
       "      <td>0</td>\n",
       "      <td>199</td>\n",
       "    </tr>\n",
       "    <tr>\n",
       "      <th>2</th>\n",
       "      <td>1</td>\n",
       "      <td>754.159807</td>\n",
       "      <td>6.232113</td>\n",
       "      <td>2021-04-20</td>\n",
       "      <td>4</td>\n",
       "      <td>Кира</td>\n",
       "      <td>22</td>\n",
       "      <td>Тюмень</td>\n",
       "      <td>ultra</td>\n",
       "      <td>6</td>\n",
       "      <td>0</td>\n",
       "      <td>199</td>\n",
       "    </tr>\n",
       "    <tr>\n",
       "      <th>3</th>\n",
       "      <td>1</td>\n",
       "      <td>2694.783254</td>\n",
       "      <td>18.511000</td>\n",
       "      <td>2021-08-11</td>\n",
       "      <td>8</td>\n",
       "      <td>Кира</td>\n",
       "      <td>22</td>\n",
       "      <td>Тюмень</td>\n",
       "      <td>ultra</td>\n",
       "      <td>6</td>\n",
       "      <td>0</td>\n",
       "      <td>199</td>\n",
       "    </tr>\n",
       "    <tr>\n",
       "      <th>4</th>\n",
       "      <td>1</td>\n",
       "      <td>4028.687306</td>\n",
       "      <td>26.265803</td>\n",
       "      <td>2021-08-28</td>\n",
       "      <td>8</td>\n",
       "      <td>Кира</td>\n",
       "      <td>22</td>\n",
       "      <td>Тюмень</td>\n",
       "      <td>ultra</td>\n",
       "      <td>6</td>\n",
       "      <td>0</td>\n",
       "      <td>199</td>\n",
       "    </tr>\n",
       "  </tbody>\n",
       "</table>\n",
       "</div>"
      ],
      "text/plain": [
       "   user_id     distance   duration       date  month  name  age    city  \\\n",
       "0        1  4409.919140  25.599769 2021-01-01      1  Кира   22  Тюмень   \n",
       "1        1  2617.592153  15.816871 2021-01-18      1  Кира   22  Тюмень   \n",
       "2        1   754.159807   6.232113 2021-04-20      4  Кира   22  Тюмень   \n",
       "3        1  2694.783254  18.511000 2021-08-11      8  Кира   22  Тюмень   \n",
       "4        1  4028.687306  26.265803 2021-08-28      8  Кира   22  Тюмень   \n",
       "\n",
       "  subscription_type  minute_price  start_ride_price  subscription_fee  \n",
       "0             ultra             6                 0               199  \n",
       "1             ultra             6                 0               199  \n",
       "2             ultra             6                 0               199  \n",
       "3             ultra             6                 0               199  \n",
       "4             ultra             6                 0               199  "
      ]
     },
     "execution_count": 41,
     "metadata": {},
     "output_type": "execute_result"
    }
   ],
   "source": [
    "data_all_ultra = data_all.loc[data_all['subscription_type'] == 'ultra']\n",
    "data_all_ultra.head()"
   ]
  },
  {
   "cell_type": "markdown",
   "id": "b4d2a0a5",
   "metadata": {},
   "source": [
    "### Расстояние и время поездок для пользователей обеих категорий."
   ]
  },
  {
   "cell_type": "code",
   "execution_count": 42,
   "id": "9c3a9923",
   "metadata": {},
   "outputs": [
    {
     "data": {
      "image/png": "[encoded data removed]",
      "text/plain": [
       "<Figure size 1120x640 with 1 Axes>"
      ]
     },
     "metadata": {},
     "output_type": "display_data"
    },
    {
     "name": "stdout",
     "output_type": "stream",
     "text": [
      "Пользователи без подписки\n",
      "count    11568.0\n",
      "mean      3045.0\n",
      "std       1246.0\n",
      "min          1.0\n",
      "25%       2367.0\n",
      "50%       3115.0\n",
      "75%       3906.0\n",
      "max       7211.0\n",
      "Name: distance, dtype: float64\n",
      "Пользователи c подпиской\n"
     ]
    },
    {
     "data": {
      "text/plain": [
       "count    6500.0\n",
       "mean     3115.0\n",
       "std       837.0\n",
       "min       244.0\n",
       "25%      2785.0\n",
       "50%      3149.0\n",
       "75%      3561.0\n",
       "max      5700.0\n",
       "Name: distance, dtype: float64"
      ]
     },
     "execution_count": 42,
     "metadata": {},
     "output_type": "execute_result"
    }
   ],
   "source": [
    "# выведем гистограммы дальности поездок пользователей с подпиской и без на 1 графике\n",
    "plt.figure(figsize=(14, 8), dpi=80)\n",
    "plt.hist(data_all_free['distance'], color='blue', alpha=0.5, bins=50)\n",
    "plt.hist(data_all_ultra['distance'], color='green', alpha=0.5, bins=50)\n",
    "plt.legend(['без подписки','с подпиской ultra'])\n",
    "plt.title('Распределение дальности поездок пользователей с подпиской и без')\n",
    "plt.xlabel('расстояние, м')\n",
    "\n",
    "# RIGHT VERTICAL\n",
    "plt.axvline(x=3045, ymin=0, ymax = 650, linewidth=2, color='blue')\n",
    "# LEFT VERTICAL\n",
    "plt.axvline(x=3115, ymin=0, ymax = 650, linewidth=2, color='green')\n",
    "plt.text(4200,500,'Синяя линия - среднее для пользователей без подписки')\n",
    "plt.text(4200,450,'Зеленая линия - среднее для пользователей с подпиской')\n",
    "plt.show()\n",
    "\n",
    "# выведем числовую статистику дальности поездок пользователей с подпиской и без \n",
    "print('Пользователи без подписки')\n",
    "print(data_all_free['distance'].describe().round(0))\n",
    "print('Пользователи c подпиской')\n",
    "data_all_ultra['distance'].describe().round(0)"
   ]
  },
  {
   "cell_type": "markdown",
   "id": "d6f54a7f",
   "metadata": {},
   "source": [
    "Пользователи без подписки совершили 11568 поездок дальностью от 1 до 7211 м. Средняя дальность поездок составила 3045 м, медианная 3114 м.\n",
    "\n",
    "Пользователи с подпиской совершили почти в 2 раза меньше поездок - 6500 дальностью от 244 до 5699 м. Средняя дальность поездок составила 3115 м, медианная 3148 м.\n",
    "\n",
    "Таким образом, пользователи без подписки пользуются самокатами чаще, но ездят в среднем на чуть более короткие расстояния.\n",
    "Пользователи с подпиской пользуются самокатами почти в 2 раза реже, но средняя и медианная дальность поездки у них больше."
   ]
  },
  {
   "cell_type": "code",
   "execution_count": 43,
   "id": "567ab22b",
   "metadata": {},
   "outputs": [
    {
     "data": {
      "image/png": "[encoded data removed]",
      "text/plain": [
       "<Figure size 1120x640 with 1 Axes>"
      ]
     },
     "metadata": {},
     "output_type": "display_data"
    },
    {
     "name": "stdout",
     "output_type": "stream",
     "text": [
      "Пользователи без подписки\n",
      "count    11568.0\n",
      "mean        17.0\n",
      "std          6.0\n",
      "min          0.0\n",
      "25%         13.0\n",
      "50%         17.0\n",
      "75%         22.0\n",
      "max         35.0\n",
      "Name: duration, dtype: float64\n",
      "Пользователи c подпиской\n"
     ]
    },
    {
     "data": {
      "text/plain": [
       "count    6500.0\n",
       "mean       18.5\n",
       "std         5.6\n",
       "min         3.8\n",
       "25%        14.5\n",
       "50%        18.2\n",
       "75%        21.9\n",
       "max        40.8\n",
       "Name: duration, dtype: float64"
      ]
     },
     "execution_count": 43,
     "metadata": {},
     "output_type": "execute_result"
    }
   ],
   "source": [
    "# выведем гистограммы длительности поездок пользователей с подпиской и без на 1 графике\n",
    "plt.figure(figsize=(14, 8), dpi=80)\n",
    "plt.hist(data_all_free['duration'], color='blue', bins=30, alpha=0.5)\n",
    "plt.hist(data_all_ultra['duration'], color='green', bins=30, alpha=0.5)\n",
    "plt.legend(['без подписки','с подпиской ultra'])\n",
    "plt.title('Распределение длительности поездок пользователей с подпиской и без')\n",
    "plt.xlabel('длительность поездки, мин')\n",
    "#добавим обозначение среднего длительности поездок пользователей без подписки в виде синей линии\n",
    "plt.axvline(x=17, ymin=0, ymax = 650, linewidth=2, color='blue')\n",
    "#добавим обозначение среднего длительности поездок пользователей без подписки в виде зеленой линии\n",
    "plt.axvline(x=18.5, ymin=0, ymax = 650, linewidth=2, color='green')\n",
    "plt.text(24,600,'Синяя линия - среднее для пользователей без подписки')\n",
    "plt.text(24,550,'Зеленая линия - среднее для пользователей с подпиской')\n",
    "plt.show()\n",
    "# выведем числовую статичтику длительности поездок пользователей с подпиской и без \n",
    "print('Пользователи без подписки')\n",
    "print(data_all_free['duration'].describe().round(0))\n",
    "print('Пользователи c подпиской')\n",
    "data_all_ultra['duration'].describe().round(1)"
   ]
  },
  {
   "cell_type": "markdown",
   "id": "7b186388",
   "metadata": {},
   "source": [
    "Пользователи без подписки берут самокат в аренду на время от 0.5 до 35 минут. Средняя и медианная длительность поездок у этой категории пользователей составляет 17 мин. \n",
    "Пользователи с подпиской используют самокаты от 4 до 41 минуты. Средняя и медианная длительность поездок у этой категории пользователей составляет 19 и 18 мин соответственно. "
   ]
  },
  {
   "cell_type": "markdown",
   "id": "830aa4b6",
   "metadata": {},
   "source": [
    "### Подсчёт выручки"
   ]
  },
  {
   "cell_type": "markdown",
   "id": "1f99d5eb",
   "metadata": {},
   "source": [
    "Для того, чтобы подсчитать какую выручку приносит каждый пользователь за месяц, создадим датафрейм с агрегированными данными о поездках, который будет включать:\n",
    "* суммарное расстояние\n",
    "* количество поездок\n",
    "* суммарное время для каждого пользователя за каждый месяц."
   ]
  },
  {
   "cell_type": "code",
   "execution_count": 44,
   "id": "e6e6e353",
   "metadata": {},
   "outputs": [
    {
     "data": {
      "text/html": [
       "<div>\n",
       "<style scoped>\n",
       "    .dataframe tbody tr th:only-of-type {\n",
       "        vertical-align: middle;\n",
       "    }\n",
       "\n",
       "    .dataframe tbody tr th {\n",
       "        vertical-align: top;\n",
       "    }\n",
       "\n",
       "    .dataframe thead th {\n",
       "        text-align: right;\n",
       "    }\n",
       "</style>\n",
       "<table border=\"1\" class=\"dataframe\">\n",
       "  <thead>\n",
       "    <tr style=\"text-align: right;\">\n",
       "      <th></th>\n",
       "      <th>user_id</th>\n",
       "      <th>distance</th>\n",
       "      <th>duration</th>\n",
       "      <th>date</th>\n",
       "      <th>month</th>\n",
       "      <th>name</th>\n",
       "      <th>age</th>\n",
       "      <th>city</th>\n",
       "      <th>subscription_type</th>\n",
       "      <th>minute_price</th>\n",
       "      <th>start_ride_price</th>\n",
       "      <th>subscription_fee</th>\n",
       "    </tr>\n",
       "  </thead>\n",
       "  <tbody>\n",
       "    <tr>\n",
       "      <th>0</th>\n",
       "      <td>1</td>\n",
       "      <td>4409.919140</td>\n",
       "      <td>25.599769</td>\n",
       "      <td>2021-01-01</td>\n",
       "      <td>1</td>\n",
       "      <td>Кира</td>\n",
       "      <td>22</td>\n",
       "      <td>Тюмень</td>\n",
       "      <td>ultra</td>\n",
       "      <td>6</td>\n",
       "      <td>0</td>\n",
       "      <td>199</td>\n",
       "    </tr>\n",
       "    <tr>\n",
       "      <th>1</th>\n",
       "      <td>1</td>\n",
       "      <td>2617.592153</td>\n",
       "      <td>15.816871</td>\n",
       "      <td>2021-01-18</td>\n",
       "      <td>1</td>\n",
       "      <td>Кира</td>\n",
       "      <td>22</td>\n",
       "      <td>Тюмень</td>\n",
       "      <td>ultra</td>\n",
       "      <td>6</td>\n",
       "      <td>0</td>\n",
       "      <td>199</td>\n",
       "    </tr>\n",
       "    <tr>\n",
       "      <th>2</th>\n",
       "      <td>1</td>\n",
       "      <td>754.159807</td>\n",
       "      <td>6.232113</td>\n",
       "      <td>2021-04-20</td>\n",
       "      <td>4</td>\n",
       "      <td>Кира</td>\n",
       "      <td>22</td>\n",
       "      <td>Тюмень</td>\n",
       "      <td>ultra</td>\n",
       "      <td>6</td>\n",
       "      <td>0</td>\n",
       "      <td>199</td>\n",
       "    </tr>\n",
       "    <tr>\n",
       "      <th>3</th>\n",
       "      <td>1</td>\n",
       "      <td>2694.783254</td>\n",
       "      <td>18.511000</td>\n",
       "      <td>2021-08-11</td>\n",
       "      <td>8</td>\n",
       "      <td>Кира</td>\n",
       "      <td>22</td>\n",
       "      <td>Тюмень</td>\n",
       "      <td>ultra</td>\n",
       "      <td>6</td>\n",
       "      <td>0</td>\n",
       "      <td>199</td>\n",
       "    </tr>\n",
       "    <tr>\n",
       "      <th>4</th>\n",
       "      <td>1</td>\n",
       "      <td>4028.687306</td>\n",
       "      <td>26.265803</td>\n",
       "      <td>2021-08-28</td>\n",
       "      <td>8</td>\n",
       "      <td>Кира</td>\n",
       "      <td>22</td>\n",
       "      <td>Тюмень</td>\n",
       "      <td>ultra</td>\n",
       "      <td>6</td>\n",
       "      <td>0</td>\n",
       "      <td>199</td>\n",
       "    </tr>\n",
       "  </tbody>\n",
       "</table>\n",
       "</div>"
      ],
      "text/plain": [
       "   user_id     distance   duration       date  month  name  age    city  \\\n",
       "0        1  4409.919140  25.599769 2021-01-01      1  Кира   22  Тюмень   \n",
       "1        1  2617.592153  15.816871 2021-01-18      1  Кира   22  Тюмень   \n",
       "2        1   754.159807   6.232113 2021-04-20      4  Кира   22  Тюмень   \n",
       "3        1  2694.783254  18.511000 2021-08-11      8  Кира   22  Тюмень   \n",
       "4        1  4028.687306  26.265803 2021-08-28      8  Кира   22  Тюмень   \n",
       "\n",
       "  subscription_type  minute_price  start_ride_price  subscription_fee  \n",
       "0             ultra             6                 0               199  \n",
       "1             ultra             6                 0               199  \n",
       "2             ultra             6                 0               199  \n",
       "3             ultra             6                 0               199  \n",
       "4             ultra             6                 0               199  "
      ]
     },
     "execution_count": 44,
     "metadata": {},
     "output_type": "execute_result"
    }
   ],
   "source": [
    "data_all.head()"
   ]
  },
  {
   "cell_type": "code",
   "execution_count": 45,
   "id": "f5dcf7c3",
   "metadata": {
    "scrolled": true
   },
   "outputs": [
    {
     "data": {
      "text/html": [
       "<div>\n",
       "<style scoped>\n",
       "    .dataframe tbody tr th:only-of-type {\n",
       "        vertical-align: middle;\n",
       "    }\n",
       "\n",
       "    .dataframe tbody tr th {\n",
       "        vertical-align: top;\n",
       "    }\n",
       "\n",
       "    .dataframe thead th {\n",
       "        text-align: right;\n",
       "    }\n",
       "</style>\n",
       "<table border=\"1\" class=\"dataframe\">\n",
       "  <thead>\n",
       "    <tr style=\"text-align: right;\">\n",
       "      <th></th>\n",
       "      <th>user_id</th>\n",
       "      <th>distance</th>\n",
       "      <th>duration</th>\n",
       "      <th>date</th>\n",
       "      <th>month</th>\n",
       "      <th>name</th>\n",
       "      <th>age</th>\n",
       "      <th>city</th>\n",
       "      <th>subscription_type</th>\n",
       "      <th>minute_price</th>\n",
       "      <th>start_ride_price</th>\n",
       "      <th>subscription_fee</th>\n",
       "      <th>duration_rounded</th>\n",
       "    </tr>\n",
       "  </thead>\n",
       "  <tbody>\n",
       "    <tr>\n",
       "      <th>0</th>\n",
       "      <td>1</td>\n",
       "      <td>4409.919140</td>\n",
       "      <td>25.599769</td>\n",
       "      <td>2021-01-01</td>\n",
       "      <td>1</td>\n",
       "      <td>Кира</td>\n",
       "      <td>22</td>\n",
       "      <td>Тюмень</td>\n",
       "      <td>ultra</td>\n",
       "      <td>6</td>\n",
       "      <td>0</td>\n",
       "      <td>199</td>\n",
       "      <td>26.0</td>\n",
       "    </tr>\n",
       "    <tr>\n",
       "      <th>1</th>\n",
       "      <td>1</td>\n",
       "      <td>2617.592153</td>\n",
       "      <td>15.816871</td>\n",
       "      <td>2021-01-18</td>\n",
       "      <td>1</td>\n",
       "      <td>Кира</td>\n",
       "      <td>22</td>\n",
       "      <td>Тюмень</td>\n",
       "      <td>ultra</td>\n",
       "      <td>6</td>\n",
       "      <td>0</td>\n",
       "      <td>199</td>\n",
       "      <td>16.0</td>\n",
       "    </tr>\n",
       "    <tr>\n",
       "      <th>2</th>\n",
       "      <td>1</td>\n",
       "      <td>754.159807</td>\n",
       "      <td>6.232113</td>\n",
       "      <td>2021-04-20</td>\n",
       "      <td>4</td>\n",
       "      <td>Кира</td>\n",
       "      <td>22</td>\n",
       "      <td>Тюмень</td>\n",
       "      <td>ultra</td>\n",
       "      <td>6</td>\n",
       "      <td>0</td>\n",
       "      <td>199</td>\n",
       "      <td>7.0</td>\n",
       "    </tr>\n",
       "    <tr>\n",
       "      <th>3</th>\n",
       "      <td>1</td>\n",
       "      <td>2694.783254</td>\n",
       "      <td>18.511000</td>\n",
       "      <td>2021-08-11</td>\n",
       "      <td>8</td>\n",
       "      <td>Кира</td>\n",
       "      <td>22</td>\n",
       "      <td>Тюмень</td>\n",
       "      <td>ultra</td>\n",
       "      <td>6</td>\n",
       "      <td>0</td>\n",
       "      <td>199</td>\n",
       "      <td>19.0</td>\n",
       "    </tr>\n",
       "    <tr>\n",
       "      <th>4</th>\n",
       "      <td>1</td>\n",
       "      <td>4028.687306</td>\n",
       "      <td>26.265803</td>\n",
       "      <td>2021-08-28</td>\n",
       "      <td>8</td>\n",
       "      <td>Кира</td>\n",
       "      <td>22</td>\n",
       "      <td>Тюмень</td>\n",
       "      <td>ultra</td>\n",
       "      <td>6</td>\n",
       "      <td>0</td>\n",
       "      <td>199</td>\n",
       "      <td>27.0</td>\n",
       "    </tr>\n",
       "  </tbody>\n",
       "</table>\n",
       "</div>"
      ],
      "text/plain": [
       "   user_id     distance   duration       date  month  name  age    city  \\\n",
       "0        1  4409.919140  25.599769 2021-01-01      1  Кира   22  Тюмень   \n",
       "1        1  2617.592153  15.816871 2021-01-18      1  Кира   22  Тюмень   \n",
       "2        1   754.159807   6.232113 2021-04-20      4  Кира   22  Тюмень   \n",
       "3        1  2694.783254  18.511000 2021-08-11      8  Кира   22  Тюмень   \n",
       "4        1  4028.687306  26.265803 2021-08-28      8  Кира   22  Тюмень   \n",
       "\n",
       "  subscription_type  minute_price  start_ride_price  subscription_fee  \\\n",
       "0             ultra             6                 0               199   \n",
       "1             ultra             6                 0               199   \n",
       "2             ultra             6                 0               199   \n",
       "3             ultra             6                 0               199   \n",
       "4             ultra             6                 0               199   \n",
       "\n",
       "   duration_rounded  \n",
       "0              26.0  \n",
       "1              16.0  \n",
       "2               7.0  \n",
       "3              19.0  \n",
       "4              27.0  "
      ]
     },
     "execution_count": 45,
     "metadata": {},
     "output_type": "execute_result"
    }
   ],
   "source": [
    "# создадим новый столбец с длительностью поездок, округленной до следующего целого числа\n",
    "data_all['duration_rounded'] = np.ceil(data_all['duration'])\n",
    "data_all.head()"
   ]
  },
  {
   "cell_type": "markdown",
   "id": "bdde1f0d",
   "metadata": {},
   "source": [
    "Сгруппируем данные из датафрейма `data_all` по столбцам `user_id` и `month` и будем использовать определенные функции для разных столбцов: `distance` суммируем, `duration` подсчитываем количество (таким образом получаем количество поездок), `duration_rounded` суммируем, а в столбцах `minute_price, subscription_fee, subscription_type` выводим минимальное значение (чтобы просто перенести значение из исходного датафрейма)."
   ]
  },
  {
   "cell_type": "code",
   "execution_count": 46,
   "id": "c16323ac",
   "metadata": {},
   "outputs": [
    {
     "data": {
      "text/html": [
       "<div>\n",
       "<style scoped>\n",
       "    .dataframe tbody tr th:only-of-type {\n",
       "        vertical-align: middle;\n",
       "    }\n",
       "\n",
       "    .dataframe tbody tr th {\n",
       "        vertical-align: top;\n",
       "    }\n",
       "\n",
       "    .dataframe thead th {\n",
       "        text-align: right;\n",
       "    }\n",
       "</style>\n",
       "<table border=\"1\" class=\"dataframe\">\n",
       "  <thead>\n",
       "    <tr style=\"text-align: right;\">\n",
       "      <th></th>\n",
       "      <th></th>\n",
       "      <th>distance</th>\n",
       "      <th>duration</th>\n",
       "      <th>duration_rounded</th>\n",
       "      <th>minute_price</th>\n",
       "      <th>start_ride_price</th>\n",
       "      <th>subscription_fee</th>\n",
       "      <th>subscription_type</th>\n",
       "    </tr>\n",
       "    <tr>\n",
       "      <th>user_id</th>\n",
       "      <th>month</th>\n",
       "      <th></th>\n",
       "      <th></th>\n",
       "      <th></th>\n",
       "      <th></th>\n",
       "      <th></th>\n",
       "      <th></th>\n",
       "      <th></th>\n",
       "    </tr>\n",
       "  </thead>\n",
       "  <tbody>\n",
       "    <tr>\n",
       "      <th rowspan=\"6\" valign=\"top\">1</th>\n",
       "      <th>1</th>\n",
       "      <td>7027.511294</td>\n",
       "      <td>2</td>\n",
       "      <td>42.0</td>\n",
       "      <td>6</td>\n",
       "      <td>0</td>\n",
       "      <td>199</td>\n",
       "      <td>ultra</td>\n",
       "    </tr>\n",
       "    <tr>\n",
       "      <th>4</th>\n",
       "      <td>754.159807</td>\n",
       "      <td>1</td>\n",
       "      <td>7.0</td>\n",
       "      <td>6</td>\n",
       "      <td>0</td>\n",
       "      <td>199</td>\n",
       "      <td>ultra</td>\n",
       "    </tr>\n",
       "    <tr>\n",
       "      <th>8</th>\n",
       "      <td>6723.470560</td>\n",
       "      <td>2</td>\n",
       "      <td>46.0</td>\n",
       "      <td>6</td>\n",
       "      <td>0</td>\n",
       "      <td>199</td>\n",
       "      <td>ultra</td>\n",
       "    </tr>\n",
       "    <tr>\n",
       "      <th>10</th>\n",
       "      <td>5809.911100</td>\n",
       "      <td>2</td>\n",
       "      <td>32.0</td>\n",
       "      <td>6</td>\n",
       "      <td>0</td>\n",
       "      <td>199</td>\n",
       "      <td>ultra</td>\n",
       "    </tr>\n",
       "    <tr>\n",
       "      <th>11</th>\n",
       "      <td>7003.499363</td>\n",
       "      <td>3</td>\n",
       "      <td>56.0</td>\n",
       "      <td>6</td>\n",
       "      <td>0</td>\n",
       "      <td>199</td>\n",
       "      <td>ultra</td>\n",
       "    </tr>\n",
       "    <tr>\n",
       "      <th>12</th>\n",
       "      <td>6751.629942</td>\n",
       "      <td>2</td>\n",
       "      <td>28.0</td>\n",
       "      <td>6</td>\n",
       "      <td>0</td>\n",
       "      <td>199</td>\n",
       "      <td>ultra</td>\n",
       "    </tr>\n",
       "    <tr>\n",
       "      <th rowspan=\"7\" valign=\"top\">2</th>\n",
       "      <th>3</th>\n",
       "      <td>10187.723006</td>\n",
       "      <td>3</td>\n",
       "      <td>63.0</td>\n",
       "      <td>6</td>\n",
       "      <td>0</td>\n",
       "      <td>199</td>\n",
       "      <td>ultra</td>\n",
       "    </tr>\n",
       "    <tr>\n",
       "      <th>4</th>\n",
       "      <td>6164.381824</td>\n",
       "      <td>2</td>\n",
       "      <td>40.0</td>\n",
       "      <td>6</td>\n",
       "      <td>0</td>\n",
       "      <td>199</td>\n",
       "      <td>ultra</td>\n",
       "    </tr>\n",
       "    <tr>\n",
       "      <th>6</th>\n",
       "      <td>3255.338202</td>\n",
       "      <td>1</td>\n",
       "      <td>14.0</td>\n",
       "      <td>6</td>\n",
       "      <td>0</td>\n",
       "      <td>199</td>\n",
       "      <td>ultra</td>\n",
       "    </tr>\n",
       "    <tr>\n",
       "      <th>7</th>\n",
       "      <td>6780.722964</td>\n",
       "      <td>2</td>\n",
       "      <td>48.0</td>\n",
       "      <td>6</td>\n",
       "      <td>0</td>\n",
       "      <td>199</td>\n",
       "      <td>ultra</td>\n",
       "    </tr>\n",
       "    <tr>\n",
       "      <th>8</th>\n",
       "      <td>923.007439</td>\n",
       "      <td>1</td>\n",
       "      <td>7.0</td>\n",
       "      <td>6</td>\n",
       "      <td>0</td>\n",
       "      <td>199</td>\n",
       "      <td>ultra</td>\n",
       "    </tr>\n",
       "    <tr>\n",
       "      <th>10</th>\n",
       "      <td>2824.636598</td>\n",
       "      <td>1</td>\n",
       "      <td>19.0</td>\n",
       "      <td>6</td>\n",
       "      <td>0</td>\n",
       "      <td>199</td>\n",
       "      <td>ultra</td>\n",
       "    </tr>\n",
       "    <tr>\n",
       "      <th>12</th>\n",
       "      <td>3828.248580</td>\n",
       "      <td>1</td>\n",
       "      <td>12.0</td>\n",
       "      <td>6</td>\n",
       "      <td>0</td>\n",
       "      <td>199</td>\n",
       "      <td>ultra</td>\n",
       "    </tr>\n",
       "    <tr>\n",
       "      <th rowspan=\"2\" valign=\"top\">3</th>\n",
       "      <th>1</th>\n",
       "      <td>3061.777147</td>\n",
       "      <td>1</td>\n",
       "      <td>13.0</td>\n",
       "      <td>6</td>\n",
       "      <td>0</td>\n",
       "      <td>199</td>\n",
       "      <td>ultra</td>\n",
       "    </tr>\n",
       "    <tr>\n",
       "      <th>2</th>\n",
       "      <td>5421.152016</td>\n",
       "      <td>2</td>\n",
       "      <td>39.0</td>\n",
       "      <td>6</td>\n",
       "      <td>0</td>\n",
       "      <td>199</td>\n",
       "      <td>ultra</td>\n",
       "    </tr>\n",
       "  </tbody>\n",
       "</table>\n",
       "</div>"
      ],
      "text/plain": [
       "                   distance  duration  duration_rounded  minute_price  \\\n",
       "user_id month                                                           \n",
       "1       1       7027.511294         2              42.0             6   \n",
       "        4        754.159807         1               7.0             6   \n",
       "        8       6723.470560         2              46.0             6   \n",
       "        10      5809.911100         2              32.0             6   \n",
       "        11      7003.499363         3              56.0             6   \n",
       "        12      6751.629942         2              28.0             6   \n",
       "2       3      10187.723006         3              63.0             6   \n",
       "        4       6164.381824         2              40.0             6   \n",
       "        6       3255.338202         1              14.0             6   \n",
       "        7       6780.722964         2              48.0             6   \n",
       "        8        923.007439         1               7.0             6   \n",
       "        10      2824.636598         1              19.0             6   \n",
       "        12      3828.248580         1              12.0             6   \n",
       "3       1       3061.777147         1              13.0             6   \n",
       "        2       5421.152016         2              39.0             6   \n",
       "\n",
       "               start_ride_price  subscription_fee subscription_type  \n",
       "user_id month                                                        \n",
       "1       1                     0               199             ultra  \n",
       "        4                     0               199             ultra  \n",
       "        8                     0               199             ultra  \n",
       "        10                    0               199             ultra  \n",
       "        11                    0               199             ultra  \n",
       "        12                    0               199             ultra  \n",
       "2       3                     0               199             ultra  \n",
       "        4                     0               199             ultra  \n",
       "        6                     0               199             ultra  \n",
       "        7                     0               199             ultra  \n",
       "        8                     0               199             ultra  \n",
       "        10                    0               199             ultra  \n",
       "        12                    0               199             ultra  \n",
       "3       1                     0               199             ultra  \n",
       "        2                     0               199             ultra  "
      ]
     },
     "execution_count": 46,
     "metadata": {},
     "output_type": "execute_result"
    }
   ],
   "source": [
    "# создадим data_all_grouped со сгруппированными данными \n",
    "data_all_grouped = data_all.groupby(['user_id', 'month']).agg({'distance': 'sum', 'duration': 'count',\n",
    "                     'duration_rounded':'sum', 'minute_price':'min','start_ride_price':'min', 'subscription_fee':'min','subscription_type':'min'})\n",
    "data_all_grouped.head(15)"
   ]
  },
  {
   "cell_type": "code",
   "execution_count": 47,
   "id": "949b898f",
   "metadata": {},
   "outputs": [
    {
     "data": {
      "text/html": [
       "<div>\n",
       "<style scoped>\n",
       "    .dataframe tbody tr th:only-of-type {\n",
       "        vertical-align: middle;\n",
       "    }\n",
       "\n",
       "    .dataframe tbody tr th {\n",
       "        vertical-align: top;\n",
       "    }\n",
       "\n",
       "    .dataframe thead th {\n",
       "        text-align: right;\n",
       "    }\n",
       "</style>\n",
       "<table border=\"1\" class=\"dataframe\">\n",
       "  <thead>\n",
       "    <tr style=\"text-align: right;\">\n",
       "      <th></th>\n",
       "      <th></th>\n",
       "      <th>month_distance</th>\n",
       "      <th>rides_count</th>\n",
       "      <th>month_duration</th>\n",
       "      <th>minute_price</th>\n",
       "      <th>start_ride_price</th>\n",
       "      <th>subscription_fee</th>\n",
       "      <th>subscription_type</th>\n",
       "    </tr>\n",
       "    <tr>\n",
       "      <th>user_id</th>\n",
       "      <th>month</th>\n",
       "      <th></th>\n",
       "      <th></th>\n",
       "      <th></th>\n",
       "      <th></th>\n",
       "      <th></th>\n",
       "      <th></th>\n",
       "      <th></th>\n",
       "    </tr>\n",
       "  </thead>\n",
       "  <tbody>\n",
       "    <tr>\n",
       "      <th rowspan=\"2\" valign=\"top\">1</th>\n",
       "      <th>1</th>\n",
       "      <td>7027.511294</td>\n",
       "      <td>2</td>\n",
       "      <td>42.0</td>\n",
       "      <td>6</td>\n",
       "      <td>0</td>\n",
       "      <td>199</td>\n",
       "      <td>ultra</td>\n",
       "    </tr>\n",
       "    <tr>\n",
       "      <th>4</th>\n",
       "      <td>754.159807</td>\n",
       "      <td>1</td>\n",
       "      <td>7.0</td>\n",
       "      <td>6</td>\n",
       "      <td>0</td>\n",
       "      <td>199</td>\n",
       "      <td>ultra</td>\n",
       "    </tr>\n",
       "  </tbody>\n",
       "</table>\n",
       "</div>"
      ],
      "text/plain": [
       "               month_distance  rides_count  month_duration  minute_price  \\\n",
       "user_id month                                                              \n",
       "1       1         7027.511294            2            42.0             6   \n",
       "        4          754.159807            1             7.0             6   \n",
       "\n",
       "               start_ride_price  subscription_fee subscription_type  \n",
       "user_id month                                                        \n",
       "1       1                     0               199             ultra  \n",
       "        4                     0               199             ultra  "
      ]
     },
     "execution_count": 47,
     "metadata": {},
     "output_type": "execute_result"
    }
   ],
   "source": [
    "# переименуем названия столбцов\n",
    "data_all_grouped.columns = ['month_distance', 'rides_count', 'month_duration', 'minute_price', 'start_ride_price', 'subscription_fee', 'subscription_type']\n",
    "data_all_grouped.head(2)"
   ]
  },
  {
   "cell_type": "code",
   "execution_count": 48,
   "id": "84478a12",
   "metadata": {},
   "outputs": [
    {
     "data": {
      "text/html": [
       "<div>\n",
       "<style scoped>\n",
       "    .dataframe tbody tr th:only-of-type {\n",
       "        vertical-align: middle;\n",
       "    }\n",
       "\n",
       "    .dataframe tbody tr th {\n",
       "        vertical-align: top;\n",
       "    }\n",
       "\n",
       "    .dataframe thead th {\n",
       "        text-align: right;\n",
       "    }\n",
       "</style>\n",
       "<table border=\"1\" class=\"dataframe\">\n",
       "  <thead>\n",
       "    <tr style=\"text-align: right;\">\n",
       "      <th></th>\n",
       "      <th></th>\n",
       "      <th>month_distance</th>\n",
       "      <th>rides_count</th>\n",
       "      <th>month_duration</th>\n",
       "      <th>minute_price</th>\n",
       "      <th>start_ride_price</th>\n",
       "      <th>subscription_fee</th>\n",
       "      <th>subscription_type</th>\n",
       "      <th>month_proceed</th>\n",
       "    </tr>\n",
       "    <tr>\n",
       "      <th>user_id</th>\n",
       "      <th>month</th>\n",
       "      <th></th>\n",
       "      <th></th>\n",
       "      <th></th>\n",
       "      <th></th>\n",
       "      <th></th>\n",
       "      <th></th>\n",
       "      <th></th>\n",
       "      <th></th>\n",
       "    </tr>\n",
       "  </thead>\n",
       "  <tbody>\n",
       "    <tr>\n",
       "      <th rowspan=\"6\" valign=\"top\">1</th>\n",
       "      <th>1</th>\n",
       "      <td>7027.511294</td>\n",
       "      <td>2</td>\n",
       "      <td>42.0</td>\n",
       "      <td>6</td>\n",
       "      <td>0</td>\n",
       "      <td>199</td>\n",
       "      <td>ultra</td>\n",
       "      <td>451.0</td>\n",
       "    </tr>\n",
       "    <tr>\n",
       "      <th>4</th>\n",
       "      <td>754.159807</td>\n",
       "      <td>1</td>\n",
       "      <td>7.0</td>\n",
       "      <td>6</td>\n",
       "      <td>0</td>\n",
       "      <td>199</td>\n",
       "      <td>ultra</td>\n",
       "      <td>241.0</td>\n",
       "    </tr>\n",
       "    <tr>\n",
       "      <th>8</th>\n",
       "      <td>6723.470560</td>\n",
       "      <td>2</td>\n",
       "      <td>46.0</td>\n",
       "      <td>6</td>\n",
       "      <td>0</td>\n",
       "      <td>199</td>\n",
       "      <td>ultra</td>\n",
       "      <td>475.0</td>\n",
       "    </tr>\n",
       "    <tr>\n",
       "      <th>10</th>\n",
       "      <td>5809.911100</td>\n",
       "      <td>2</td>\n",
       "      <td>32.0</td>\n",
       "      <td>6</td>\n",
       "      <td>0</td>\n",
       "      <td>199</td>\n",
       "      <td>ultra</td>\n",
       "      <td>391.0</td>\n",
       "    </tr>\n",
       "    <tr>\n",
       "      <th>11</th>\n",
       "      <td>7003.499363</td>\n",
       "      <td>3</td>\n",
       "      <td>56.0</td>\n",
       "      <td>6</td>\n",
       "      <td>0</td>\n",
       "      <td>199</td>\n",
       "      <td>ultra</td>\n",
       "      <td>535.0</td>\n",
       "    </tr>\n",
       "    <tr>\n",
       "      <th>12</th>\n",
       "      <td>6751.629942</td>\n",
       "      <td>2</td>\n",
       "      <td>28.0</td>\n",
       "      <td>6</td>\n",
       "      <td>0</td>\n",
       "      <td>199</td>\n",
       "      <td>ultra</td>\n",
       "      <td>367.0</td>\n",
       "    </tr>\n",
       "    <tr>\n",
       "      <th rowspan=\"4\" valign=\"top\">2</th>\n",
       "      <th>3</th>\n",
       "      <td>10187.723006</td>\n",
       "      <td>3</td>\n",
       "      <td>63.0</td>\n",
       "      <td>6</td>\n",
       "      <td>0</td>\n",
       "      <td>199</td>\n",
       "      <td>ultra</td>\n",
       "      <td>577.0</td>\n",
       "    </tr>\n",
       "    <tr>\n",
       "      <th>4</th>\n",
       "      <td>6164.381824</td>\n",
       "      <td>2</td>\n",
       "      <td>40.0</td>\n",
       "      <td>6</td>\n",
       "      <td>0</td>\n",
       "      <td>199</td>\n",
       "      <td>ultra</td>\n",
       "      <td>439.0</td>\n",
       "    </tr>\n",
       "    <tr>\n",
       "      <th>6</th>\n",
       "      <td>3255.338202</td>\n",
       "      <td>1</td>\n",
       "      <td>14.0</td>\n",
       "      <td>6</td>\n",
       "      <td>0</td>\n",
       "      <td>199</td>\n",
       "      <td>ultra</td>\n",
       "      <td>283.0</td>\n",
       "    </tr>\n",
       "    <tr>\n",
       "      <th>7</th>\n",
       "      <td>6780.722964</td>\n",
       "      <td>2</td>\n",
       "      <td>48.0</td>\n",
       "      <td>6</td>\n",
       "      <td>0</td>\n",
       "      <td>199</td>\n",
       "      <td>ultra</td>\n",
       "      <td>487.0</td>\n",
       "    </tr>\n",
       "  </tbody>\n",
       "</table>\n",
       "</div>"
      ],
      "text/plain": [
       "               month_distance  rides_count  month_duration  minute_price  \\\n",
       "user_id month                                                              \n",
       "1       1         7027.511294            2            42.0             6   \n",
       "        4          754.159807            1             7.0             6   \n",
       "        8         6723.470560            2            46.0             6   \n",
       "        10        5809.911100            2            32.0             6   \n",
       "        11        7003.499363            3            56.0             6   \n",
       "        12        6751.629942            2            28.0             6   \n",
       "2       3        10187.723006            3            63.0             6   \n",
       "        4         6164.381824            2            40.0             6   \n",
       "        6         3255.338202            1            14.0             6   \n",
       "        7         6780.722964            2            48.0             6   \n",
       "\n",
       "               start_ride_price  subscription_fee subscription_type  \\\n",
       "user_id month                                                         \n",
       "1       1                     0               199             ultra   \n",
       "        4                     0               199             ultra   \n",
       "        8                     0               199             ultra   \n",
       "        10                    0               199             ultra   \n",
       "        11                    0               199             ultra   \n",
       "        12                    0               199             ultra   \n",
       "2       3                     0               199             ultra   \n",
       "        4                     0               199             ultra   \n",
       "        6                     0               199             ultra   \n",
       "        7                     0               199             ultra   \n",
       "\n",
       "               month_proceed  \n",
       "user_id month                 \n",
       "1       1              451.0  \n",
       "        4              241.0  \n",
       "        8              475.0  \n",
       "        10             391.0  \n",
       "        11             535.0  \n",
       "        12             367.0  \n",
       "2       3              577.0  \n",
       "        4              439.0  \n",
       "        6              283.0  \n",
       "        7              487.0  "
      ]
     },
     "execution_count": 48,
     "metadata": {},
     "output_type": "execute_result"
    }
   ],
   "source": [
    "# создадим новый столбец, в котором посчитаем выручку за месяц\n",
    "data_all_grouped['month_proceed'] = (data_all_grouped['start_ride_price']*data_all_grouped['rides_count'] +\n",
    "                                     data_all_grouped['minute_price']*data_all_grouped['month_duration'] +\n",
    "                                     data_all_grouped['subscription_fee'])\n",
    "data_all_grouped.head(10)"
   ]
  },
  {
   "cell_type": "markdown",
   "id": "918015e6",
   "metadata": {},
   "source": [
    "### Вывод по разделу 6"
   ]
  },
  {
   "cell_type": "markdown",
   "id": "ecbc40a1",
   "metadata": {},
   "source": [
    "Датафреймы `data_users, data_rides, data_subsciptions` были последовательно объединены в датафрейм `data_all`.\n",
    "На основе этого датафрема были созданы новые датафреймы:\n",
    "* `data_all_free` для пользователей без подписки\n",
    "* `data_all_free` для пользователей с подпиской ультра\n",
    "\n",
    "По данным этих датафреймов сравнивались дальность и длительность поездок у пользователей с подпиской и без.\n",
    "Было выявлено, что пользователи без подписки совершили почти в 2 раза больше поездок, чем пользователи с подпиской.\n",
    "\n",
    "Пользователи без подписки ездили на самокатах на расстояния от 1 до 7211 м длительностью  от 0.5 до 35 минут. Средняя дальность поездок составила 3045 м, медианная 3114 м. Средняя и медианная длительность поездок у этой категории пользователей составляет 17 мин. \n",
    "\n",
    "Пользователи с подпиской совершили 6500 поездок дальностью от 244 до 5699 м и длительностью от 4 до 41 минуты. Средняя дальность поездок составила 3115 м, медианная 3148 м.Средняя и медианная длительность поездок у этой категории пользователей составляет 19 и 18 мин соответственно. \n",
    "\n",
    "Таким образом, пользователи без подписки пользуются самокатами чаще, но ездят в среднем на чуть более короткие расстояния (3045 м, 17 минут). \n",
    "Пользователи с подпиской пользуются самокатами почти в 2 раза реже, но средняя и медианная дальность и длительность поездки у них больше (3115 м, 18-19 минут).\n",
    "\n",
    "Для подсчета ежемесячной выручки был создан датафрейм `data_all_grouped` с агрегированными данными о поездках (суммарное расстояние, количество поездок, суммарное время для каждого пользователя за каждый месяц и др.). В этот датафрейм был добавлен столбец `month_proceed` с рассчитанной ежемесячной выручкой для каждого пользователя."
   ]
  },
  {
   "cell_type": "markdown",
   "id": "b49b3e68",
   "metadata": {},
   "source": [
    "## Проверка гипотез"
   ]
  },
  {
   "cell_type": "markdown",
   "id": "a50df707",
   "metadata": {},
   "source": [
    "С целью оценить целесообразность будущих маркетинговых акций для стимулирования пользователей использовать подписку, необходимо исследовать различия характеристик пользователей с подпиской и без. Для ответа на вопросы далее будем использовать различные статистические тесты."
   ]
  },
  {
   "cell_type": "markdown",
   "id": "cd71d1f9",
   "metadata": {},
   "source": [
    "###  Длительность поездок у пользователей с подпиской и без."
   ]
  },
  {
   "cell_type": "markdown",
   "id": "0dfd55ef",
   "metadata": {},
   "source": [
    "**Вопрос: тратят ли пользователи с подпиской больше времени на поездки?**\n",
    "\n",
    "Сформулируем нулевую и альтернативную гипотезы.\n",
    "\n",
    "Гипотеза H0 - пользователи с подпиской и без тратят одинаковое время на поездку.\n",
    "\n",
    "Гипотеза H1 - пользователи с подпиской тратят больше времени на подписку.\n"
   ]
  },
  {
   "cell_type": "code",
   "execution_count": 49,
   "id": "883359d8",
   "metadata": {},
   "outputs": [
    {
     "name": "stdout",
     "output_type": "stream",
     "text": [
      "Средняя продолжительность поездок пользователей с подписки: 18.54198516280583\n",
      "Средняя продолжительность поездок пользователей без подписки: 17.39090929866399\n",
      "p-значение: 1.2804098316645618e-34\n",
      "Отвергаем нулевую гипотезу\n"
     ]
    }
   ],
   "source": [
    "# первая выборка - длительность поездок пользователей с подпиской\n",
    "sample1 = data_all_ultra['duration']\n",
    "# вторая выборка - длительность поездок пользователей без подписки\n",
    "sample2 = data_all_free['duration']\n",
    "\n",
    "# выведем средние значния 2 выборок\n",
    "print(f'Средняя продолжительность поездок пользователей с подписки: {np.mean(sample1)}')\n",
    "print(f'Средняя продолжительность поездок пользователей без подписки: {np.mean(sample2)}')\n",
    "\n",
    "# установим уровень значимости 5 %\n",
    "alpha = 0.05\n",
    "\n",
    "results = st.ttest_ind(sample1, sample2, alternative='greater')\n",
    "print('p-значение:', results.pvalue)\n",
    "\n",
    "if results.pvalue < alpha:\n",
    "    print('Отвергаем нулевую гипотезу')\n",
    "else:\n",
    "    print('Не получилось отвергнуть нулевую гипотезу')"
   ]
  },
  {
   "cell_type": "code",
   "execution_count": 50,
   "id": "22e229fa",
   "metadata": {},
   "outputs": [
    {
     "name": "stdout",
     "output_type": "stream",
     "text": [
      "Отвергаем нулевую гипотезу\n"
     ]
    }
   ],
   "source": [
    "# проведем тест еще раз с уровнем значимости 1 %\n",
    "alpha = 0.01\n",
    "if results.pvalue < 0.01:\n",
    "    print('Отвергаем нулевую гипотезу')\n",
    "else:\n",
    "    print('Не получилось отвергнуть нулевую гипотезу')"
   ]
  },
  {
   "cell_type": "markdown",
   "id": "dfb4828c",
   "metadata": {},
   "source": [
    "Гипотеза о равенстве средней длительности поездок пользователей без подписки и с подпиской отвергаем в пользу альтернативной гипотезы о том, что средняя длительность поездок пользователей с подпиской **больше**, чем у пользователей без подписки. В связи с этим, пользователи с подпиской \"выгоднее\" для компании, так как они совершают более длительные поездки и тратят на это больше денег."
   ]
  },
  {
   "cell_type": "markdown",
   "id": "91836282",
   "metadata": {},
   "source": [
    "### Среднее расстояние, которое проезжают пользователи."
   ]
  },
  {
   "cell_type": "markdown",
   "id": "f2394d40",
   "metadata": {},
   "source": [
    "**Вопрос: Можно ли сказать, что расстояние, которое проезжают пользователи с подпиской за одну поездку, не превышает 3130 метров?**  \n",
    "\n",
    "Гипотеза Н0 - среднее расстояние, которое проезжают пользователи с подпиской, меньше или равно 3130 м.\n",
    "\n",
    "Гипотеза Н1 (правосторонняя) - о том, что истинное среднее больше предполагаемого в Н0 значения (более 3130 м)."
   ]
  },
  {
   "cell_type": "code",
   "execution_count": 51,
   "id": "bd870935",
   "metadata": {},
   "outputs": [
    {
     "name": "stdout",
     "output_type": "stream",
     "text": [
      "Cреднее расстояние, которое проезжают пользователи с подпиской: 3115.4453880370247\n",
      "p-значение: 0.9195368847849785\n",
      "Не получилось отвергнуть нулевую гипотезу\n"
     ]
    }
   ],
   "source": [
    "# создаем выборку с расстояниями поездок пользователей с подпиской\n",
    "sample = data_all_ultra['distance']\n",
    "\n",
    "print('Cреднее расстояние, которое проезжают пользователи с подпиской:', sample.mean())\n",
    "#значение, с которым будем сравнивать\n",
    "value = 3130\n",
    "#уровень значимости\n",
    "alpha = 0.05\n",
    "\n",
    "results = st.ttest_1samp(sample, value, alternative='greater')\n",
    "\n",
    "print('p-значение:', results.pvalue)\n",
    "\n",
    "if results.pvalue < alpha:\n",
    "    print('Отвергаем нулевую гипотезу')\n",
    "else:\n",
    "    print('Не получилось отвергнуть нулевую гипотезу')\n"
   ]
  },
  {
   "cell_type": "code",
   "execution_count": 52,
   "id": "de3ad4d9",
   "metadata": {},
   "outputs": [
    {
     "name": "stdout",
     "output_type": "stream",
     "text": [
      "Не получилось отвергнуть нулевую гипотезу\n"
     ]
    }
   ],
   "source": [
    "# проверим результат еще раз с уровнем значимости 1 %\n",
    "alpha = 0.01\n",
    "if results.pvalue < alpha:\n",
    "    print('Отвергаем нулевую гипотезу')\n",
    "else:\n",
    "    print('Не получилось отвергнуть нулевую гипотезу')"
   ]
  },
  {
   "cell_type": "markdown",
   "id": "c8e2cba5",
   "metadata": {},
   "source": [
    "Гипотеза о том, что среднее расстояние, которое проезжают пользователи меньше или равно 3130 м, не получилось отвергнуть в пользу гипотезы о том, что среднее расстояние более 3130 м.\n",
    "Таким образом, пользователи с подпиской, в среднем, используют самокат с оптимальным износом."
   ]
  },
  {
   "cell_type": "markdown",
   "id": "7a7fcafd",
   "metadata": {},
   "source": [
    "### Месячная выручка от пользователей с подпиской и без"
   ]
  },
  {
   "cell_type": "markdown",
   "id": "74679146",
   "metadata": {},
   "source": [
    "**Вопрос: будет ли помесячная выручка от пользователей с подпиской по месяцам выше, чем выручка от пользователей без подписки.** "
   ]
  },
  {
   "cell_type": "markdown",
   "id": "b5162abc",
   "metadata": {},
   "source": [
    "Гипотеза H0: помесячная выручка от пользователей с подпиской по месяцам равна выручке от пользователей без подписки.\n",
    "\n",
    "Гипотеза H1 (правосторонняя): помесячная выручка от пользователей с подпиской по месяцам больше выручки от пользователей без подписки."
   ]
  },
  {
   "cell_type": "code",
   "execution_count": 53,
   "id": "10cb5f99",
   "metadata": {},
   "outputs": [
    {
     "name": "stdout",
     "output_type": "stream",
     "text": [
      "среднее первой выборки: 362.7921906022502\n",
      "среднее второй выборки: 328.6413651073845\n",
      "p-значение: 1.8850394384715216e-31\n",
      "Отвергаем нулевую гипотезу\n"
     ]
    }
   ],
   "source": [
    "# первая выборка - месячная выручка пользователей с подпиской\n",
    "sample1 = data_all_grouped.loc[data_all_grouped['subscription_type'] == 'ultra']['month_proceed']\n",
    "# вторая выборка - месячная выручка пользователей без подписки\n",
    "sample2 = data_all_grouped.loc[data_all_grouped['subscription_type'] == 'free']['month_proceed']\n",
    "\n",
    "# выведем выборочные средние\n",
    "print(f'среднее первой выборки: {np.mean(sample1)}')\n",
    "print(f'среднее второй выборки: {np.mean(sample2)}')\n",
    "\n",
    "#уровень значимости\n",
    "alpha = 0.05\n",
    "\n",
    "\n",
    "results = st.ttest_ind(sample1, sample2, alternative='greater')\n",
    "print('p-значение:', results.pvalue)\n",
    "\n",
    "if results.pvalue < alpha:\n",
    "    print('Отвергаем нулевую гипотезу')\n",
    "else:\n",
    "    print('Не получилось отвергнуть нулевую гипотезу')\n"
   ]
  },
  {
   "cell_type": "markdown",
   "id": "b6db298c",
   "metadata": {},
   "source": [
    "Нулевую гипотезу о равенстве месячной выручки пользователей с подпиской и без отвергаем в пользу альтернативной гипотезы о том, что месячная выручка пользователей с подпиской больше, чем от пользователей без подписки.\n",
    "Несмотря на то, что пользователи с подпиской совершают меньше поездок, они приносят больше прибыли компании. Поэтому проведение акций с целью привлечения новых подписчиков оправдано."
   ]
  },
  {
   "cell_type": "markdown",
   "id": "0fd0283e",
   "metadata": {},
   "source": [
    "### Обновление серверов"
   ]
  },
  {
   "cell_type": "markdown",
   "id": "d9c5693e",
   "metadata": {},
   "source": [
    " **Вопрос:**\n",
    " Представьте такую ситуацию: техническая команда сервиса обновила сервера, с которыми взаимодействует мобильное приложение. Она надеется, что из-за этого количество обращений в техподдержку значимо снизилось. Некоторый файл содержит для каждого пользователя данные о количестве обращений до обновления и после него. Какой тест вам понадобился бы для проверки этой гипотезы?"
   ]
  },
  {
   "cell_type": "markdown",
   "id": "acea7b62",
   "metadata": {},
   "source": [
    "В случае, если техническая команда сервиса обновила сервера, с которыми взаимодействует мобильное приложение, для анализа влияния внесенных изменений на количество сообщений в техподдержку, мы бы использовали двухвыборочный t-test для зависмых выборок.\n",
    "Мы бы проверяли нулевую гипотезу о равенстве среднего значения генеральной совокупности до и после изменения (то есть среднего количества сообщений в техподдержку до и после обновления серверов). \n",
    "Альтернативной была бы правостороняя гипотеза о том, что истинное среднее генеральной совокупности до изменения (т.е. среднее число образений в техподдержку до обновления серверов) больше, чем после изменения (после обновления серверов).\n",
    "Для расчетов мы бы использовали метод scipy.stats.ttest_rel(sample1, sample2, alternative='greater'), где sample1 - выборка с количеством обращений в тех.поддержку до обновления, samle2 - выборка с количеством обращений в тех.поддержку после обновления."
   ]
  },
  {
   "cell_type": "markdown",
   "id": "40357335",
   "metadata": {},
   "source": [
    "### Вывод по разделу 7"
   ]
  },
  {
   "cell_type": "markdown",
   "id": "53e349da",
   "metadata": {},
   "source": [
    "В этом разделе проверялись гипотезы для ответа на несколько вопросов об особенностях пользователей с подпиской и без.\n",
    "1) Было выявлено, что средняя длительность поездок пользователей с подпиской **больше**, чем у пользователей без подписки. В связи с этим, пользователи с подпиской \"выгоднее\" для компании, так как они совершают более длительные поездки и тратят на это больше денег.\n",
    "\n",
    "2) Пользователи с подпиской, в среднем, используют самокат **на расстояниях до 3130 м**, то есть с оптимальным износом.\n",
    "\n",
    "3) Месячная выручка пользователей с подпиской **больше**, чем от пользователей без подписки.\n",
    "Несмотря на то, что пользователи с подпиской совершают меньше поездок, они приносят больше прибыли компании. Поэтому проведение акций с целью привлечения новых подписчиков с текущими условиями подписки оправдано.\n",
    "\n",
    "4) В случае обновления серверов для анализа изменения количества сообщений от пользователей в техподдержку, нужно будет провести t-test для 2 выборок:\n",
    "* до обновления\n",
    "* после обновления\n",
    "\n",
    "Нулевая гипотеза: среднее количество сообщений в техподдержку до и после обновления серверов равно.\n",
    "\n",
    "Альтернативноая гипотеза: среднее число образений в техподдержку до обновления серверов больше, чем после обновления.\n",
    "\n",
    "Так как выборки **зависимы** (т.к. они составлялись из 1 генеральной совокупности до и после изменения), то нужно применить метод `scipy.stats.ttest_rel(sample1, sample2, alternative='greater')`, где `sample1` - выборка с количеством обращений в тех.поддержку до обновления, `sample2` - выборка с количеством обращений в тех.поддержку после обновления."
   ]
  },
  {
   "cell_type": "markdown",
   "id": "1b655f4a",
   "metadata": {},
   "source": [
    "## Общий вывод."
   ]
  },
  {
   "cell_type": "markdown",
   "id": "1fc11fc8",
   "metadata": {},
   "source": [
    "В этом проекте исследовались данные сервиса аренды самокатов GoFast для анализа способов увеличить число платных подписок и выручку компании.\n",
    "На основе 3 предоставленных файлов были созданы 3 датафрейма `data_users, data_rides, data_subscriptions` о пользователях, поезках и типе подписки соответственно.\n",
    "\n",
    "Данные были предоставлены в хорошем качестве, без пропусков и неявных дубликатов, на этапе предобработки были удалены только явные дубликаты из датафрема `data_users`.\n",
    "\n",
    "Далее анализировались следующие параметры о пользователях и поездках:\n",
    "\n",
    "* частота встречаемости городов;\n",
    "* соотношение пользователей с подпиской и без подписки;\n",
    "* возраст пользователей;\n",
    "* расстояние, которое пользователь преодолел за одну поездку;\n",
    "* продолжительность поездок.\n",
    "\n",
    "Данные о поездках сервиса GoFast были предоставлены по 8 городам: Краснодар, Сочи, Москва, Ростов-на-Дону, Пятигорск,Екатеринбург, Омск, Тюмень. Согласно полученным расчетам **больше всего поездок** пользователи совершили в наименьшем по численности жителей из представленного списка **г. Пятигорске (219 из 1534 поездок)**. Следующие по количеству поездок - г. Екатеринбург (204 поездки) и г. Ростов-на-Дону (198 поездок).  **Меньше всего** пользовались самокатами в крупнейшем **городе Москве (168 поездок)**.\n",
    "\n",
    "Более половины пользователей **(54 %)** используют самокаты **без подписки**, **46 %** пользуются **подпиской** за 199 р. в месяц, которая представяет меньшую цену за минуту и бесплатный старт. \n",
    "\n",
    "Возраст пользователей составляет **от 12 до 43 лет** со средним значением **25 лет** (совпадает с медианой). \n",
    "\n",
    "Пользователи берут самокаты в аренду для поездок на расстояния **от 1 до 7211 м**. Чаще всего дальность поездок составляет **3000-3300 м**. Однако в распределении этого показателя наблюдается вторичный максимум около значения **600 м**, который может быть связан с короткими поездками до ближайшей остановки общественного транспорта.\n",
    "\n",
    "Самокатами пользуются **от 0.5 до 41 минуты**, средняя продолжительность поездки составляет **18 мин**. Настораживает небольшой пик в распределении продолжительности поездок на значении до 1 минуты. При более подробном анализе данных с такой длительностью поездок, было выявлено, что это поездки на длинные расстояния (от 4 до 7.2 км), у которых в значениях продолжительности поездки стоит значение 0.5 мин, что скорее всего является ошибкой (продолжительность могла быть указана в часах).\n",
    "\n",
    "На основе датафреймов `data_users, data_rides, data_subsciptions` был создан агрегированный датафрейм `data_all_grouped`, в который был добавлен столбец с ежемесячной выручкой от каждого пользователя.\n",
    "\n",
    "По данным выборок с данными пользователей с подпиской и без анализировались **дальность и длительность поездок** у пользователей этих 2 категорий.\n",
    "Было выявлено, что пользователи без подписки совершили почти **в 2 раза больше** поездок, чем пользователи с подпиской.\n",
    "\n",
    "Пользователи без подписки ездили на самокатах на расстояния от **1 до 7211 м длительностью  от 0.5 до 35 минут**. Средняя дальность поездок составила **3045 м**, медианная **3114 м**. Средняя и медианная длительность поездок у этой категории пользователей составляет **17 мин**. \n",
    "\n",
    "Пользователи с подпиской совершили **6500** поездок дальностью **от 244 до 5699 м и длительностью от 4 до 41 минуты**. Средняя дальность поездок составила **3115 м**, **медианная 3148 м**.Средняя и медианная длительность поездок у этой категории пользователей составляет **19 и 18 мин** соответственно. \n",
    "\n",
    "Таким образом, пользователи без подписки пользуются самокатами **чаще**, но ездят в среднем на чуть более короткие расстояния **(3045 м, 17 минут)**. \n",
    "Пользователи с подпиской пользуются самокатами почти в 2 раза **реже**, но средняя и медианная дальность и длительность поездки у них больше **(3115 м, 18-19 минут)**.\n",
    "\n",
    "Последний раздел посвящен **проверкам гипотез** для ответов на вопросы о особенностях пользователей с подпиской и без для планирования маркетинговых акций.\n",
    "\n",
    "1) Было выявлено, что средняя длительность поездок пользователей с подпиской **больше**, чем у пользователей без подписки. В связи с этим, пользователи с подпиской \"выгоднее\" для компании, так как они совершают более длительные поездки и тратят на это больше денег.\n",
    "\n",
    "2) Пользователи с подпиской, в среднем, используют самокат **на расстояниях до 3130 м**, то есть с оптимальным износом. \n",
    "\n",
    "3) Месячная выручка пользователей с подпиской **больше**, чем от пользователей без подписки.\n",
    "\n",
    "В случае обновления серверов для анализа изменения количества сообщений от пользователей в техподдержку, нужно будет провести t-test для 2 выборок:\n",
    "\n",
    "  * до обновления;\n",
    "  * после обновления.\n",
    "\n",
    " Нулевая гипотеза: среднее количество сообщений в техподдержку до и после обновления серверов равно.\n",
    "\n",
    "  Альтернативная гипотеза: среднее число образений в техподдержку до обновления серверов больше, чем после обновления.\n",
    "\n",
    "Так как выборки **зависимы** (т.к. они составлялись из 1 генеральной совокупности до и после изменения), то нужно применить метод `scipy.stats.ttest_rel(sample1, sample2, alternative='greater')`, где `sample1` - выборка с количеством обращений в тех.поддержку до обновления, `sample2` - выборка с количеством обращений в тех.поддержку после обновления.\n",
    "\n",
    "Таким образом, компании GoFast **выгодно привлекать больше подписчиков с текущими условиями подписки**, которые:\n",
    "- совершают более длительные поездки;\n",
    "- при этом расстояния поездок у них не сильно выше, чем у пользователей без подписки, что также благоприятно сказывается на износе самокатов;\n",
    "- приносят больше выручки;\n",
    "- составляют менее половины всех пользователей.\n",
    "\n",
    "Выявленные закономерности могут использоваться как основа для планирования маркетинговых акций по привлечению новых подписчиков среди пользователей.\n"
   ]
  }
 ],
 "metadata": {
  "ExecuteTimeLog": [
   {
    "duration": 724,
    "start_time": "2024-02-07T17:56:40.723Z"
   },
   {
    "duration": 16,
    "start_time": "2024-02-07T17:56:41.449Z"
   },
   {
    "duration": 2643,
    "start_time": "2024-02-07T17:56:41.467Z"
   },
   {
    "duration": 6,
    "start_time": "2024-02-07T17:56:44.113Z"
   },
   {
    "duration": 58,
    "start_time": "2024-02-07T17:56:44.121Z"
   },
   {
    "duration": 14,
    "start_time": "2024-02-07T17:56:44.180Z"
   },
   {
    "duration": 65,
    "start_time": "2024-02-07T17:56:44.195Z"
   },
   {
    "duration": 20,
    "start_time": "2024-02-07T17:56:44.261Z"
   },
   {
    "duration": 75,
    "start_time": "2024-02-07T17:56:44.282Z"
   },
   {
    "duration": 123,
    "start_time": "2024-02-07T17:56:44.359Z"
   },
   {
    "duration": 31,
    "start_time": "2024-02-07T17:56:44.484Z"
   },
   {
    "duration": 70,
    "start_time": "2024-02-07T17:56:44.517Z"
   },
   {
    "duration": 66,
    "start_time": "2024-02-07T17:56:44.588Z"
   },
   {
    "duration": 42,
    "start_time": "2024-02-07T17:56:44.655Z"
   },
   {
    "duration": 66,
    "start_time": "2024-02-07T17:56:44.698Z"
   },
   {
    "duration": 68,
    "start_time": "2024-02-07T17:56:44.766Z"
   },
   {
    "duration": 30,
    "start_time": "2024-02-07T17:56:44.836Z"
   },
   {
    "duration": 54,
    "start_time": "2024-02-07T17:56:44.868Z"
   },
   {
    "duration": 28,
    "start_time": "2024-02-07T17:56:44.924Z"
   },
   {
    "duration": 86,
    "start_time": "2024-02-07T17:56:44.954Z"
   },
   {
    "duration": 40,
    "start_time": "2024-02-07T17:56:45.042Z"
   },
   {
    "duration": 29,
    "start_time": "2024-02-07T17:56:45.084Z"
   },
   {
    "duration": 66,
    "start_time": "2024-02-07T17:56:45.115Z"
   },
   {
    "duration": 65,
    "start_time": "2024-02-07T17:56:45.182Z"
   },
   {
    "duration": 53,
    "start_time": "2024-02-07T17:56:45.249Z"
   },
   {
    "duration": 67,
    "start_time": "2024-02-07T17:56:45.303Z"
   },
   {
    "duration": 53,
    "start_time": "2024-02-07T17:56:45.371Z"
   },
   {
    "duration": 54,
    "start_time": "2024-02-07T17:56:45.428Z"
   },
   {
    "duration": 65,
    "start_time": "2024-02-07T17:56:45.484Z"
   },
   {
    "duration": 17,
    "start_time": "2024-02-07T17:56:45.551Z"
   },
   {
    "duration": 87,
    "start_time": "2024-02-07T17:56:45.570Z"
   },
   {
    "duration": 19,
    "start_time": "2024-02-07T17:56:45.659Z"
   },
   {
    "duration": 56,
    "start_time": "2024-02-07T17:56:45.680Z"
   },
   {
    "duration": 560,
    "start_time": "2024-02-07T17:56:45.738Z"
   },
   {
    "duration": 33,
    "start_time": "2024-02-07T17:56:46.300Z"
   },
   {
    "duration": 28,
    "start_time": "2024-02-07T17:56:46.335Z"
   },
   {
    "duration": 379,
    "start_time": "2024-02-07T17:56:46.365Z"
   },
   {
    "duration": 4,
    "start_time": "2024-02-07T17:56:46.747Z"
   },
   {
    "duration": 27,
    "start_time": "2024-02-07T17:56:46.753Z"
   },
   {
    "duration": 273,
    "start_time": "2024-02-07T17:56:46.782Z"
   },
   {
    "duration": 276,
    "start_time": "2024-02-07T17:56:47.056Z"
   },
   {
    "duration": 303,
    "start_time": "2024-02-07T17:56:47.334Z"
   },
   {
    "duration": 261,
    "start_time": "2024-02-07T17:56:47.639Z"
   },
   {
    "duration": 298,
    "start_time": "2024-02-07T17:56:47.902Z"
   },
   {
    "duration": 129,
    "start_time": "2024-02-07T17:56:48.202Z"
   },
   {
    "duration": 404,
    "start_time": "2024-02-07T17:56:48.332Z"
   },
   {
    "duration": 303,
    "start_time": "2024-02-07T17:56:48.738Z"
   },
   {
    "duration": 272,
    "start_time": "2024-02-07T17:56:49.042Z"
   },
   {
    "duration": 24,
    "start_time": "2024-02-07T17:56:49.316Z"
   },
   {
    "duration": 422,
    "start_time": "2024-02-07T17:56:49.341Z"
   },
   {
    "duration": 756,
    "start_time": "2024-02-07T17:56:49.765Z"
   },
   {
    "duration": 6,
    "start_time": "2024-02-07T17:56:50.522Z"
   },
   {
    "duration": 529,
    "start_time": "2024-02-07T17:56:50.530Z"
   },
   {
    "duration": 305,
    "start_time": "2024-02-07T17:56:51.061Z"
   },
   {
    "duration": 461,
    "start_time": "2024-02-07T17:56:51.369Z"
   },
   {
    "duration": 10,
    "start_time": "2024-02-07T17:56:51.832Z"
   },
   {
    "duration": 34,
    "start_time": "2024-02-07T17:56:51.843Z"
   },
   {
    "duration": 261,
    "start_time": "2024-02-07T17:56:51.879Z"
   },
   {
    "duration": 585,
    "start_time": "2024-02-18T10:32:33.683Z"
   },
   {
    "duration": 152,
    "start_time": "2024-02-18T10:32:34.270Z"
   },
   {
    "duration": 111,
    "start_time": "2024-02-18T10:32:34.424Z"
   },
   {
    "duration": 13,
    "start_time": "2024-02-18T10:32:34.537Z"
   },
   {
    "duration": 23,
    "start_time": "2024-02-18T10:32:34.551Z"
   },
   {
    "duration": 20,
    "start_time": "2024-02-18T10:32:34.575Z"
   },
   {
    "duration": 12,
    "start_time": "2024-02-18T10:32:34.596Z"
   },
   {
    "duration": 25,
    "start_time": "2024-02-18T10:32:34.609Z"
   },
   {
    "duration": 23,
    "start_time": "2024-02-18T10:32:34.635Z"
   },
   {
    "duration": 8,
    "start_time": "2024-02-18T10:32:34.660Z"
   },
   {
    "duration": 23,
    "start_time": "2024-02-18T10:32:34.669Z"
   },
   {
    "duration": 5,
    "start_time": "2024-02-18T10:32:34.693Z"
   },
   {
    "duration": 9,
    "start_time": "2024-02-18T10:32:34.699Z"
   },
   {
    "duration": 13,
    "start_time": "2024-02-18T10:32:34.709Z"
   },
   {
    "duration": 9,
    "start_time": "2024-02-18T10:32:34.724Z"
   },
   {
    "duration": 8,
    "start_time": "2024-02-18T10:32:34.734Z"
   },
   {
    "duration": 7,
    "start_time": "2024-02-18T10:32:34.744Z"
   },
   {
    "duration": 15,
    "start_time": "2024-02-18T10:32:34.753Z"
   },
   {
    "duration": 396,
    "start_time": "2024-02-18T10:32:34.770Z"
   },
   {
    "duration": 155,
    "start_time": "2024-02-18T10:32:35.167Z"
   },
   {
    "duration": 124,
    "start_time": "2024-02-18T10:32:41.416Z"
   },
   {
    "duration": 79,
    "start_time": "2024-02-18T11:03:51.548Z"
   },
   {
    "duration": 73,
    "start_time": "2024-02-18T11:03:58.691Z"
   },
   {
    "duration": 75,
    "start_time": "2024-02-18T11:04:23.591Z"
   },
   {
    "duration": 81,
    "start_time": "2024-02-18T11:04:35.026Z"
   },
   {
    "duration": 81,
    "start_time": "2024-02-18T11:05:42.424Z"
   },
   {
    "duration": 72,
    "start_time": "2024-02-18T11:12:24.135Z"
   },
   {
    "duration": 39,
    "start_time": "2024-02-18T11:35:04.166Z"
   },
   {
    "duration": 332,
    "start_time": "2024-02-18T11:35:08.501Z"
   },
   {
    "duration": 215,
    "start_time": "2024-02-18T11:35:08.834Z"
   },
   {
    "duration": 14,
    "start_time": "2024-02-18T11:35:09.050Z"
   },
   {
    "duration": 10,
    "start_time": "2024-02-18T11:35:09.065Z"
   },
   {
    "duration": 12,
    "start_time": "2024-02-18T11:35:09.076Z"
   },
   {
    "duration": 11,
    "start_time": "2024-02-18T11:35:09.089Z"
   },
   {
    "duration": 25,
    "start_time": "2024-02-18T11:35:09.101Z"
   },
   {
    "duration": 29,
    "start_time": "2024-02-18T11:35:09.127Z"
   },
   {
    "duration": 13,
    "start_time": "2024-02-18T11:35:09.158Z"
   },
   {
    "duration": 21,
    "start_time": "2024-02-18T11:35:09.172Z"
   },
   {
    "duration": 5,
    "start_time": "2024-02-18T11:35:09.195Z"
   },
   {
    "duration": 9,
    "start_time": "2024-02-18T11:35:09.201Z"
   },
   {
    "duration": 12,
    "start_time": "2024-02-18T11:35:09.211Z"
   },
   {
    "duration": 10,
    "start_time": "2024-02-18T11:35:09.225Z"
   },
   {
    "duration": 77,
    "start_time": "2024-02-18T11:35:09.237Z"
   },
   {
    "duration": 22,
    "start_time": "2024-02-18T11:35:09.315Z"
   },
   {
    "duration": 9,
    "start_time": "2024-02-18T11:35:09.338Z"
   },
   {
    "duration": 388,
    "start_time": "2024-02-18T11:35:09.348Z"
   },
   {
    "duration": 138,
    "start_time": "2024-02-18T11:35:09.738Z"
   },
   {
    "duration": 119,
    "start_time": "2024-02-18T11:35:11.303Z"
   },
   {
    "duration": 36,
    "start_time": "2024-02-18T11:38:48.966Z"
   },
   {
    "duration": 6,
    "start_time": "2024-02-18T11:38:58.088Z"
   },
   {
    "duration": 2,
    "start_time": "2024-02-18T11:39:04.981Z"
   },
   {
    "duration": 211,
    "start_time": "2024-02-18T11:39:04.985Z"
   },
   {
    "duration": 8,
    "start_time": "2024-02-18T11:39:05.198Z"
   },
   {
    "duration": 30,
    "start_time": "2024-02-18T11:39:05.207Z"
   },
   {
    "duration": 39,
    "start_time": "2024-02-18T11:39:05.239Z"
   },
   {
    "duration": 49,
    "start_time": "2024-02-18T11:39:05.280Z"
   },
   {
    "duration": 14,
    "start_time": "2024-02-18T11:39:05.330Z"
   },
   {
    "duration": 18,
    "start_time": "2024-02-18T11:39:05.346Z"
   },
   {
    "duration": 21,
    "start_time": "2024-02-18T11:39:05.366Z"
   },
   {
    "duration": 25,
    "start_time": "2024-02-18T11:39:05.388Z"
   },
   {
    "duration": 10,
    "start_time": "2024-02-18T11:39:05.415Z"
   },
   {
    "duration": 20,
    "start_time": "2024-02-18T11:39:05.426Z"
   },
   {
    "duration": 5,
    "start_time": "2024-02-18T11:39:05.448Z"
   },
   {
    "duration": 7,
    "start_time": "2024-02-18T11:39:05.454Z"
   },
   {
    "duration": 20,
    "start_time": "2024-02-18T11:39:05.462Z"
   },
   {
    "duration": 13,
    "start_time": "2024-02-18T11:39:05.483Z"
   },
   {
    "duration": 4,
    "start_time": "2024-02-18T11:39:05.497Z"
   },
   {
    "duration": 6,
    "start_time": "2024-02-18T11:39:05.503Z"
   },
   {
    "duration": 129,
    "start_time": "2024-02-18T11:39:05.510Z"
   },
   {
    "duration": 9,
    "start_time": "2024-02-18T11:39:05.640Z"
   },
   {
    "duration": 8,
    "start_time": "2024-02-18T11:39:05.650Z"
   },
   {
    "duration": 11,
    "start_time": "2024-02-18T11:39:05.659Z"
   },
   {
    "duration": 3,
    "start_time": "2024-02-18T11:39:08.680Z"
   },
   {
    "duration": 190,
    "start_time": "2024-02-18T11:39:08.685Z"
   },
   {
    "duration": 7,
    "start_time": "2024-02-18T11:39:08.877Z"
   },
   {
    "duration": 28,
    "start_time": "2024-02-18T11:39:08.886Z"
   },
   {
    "duration": 8,
    "start_time": "2024-02-18T11:39:08.916Z"
   },
   {
    "duration": 12,
    "start_time": "2024-02-18T11:39:08.925Z"
   },
   {
    "duration": 25,
    "start_time": "2024-02-18T11:39:08.938Z"
   },
   {
    "duration": 41,
    "start_time": "2024-02-18T11:39:08.965Z"
   },
   {
    "duration": 15,
    "start_time": "2024-02-18T11:39:09.008Z"
   },
   {
    "duration": 10,
    "start_time": "2024-02-18T11:39:09.024Z"
   },
   {
    "duration": 5,
    "start_time": "2024-02-18T11:39:09.086Z"
   },
   {
    "duration": 11,
    "start_time": "2024-02-18T11:39:09.093Z"
   },
   {
    "duration": 6,
    "start_time": "2024-02-18T11:39:09.106Z"
   },
   {
    "duration": 7,
    "start_time": "2024-02-18T11:39:09.113Z"
   },
   {
    "duration": 26,
    "start_time": "2024-02-18T11:39:09.121Z"
   },
   {
    "duration": 6,
    "start_time": "2024-02-18T11:39:09.148Z"
   },
   {
    "duration": 6,
    "start_time": "2024-02-18T11:39:09.156Z"
   },
   {
    "duration": 9,
    "start_time": "2024-02-18T11:39:09.163Z"
   },
   {
    "duration": 157,
    "start_time": "2024-02-18T11:39:09.173Z"
   },
   {
    "duration": 5,
    "start_time": "2024-02-18T11:39:09.331Z"
   },
   {
    "duration": 21,
    "start_time": "2024-02-18T11:39:09.344Z"
   },
   {
    "duration": 12,
    "start_time": "2024-02-18T11:39:09.367Z"
   },
   {
    "duration": 111,
    "start_time": "2024-02-18T11:39:09.380Z"
   },
   {
    "duration": 5,
    "start_time": "2024-02-18T11:39:09.493Z"
   },
   {
    "duration": 242,
    "start_time": "2024-02-18T11:39:09.500Z"
   },
   {
    "duration": 6,
    "start_time": "2024-02-18T11:39:09.744Z"
   },
   {
    "duration": 315,
    "start_time": "2024-02-18T11:39:09.751Z"
   },
   {
    "duration": 123,
    "start_time": "2024-02-18T11:39:10.067Z"
   },
   {
    "duration": 8,
    "start_time": "2024-02-18T11:39:10.193Z"
   },
   {
    "duration": 341,
    "start_time": "2024-02-18T11:39:10.202Z"
   },
   {
    "duration": 122,
    "start_time": "2024-02-18T11:39:10.545Z"
   },
   {
    "duration": 9,
    "start_time": "2024-02-18T11:39:10.669Z"
   },
   {
    "duration": 13,
    "start_time": "2024-02-18T11:39:10.680Z"
   },
   {
    "duration": 8,
    "start_time": "2024-02-18T11:39:10.694Z"
   },
   {
    "duration": 9,
    "start_time": "2024-02-18T11:39:10.703Z"
   },
   {
    "duration": 6,
    "start_time": "2024-02-18T11:39:10.713Z"
   },
   {
    "duration": 33,
    "start_time": "2024-02-18T11:39:10.720Z"
   },
   {
    "duration": 29,
    "start_time": "2024-02-18T11:39:10.754Z"
   },
   {
    "duration": 15,
    "start_time": "2024-02-18T11:39:10.785Z"
   },
   {
    "duration": 8,
    "start_time": "2024-02-18T11:39:10.801Z"
   },
   {
    "duration": 83,
    "start_time": "2024-02-18T11:39:10.810Z"
   },
   {
    "duration": 12,
    "start_time": "2024-02-18T11:39:10.894Z"
   },
   {
    "duration": 357,
    "start_time": "2024-02-18T11:39:10.908Z"
   },
   {
    "duration": 259,
    "start_time": "2024-02-18T11:39:11.267Z"
   },
   {
    "duration": 18,
    "start_time": "2024-02-18T11:39:11.528Z"
   },
   {
    "duration": 24,
    "start_time": "2024-02-18T11:39:11.548Z"
   },
   {
    "duration": 0,
    "start_time": "2024-02-18T11:39:11.574Z"
   },
   {
    "duration": 0,
    "start_time": "2024-02-18T11:39:11.575Z"
   },
   {
    "duration": 0,
    "start_time": "2024-02-18T11:39:11.577Z"
   },
   {
    "duration": 0,
    "start_time": "2024-02-18T11:39:11.579Z"
   },
   {
    "duration": 0,
    "start_time": "2024-02-18T11:39:11.580Z"
   },
   {
    "duration": 0,
    "start_time": "2024-02-18T11:39:11.582Z"
   },
   {
    "duration": 0,
    "start_time": "2024-02-18T11:39:11.583Z"
   },
   {
    "duration": 0,
    "start_time": "2024-02-18T11:39:11.584Z"
   },
   {
    "duration": 0,
    "start_time": "2024-02-18T11:39:11.585Z"
   },
   {
    "duration": 100,
    "start_time": "2024-02-18T11:39:28.267Z"
   },
   {
    "duration": 109,
    "start_time": "2024-02-18T11:39:31.996Z"
   },
   {
    "duration": 102,
    "start_time": "2024-02-18T11:39:34.343Z"
   },
   {
    "duration": 208,
    "start_time": "2024-02-18T11:40:12.101Z"
   },
   {
    "duration": 213,
    "start_time": "2024-02-18T11:40:16.872Z"
   },
   {
    "duration": 273,
    "start_time": "2024-02-18T11:40:20.449Z"
   },
   {
    "duration": 312,
    "start_time": "2024-02-18T11:48:26.916Z"
   },
   {
    "duration": 7,
    "start_time": "2024-02-18T11:48:59.808Z"
   },
   {
    "duration": 87,
    "start_time": "2024-02-18T11:52:55.400Z"
   },
   {
    "duration": 271,
    "start_time": "2024-02-18T12:13:13.623Z"
   },
   {
    "duration": 277,
    "start_time": "2024-02-18T12:13:18.193Z"
   },
   {
    "duration": 333,
    "start_time": "2024-02-18T12:13:26.942Z"
   },
   {
    "duration": 592,
    "start_time": "2024-02-18T12:15:22.415Z"
   },
   {
    "duration": 348,
    "start_time": "2024-02-18T12:16:03.252Z"
   },
   {
    "duration": 368,
    "start_time": "2024-02-18T12:16:27.322Z"
   },
   {
    "duration": 378,
    "start_time": "2024-02-18T12:17:57.172Z"
   },
   {
    "duration": 353,
    "start_time": "2024-02-18T12:19:45.753Z"
   },
   {
    "duration": 490,
    "start_time": "2024-02-18T12:20:07.962Z"
   },
   {
    "duration": 381,
    "start_time": "2024-02-18T12:20:15.557Z"
   },
   {
    "duration": 416,
    "start_time": "2024-02-18T12:20:23.304Z"
   },
   {
    "duration": 422,
    "start_time": "2024-02-18T12:20:29.225Z"
   },
   {
    "duration": 431,
    "start_time": "2024-02-18T12:20:37.097Z"
   },
   {
    "duration": 386,
    "start_time": "2024-02-18T12:20:47.675Z"
   },
   {
    "duration": 503,
    "start_time": "2024-02-18T12:20:55.626Z"
   },
   {
    "duration": 408,
    "start_time": "2024-02-18T12:21:04.306Z"
   },
   {
    "duration": 390,
    "start_time": "2024-02-18T12:21:12.696Z"
   },
   {
    "duration": 377,
    "start_time": "2024-02-18T12:21:26.775Z"
   },
   {
    "duration": 404,
    "start_time": "2024-02-18T12:21:36.484Z"
   },
   {
    "duration": 489,
    "start_time": "2024-02-18T12:21:41.575Z"
   },
   {
    "duration": 386,
    "start_time": "2024-02-18T12:22:10.742Z"
   },
   {
    "duration": 397,
    "start_time": "2024-02-18T12:22:28.982Z"
   },
   {
    "duration": 384,
    "start_time": "2024-02-18T12:22:35.937Z"
   },
   {
    "duration": 392,
    "start_time": "2024-02-18T12:22:45.188Z"
   },
   {
    "duration": 347,
    "start_time": "2024-02-18T12:23:15.569Z"
   },
   {
    "duration": 505,
    "start_time": "2024-02-18T12:23:38.960Z"
   },
   {
    "duration": 427,
    "start_time": "2024-02-18T12:24:04.948Z"
   },
   {
    "duration": 423,
    "start_time": "2024-02-18T12:24:13.263Z"
   },
   {
    "duration": 441,
    "start_time": "2024-02-18T12:24:21.122Z"
   },
   {
    "duration": 414,
    "start_time": "2024-02-18T12:24:37.557Z"
   },
   {
    "duration": 532,
    "start_time": "2024-02-18T12:24:45.808Z"
   },
   {
    "duration": 422,
    "start_time": "2024-02-18T12:24:54.042Z"
   },
   {
    "duration": 3,
    "start_time": "2024-02-18T12:31:18.198Z"
   },
   {
    "duration": 323,
    "start_time": "2024-02-18T12:31:18.204Z"
   },
   {
    "duration": 8,
    "start_time": "2024-02-18T12:31:18.528Z"
   },
   {
    "duration": 20,
    "start_time": "2024-02-18T12:31:18.537Z"
   },
   {
    "duration": 14,
    "start_time": "2024-02-18T12:31:18.559Z"
   },
   {
    "duration": 18,
    "start_time": "2024-02-18T12:31:18.574Z"
   },
   {
    "duration": 15,
    "start_time": "2024-02-18T12:31:18.593Z"
   },
   {
    "duration": 27,
    "start_time": "2024-02-18T12:31:18.609Z"
   },
   {
    "duration": 10,
    "start_time": "2024-02-18T12:31:18.637Z"
   },
   {
    "duration": 21,
    "start_time": "2024-02-18T12:31:18.649Z"
   },
   {
    "duration": 11,
    "start_time": "2024-02-18T12:31:18.672Z"
   },
   {
    "duration": 8,
    "start_time": "2024-02-18T12:31:18.684Z"
   },
   {
    "duration": 10,
    "start_time": "2024-02-18T12:31:18.694Z"
   },
   {
    "duration": 10,
    "start_time": "2024-02-18T12:31:18.705Z"
   },
   {
    "duration": 7,
    "start_time": "2024-02-18T12:31:18.716Z"
   },
   {
    "duration": 6,
    "start_time": "2024-02-18T12:31:18.724Z"
   },
   {
    "duration": 21,
    "start_time": "2024-02-18T12:31:18.732Z"
   },
   {
    "duration": 27,
    "start_time": "2024-02-18T12:31:18.754Z"
   },
   {
    "duration": 129,
    "start_time": "2024-02-18T12:31:18.782Z"
   },
   {
    "duration": 5,
    "start_time": "2024-02-18T12:31:18.913Z"
   },
   {
    "duration": 32,
    "start_time": "2024-02-18T12:31:18.919Z"
   },
   {
    "duration": 22,
    "start_time": "2024-02-18T12:31:18.952Z"
   },
   {
    "duration": 111,
    "start_time": "2024-02-18T12:31:18.976Z"
   },
   {
    "duration": 5,
    "start_time": "2024-02-18T12:31:19.088Z"
   },
   {
    "duration": 224,
    "start_time": "2024-02-18T12:31:19.094Z"
   },
   {
    "duration": 7,
    "start_time": "2024-02-18T12:31:19.320Z"
   },
   {
    "duration": 315,
    "start_time": "2024-02-18T12:31:19.328Z"
   },
   {
    "duration": 115,
    "start_time": "2024-02-18T12:31:19.644Z"
   },
   {
    "duration": 7,
    "start_time": "2024-02-18T12:31:19.762Z"
   },
   {
    "duration": 435,
    "start_time": "2024-02-18T12:31:19.770Z"
   },
   {
    "duration": 126,
    "start_time": "2024-02-18T12:31:20.207Z"
   },
   {
    "duration": 10,
    "start_time": "2024-02-18T12:31:20.335Z"
   },
   {
    "duration": 12,
    "start_time": "2024-02-18T12:31:20.347Z"
   },
   {
    "duration": 4,
    "start_time": "2024-02-18T12:31:20.360Z"
   },
   {
    "duration": 11,
    "start_time": "2024-02-18T12:31:20.366Z"
   },
   {
    "duration": 7,
    "start_time": "2024-02-18T12:31:20.378Z"
   },
   {
    "duration": 17,
    "start_time": "2024-02-18T12:31:20.386Z"
   },
   {
    "duration": 29,
    "start_time": "2024-02-18T12:31:20.404Z"
   },
   {
    "duration": 22,
    "start_time": "2024-02-18T12:31:20.434Z"
   },
   {
    "duration": 5,
    "start_time": "2024-02-18T12:31:20.458Z"
   },
   {
    "duration": 24,
    "start_time": "2024-02-18T12:31:20.464Z"
   },
   {
    "duration": 18,
    "start_time": "2024-02-18T12:31:20.489Z"
   },
   {
    "duration": 464,
    "start_time": "2024-02-18T12:31:20.508Z"
   },
   {
    "duration": 412,
    "start_time": "2024-02-18T12:31:20.973Z"
   },
   {
    "duration": 10,
    "start_time": "2024-02-18T12:31:21.387Z"
   },
   {
    "duration": 24,
    "start_time": "2024-02-18T12:31:21.398Z"
   },
   {
    "duration": 795,
    "start_time": "2024-02-18T12:31:21.424Z"
   },
   {
    "duration": 9,
    "start_time": "2024-02-18T12:31:22.220Z"
   },
   {
    "duration": 29,
    "start_time": "2024-02-18T12:31:22.230Z"
   },
   {
    "duration": 467,
    "start_time": "2024-02-18T12:31:22.260Z"
   },
   {
    "duration": 6,
    "start_time": "2024-02-18T12:31:22.729Z"
   },
   {
    "duration": 7,
    "start_time": "2024-02-18T12:31:22.736Z"
   },
   {
    "duration": 8,
    "start_time": "2024-02-18T12:31:22.745Z"
   },
   {
    "duration": 5,
    "start_time": "2024-02-18T12:31:22.754Z"
   },
   {
    "duration": 21,
    "start_time": "2024-02-18T12:31:22.760Z"
   },
   {
    "duration": 3,
    "start_time": "2024-02-18T12:33:14.693Z"
   },
   {
    "duration": 83,
    "start_time": "2024-02-18T12:35:21.747Z"
   },
   {
    "duration": 7,
    "start_time": "2024-02-18T12:35:33.382Z"
   },
   {
    "duration": 10,
    "start_time": "2024-02-18T12:36:17.400Z"
   },
   {
    "duration": 3,
    "start_time": "2024-02-18T12:47:11.570Z"
   },
   {
    "duration": 213,
    "start_time": "2024-02-18T12:47:11.574Z"
   },
   {
    "duration": 7,
    "start_time": "2024-02-18T12:47:11.789Z"
   },
   {
    "duration": 11,
    "start_time": "2024-02-18T12:47:11.797Z"
   },
   {
    "duration": 19,
    "start_time": "2024-02-18T12:47:11.810Z"
   },
   {
    "duration": 9,
    "start_time": "2024-02-18T12:47:11.830Z"
   },
   {
    "duration": 5,
    "start_time": "2024-02-18T12:47:11.841Z"
   },
   {
    "duration": 13,
    "start_time": "2024-02-18T12:47:11.848Z"
   },
   {
    "duration": 7,
    "start_time": "2024-02-18T12:47:11.862Z"
   },
   {
    "duration": 9,
    "start_time": "2024-02-18T12:47:11.871Z"
   },
   {
    "duration": 7,
    "start_time": "2024-02-18T12:47:11.883Z"
   },
   {
    "duration": 10,
    "start_time": "2024-02-18T12:47:11.891Z"
   },
   {
    "duration": 7,
    "start_time": "2024-02-18T12:47:11.902Z"
   },
   {
    "duration": 5,
    "start_time": "2024-02-18T12:47:11.910Z"
   },
   {
    "duration": 6,
    "start_time": "2024-02-18T12:47:11.944Z"
   },
   {
    "duration": 6,
    "start_time": "2024-02-18T12:47:11.951Z"
   },
   {
    "duration": 5,
    "start_time": "2024-02-18T12:47:11.958Z"
   },
   {
    "duration": 4,
    "start_time": "2024-02-18T12:47:11.964Z"
   },
   {
    "duration": 152,
    "start_time": "2024-02-18T12:47:11.969Z"
   },
   {
    "duration": 5,
    "start_time": "2024-02-18T12:47:12.123Z"
   },
   {
    "duration": 31,
    "start_time": "2024-02-18T12:47:12.129Z"
   },
   {
    "duration": 33,
    "start_time": "2024-02-18T12:47:12.161Z"
   },
   {
    "duration": 137,
    "start_time": "2024-02-18T12:47:12.196Z"
   },
   {
    "duration": 4,
    "start_time": "2024-02-18T12:47:12.334Z"
   },
   {
    "duration": 218,
    "start_time": "2024-02-18T12:47:12.345Z"
   },
   {
    "duration": 8,
    "start_time": "2024-02-18T12:47:12.565Z"
   },
   {
    "duration": 307,
    "start_time": "2024-02-18T12:47:12.575Z"
   },
   {
    "duration": 112,
    "start_time": "2024-02-18T12:47:12.883Z"
   },
   {
    "duration": 8,
    "start_time": "2024-02-18T12:47:12.998Z"
   },
   {
    "duration": 406,
    "start_time": "2024-02-18T12:47:13.007Z"
   },
   {
    "duration": 125,
    "start_time": "2024-02-18T12:47:13.415Z"
   },
   {
    "duration": 7,
    "start_time": "2024-02-18T12:47:13.544Z"
   },
   {
    "duration": 17,
    "start_time": "2024-02-18T12:47:13.553Z"
   },
   {
    "duration": 4,
    "start_time": "2024-02-18T12:47:13.572Z"
   },
   {
    "duration": 14,
    "start_time": "2024-02-18T12:47:13.577Z"
   },
   {
    "duration": 13,
    "start_time": "2024-02-18T12:47:13.592Z"
   },
   {
    "duration": 24,
    "start_time": "2024-02-18T12:47:13.606Z"
   },
   {
    "duration": 15,
    "start_time": "2024-02-18T12:47:13.631Z"
   },
   {
    "duration": 16,
    "start_time": "2024-02-18T12:47:13.648Z"
   },
   {
    "duration": 5,
    "start_time": "2024-02-18T12:47:13.665Z"
   },
   {
    "duration": 31,
    "start_time": "2024-02-18T12:47:13.672Z"
   },
   {
    "duration": 13,
    "start_time": "2024-02-18T12:47:13.704Z"
   },
   {
    "duration": 445,
    "start_time": "2024-02-18T12:47:13.718Z"
   },
   {
    "duration": 390,
    "start_time": "2024-02-18T12:47:14.164Z"
   },
   {
    "duration": 10,
    "start_time": "2024-02-18T12:47:14.555Z"
   },
   {
    "duration": 13,
    "start_time": "2024-02-18T12:47:14.566Z"
   },
   {
    "duration": 805,
    "start_time": "2024-02-18T12:47:14.580Z"
   },
   {
    "duration": 9,
    "start_time": "2024-02-18T12:47:15.387Z"
   },
   {
    "duration": 21,
    "start_time": "2024-02-18T12:47:15.397Z"
   },
   {
    "duration": 75,
    "start_time": "2024-02-18T12:47:15.419Z"
   },
   {
    "duration": 0,
    "start_time": "2024-02-18T12:47:15.496Z"
   },
   {
    "duration": 0,
    "start_time": "2024-02-18T12:47:15.497Z"
   },
   {
    "duration": 0,
    "start_time": "2024-02-18T12:47:15.498Z"
   },
   {
    "duration": 0,
    "start_time": "2024-02-18T12:47:15.499Z"
   },
   {
    "duration": 0,
    "start_time": "2024-02-18T12:47:15.500Z"
   },
   {
    "duration": 74,
    "start_time": "2024-02-18T12:47:58.659Z"
   },
   {
    "duration": 3,
    "start_time": "2024-02-18T12:49:10.961Z"
   },
   {
    "duration": 175,
    "start_time": "2024-02-18T12:49:10.966Z"
   },
   {
    "duration": 8,
    "start_time": "2024-02-18T12:49:11.143Z"
   },
   {
    "duration": 11,
    "start_time": "2024-02-18T12:49:11.153Z"
   },
   {
    "duration": 7,
    "start_time": "2024-02-18T12:49:11.166Z"
   },
   {
    "duration": 32,
    "start_time": "2024-02-18T12:49:11.174Z"
   },
   {
    "duration": 17,
    "start_time": "2024-02-18T12:49:11.207Z"
   },
   {
    "duration": 13,
    "start_time": "2024-02-18T12:49:11.225Z"
   },
   {
    "duration": 10,
    "start_time": "2024-02-18T12:49:11.241Z"
   },
   {
    "duration": 10,
    "start_time": "2024-02-18T12:49:11.252Z"
   },
   {
    "duration": 14,
    "start_time": "2024-02-18T12:49:11.264Z"
   },
   {
    "duration": 12,
    "start_time": "2024-02-18T12:49:11.280Z"
   },
   {
    "duration": 7,
    "start_time": "2024-02-18T12:49:11.293Z"
   },
   {
    "duration": 4,
    "start_time": "2024-02-18T12:49:11.302Z"
   },
   {
    "duration": 5,
    "start_time": "2024-02-18T12:49:11.308Z"
   },
   {
    "duration": 6,
    "start_time": "2024-02-18T12:49:11.315Z"
   },
   {
    "duration": 5,
    "start_time": "2024-02-18T12:49:11.344Z"
   },
   {
    "duration": 142,
    "start_time": "2024-02-18T12:49:11.350Z"
   },
   {
    "duration": 5,
    "start_time": "2024-02-18T12:49:11.494Z"
   },
   {
    "duration": 9,
    "start_time": "2024-02-18T12:49:11.500Z"
   },
   {
    "duration": 10,
    "start_time": "2024-02-18T12:49:11.511Z"
   },
   {
    "duration": 124,
    "start_time": "2024-02-18T12:49:11.522Z"
   },
   {
    "duration": 5,
    "start_time": "2024-02-18T12:49:11.647Z"
   },
   {
    "duration": 232,
    "start_time": "2024-02-18T12:49:11.655Z"
   },
   {
    "duration": 8,
    "start_time": "2024-02-18T12:49:11.888Z"
   },
   {
    "duration": 393,
    "start_time": "2024-02-18T12:49:11.897Z"
   },
   {
    "duration": 114,
    "start_time": "2024-02-18T12:49:12.291Z"
   },
   {
    "duration": 7,
    "start_time": "2024-02-18T12:49:12.406Z"
   },
   {
    "duration": 349,
    "start_time": "2024-02-18T12:49:12.414Z"
   },
   {
    "duration": 120,
    "start_time": "2024-02-18T12:49:12.765Z"
   },
   {
    "duration": 8,
    "start_time": "2024-02-18T12:49:12.886Z"
   },
   {
    "duration": 19,
    "start_time": "2024-02-18T12:49:12.895Z"
   },
   {
    "duration": 4,
    "start_time": "2024-02-18T12:49:12.915Z"
   },
   {
    "duration": 6,
    "start_time": "2024-02-18T12:49:12.920Z"
   },
   {
    "duration": 20,
    "start_time": "2024-02-18T12:49:12.927Z"
   },
   {
    "duration": 15,
    "start_time": "2024-02-18T12:49:12.949Z"
   },
   {
    "duration": 19,
    "start_time": "2024-02-18T12:49:12.966Z"
   },
   {
    "duration": 19,
    "start_time": "2024-02-18T12:49:12.986Z"
   },
   {
    "duration": 20,
    "start_time": "2024-02-18T12:49:13.007Z"
   },
   {
    "duration": 31,
    "start_time": "2024-02-18T12:49:13.028Z"
   },
   {
    "duration": 13,
    "start_time": "2024-02-18T12:49:13.060Z"
   },
   {
    "duration": 497,
    "start_time": "2024-02-18T12:49:13.074Z"
   },
   {
    "duration": 386,
    "start_time": "2024-02-18T12:49:13.573Z"
   },
   {
    "duration": 11,
    "start_time": "2024-02-18T12:49:13.961Z"
   },
   {
    "duration": 24,
    "start_time": "2024-02-18T12:49:13.974Z"
   },
   {
    "duration": 771,
    "start_time": "2024-02-18T12:49:13.999Z"
   },
   {
    "duration": 9,
    "start_time": "2024-02-18T12:49:14.771Z"
   },
   {
    "duration": 27,
    "start_time": "2024-02-18T12:49:14.782Z"
   },
   {
    "duration": 76,
    "start_time": "2024-02-18T12:49:14.811Z"
   },
   {
    "duration": 0,
    "start_time": "2024-02-18T12:49:14.889Z"
   },
   {
    "duration": 0,
    "start_time": "2024-02-18T12:49:14.890Z"
   },
   {
    "duration": 0,
    "start_time": "2024-02-18T12:49:14.891Z"
   },
   {
    "duration": 0,
    "start_time": "2024-02-18T12:49:14.892Z"
   },
   {
    "duration": 1,
    "start_time": "2024-02-18T12:49:14.892Z"
   },
   {
    "duration": 1037,
    "start_time": "2024-02-18T12:49:29.551Z"
   },
   {
    "duration": 175,
    "start_time": "2024-02-18T12:49:30.590Z"
   },
   {
    "duration": 32,
    "start_time": "2024-02-18T12:49:30.766Z"
   },
   {
    "duration": 53,
    "start_time": "2024-02-18T12:49:30.800Z"
   },
   {
    "duration": 42,
    "start_time": "2024-02-18T12:49:30.854Z"
   },
   {
    "duration": 52,
    "start_time": "2024-02-18T12:49:30.897Z"
   },
   {
    "duration": 52,
    "start_time": "2024-02-18T12:49:30.951Z"
   },
   {
    "duration": 101,
    "start_time": "2024-02-18T12:49:31.005Z"
   },
   {
    "duration": 52,
    "start_time": "2024-02-18T12:49:31.108Z"
   },
   {
    "duration": 48,
    "start_time": "2024-02-18T12:49:31.163Z"
   },
   {
    "duration": 25,
    "start_time": "2024-02-18T12:49:31.213Z"
   },
   {
    "duration": 148,
    "start_time": "2024-02-18T12:49:31.240Z"
   },
   {
    "duration": 170,
    "start_time": "2024-02-18T12:49:31.389Z"
   },
   {
    "duration": 117,
    "start_time": "2024-02-18T12:49:31.561Z"
   },
   {
    "duration": 233,
    "start_time": "2024-02-18T12:49:31.679Z"
   },
   {
    "duration": 57,
    "start_time": "2024-02-18T12:49:31.914Z"
   },
   {
    "duration": 119,
    "start_time": "2024-02-18T12:49:31.972Z"
   },
   {
    "duration": 202,
    "start_time": "2024-02-18T12:49:32.092Z"
   },
   {
    "duration": 5,
    "start_time": "2024-02-18T12:49:32.296Z"
   },
   {
    "duration": 19,
    "start_time": "2024-02-18T12:49:32.302Z"
   },
   {
    "duration": 26,
    "start_time": "2024-02-18T12:49:32.322Z"
   },
   {
    "duration": 124,
    "start_time": "2024-02-18T12:49:32.349Z"
   },
   {
    "duration": 5,
    "start_time": "2024-02-18T12:49:32.475Z"
   },
   {
    "duration": 265,
    "start_time": "2024-02-18T12:49:32.481Z"
   },
   {
    "duration": 7,
    "start_time": "2024-02-18T12:49:32.748Z"
   },
   {
    "duration": 320,
    "start_time": "2024-02-18T12:49:32.756Z"
   },
   {
    "duration": 120,
    "start_time": "2024-02-18T12:49:33.078Z"
   },
   {
    "duration": 8,
    "start_time": "2024-02-18T12:49:33.202Z"
   },
   {
    "duration": 418,
    "start_time": "2024-02-18T12:49:33.211Z"
   },
   {
    "duration": 127,
    "start_time": "2024-02-18T12:49:33.631Z"
   },
   {
    "duration": 7,
    "start_time": "2024-02-18T12:49:33.759Z"
   },
   {
    "duration": 13,
    "start_time": "2024-02-18T12:49:33.767Z"
   },
   {
    "duration": 19,
    "start_time": "2024-02-18T12:49:33.781Z"
   },
   {
    "duration": 7,
    "start_time": "2024-02-18T12:49:33.801Z"
   },
   {
    "duration": 9,
    "start_time": "2024-02-18T12:49:33.809Z"
   },
   {
    "duration": 18,
    "start_time": "2024-02-18T12:49:33.819Z"
   },
   {
    "duration": 20,
    "start_time": "2024-02-18T12:49:33.839Z"
   },
   {
    "duration": 15,
    "start_time": "2024-02-18T12:49:33.860Z"
   },
   {
    "duration": 6,
    "start_time": "2024-02-18T12:49:33.876Z"
   },
   {
    "duration": 16,
    "start_time": "2024-02-18T12:49:33.883Z"
   },
   {
    "duration": 11,
    "start_time": "2024-02-18T12:49:33.900Z"
   },
   {
    "duration": 459,
    "start_time": "2024-02-18T12:49:33.912Z"
   },
   {
    "duration": 401,
    "start_time": "2024-02-18T12:49:34.372Z"
   },
   {
    "duration": 10,
    "start_time": "2024-02-18T12:49:34.774Z"
   },
   {
    "duration": 13,
    "start_time": "2024-02-18T12:49:34.786Z"
   },
   {
    "duration": 828,
    "start_time": "2024-02-18T12:49:34.800Z"
   },
   {
    "duration": 16,
    "start_time": "2024-02-18T12:49:35.630Z"
   },
   {
    "duration": 13,
    "start_time": "2024-02-18T12:49:35.647Z"
   },
   {
    "duration": 68,
    "start_time": "2024-02-18T12:49:35.662Z"
   },
   {
    "duration": 0,
    "start_time": "2024-02-18T12:49:35.731Z"
   },
   {
    "duration": 0,
    "start_time": "2024-02-18T12:49:35.732Z"
   },
   {
    "duration": 0,
    "start_time": "2024-02-18T12:49:35.733Z"
   },
   {
    "duration": 0,
    "start_time": "2024-02-18T12:49:35.734Z"
   },
   {
    "duration": 0,
    "start_time": "2024-02-18T12:49:35.735Z"
   },
   {
    "duration": 66,
    "start_time": "2024-02-18T12:52:48.692Z"
   },
   {
    "duration": 7,
    "start_time": "2024-02-18T12:56:30.591Z"
   },
   {
    "duration": 3,
    "start_time": "2024-02-18T12:56:31.551Z"
   },
   {
    "duration": 5,
    "start_time": "2024-02-18T12:56:35.088Z"
   },
   {
    "duration": 3,
    "start_time": "2024-02-18T12:56:53.573Z"
   },
   {
    "duration": 10,
    "start_time": "2024-02-18T12:56:58.490Z"
   },
   {
    "duration": 1018,
    "start_time": "2024-02-18T12:57:19.347Z"
   },
   {
    "duration": 173,
    "start_time": "2024-02-18T12:57:20.367Z"
   },
   {
    "duration": 10,
    "start_time": "2024-02-18T12:57:20.542Z"
   },
   {
    "duration": 23,
    "start_time": "2024-02-18T12:57:20.553Z"
   },
   {
    "duration": 24,
    "start_time": "2024-02-18T12:57:20.577Z"
   },
   {
    "duration": 29,
    "start_time": "2024-02-18T12:57:20.602Z"
   },
   {
    "duration": 11,
    "start_time": "2024-02-18T12:57:20.632Z"
   },
   {
    "duration": 32,
    "start_time": "2024-02-18T12:57:20.644Z"
   },
   {
    "duration": 28,
    "start_time": "2024-02-18T12:57:20.678Z"
   },
   {
    "duration": 31,
    "start_time": "2024-02-18T12:57:20.708Z"
   },
   {
    "duration": 5,
    "start_time": "2024-02-18T12:57:20.740Z"
   },
   {
    "duration": 18,
    "start_time": "2024-02-18T12:57:20.746Z"
   },
   {
    "duration": 14,
    "start_time": "2024-02-18T12:57:20.766Z"
   },
   {
    "duration": 24,
    "start_time": "2024-02-18T12:57:20.781Z"
   },
   {
    "duration": 28,
    "start_time": "2024-02-18T12:57:20.806Z"
   },
   {
    "duration": 18,
    "start_time": "2024-02-18T12:57:20.835Z"
   },
   {
    "duration": 15,
    "start_time": "2024-02-18T12:57:20.854Z"
   },
   {
    "duration": 146,
    "start_time": "2024-02-18T12:57:20.870Z"
   },
   {
    "duration": 5,
    "start_time": "2024-02-18T12:57:21.017Z"
   },
   {
    "duration": 18,
    "start_time": "2024-02-18T12:57:21.023Z"
   },
   {
    "duration": 20,
    "start_time": "2024-02-18T12:57:21.042Z"
   },
   {
    "duration": 127,
    "start_time": "2024-02-18T12:57:21.063Z"
   },
   {
    "duration": 4,
    "start_time": "2024-02-18T12:57:21.191Z"
   },
   {
    "duration": 248,
    "start_time": "2024-02-18T12:57:21.197Z"
   },
   {
    "duration": 8,
    "start_time": "2024-02-18T12:57:21.446Z"
   },
   {
    "duration": 309,
    "start_time": "2024-02-18T12:57:21.455Z"
   },
   {
    "duration": 111,
    "start_time": "2024-02-18T12:57:21.765Z"
   },
   {
    "duration": 8,
    "start_time": "2024-02-18T12:57:21.879Z"
   },
   {
    "duration": 397,
    "start_time": "2024-02-18T12:57:21.888Z"
   },
   {
    "duration": 118,
    "start_time": "2024-02-18T12:57:22.287Z"
   },
   {
    "duration": 8,
    "start_time": "2024-02-18T12:57:22.406Z"
   },
   {
    "duration": 13,
    "start_time": "2024-02-18T12:57:22.415Z"
   },
   {
    "duration": 17,
    "start_time": "2024-02-18T12:57:22.429Z"
   },
   {
    "duration": 58,
    "start_time": "2024-02-18T12:57:22.447Z"
   },
   {
    "duration": 66,
    "start_time": "2024-02-18T12:57:22.506Z"
   },
   {
    "duration": 48,
    "start_time": "2024-02-18T12:57:22.573Z"
   },
   {
    "duration": 49,
    "start_time": "2024-02-18T12:57:22.623Z"
   },
   {
    "duration": 36,
    "start_time": "2024-02-18T12:57:22.674Z"
   },
   {
    "duration": 26,
    "start_time": "2024-02-18T12:57:22.712Z"
   },
   {
    "duration": 72,
    "start_time": "2024-02-18T12:57:22.739Z"
   },
   {
    "duration": 12,
    "start_time": "2024-02-18T12:57:22.812Z"
   },
   {
    "duration": 435,
    "start_time": "2024-02-18T12:57:22.825Z"
   },
   {
    "duration": 391,
    "start_time": "2024-02-18T12:57:23.261Z"
   },
   {
    "duration": 9,
    "start_time": "2024-02-18T12:57:23.654Z"
   },
   {
    "duration": 16,
    "start_time": "2024-02-18T12:57:23.665Z"
   },
   {
    "duration": 817,
    "start_time": "2024-02-18T12:57:23.682Z"
   },
   {
    "duration": 12,
    "start_time": "2024-02-18T12:57:24.500Z"
   },
   {
    "duration": 17,
    "start_time": "2024-02-18T12:57:24.514Z"
   },
   {
    "duration": 26,
    "start_time": "2024-02-18T12:57:24.533Z"
   },
   {
    "duration": 21,
    "start_time": "2024-02-18T12:57:24.561Z"
   },
   {
    "duration": 26,
    "start_time": "2024-02-18T12:57:24.583Z"
   },
   {
    "duration": 9,
    "start_time": "2024-02-18T12:57:24.611Z"
   },
   {
    "duration": 19,
    "start_time": "2024-02-18T12:57:24.621Z"
   },
   {
    "duration": 1098,
    "start_time": "2024-02-18T13:01:33.623Z"
   },
   {
    "duration": 215,
    "start_time": "2024-02-18T13:01:34.723Z"
   },
   {
    "duration": 10,
    "start_time": "2024-02-18T13:01:34.940Z"
   },
   {
    "duration": 213,
    "start_time": "2024-02-18T13:01:34.952Z"
   },
   {
    "duration": 112,
    "start_time": "2024-02-18T13:01:35.167Z"
   },
   {
    "duration": 46,
    "start_time": "2024-02-18T13:01:35.281Z"
   },
   {
    "duration": 29,
    "start_time": "2024-02-18T13:01:35.328Z"
   },
   {
    "duration": 16,
    "start_time": "2024-02-18T13:01:35.358Z"
   },
   {
    "duration": 20,
    "start_time": "2024-02-18T13:01:35.375Z"
   },
   {
    "duration": 10,
    "start_time": "2024-02-18T13:01:35.397Z"
   },
   {
    "duration": 29,
    "start_time": "2024-02-18T13:01:35.409Z"
   },
   {
    "duration": 35,
    "start_time": "2024-02-18T13:01:35.440Z"
   },
   {
    "duration": 34,
    "start_time": "2024-02-18T13:01:35.477Z"
   },
   {
    "duration": 32,
    "start_time": "2024-02-18T13:01:35.513Z"
   },
   {
    "duration": 6,
    "start_time": "2024-02-18T13:01:35.547Z"
   },
   {
    "duration": 19,
    "start_time": "2024-02-18T13:01:35.554Z"
   },
   {
    "duration": 40,
    "start_time": "2024-02-18T13:01:35.574Z"
   },
   {
    "duration": 161,
    "start_time": "2024-02-18T13:01:35.616Z"
   },
   {
    "duration": 5,
    "start_time": "2024-02-18T13:01:35.779Z"
   },
   {
    "duration": 8,
    "start_time": "2024-02-18T13:01:35.785Z"
   },
   {
    "duration": 27,
    "start_time": "2024-02-18T13:01:35.795Z"
   },
   {
    "duration": 111,
    "start_time": "2024-02-18T13:01:35.823Z"
   },
   {
    "duration": 10,
    "start_time": "2024-02-18T13:01:35.935Z"
   },
   {
    "duration": 236,
    "start_time": "2024-02-18T13:01:35.946Z"
   },
   {
    "duration": 7,
    "start_time": "2024-02-18T13:01:36.184Z"
   },
   {
    "duration": 323,
    "start_time": "2024-02-18T13:01:36.193Z"
   },
   {
    "duration": 122,
    "start_time": "2024-02-18T13:01:36.517Z"
   },
   {
    "duration": 8,
    "start_time": "2024-02-18T13:01:36.646Z"
   },
   {
    "duration": 424,
    "start_time": "2024-02-18T13:01:36.655Z"
   },
   {
    "duration": 143,
    "start_time": "2024-02-18T13:01:37.081Z"
   },
   {
    "duration": 11,
    "start_time": "2024-02-18T13:01:37.225Z"
   },
   {
    "duration": 27,
    "start_time": "2024-02-18T13:01:37.237Z"
   },
   {
    "duration": 7,
    "start_time": "2024-02-18T13:01:37.265Z"
   },
   {
    "duration": 10,
    "start_time": "2024-02-18T13:01:37.273Z"
   },
   {
    "duration": 6,
    "start_time": "2024-02-18T13:01:37.285Z"
   },
   {
    "duration": 39,
    "start_time": "2024-02-18T13:01:37.293Z"
   },
   {
    "duration": 23,
    "start_time": "2024-02-18T13:01:37.333Z"
   },
   {
    "duration": 16,
    "start_time": "2024-02-18T13:01:37.358Z"
   },
   {
    "duration": 6,
    "start_time": "2024-02-18T13:01:37.375Z"
   },
   {
    "duration": 33,
    "start_time": "2024-02-18T13:01:37.383Z"
   },
   {
    "duration": 24,
    "start_time": "2024-02-18T13:01:37.418Z"
   },
   {
    "duration": 512,
    "start_time": "2024-02-18T13:01:37.443Z"
   },
   {
    "duration": 428,
    "start_time": "2024-02-18T13:01:37.957Z"
   },
   {
    "duration": 11,
    "start_time": "2024-02-18T13:01:38.387Z"
   },
   {
    "duration": 32,
    "start_time": "2024-02-18T13:01:38.400Z"
   },
   {
    "duration": 874,
    "start_time": "2024-02-18T13:01:38.434Z"
   },
   {
    "duration": 10,
    "start_time": "2024-02-18T13:01:39.310Z"
   },
   {
    "duration": 28,
    "start_time": "2024-02-18T13:01:39.321Z"
   },
   {
    "duration": 10,
    "start_time": "2024-02-18T13:01:39.350Z"
   },
   {
    "duration": 17,
    "start_time": "2024-02-18T13:01:39.362Z"
   },
   {
    "duration": 12,
    "start_time": "2024-02-18T13:01:39.380Z"
   },
   {
    "duration": 21,
    "start_time": "2024-02-18T13:01:39.394Z"
   },
   {
    "duration": 23,
    "start_time": "2024-02-18T13:01:39.417Z"
   },
   {
    "duration": 979,
    "start_time": "2024-02-18T18:33:14.389Z"
   },
   {
    "duration": 202,
    "start_time": "2024-02-18T18:33:15.370Z"
   },
   {
    "duration": 12,
    "start_time": "2024-02-18T18:33:15.574Z"
   },
   {
    "duration": 10,
    "start_time": "2024-02-18T18:33:15.587Z"
   },
   {
    "duration": 12,
    "start_time": "2024-02-18T18:33:15.598Z"
   },
   {
    "duration": 11,
    "start_time": "2024-02-18T18:33:15.612Z"
   },
   {
    "duration": 6,
    "start_time": "2024-02-18T18:33:15.624Z"
   },
   {
    "duration": 16,
    "start_time": "2024-02-18T18:33:15.631Z"
   },
   {
    "duration": 7,
    "start_time": "2024-02-18T18:33:15.649Z"
   },
   {
    "duration": 11,
    "start_time": "2024-02-18T18:33:15.658Z"
   },
   {
    "duration": 4,
    "start_time": "2024-02-18T18:33:15.670Z"
   },
   {
    "duration": 11,
    "start_time": "2024-02-18T18:33:15.676Z"
   },
   {
    "duration": 6,
    "start_time": "2024-02-18T18:33:15.688Z"
   },
   {
    "duration": 5,
    "start_time": "2024-02-18T18:33:15.695Z"
   },
   {
    "duration": 6,
    "start_time": "2024-02-18T18:33:15.701Z"
   },
   {
    "duration": 6,
    "start_time": "2024-02-18T18:33:15.708Z"
   },
   {
    "duration": 30,
    "start_time": "2024-02-18T18:33:15.715Z"
   },
   {
    "duration": 139,
    "start_time": "2024-02-18T18:33:15.746Z"
   },
   {
    "duration": 5,
    "start_time": "2024-02-18T18:33:15.887Z"
   },
   {
    "duration": 5,
    "start_time": "2024-02-18T18:33:15.893Z"
   },
   {
    "duration": 14,
    "start_time": "2024-02-18T18:33:15.899Z"
   },
   {
    "duration": 110,
    "start_time": "2024-02-18T18:33:15.914Z"
   },
   {
    "duration": 5,
    "start_time": "2024-02-18T18:33:16.025Z"
   },
   {
    "duration": 245,
    "start_time": "2024-02-18T18:33:16.031Z"
   },
   {
    "duration": 7,
    "start_time": "2024-02-18T18:33:16.278Z"
   },
   {
    "duration": 301,
    "start_time": "2024-02-18T18:33:16.286Z"
   },
   {
    "duration": 117,
    "start_time": "2024-02-18T18:33:16.589Z"
   },
   {
    "duration": 8,
    "start_time": "2024-02-18T18:33:16.709Z"
   },
   {
    "duration": 393,
    "start_time": "2024-02-18T18:33:16.718Z"
   },
   {
    "duration": 126,
    "start_time": "2024-02-18T18:33:17.112Z"
   },
   {
    "duration": 10,
    "start_time": "2024-02-18T18:33:17.244Z"
   },
   {
    "duration": 24,
    "start_time": "2024-02-18T18:33:17.255Z"
   },
   {
    "duration": 6,
    "start_time": "2024-02-18T18:33:17.280Z"
   },
   {
    "duration": 13,
    "start_time": "2024-02-18T18:33:17.287Z"
   },
   {
    "duration": 26,
    "start_time": "2024-02-18T18:33:17.302Z"
   },
   {
    "duration": 31,
    "start_time": "2024-02-18T18:33:17.329Z"
   },
   {
    "duration": 25,
    "start_time": "2024-02-18T18:33:17.361Z"
   },
   {
    "duration": 26,
    "start_time": "2024-02-18T18:33:17.387Z"
   },
   {
    "duration": 14,
    "start_time": "2024-02-18T18:33:17.414Z"
   },
   {
    "duration": 33,
    "start_time": "2024-02-18T18:33:17.429Z"
   },
   {
    "duration": 13,
    "start_time": "2024-02-18T18:33:17.463Z"
   },
   {
    "duration": 473,
    "start_time": "2024-02-18T18:33:17.478Z"
   },
   {
    "duration": 406,
    "start_time": "2024-02-18T18:33:17.953Z"
   },
   {
    "duration": 11,
    "start_time": "2024-02-18T18:33:18.360Z"
   },
   {
    "duration": 37,
    "start_time": "2024-02-18T18:33:18.372Z"
   },
   {
    "duration": 791,
    "start_time": "2024-02-18T18:33:18.411Z"
   },
   {
    "duration": 9,
    "start_time": "2024-02-18T18:33:19.204Z"
   },
   {
    "duration": 26,
    "start_time": "2024-02-18T18:33:19.214Z"
   },
   {
    "duration": 8,
    "start_time": "2024-02-18T18:33:19.242Z"
   },
   {
    "duration": 43,
    "start_time": "2024-02-18T18:33:19.251Z"
   },
   {
    "duration": 22,
    "start_time": "2024-02-18T18:33:19.295Z"
   },
   {
    "duration": 18,
    "start_time": "2024-02-18T18:33:19.318Z"
   },
   {
    "duration": 20,
    "start_time": "2024-02-18T18:33:19.338Z"
   },
   {
    "duration": 11,
    "start_time": "2024-02-18T18:33:19.359Z"
   }
  ],
  "kernelspec": {
   "display_name": "Python 3 (ipykernel)",
   "language": "python",
   "name": "python3"
  },
  "language_info": {
   "codemirror_mode": {
    "name": "ipython",
    "version": 3
   },
   "file_extension": ".py",
   "mimetype": "text/x-python",
   "name": "python",
   "nbconvert_exporter": "python",
   "pygments_lexer": "ipython3",
   "version": "3.11.5"
  },
  "toc": {
   "base_numbering": 1,
   "nav_menu": {},
   "number_sections": true,
   "sideBar": true,
   "skip_h1_title": true,
   "title_cell": "Table of Contents",
   "title_sidebar": "Contents",
   "toc_cell": true,
   "toc_position": {
    "height": "calc(100% - 180px)",
    "left": "10px",
    "top": "150px",
    "width": "309.681px"
   },
   "toc_section_display": true,
   "toc_window_display": true
  }
 },
 "nbformat": 4,
 "nbformat_minor": 5
}
