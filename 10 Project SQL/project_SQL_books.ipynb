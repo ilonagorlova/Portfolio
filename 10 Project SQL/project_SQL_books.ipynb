{
 "cells": [
  {
   "cell_type": "markdown",
   "metadata": {},
   "source": [
    "# Анализ базы данных клиентов приложения для чтения книг."
   ]
  },
  {
   "cell_type": "markdown",
   "metadata": {},
   "source": [
    "## Цель проекта"
   ]
  },
  {
   "cell_type": "markdown",
   "metadata": {},
   "source": [
    "Целью проекта является анализ базы данных мобильного приложения, представляющего собой сервис для чтения книг по подписке.\n",
    "Результаты исследования помогут сформулировать ценностное предложение для нового продукта."
   ]
  },
  {
   "cell_type": "markdown",
   "metadata": {},
   "source": [
    "## Задачи проекта"
   ]
  },
  {
   "cell_type": "markdown",
   "metadata": {},
   "source": [
    "В этом исследовании требуется выполнить следующие задачи:\n",
    "* посчитать, сколько книг вышло после 1 января 2000 года;\n",
    "* для каждой книги посчитайте количество обзоров и среднюю оценку;\n",
    "* определить издательство, которое выпустило наибольшее число книг толще 50 страниц — так вы исключите из анализа брошюры;\n",
    "* определить автора с самой высокой средней оценкой книг — учитывайте только книги с 50 и более оценками;\n",
    "* посчитайть среднее количество обзоров от пользователей, которые поставили больше 48 оценок."
   ]
  },
  {
   "cell_type": "markdown",
   "metadata": {},
   "source": [
    "## Описание данных"
   ]
  },
  {
   "cell_type": "markdown",
   "metadata": {},
   "source": [
    "Для исследования предоставлена база данных со следующими таблицами: **books, authors, publishers, ratings, reviews**. \n",
    "\n",
    "Таблица **books** cодержит данные о книгах:\n",
    "* book_id — идентификатор книги;\n",
    "* author_id — идентификатор автора;\n",
    "* title — название книги;\n",
    "* num_pages — количество страниц;\n",
    "* publication_date — дата публикации книги;\n",
    "* publisher_id — идентификатор издателя.\n",
    "\n",
    "Таблица **authors** cодержит данные об авторах:\n",
    "* author_id — идентификатор автора;\n",
    "* author — имя автора.\n",
    "\n",
    "Таблица **publishers** cодержит данные об издательствах:\n",
    "* publisher_id — идентификатор издательства;\n",
    "* publisher — название издательства;\n",
    "\n",
    "Таблица **ratings** cодержит данные о пользовательских оценках книг:\n",
    "* rating_id — идентификатор оценки;\n",
    "* book_id — идентификатор книги;\n",
    "* username — имя пользователя, оставившего оценку;\n",
    "* rating — оценка книги.\n",
    "\n",
    "Таблица **reviews** cодержит данные о пользовательских обзорах:\n",
    "* review_id — идентификатор обзора;\n",
    "* book_id — идентификатор книги;\n",
    "* username — имя автора обзора;\n",
    "* text — текст обзора."
   ]
  },
  {
   "cell_type": "markdown",
   "metadata": {},
   "source": [
    "### Схема данных."
   ]
  },
  {
   "cell_type": "markdown",
   "metadata": {},
   "source": [
    "<img src=\"https://pictures.s3.yandex.net/resources/scheme_1589269096.png\" width=\"600\" height=\"300\">"
   ]
  },
  {
   "cell_type": "markdown",
   "metadata": {},
   "source": [
    "## Результаты"
   ]
  },
  {
   "cell_type": "markdown",
   "metadata": {},
   "source": [
    "Импортируем библиотеки, которые используются в этом проекте."
   ]
  },
  {
   "cell_type": "code",
   "execution_count": 1,
   "metadata": {},
   "outputs": [],
   "source": [
    "# импортируем библиотеки\n",
    "import pandas as pd\n",
    "from sqlalchemy import text, create_engine"
   ]
  },
  {
   "cell_type": "markdown",
   "metadata": {},
   "source": [
    "Зададим параметры подключения к базе данных."
   ]
  },
  {
   "cell_type": "code",
   "execution_count": 2,
   "metadata": {},
   "outputs": [],
   "source": [
    "# устанавливаем параметры для подключения к БД\n",
    "\n",
    "# параметры подключения удалены в версии для github\n",
    "# db_config = {'user': '', # имя пользователя\n",
    "#'pwd': '', # пароль\n",
    "#'host': '',\n",
    "#'port': , # порт подключения\n",
    "#'db': ''} # название базы данных\n",
    "connection_string = 'postgresql://{user}:{pwd}@{host}:{port}/{db}'.format(**db_config)\n",
    "# сохраняем коннектор\n",
    "engine = create_engine(connection_string, connect_args={'sslmode':'require'})"
   ]
  },
  {
   "cell_type": "markdown",
   "metadata": {},
   "source": [
    "Напишем функцию get_sql_results() для вывода результатов запроса к базе данных."
   ]
  },
  {
   "cell_type": "code",
   "execution_count": 3,
   "metadata": {},
   "outputs": [],
   "source": [
    "def get_sql_results(query_text, connector):\n",
    "    \"\"\"Функция  get_sql_results на вход принимает 2 параметра: query_text - текстовый запрос к бд, connector - коннектор к бд.\n",
    "    Возвращает результаты запроса в виде датафрейма pandas\"\"\"\n",
    "    # создаем подключение к БД\n",
    "    con=connector.connect()\n",
    "    # чтобы выполнить SQL-запрос, используем Pandas\n",
    "    return pd.io.sql.read_sql(sql=text(query), con = con)"
   ]
  },
  {
   "cell_type": "markdown",
   "metadata": {},
   "source": [
    "Выведем первые 5 строк  каждой таблицы."
   ]
  },
  {
   "cell_type": "code",
   "execution_count": 4,
   "metadata": {},
   "outputs": [
    {
     "name": "stdout",
     "output_type": "stream",
     "text": [
      "Выведем первые 5 строк таблицы books\n"
     ]
    },
    {
     "data": {
      "text/html": [
       "<div>\n",
       "<style scoped>\n",
       "    .dataframe tbody tr th:only-of-type {\n",
       "        vertical-align: middle;\n",
       "    }\n",
       "\n",
       "    .dataframe tbody tr th {\n",
       "        vertical-align: top;\n",
       "    }\n",
       "\n",
       "    .dataframe thead th {\n",
       "        text-align: right;\n",
       "    }\n",
       "</style>\n",
       "<table border=\"1\" class=\"dataframe\">\n",
       "  <thead>\n",
       "    <tr style=\"text-align: right;\">\n",
       "      <th></th>\n",
       "      <th>book_id</th>\n",
       "      <th>author_id</th>\n",
       "      <th>title</th>\n",
       "      <th>num_pages</th>\n",
       "      <th>publication_date</th>\n",
       "      <th>publisher_id</th>\n",
       "    </tr>\n",
       "  </thead>\n",
       "  <tbody>\n",
       "    <tr>\n",
       "      <th>0</th>\n",
       "      <td>1</td>\n",
       "      <td>546</td>\n",
       "      <td>'Salem's Lot</td>\n",
       "      <td>594</td>\n",
       "      <td>2005-11-01</td>\n",
       "      <td>93</td>\n",
       "    </tr>\n",
       "    <tr>\n",
       "      <th>1</th>\n",
       "      <td>2</td>\n",
       "      <td>465</td>\n",
       "      <td>1 000 Places to See Before You Die</td>\n",
       "      <td>992</td>\n",
       "      <td>2003-05-22</td>\n",
       "      <td>336</td>\n",
       "    </tr>\n",
       "    <tr>\n",
       "      <th>2</th>\n",
       "      <td>3</td>\n",
       "      <td>407</td>\n",
       "      <td>13 Little Blue Envelopes (Little Blue Envelope...</td>\n",
       "      <td>322</td>\n",
       "      <td>2010-12-21</td>\n",
       "      <td>135</td>\n",
       "    </tr>\n",
       "    <tr>\n",
       "      <th>3</th>\n",
       "      <td>4</td>\n",
       "      <td>82</td>\n",
       "      <td>1491: New Revelations of the Americas Before C...</td>\n",
       "      <td>541</td>\n",
       "      <td>2006-10-10</td>\n",
       "      <td>309</td>\n",
       "    </tr>\n",
       "    <tr>\n",
       "      <th>4</th>\n",
       "      <td>5</td>\n",
       "      <td>125</td>\n",
       "      <td>1776</td>\n",
       "      <td>386</td>\n",
       "      <td>2006-07-04</td>\n",
       "      <td>268</td>\n",
       "    </tr>\n",
       "  </tbody>\n",
       "</table>\n",
       "</div>"
      ],
      "text/plain": [
       "   book_id  author_id                                              title  \\\n",
       "0        1        546                                       'Salem's Lot   \n",
       "1        2        465                 1 000 Places to See Before You Die   \n",
       "2        3        407  13 Little Blue Envelopes (Little Blue Envelope...   \n",
       "3        4         82  1491: New Revelations of the Americas Before C...   \n",
       "4        5        125                                               1776   \n",
       "\n",
       "   num_pages publication_date  publisher_id  \n",
       "0        594       2005-11-01            93  \n",
       "1        992       2003-05-22           336  \n",
       "2        322       2010-12-21           135  \n",
       "3        541       2006-10-10           309  \n",
       "4        386       2006-07-04           268  "
      ]
     },
     "metadata": {},
     "output_type": "display_data"
    },
    {
     "name": "stdout",
     "output_type": "stream",
     "text": [
      "Выведем первые 5 строк таблицы authors\n"
     ]
    },
    {
     "data": {
      "text/html": [
       "<div>\n",
       "<style scoped>\n",
       "    .dataframe tbody tr th:only-of-type {\n",
       "        vertical-align: middle;\n",
       "    }\n",
       "\n",
       "    .dataframe tbody tr th {\n",
       "        vertical-align: top;\n",
       "    }\n",
       "\n",
       "    .dataframe thead th {\n",
       "        text-align: right;\n",
       "    }\n",
       "</style>\n",
       "<table border=\"1\" class=\"dataframe\">\n",
       "  <thead>\n",
       "    <tr style=\"text-align: right;\">\n",
       "      <th></th>\n",
       "      <th>author_id</th>\n",
       "      <th>author</th>\n",
       "    </tr>\n",
       "  </thead>\n",
       "  <tbody>\n",
       "    <tr>\n",
       "      <th>0</th>\n",
       "      <td>1</td>\n",
       "      <td>A.S. Byatt</td>\n",
       "    </tr>\n",
       "    <tr>\n",
       "      <th>1</th>\n",
       "      <td>2</td>\n",
       "      <td>Aesop/Laura Harris/Laura Gibbs</td>\n",
       "    </tr>\n",
       "    <tr>\n",
       "      <th>2</th>\n",
       "      <td>3</td>\n",
       "      <td>Agatha Christie</td>\n",
       "    </tr>\n",
       "    <tr>\n",
       "      <th>3</th>\n",
       "      <td>4</td>\n",
       "      <td>Alan Brennert</td>\n",
       "    </tr>\n",
       "    <tr>\n",
       "      <th>4</th>\n",
       "      <td>5</td>\n",
       "      <td>Alan Moore/David   Lloyd</td>\n",
       "    </tr>\n",
       "  </tbody>\n",
       "</table>\n",
       "</div>"
      ],
      "text/plain": [
       "   author_id                          author\n",
       "0          1                      A.S. Byatt\n",
       "1          2  Aesop/Laura Harris/Laura Gibbs\n",
       "2          3                 Agatha Christie\n",
       "3          4                   Alan Brennert\n",
       "4          5        Alan Moore/David   Lloyd"
      ]
     },
     "metadata": {},
     "output_type": "display_data"
    },
    {
     "name": "stdout",
     "output_type": "stream",
     "text": [
      "Выведем первые 5 строк таблицы ratings\n"
     ]
    },
    {
     "data": {
      "text/html": [
       "<div>\n",
       "<style scoped>\n",
       "    .dataframe tbody tr th:only-of-type {\n",
       "        vertical-align: middle;\n",
       "    }\n",
       "\n",
       "    .dataframe tbody tr th {\n",
       "        vertical-align: top;\n",
       "    }\n",
       "\n",
       "    .dataframe thead th {\n",
       "        text-align: right;\n",
       "    }\n",
       "</style>\n",
       "<table border=\"1\" class=\"dataframe\">\n",
       "  <thead>\n",
       "    <tr style=\"text-align: right;\">\n",
       "      <th></th>\n",
       "      <th>rating_id</th>\n",
       "      <th>book_id</th>\n",
       "      <th>username</th>\n",
       "      <th>rating</th>\n",
       "    </tr>\n",
       "  </thead>\n",
       "  <tbody>\n",
       "    <tr>\n",
       "      <th>0</th>\n",
       "      <td>1</td>\n",
       "      <td>1</td>\n",
       "      <td>ryanfranco</td>\n",
       "      <td>4</td>\n",
       "    </tr>\n",
       "    <tr>\n",
       "      <th>1</th>\n",
       "      <td>2</td>\n",
       "      <td>1</td>\n",
       "      <td>grantpatricia</td>\n",
       "      <td>2</td>\n",
       "    </tr>\n",
       "    <tr>\n",
       "      <th>2</th>\n",
       "      <td>3</td>\n",
       "      <td>1</td>\n",
       "      <td>brandtandrea</td>\n",
       "      <td>5</td>\n",
       "    </tr>\n",
       "    <tr>\n",
       "      <th>3</th>\n",
       "      <td>4</td>\n",
       "      <td>2</td>\n",
       "      <td>lorichen</td>\n",
       "      <td>3</td>\n",
       "    </tr>\n",
       "    <tr>\n",
       "      <th>4</th>\n",
       "      <td>5</td>\n",
       "      <td>2</td>\n",
       "      <td>mariokeller</td>\n",
       "      <td>2</td>\n",
       "    </tr>\n",
       "  </tbody>\n",
       "</table>\n",
       "</div>"
      ],
      "text/plain": [
       "   rating_id  book_id       username  rating\n",
       "0          1        1     ryanfranco       4\n",
       "1          2        1  grantpatricia       2\n",
       "2          3        1   brandtandrea       5\n",
       "3          4        2       lorichen       3\n",
       "4          5        2    mariokeller       2"
      ]
     },
     "metadata": {},
     "output_type": "display_data"
    },
    {
     "name": "stdout",
     "output_type": "stream",
     "text": [
      "Выведем первые 5 строк таблицы reviews\n"
     ]
    },
    {
     "data": {
      "text/html": [
       "<div>\n",
       "<style scoped>\n",
       "    .dataframe tbody tr th:only-of-type {\n",
       "        vertical-align: middle;\n",
       "    }\n",
       "\n",
       "    .dataframe tbody tr th {\n",
       "        vertical-align: top;\n",
       "    }\n",
       "\n",
       "    .dataframe thead th {\n",
       "        text-align: right;\n",
       "    }\n",
       "</style>\n",
       "<table border=\"1\" class=\"dataframe\">\n",
       "  <thead>\n",
       "    <tr style=\"text-align: right;\">\n",
       "      <th></th>\n",
       "      <th>review_id</th>\n",
       "      <th>book_id</th>\n",
       "      <th>username</th>\n",
       "      <th>text</th>\n",
       "    </tr>\n",
       "  </thead>\n",
       "  <tbody>\n",
       "    <tr>\n",
       "      <th>0</th>\n",
       "      <td>1</td>\n",
       "      <td>1</td>\n",
       "      <td>brandtandrea</td>\n",
       "      <td>Mention society tell send professor analysis. ...</td>\n",
       "    </tr>\n",
       "    <tr>\n",
       "      <th>1</th>\n",
       "      <td>2</td>\n",
       "      <td>1</td>\n",
       "      <td>ryanfranco</td>\n",
       "      <td>Foot glass pretty audience hit themselves. Amo...</td>\n",
       "    </tr>\n",
       "    <tr>\n",
       "      <th>2</th>\n",
       "      <td>3</td>\n",
       "      <td>2</td>\n",
       "      <td>lorichen</td>\n",
       "      <td>Listen treat keep worry. Miss husband tax but ...</td>\n",
       "    </tr>\n",
       "    <tr>\n",
       "      <th>3</th>\n",
       "      <td>4</td>\n",
       "      <td>3</td>\n",
       "      <td>johnsonamanda</td>\n",
       "      <td>Finally month interesting blue could nature cu...</td>\n",
       "    </tr>\n",
       "    <tr>\n",
       "      <th>4</th>\n",
       "      <td>5</td>\n",
       "      <td>3</td>\n",
       "      <td>scotttamara</td>\n",
       "      <td>Nation purpose heavy give wait song will. List...</td>\n",
       "    </tr>\n",
       "  </tbody>\n",
       "</table>\n",
       "</div>"
      ],
      "text/plain": [
       "   review_id  book_id       username  \\\n",
       "0          1        1   brandtandrea   \n",
       "1          2        1     ryanfranco   \n",
       "2          3        2       lorichen   \n",
       "3          4        3  johnsonamanda   \n",
       "4          5        3    scotttamara   \n",
       "\n",
       "                                                text  \n",
       "0  Mention society tell send professor analysis. ...  \n",
       "1  Foot glass pretty audience hit themselves. Amo...  \n",
       "2  Listen treat keep worry. Miss husband tax but ...  \n",
       "3  Finally month interesting blue could nature cu...  \n",
       "4  Nation purpose heavy give wait song will. List...  "
      ]
     },
     "metadata": {},
     "output_type": "display_data"
    },
    {
     "name": "stdout",
     "output_type": "stream",
     "text": [
      "Выведем первые 5 строк таблицы publishers\n"
     ]
    },
    {
     "data": {
      "text/html": [
       "<div>\n",
       "<style scoped>\n",
       "    .dataframe tbody tr th:only-of-type {\n",
       "        vertical-align: middle;\n",
       "    }\n",
       "\n",
       "    .dataframe tbody tr th {\n",
       "        vertical-align: top;\n",
       "    }\n",
       "\n",
       "    .dataframe thead th {\n",
       "        text-align: right;\n",
       "    }\n",
       "</style>\n",
       "<table border=\"1\" class=\"dataframe\">\n",
       "  <thead>\n",
       "    <tr style=\"text-align: right;\">\n",
       "      <th></th>\n",
       "      <th>publisher_id</th>\n",
       "      <th>publisher</th>\n",
       "    </tr>\n",
       "  </thead>\n",
       "  <tbody>\n",
       "    <tr>\n",
       "      <th>0</th>\n",
       "      <td>1</td>\n",
       "      <td>Ace</td>\n",
       "    </tr>\n",
       "    <tr>\n",
       "      <th>1</th>\n",
       "      <td>2</td>\n",
       "      <td>Ace Book</td>\n",
       "    </tr>\n",
       "    <tr>\n",
       "      <th>2</th>\n",
       "      <td>3</td>\n",
       "      <td>Ace Books</td>\n",
       "    </tr>\n",
       "    <tr>\n",
       "      <th>3</th>\n",
       "      <td>4</td>\n",
       "      <td>Ace Hardcover</td>\n",
       "    </tr>\n",
       "    <tr>\n",
       "      <th>4</th>\n",
       "      <td>5</td>\n",
       "      <td>Addison Wesley Publishing Company</td>\n",
       "    </tr>\n",
       "  </tbody>\n",
       "</table>\n",
       "</div>"
      ],
      "text/plain": [
       "   publisher_id                          publisher\n",
       "0             1                                Ace\n",
       "1             2                           Ace Book\n",
       "2             3                          Ace Books\n",
       "3             4                      Ace Hardcover\n",
       "4             5  Addison Wesley Publishing Company"
      ]
     },
     "metadata": {},
     "output_type": "display_data"
    }
   ],
   "source": [
    "for table_name in ('books', 'authors', 'ratings', 'reviews', 'publishers'):\n",
    "    query = f'''SELECT * \n",
    "               FROM {table_name} \n",
    "               LIMIT 5'''\n",
    "    print(f'Выведем первые 5 строк таблицы {table_name}')\n",
    "    display(get_sql_results(query, engine))"
   ]
  },
  {
   "cell_type": "markdown",
   "metadata": {},
   "source": [
    "Проверим пропуски и дубликаты в таблицах базы данных."
   ]
  },
  {
   "cell_type": "code",
   "execution_count": 5,
   "metadata": {},
   "outputs": [
    {
     "name": "stdout",
     "output_type": "stream",
     "text": [
      "Число пропусков в таблице: books\n"
     ]
    },
    {
     "data": {
      "text/plain": [
       "book_id             0\n",
       "author_id           0\n",
       "title               0\n",
       "num_pages           0\n",
       "publication_date    0\n",
       "publisher_id        0\n",
       "dtype: int64"
      ]
     },
     "metadata": {},
     "output_type": "display_data"
    },
    {
     "name": "stdout",
     "output_type": "stream",
     "text": [
      "Число дубликатов в таблице: books\n"
     ]
    },
    {
     "data": {
      "text/plain": [
       "0"
      ]
     },
     "metadata": {},
     "output_type": "display_data"
    },
    {
     "name": "stdout",
     "output_type": "stream",
     "text": [
      "Число пропусков в таблице: authors\n"
     ]
    },
    {
     "data": {
      "text/plain": [
       "author_id    0\n",
       "author       0\n",
       "dtype: int64"
      ]
     },
     "metadata": {},
     "output_type": "display_data"
    },
    {
     "name": "stdout",
     "output_type": "stream",
     "text": [
      "Число дубликатов в таблице: authors\n"
     ]
    },
    {
     "data": {
      "text/plain": [
       "0"
      ]
     },
     "metadata": {},
     "output_type": "display_data"
    },
    {
     "name": "stdout",
     "output_type": "stream",
     "text": [
      "Число пропусков в таблице: ratings\n"
     ]
    },
    {
     "data": {
      "text/plain": [
       "rating_id    0\n",
       "book_id      0\n",
       "username     0\n",
       "rating       0\n",
       "dtype: int64"
      ]
     },
     "metadata": {},
     "output_type": "display_data"
    },
    {
     "name": "stdout",
     "output_type": "stream",
     "text": [
      "Число дубликатов в таблице: ratings\n"
     ]
    },
    {
     "data": {
      "text/plain": [
       "0"
      ]
     },
     "metadata": {},
     "output_type": "display_data"
    },
    {
     "name": "stdout",
     "output_type": "stream",
     "text": [
      "Число пропусков в таблице: reviews\n"
     ]
    },
    {
     "data": {
      "text/plain": [
       "review_id    0\n",
       "book_id      0\n",
       "username     0\n",
       "text         0\n",
       "dtype: int64"
      ]
     },
     "metadata": {},
     "output_type": "display_data"
    },
    {
     "name": "stdout",
     "output_type": "stream",
     "text": [
      "Число дубликатов в таблице: reviews\n"
     ]
    },
    {
     "data": {
      "text/plain": [
       "0"
      ]
     },
     "metadata": {},
     "output_type": "display_data"
    },
    {
     "name": "stdout",
     "output_type": "stream",
     "text": [
      "Число пропусков в таблице: publishers\n"
     ]
    },
    {
     "data": {
      "text/plain": [
       "publisher_id    0\n",
       "publisher       0\n",
       "dtype: int64"
      ]
     },
     "metadata": {},
     "output_type": "display_data"
    },
    {
     "name": "stdout",
     "output_type": "stream",
     "text": [
      "Число дубликатов в таблице: publishers\n"
     ]
    },
    {
     "data": {
      "text/plain": [
       "0"
      ]
     },
     "metadata": {},
     "output_type": "display_data"
    }
   ],
   "source": [
    "for table_name in ('books', 'authors', 'ratings', 'reviews', 'publishers'):\n",
    "    query = f'''SELECT * \n",
    "               FROM {table_name}'''\n",
    "    temp = get_sql_results(query, engine)\n",
    "    print(f'Число пропусков в таблице: {table_name}')\n",
    "    display(temp.isna().sum())\n",
    "    print(f'Число дубликатов в таблице: {table_name}')\n",
    "    display(temp.duplicated().sum())"
   ]
  },
  {
   "cell_type": "markdown",
   "metadata": {},
   "source": [
    "Пропуски и дубликаты в таблицах отсутствуют."
   ]
  },
  {
   "cell_type": "markdown",
   "metadata": {},
   "source": [
    "**1)** Посчитаем, сколько книг вышло после 1 января 2000 г."
   ]
  },
  {
   "cell_type": "code",
   "execution_count": 6,
   "metadata": {},
   "outputs": [
    {
     "data": {
      "text/html": [
       "<div>\n",
       "<style scoped>\n",
       "    .dataframe tbody tr th:only-of-type {\n",
       "        vertical-align: middle;\n",
       "    }\n",
       "\n",
       "    .dataframe tbody tr th {\n",
       "        vertical-align: top;\n",
       "    }\n",
       "\n",
       "    .dataframe thead th {\n",
       "        text-align: right;\n",
       "    }\n",
       "</style>\n",
       "<table border=\"1\" class=\"dataframe\">\n",
       "  <thead>\n",
       "    <tr style=\"text-align: right;\">\n",
       "      <th></th>\n",
       "      <th>count</th>\n",
       "    </tr>\n",
       "  </thead>\n",
       "  <tbody>\n",
       "    <tr>\n",
       "      <th>0</th>\n",
       "      <td>819</td>\n",
       "    </tr>\n",
       "  </tbody>\n",
       "</table>\n",
       "</div>"
      ],
      "text/plain": [
       "   count\n",
       "0    819"
      ]
     },
     "execution_count": 6,
     "metadata": {},
     "output_type": "execute_result"
    }
   ],
   "source": [
    "query = '''SELECT COUNT(book_id) \n",
    "           FROM books\n",
    "           WHERE  publication_date > '2000-01-01' '''\n",
    "\n",
    "books_cnt = get_sql_results(query, engine)\n",
    "books_cnt"
   ]
  },
  {
   "cell_type": "markdown",
   "metadata": {},
   "source": [
    "После 1 января 2000 г. вышло 819 книг, которые содержатся в базе данных сервиса."
   ]
  },
  {
   "cell_type": "markdown",
   "metadata": {},
   "source": [
    "**2)** Выведем число обзоров и среднюю оценку для каждой книги сервиса."
   ]
  },
  {
   "cell_type": "markdown",
   "metadata": {},
   "source": [
    "**Версия 1**"
   ]
  },
  {
   "cell_type": "code",
   "execution_count": 7,
   "metadata": {},
   "outputs": [
    {
     "data": {
      "text/html": [
       "<div>\n",
       "<style scoped>\n",
       "    .dataframe tbody tr th:only-of-type {\n",
       "        vertical-align: middle;\n",
       "    }\n",
       "\n",
       "    .dataframe tbody tr th {\n",
       "        vertical-align: top;\n",
       "    }\n",
       "\n",
       "    .dataframe thead th {\n",
       "        text-align: right;\n",
       "    }\n",
       "</style>\n",
       "<table border=\"1\" class=\"dataframe\">\n",
       "  <thead>\n",
       "    <tr style=\"text-align: right;\">\n",
       "      <th></th>\n",
       "      <th>title</th>\n",
       "      <th>reviews_count</th>\n",
       "      <th>avg_rating</th>\n",
       "    </tr>\n",
       "  </thead>\n",
       "  <tbody>\n",
       "    <tr>\n",
       "      <th>0</th>\n",
       "      <td>The Count of Monte Cristo</td>\n",
       "      <td>115</td>\n",
       "      <td>4.217391</td>\n",
       "    </tr>\n",
       "    <tr>\n",
       "      <th>1</th>\n",
       "      <td>Count Zero (Sprawl  #2)</td>\n",
       "      <td>4</td>\n",
       "      <td>2.500000</td>\n",
       "    </tr>\n",
       "    <tr>\n",
       "      <th>2</th>\n",
       "      <td>The Botany of Desire: A Plant's-Eye View of th...</td>\n",
       "      <td>4</td>\n",
       "      <td>3.500000</td>\n",
       "    </tr>\n",
       "    <tr>\n",
       "      <th>3</th>\n",
       "      <td>The Poisonwood Bible</td>\n",
       "      <td>110</td>\n",
       "      <td>4.363636</td>\n",
       "    </tr>\n",
       "    <tr>\n",
       "      <th>4</th>\n",
       "      <td>The Canterbury Tales</td>\n",
       "      <td>18</td>\n",
       "      <td>3.333333</td>\n",
       "    </tr>\n",
       "    <tr>\n",
       "      <th>...</th>\n",
       "      <td>...</td>\n",
       "      <td>...</td>\n",
       "      <td>...</td>\n",
       "    </tr>\n",
       "    <tr>\n",
       "      <th>994</th>\n",
       "      <td>Of Love and Other Demons</td>\n",
       "      <td>4</td>\n",
       "      <td>4.500000</td>\n",
       "    </tr>\n",
       "    <tr>\n",
       "      <th>995</th>\n",
       "      <td>In the Heart of the Sea: The Tragedy of the Wh...</td>\n",
       "      <td>9</td>\n",
       "      <td>3.333333</td>\n",
       "    </tr>\n",
       "    <tr>\n",
       "      <th>996</th>\n",
       "      <td>Welcome to Temptation (Dempseys  #1)</td>\n",
       "      <td>4</td>\n",
       "      <td>5.000000</td>\n",
       "    </tr>\n",
       "    <tr>\n",
       "      <th>997</th>\n",
       "      <td>World's End (The Sandman  #8)</td>\n",
       "      <td>4</td>\n",
       "      <td>4.500000</td>\n",
       "    </tr>\n",
       "    <tr>\n",
       "      <th>998</th>\n",
       "      <td>Holes (Holes  #1)</td>\n",
       "      <td>155</td>\n",
       "      <td>3.967742</td>\n",
       "    </tr>\n",
       "  </tbody>\n",
       "</table>\n",
       "<p>999 rows × 3 columns</p>\n",
       "</div>"
      ],
      "text/plain": [
       "                                                 title  reviews_count  \\\n",
       "0                            The Count of Monte Cristo            115   \n",
       "1                              Count Zero (Sprawl  #2)              4   \n",
       "2    The Botany of Desire: A Plant's-Eye View of th...              4   \n",
       "3                                 The Poisonwood Bible            110   \n",
       "4                                 The Canterbury Tales             18   \n",
       "..                                                 ...            ...   \n",
       "994                           Of Love and Other Demons              4   \n",
       "995  In the Heart of the Sea: The Tragedy of the Wh...              9   \n",
       "996               Welcome to Temptation (Dempseys  #1)              4   \n",
       "997                      World's End (The Sandman  #8)              4   \n",
       "998                                  Holes (Holes  #1)            155   \n",
       "\n",
       "     avg_rating  \n",
       "0      4.217391  \n",
       "1      2.500000  \n",
       "2      3.500000  \n",
       "3      4.363636  \n",
       "4      3.333333  \n",
       "..          ...  \n",
       "994    4.500000  \n",
       "995    3.333333  \n",
       "996    5.000000  \n",
       "997    4.500000  \n",
       "998    3.967742  \n",
       "\n",
       "[999 rows x 3 columns]"
      ]
     },
     "execution_count": 7,
     "metadata": {},
     "output_type": "execute_result"
    }
   ],
   "source": [
    "query = '''SELECT b.title\n",
    "                  , COUNT(rev.review_id) AS reviews_count\n",
    "                  , AVG(rat.rating) AS avg_rating\n",
    "           FROM books AS b\n",
    "           LEFT JOIN reviews AS rev on b.book_id = rev.book_id\n",
    "           LEFT JOIN ratings AS rat on b.book_id = rat.book_id\n",
    "           GROUP BY b.title'''\n",
    "books_rating_reviews = get_sql_results(query, engine)\n",
    "books_rating_reviews"
   ]
  },
  {
   "cell_type": "markdown",
   "metadata": {},
   "source": [
    "**Версия 2**"
   ]
  },
  {
   "cell_type": "code",
   "execution_count": 8,
   "metadata": {},
   "outputs": [
    {
     "data": {
      "text/html": [
       "<div>\n",
       "<style scoped>\n",
       "    .dataframe tbody tr th:only-of-type {\n",
       "        vertical-align: middle;\n",
       "    }\n",
       "\n",
       "    .dataframe tbody tr th {\n",
       "        vertical-align: top;\n",
       "    }\n",
       "\n",
       "    .dataframe thead th {\n",
       "        text-align: right;\n",
       "    }\n",
       "</style>\n",
       "<table border=\"1\" class=\"dataframe\">\n",
       "  <thead>\n",
       "    <tr style=\"text-align: right;\">\n",
       "      <th></th>\n",
       "      <th>book_id</th>\n",
       "      <th>title</th>\n",
       "      <th>reviews_count</th>\n",
       "      <th>avg_rating</th>\n",
       "    </tr>\n",
       "  </thead>\n",
       "  <tbody>\n",
       "    <tr>\n",
       "      <th>0</th>\n",
       "      <td>948</td>\n",
       "      <td>Twilight (Twilight  #1)</td>\n",
       "      <td>7</td>\n",
       "      <td>3.662500</td>\n",
       "    </tr>\n",
       "    <tr>\n",
       "      <th>1</th>\n",
       "      <td>963</td>\n",
       "      <td>Water for Elephants</td>\n",
       "      <td>6</td>\n",
       "      <td>3.977273</td>\n",
       "    </tr>\n",
       "    <tr>\n",
       "      <th>2</th>\n",
       "      <td>734</td>\n",
       "      <td>The Glass Castle</td>\n",
       "      <td>6</td>\n",
       "      <td>4.206897</td>\n",
       "    </tr>\n",
       "    <tr>\n",
       "      <th>3</th>\n",
       "      <td>302</td>\n",
       "      <td>Harry Potter and the Prisoner of Azkaban (Harr...</td>\n",
       "      <td>6</td>\n",
       "      <td>4.414634</td>\n",
       "    </tr>\n",
       "    <tr>\n",
       "      <th>4</th>\n",
       "      <td>695</td>\n",
       "      <td>The Curious Incident of the Dog in the Night-Time</td>\n",
       "      <td>6</td>\n",
       "      <td>4.081081</td>\n",
       "    </tr>\n",
       "    <tr>\n",
       "      <th>...</th>\n",
       "      <td>...</td>\n",
       "      <td>...</td>\n",
       "      <td>...</td>\n",
       "      <td>...</td>\n",
       "    </tr>\n",
       "    <tr>\n",
       "      <th>995</th>\n",
       "      <td>83</td>\n",
       "      <td>Anne Rice's The Vampire Lestat: A Graphic Novel</td>\n",
       "      <td>0</td>\n",
       "      <td>3.666667</td>\n",
       "    </tr>\n",
       "    <tr>\n",
       "      <th>996</th>\n",
       "      <td>808</td>\n",
       "      <td>The Natural Way to Draw</td>\n",
       "      <td>0</td>\n",
       "      <td>3.000000</td>\n",
       "    </tr>\n",
       "    <tr>\n",
       "      <th>997</th>\n",
       "      <td>672</td>\n",
       "      <td>The Cat in the Hat and Other Dr. Seuss Favorites</td>\n",
       "      <td>0</td>\n",
       "      <td>5.000000</td>\n",
       "    </tr>\n",
       "    <tr>\n",
       "      <th>998</th>\n",
       "      <td>221</td>\n",
       "      <td>Essential Tales and Poems</td>\n",
       "      <td>0</td>\n",
       "      <td>4.000000</td>\n",
       "    </tr>\n",
       "    <tr>\n",
       "      <th>999</th>\n",
       "      <td>191</td>\n",
       "      <td>Disney's Beauty and the Beast (A Little Golden...</td>\n",
       "      <td>0</td>\n",
       "      <td>4.000000</td>\n",
       "    </tr>\n",
       "  </tbody>\n",
       "</table>\n",
       "<p>1000 rows × 4 columns</p>\n",
       "</div>"
      ],
      "text/plain": [
       "     book_id                                              title  \\\n",
       "0        948                            Twilight (Twilight  #1)   \n",
       "1        963                                Water for Elephants   \n",
       "2        734                                   The Glass Castle   \n",
       "3        302  Harry Potter and the Prisoner of Azkaban (Harr...   \n",
       "4        695  The Curious Incident of the Dog in the Night-Time   \n",
       "..       ...                                                ...   \n",
       "995       83    Anne Rice's The Vampire Lestat: A Graphic Novel   \n",
       "996      808                            The Natural Way to Draw   \n",
       "997      672   The Cat in the Hat and Other Dr. Seuss Favorites   \n",
       "998      221                          Essential Tales and Poems   \n",
       "999      191  Disney's Beauty and the Beast (A Little Golden...   \n",
       "\n",
       "     reviews_count  avg_rating  \n",
       "0                7    3.662500  \n",
       "1                6    3.977273  \n",
       "2                6    4.206897  \n",
       "3                6    4.414634  \n",
       "4                6    4.081081  \n",
       "..             ...         ...  \n",
       "995              0    3.666667  \n",
       "996              0    3.000000  \n",
       "997              0    5.000000  \n",
       "998              0    4.000000  \n",
       "999              0    4.000000  \n",
       "\n",
       "[1000 rows x 4 columns]"
      ]
     },
     "execution_count": 8,
     "metadata": {},
     "output_type": "execute_result"
    }
   ],
   "source": [
    "query = '''SELECT b.book_id, b.title\n",
    "                  , COUNT (DISTINCT(rev.review_id)) AS reviews_count\n",
    "                  , AVG(rat.rating) AS avg_rating\n",
    "           FROM books AS b\n",
    "           LEFT JOIN reviews AS rev on b.book_id = rev.book_id\n",
    "           LEFT JOIN ratings AS rat on b.book_id = rat.book_id\n",
    "           GROUP BY b.book_id\n",
    "           ORDER BY reviews_count DESC'''\n",
    "books_rating_reviews = get_sql_results(query, engine)\n",
    "books_rating_reviews"
   ]
  },
  {
   "cell_type": "markdown",
   "metadata": {},
   "source": [
    "Выведем полученную таблицу еще раз с сортировкой по убыванию среднего рейтинга каждой книги."
   ]
  },
  {
   "cell_type": "code",
   "execution_count": 10,
   "metadata": {},
   "outputs": [
    {
     "data": {
      "text/html": [
       "<div>\n",
       "<style scoped>\n",
       "    .dataframe tbody tr th:only-of-type {\n",
       "        vertical-align: middle;\n",
       "    }\n",
       "\n",
       "    .dataframe tbody tr th {\n",
       "        vertical-align: top;\n",
       "    }\n",
       "\n",
       "    .dataframe thead th {\n",
       "        text-align: right;\n",
       "    }\n",
       "</style>\n",
       "<table border=\"1\" class=\"dataframe\">\n",
       "  <thead>\n",
       "    <tr style=\"text-align: right;\">\n",
       "      <th></th>\n",
       "      <th>book_id</th>\n",
       "      <th>title</th>\n",
       "      <th>reviews_count</th>\n",
       "      <th>avg_rating</th>\n",
       "    </tr>\n",
       "  </thead>\n",
       "  <tbody>\n",
       "    <tr>\n",
       "      <th>940</th>\n",
       "      <td>967</td>\n",
       "      <td>Welcome to Temptation (Dempseys  #1)</td>\n",
       "      <td>2</td>\n",
       "      <td>5.00</td>\n",
       "    </tr>\n",
       "    <tr>\n",
       "      <th>300</th>\n",
       "      <td>553</td>\n",
       "      <td>School's Out—Forever (Maximum Ride  #2)</td>\n",
       "      <td>3</td>\n",
       "      <td>5.00</td>\n",
       "    </tr>\n",
       "    <tr>\n",
       "      <th>943</th>\n",
       "      <td>972</td>\n",
       "      <td>Wherever You Go  There You Are: Mindfulness Me...</td>\n",
       "      <td>2</td>\n",
       "      <td>5.00</td>\n",
       "    </tr>\n",
       "    <tr>\n",
       "      <th>709</th>\n",
       "      <td>418</td>\n",
       "      <td>March</td>\n",
       "      <td>2</td>\n",
       "      <td>5.00</td>\n",
       "    </tr>\n",
       "    <tr>\n",
       "      <th>710</th>\n",
       "      <td>421</td>\n",
       "      <td>Marvel 1602</td>\n",
       "      <td>2</td>\n",
       "      <td>5.00</td>\n",
       "    </tr>\n",
       "    <tr>\n",
       "      <th>...</th>\n",
       "      <td>...</td>\n",
       "      <td>...</td>\n",
       "      <td>...</td>\n",
       "      <td>...</td>\n",
       "    </tr>\n",
       "    <tr>\n",
       "      <th>497</th>\n",
       "      <td>915</td>\n",
       "      <td>The World Is Flat: A Brief History of the Twen...</td>\n",
       "      <td>3</td>\n",
       "      <td>2.25</td>\n",
       "    </tr>\n",
       "    <tr>\n",
       "      <th>685</th>\n",
       "      <td>371</td>\n",
       "      <td>Junky</td>\n",
       "      <td>2</td>\n",
       "      <td>2.00</td>\n",
       "    </tr>\n",
       "    <tr>\n",
       "      <th>510</th>\n",
       "      <td>202</td>\n",
       "      <td>Drowning Ruth</td>\n",
       "      <td>3</td>\n",
       "      <td>2.00</td>\n",
       "    </tr>\n",
       "    <tr>\n",
       "      <th>659</th>\n",
       "      <td>316</td>\n",
       "      <td>His Excellency: George Washington</td>\n",
       "      <td>2</td>\n",
       "      <td>2.00</td>\n",
       "    </tr>\n",
       "    <tr>\n",
       "      <th>651</th>\n",
       "      <td>303</td>\n",
       "      <td>Harvesting the Heart</td>\n",
       "      <td>2</td>\n",
       "      <td>1.50</td>\n",
       "    </tr>\n",
       "  </tbody>\n",
       "</table>\n",
       "<p>1000 rows × 4 columns</p>\n",
       "</div>"
      ],
      "text/plain": [
       "     book_id                                              title  \\\n",
       "940      967               Welcome to Temptation (Dempseys  #1)   \n",
       "300      553            School's Out—Forever (Maximum Ride  #2)   \n",
       "943      972  Wherever You Go  There You Are: Mindfulness Me...   \n",
       "709      418                                              March   \n",
       "710      421                                        Marvel 1602   \n",
       "..       ...                                                ...   \n",
       "497      915  The World Is Flat: A Brief History of the Twen...   \n",
       "685      371                                              Junky   \n",
       "510      202                                      Drowning Ruth   \n",
       "659      316                  His Excellency: George Washington   \n",
       "651      303                               Harvesting the Heart   \n",
       "\n",
       "     reviews_count  avg_rating  \n",
       "940              2        5.00  \n",
       "300              3        5.00  \n",
       "943              2        5.00  \n",
       "709              2        5.00  \n",
       "710              2        5.00  \n",
       "..             ...         ...  \n",
       "497              3        2.25  \n",
       "685              2        2.00  \n",
       "510              3        2.00  \n",
       "659              2        2.00  \n",
       "651              2        1.50  \n",
       "\n",
       "[1000 rows x 4 columns]"
      ]
     },
     "execution_count": 10,
     "metadata": {},
     "output_type": "execute_result"
    }
   ],
   "source": [
    "books_rating_reviews.sort_values(by='avg_rating', ascending=False)"
   ]
  },
  {
   "cell_type": "markdown",
   "metadata": {},
   "source": [
    "Всего в базе данных приложения 1000 книг, наибольшее число обзоров (7) - у книги \"Twilight (Twilight #1)\". Средний рейтинг книг изменяется от 1.5 до 5."
   ]
  },
  {
   "cell_type": "markdown",
   "metadata": {},
   "source": [
    "**3)** Определим издательство, которое выпустило наибольшее число книг толще 50 страниц."
   ]
  },
  {
   "cell_type": "code",
   "execution_count": 11,
   "metadata": {},
   "outputs": [
    {
     "data": {
      "text/html": [
       "<div>\n",
       "<style scoped>\n",
       "    .dataframe tbody tr th:only-of-type {\n",
       "        vertical-align: middle;\n",
       "    }\n",
       "\n",
       "    .dataframe tbody tr th {\n",
       "        vertical-align: top;\n",
       "    }\n",
       "\n",
       "    .dataframe thead th {\n",
       "        text-align: right;\n",
       "    }\n",
       "</style>\n",
       "<table border=\"1\" class=\"dataframe\">\n",
       "  <thead>\n",
       "    <tr style=\"text-align: right;\">\n",
       "      <th></th>\n",
       "      <th>publisher_id</th>\n",
       "      <th>publisher</th>\n",
       "      <th>count</th>\n",
       "    </tr>\n",
       "  </thead>\n",
       "  <tbody>\n",
       "    <tr>\n",
       "      <th>0</th>\n",
       "      <td>212</td>\n",
       "      <td>Penguin Books</td>\n",
       "      <td>42</td>\n",
       "    </tr>\n",
       "  </tbody>\n",
       "</table>\n",
       "</div>"
      ],
      "text/plain": [
       "   publisher_id      publisher  count\n",
       "0           212  Penguin Books     42"
      ]
     },
     "execution_count": 11,
     "metadata": {},
     "output_type": "execute_result"
    }
   ],
   "source": [
    "query = ''' SELECT p.publisher_id, p.publisher, COUNT(b.book_id)\n",
    "            FROM books AS b \n",
    "            LEFT JOIN publishers AS p on b.publisher_id=p.publisher_id\n",
    "            WHERE book_id IN ((SELECT book_id\n",
    "                               FROM books\n",
    "                               WHERE num_pages > 50))\n",
    "            GROUP BY p.publisher_id, p.publisher\n",
    "            ORDER BY COUNT(b.book_id) DESC\n",
    "            LIMIT 1;'''\n",
    "publisher_max_books = get_sql_results(query, engine)\n",
    "publisher_max_books"
   ]
  },
  {
   "cell_type": "markdown",
   "metadata": {},
   "source": [
    "В базе данных сервиса больше всего книг толще 50 страниц издательства Penguin Books - 42 книги."
   ]
  },
  {
   "cell_type": "markdown",
   "metadata": {},
   "source": [
    "**4)** Определим автора с самой высокой средней оценкой книг."
   ]
  },
  {
   "cell_type": "code",
   "execution_count": 12,
   "metadata": {},
   "outputs": [
    {
     "data": {
      "text/html": [
       "<div>\n",
       "<style scoped>\n",
       "    .dataframe tbody tr th:only-of-type {\n",
       "        vertical-align: middle;\n",
       "    }\n",
       "\n",
       "    .dataframe tbody tr th {\n",
       "        vertical-align: top;\n",
       "    }\n",
       "\n",
       "    .dataframe thead th {\n",
       "        text-align: right;\n",
       "    }\n",
       "</style>\n",
       "<table border=\"1\" class=\"dataframe\">\n",
       "  <thead>\n",
       "    <tr style=\"text-align: right;\">\n",
       "      <th></th>\n",
       "      <th>author</th>\n",
       "      <th>avg_rating</th>\n",
       "    </tr>\n",
       "  </thead>\n",
       "  <tbody>\n",
       "    <tr>\n",
       "      <th>0</th>\n",
       "      <td>J.K. Rowling/Mary GrandPré</td>\n",
       "      <td>4.287097</td>\n",
       "    </tr>\n",
       "  </tbody>\n",
       "</table>\n",
       "</div>"
      ],
      "text/plain": [
       "                       author  avg_rating\n",
       "0  J.K. Rowling/Mary GrandPré    4.287097"
      ]
     },
     "execution_count": 12,
     "metadata": {},
     "output_type": "execute_result"
    }
   ],
   "source": [
    "query = '''SELECT a.author, AVG(rat.rating) AS avg_rating\n",
    "           FROM books AS b\n",
    "           LEFT JOIN ratings AS rat on b.book_id = rat.book_id\n",
    "           LEFT JOIN authors AS a on b.author_id=a.author_id\n",
    "           WHERE b.book_id IN (SELECT b.book_id\n",
    "                               FROM books AS b\n",
    "                               LEFT JOIN ratings AS rat ON b.book_id=rat.book_id\n",
    "                               GROUP BY b.book_id\n",
    "                               HAVING COUNT(rat.rating_id) >= 50)\n",
    "          GROUP BY a.author\n",
    "          ORDER BY avg_rating DESC\n",
    "          LIMIT 1'''\n",
    "author_max_rating = get_sql_results(query, engine)\n",
    "author_max_rating"
   ]
  },
  {
   "cell_type": "markdown",
   "metadata": {},
   "source": [
    "Автор с самой высокой средней оценкой книг (учитываются книги с 50 оценками и более) - J.K. Rowling и Mary GrandPré 🧙‍♂️."
   ]
  },
  {
   "cell_type": "markdown",
   "metadata": {},
   "source": [
    "**5)** Посчитаем среднее количество обзоров от пользователей, которые поставили более 48 оценок."
   ]
  },
  {
   "cell_type": "code",
   "execution_count": 13,
   "metadata": {},
   "outputs": [
    {
     "data": {
      "text/html": [
       "<div>\n",
       "<style scoped>\n",
       "    .dataframe tbody tr th:only-of-type {\n",
       "        vertical-align: middle;\n",
       "    }\n",
       "\n",
       "    .dataframe tbody tr th {\n",
       "        vertical-align: top;\n",
       "    }\n",
       "\n",
       "    .dataframe thead th {\n",
       "        text-align: right;\n",
       "    }\n",
       "</style>\n",
       "<table border=\"1\" class=\"dataframe\">\n",
       "  <thead>\n",
       "    <tr style=\"text-align: right;\">\n",
       "      <th></th>\n",
       "      <th>avg</th>\n",
       "    </tr>\n",
       "  </thead>\n",
       "  <tbody>\n",
       "    <tr>\n",
       "      <th>0</th>\n",
       "      <td>24.0</td>\n",
       "    </tr>\n",
       "  </tbody>\n",
       "</table>\n",
       "</div>"
      ],
      "text/plain": [
       "    avg\n",
       "0  24.0"
      ]
     },
     "execution_count": 13,
     "metadata": {},
     "output_type": "execute_result"
    }
   ],
   "source": [
    "query = '''WITH cnt_rev AS (SELECT username, COUNT(review_id) AS cnt_reviews\n",
    "                            FROM reviews\n",
    "                            WHERE username IN (SELECT username\n",
    "                                               FROM ratings \n",
    "                                               GROUP BY username\n",
    "                                               HAVING COUNT(rating_id) > 48)\n",
    "                            GROUP BY username)\n",
    "                                               \n",
    "           SELECT AVG(cnt_reviews)\n",
    "           FROM cnt_rev;'''\n",
    "avg_cnt_reviews = get_sql_results(query, engine)\n",
    "avg_cnt_reviews"
   ]
  },
  {
   "cell_type": "markdown",
   "metadata": {},
   "source": [
    "У пользователей, которые поставили больше 48 оценок, в среднем, 24 обзора."
   ]
  },
  {
   "cell_type": "markdown",
   "metadata": {},
   "source": [
    "## Общий вывод."
   ]
  },
  {
   "cell_type": "markdown",
   "metadata": {},
   "source": [
    "В этом проекте анализировалась база данных мобильного приложения-старпата, представляющего собой сервис для чтения книг по подписке.\n",
    "Заказчик предоставил базу данных с 5 таблицами:\n",
    "* books - с данными о книгах\n",
    "* authors - с данными об авторах\n",
    "* publishers - с данными об издательствах\n",
    "* rating - с данными о пользовательских оценках \n",
    "* reviews - с данными о пользовательских обзорах. \n",
    "\n",
    "В табликах пропусков и дубликатов не обнаружено.\n",
    "\n",
    "После анализа базы данных получились следующие результаты:\n",
    "\n",
    "* в базе данных сервиса содержится 819 книг, вышедших после 1 января 2000 г.\n",
    "* всего в базе данных приложения 1000 книг, наибольшее число обзоров (7) - у книги \"Twilight (Twilight #1)\". Средний рейтинг книг изменяется от 1.5 до 5.\n",
    "* в базе данных сервиса больше всего книг толще 50 страниц издательства Penguin Books - 42 книги.\n",
    "* автор с самой высокой средней оценкой книг (учитывались книги с 50 оценками и более) - J.K. Rowling и Mary GrandPré 🧙‍♂️.\n",
    "* у пользователей, которые поставили больше 48 оценок, в среднем, 24 обзора."
   ]
  }
 ],
 "metadata": {
  "ExecuteTimeLog": [
   {
    "duration": 3,
    "start_time": "2024-06-24T14:07:59.532Z"
   },
   {
    "duration": 1112,
    "start_time": "2024-06-24T14:17:09.521Z"
   },
   {
    "duration": 140,
    "start_time": "2024-06-24T14:24:33.586Z"
   },
   {
    "duration": 57,
    "start_time": "2024-06-24T14:24:38.000Z"
   },
   {
    "duration": 6761,
    "start_time": "2024-06-24T14:28:28.322Z"
   },
   {
    "duration": 115,
    "start_time": "2024-06-24T14:54:32.083Z"
   },
   {
    "duration": 45,
    "start_time": "2024-06-24T14:54:43.349Z"
   },
   {
    "duration": 31,
    "start_time": "2024-06-24T14:54:51.377Z"
   },
   {
    "duration": 65,
    "start_time": "2024-06-24T15:05:52.327Z"
   },
   {
    "duration": 57,
    "start_time": "2024-06-24T15:06:16.865Z"
   },
   {
    "duration": 10,
    "start_time": "2024-06-24T15:06:28.244Z"
   },
   {
    "duration": 10,
    "start_time": "2024-06-24T15:06:32.440Z"
   },
   {
    "duration": 8,
    "start_time": "2024-06-24T15:06:35.242Z"
   },
   {
    "duration": 8,
    "start_time": "2024-06-24T15:06:38.739Z"
   },
   {
    "duration": 41,
    "start_time": "2024-06-24T20:07:14.610Z"
   },
   {
    "duration": 7035,
    "start_time": "2024-06-24T20:07:19.241Z"
   },
   {
    "duration": 205,
    "start_time": "2024-06-24T20:07:29.622Z"
   },
   {
    "duration": 109,
    "start_time": "2024-06-24T20:07:30.598Z"
   },
   {
    "duration": 206,
    "start_time": "2024-06-24T20:07:42.005Z"
   },
   {
    "duration": 108,
    "start_time": "2024-06-24T20:07:43.266Z"
   },
   {
    "duration": 45,
    "start_time": "2024-06-24T20:08:11.173Z"
   },
   {
    "duration": 206,
    "start_time": "2024-06-24T20:08:15.567Z"
   },
   {
    "duration": 112,
    "start_time": "2024-06-24T20:08:16.229Z"
   },
   {
    "duration": 223,
    "start_time": "2024-06-24T20:08:24.696Z"
   },
   {
    "duration": 120,
    "start_time": "2024-06-24T20:08:26.038Z"
   },
   {
    "duration": 210,
    "start_time": "2024-06-24T20:08:40.586Z"
   },
   {
    "duration": 217,
    "start_time": "2024-06-24T20:09:07.108Z"
   },
   {
    "duration": 3,
    "start_time": "2024-06-24T20:09:24.525Z"
   },
   {
    "duration": 116,
    "start_time": "2024-06-24T20:09:30.669Z"
   },
   {
    "duration": 2,
    "start_time": "2024-06-24T20:09:44.558Z"
   },
   {
    "duration": 46,
    "start_time": "2024-06-24T20:09:46.154Z"
   },
   {
    "duration": 68,
    "start_time": "2024-06-24T20:10:01.668Z"
   },
   {
    "duration": 2,
    "start_time": "2024-06-24T20:10:06.088Z"
   },
   {
    "duration": 45,
    "start_time": "2024-06-24T20:10:07.042Z"
   },
   {
    "duration": 52,
    "start_time": "2024-06-24T20:10:17.576Z"
   },
   {
    "duration": 3,
    "start_time": "2024-06-24T20:10:45.948Z"
   },
   {
    "duration": 50,
    "start_time": "2024-06-24T20:11:01.597Z"
   },
   {
    "duration": 48,
    "start_time": "2024-06-24T20:11:30.776Z"
   },
   {
    "duration": 78,
    "start_time": "2024-06-24T20:22:47.542Z"
   },
   {
    "duration": 152,
    "start_time": "2024-06-24T20:23:04.466Z"
   },
   {
    "duration": 71,
    "start_time": "2024-06-24T20:23:41.609Z"
   },
   {
    "duration": 70,
    "start_time": "2024-06-24T20:23:53.749Z"
   },
   {
    "duration": 68,
    "start_time": "2024-06-24T20:24:09.369Z"
   },
   {
    "duration": 64,
    "start_time": "2024-06-24T20:27:01.202Z"
   },
   {
    "duration": 63,
    "start_time": "2024-06-24T20:27:11.667Z"
   },
   {
    "duration": 47,
    "start_time": "2024-06-25T12:17:34.767Z"
   },
   {
    "duration": 6631,
    "start_time": "2024-06-25T12:17:40.217Z"
   },
   {
    "duration": 3,
    "start_time": "2024-06-25T12:17:46.850Z"
   },
   {
    "duration": 50,
    "start_time": "2024-06-25T12:17:46.854Z"
   },
   {
    "duration": 0,
    "start_time": "2024-06-25T12:17:46.954Z"
   },
   {
    "duration": 57,
    "start_time": "2024-06-25T12:22:52.859Z"
   },
   {
    "duration": 59,
    "start_time": "2024-06-25T12:23:35.801Z"
   },
   {
    "duration": 47,
    "start_time": "2024-06-25T12:23:45.964Z"
   },
   {
    "duration": 21,
    "start_time": "2024-06-25T12:26:33.233Z"
   },
   {
    "duration": 21,
    "start_time": "2024-06-25T12:29:37.046Z"
   },
   {
    "duration": 16,
    "start_time": "2024-06-25T12:45:34.827Z"
   },
   {
    "duration": 17,
    "start_time": "2024-06-25T12:46:05.906Z"
   },
   {
    "duration": 14,
    "start_time": "2024-06-25T12:48:21.342Z"
   },
   {
    "duration": 15,
    "start_time": "2024-06-25T12:48:27.214Z"
   },
   {
    "duration": 12,
    "start_time": "2024-06-25T12:48:37.612Z"
   },
   {
    "duration": 11,
    "start_time": "2024-06-25T12:50:12.988Z"
   },
   {
    "duration": 23,
    "start_time": "2024-06-25T12:51:00.612Z"
   },
   {
    "duration": 11,
    "start_time": "2024-06-25T12:51:10.006Z"
   },
   {
    "duration": 11,
    "start_time": "2024-06-25T12:51:36.022Z"
   },
   {
    "duration": 21,
    "start_time": "2024-06-25T12:56:13.443Z"
   },
   {
    "duration": 24,
    "start_time": "2024-06-25T12:56:20.839Z"
   },
   {
    "duration": 24,
    "start_time": "2024-06-25T12:56:30.895Z"
   },
   {
    "duration": 5,
    "start_time": "2024-06-25T12:57:54.087Z"
   },
   {
    "duration": 5,
    "start_time": "2024-06-25T12:57:54.094Z"
   },
   {
    "duration": 61,
    "start_time": "2024-06-25T12:57:54.100Z"
   },
   {
    "duration": 25,
    "start_time": "2024-06-25T12:57:54.163Z"
   },
   {
    "duration": 11,
    "start_time": "2024-06-25T12:57:54.190Z"
   },
   {
    "duration": 8,
    "start_time": "2024-06-25T12:57:54.203Z"
   },
   {
    "duration": 3,
    "start_time": "2024-06-25T12:57:54.212Z"
   },
   {
    "duration": 3,
    "start_time": "2024-06-25T13:00:39.952Z"
   },
   {
    "duration": 4,
    "start_time": "2024-06-25T13:00:40.335Z"
   },
   {
    "duration": 3,
    "start_time": "2024-06-25T13:00:40.974Z"
   },
   {
    "duration": 37,
    "start_time": "2024-06-25T13:00:59.723Z"
   },
   {
    "duration": 21,
    "start_time": "2024-06-25T13:02:58.847Z"
   },
   {
    "duration": 22,
    "start_time": "2024-06-25T13:03:38.470Z"
   },
   {
    "duration": 20,
    "start_time": "2024-06-25T13:03:58.832Z"
   },
   {
    "duration": 48,
    "start_time": "2024-06-25T13:04:06.899Z"
   },
   {
    "duration": 46,
    "start_time": "2024-06-25T13:04:26.664Z"
   },
   {
    "duration": 28,
    "start_time": "2024-06-25T13:16:12.653Z"
   },
   {
    "duration": 24,
    "start_time": "2024-06-25T13:16:17.092Z"
   },
   {
    "duration": 26,
    "start_time": "2024-06-25T13:24:02.661Z"
   },
   {
    "duration": 63,
    "start_time": "2024-06-25T13:24:15.902Z"
   },
   {
    "duration": 28,
    "start_time": "2024-06-25T13:25:02.525Z"
   },
   {
    "duration": 27,
    "start_time": "2024-06-25T13:26:07.255Z"
   },
   {
    "duration": 58,
    "start_time": "2024-06-25T13:26:31.294Z"
   },
   {
    "duration": 27,
    "start_time": "2024-06-25T13:27:08.186Z"
   },
   {
    "duration": 27,
    "start_time": "2024-06-25T13:27:29.356Z"
   },
   {
    "duration": 11,
    "start_time": "2024-06-25T13:27:47.708Z"
   },
   {
    "duration": 5,
    "start_time": "2024-06-25T13:28:28.449Z"
   },
   {
    "duration": 27,
    "start_time": "2024-06-25T13:29:03.459Z"
   },
   {
    "duration": 11,
    "start_time": "2024-06-25T13:31:15.888Z"
   },
   {
    "duration": 65,
    "start_time": "2024-06-25T13:32:22.746Z"
   },
   {
    "duration": 10,
    "start_time": "2024-06-25T13:33:00.530Z"
   },
   {
    "duration": 12,
    "start_time": "2024-06-25T13:34:51.179Z"
   },
   {
    "duration": 24,
    "start_time": "2024-06-25T13:44:09.707Z"
   },
   {
    "duration": 61,
    "start_time": "2024-06-25T13:44:32.922Z"
   },
   {
    "duration": 46,
    "start_time": "2024-06-25T13:45:26.163Z"
   },
   {
    "duration": 42,
    "start_time": "2024-06-25T13:46:06.440Z"
   },
   {
    "duration": 22,
    "start_time": "2024-06-25T13:46:29.734Z"
   },
   {
    "duration": 21,
    "start_time": "2024-06-25T13:46:45.589Z"
   },
   {
    "duration": 13,
    "start_time": "2024-06-25T13:46:52.438Z"
   },
   {
    "duration": 14,
    "start_time": "2024-06-25T13:46:59.578Z"
   },
   {
    "duration": 12,
    "start_time": "2024-06-25T13:47:22.539Z"
   },
   {
    "duration": 9,
    "start_time": "2024-06-25T13:48:36.493Z"
   },
   {
    "duration": 23,
    "start_time": "2024-06-25T13:50:23.568Z"
   },
   {
    "duration": 48,
    "start_time": "2024-06-25T13:50:38.663Z"
   },
   {
    "duration": 18,
    "start_time": "2024-06-25T13:51:08.897Z"
   },
   {
    "duration": 17,
    "start_time": "2024-06-25T13:51:18.329Z"
   },
   {
    "duration": 16,
    "start_time": "2024-06-25T13:54:05.522Z"
   },
   {
    "duration": 28,
    "start_time": "2024-06-25T14:08:38.744Z"
   },
   {
    "duration": 15,
    "start_time": "2024-06-25T14:09:41.264Z"
   },
   {
    "duration": 13,
    "start_time": "2024-06-25T14:10:17.753Z"
   },
   {
    "duration": 11,
    "start_time": "2024-06-25T14:10:41.346Z"
   },
   {
    "duration": 12,
    "start_time": "2024-06-25T14:11:02.832Z"
   },
   {
    "duration": 22,
    "start_time": "2024-06-25T14:12:14.657Z"
   },
   {
    "duration": 20,
    "start_time": "2024-06-25T14:12:22.652Z"
   },
   {
    "duration": 20,
    "start_time": "2024-06-25T14:12:37.852Z"
   },
   {
    "duration": 23,
    "start_time": "2024-06-25T14:13:31.400Z"
   },
   {
    "duration": 16,
    "start_time": "2024-06-25T14:14:25.355Z"
   },
   {
    "duration": 33,
    "start_time": "2024-06-25T14:47:10.041Z"
   },
   {
    "duration": 14,
    "start_time": "2024-06-25T14:47:21.280Z"
   },
   {
    "duration": 23,
    "start_time": "2024-06-25T15:07:37.967Z"
   },
   {
    "duration": 21,
    "start_time": "2024-06-25T15:09:52.937Z"
   },
   {
    "duration": 23,
    "start_time": "2024-06-25T15:10:20.498Z"
   },
   {
    "duration": 14,
    "start_time": "2024-06-25T15:10:47.131Z"
   },
   {
    "duration": 14,
    "start_time": "2024-06-25T15:11:01.129Z"
   },
   {
    "duration": 21,
    "start_time": "2024-06-25T15:11:23.515Z"
   },
   {
    "duration": 13,
    "start_time": "2024-06-25T15:11:31.233Z"
   },
   {
    "duration": 13,
    "start_time": "2024-06-25T15:12:04.982Z"
   },
   {
    "duration": 11,
    "start_time": "2024-06-25T15:12:10.649Z"
   },
   {
    "duration": 28,
    "start_time": "2024-06-25T15:25:40.353Z"
   },
   {
    "duration": 51,
    "start_time": "2024-06-26T07:14:44.191Z"
   },
   {
    "duration": 548,
    "start_time": "2024-06-26T07:14:56.853Z"
   },
   {
    "duration": 7254,
    "start_time": "2024-06-26T07:14:57.404Z"
   },
   {
    "duration": 4,
    "start_time": "2024-06-26T07:15:04.660Z"
   },
   {
    "duration": 490,
    "start_time": "2024-06-26T07:15:04.665Z"
   },
   {
    "duration": 51,
    "start_time": "2024-06-26T07:15:05.158Z"
   },
   {
    "duration": 89,
    "start_time": "2024-06-26T07:15:05.211Z"
   },
   {
    "duration": 72,
    "start_time": "2024-06-26T07:15:05.302Z"
   },
   {
    "duration": 11,
    "start_time": "2024-06-26T07:15:05.376Z"
   },
   {
    "duration": 19,
    "start_time": "2024-06-26T07:15:05.389Z"
   },
   {
    "duration": 55,
    "start_time": "2024-06-26T07:15:05.410Z"
   },
   {
    "duration": 56,
    "start_time": "2024-06-26T07:15:05.467Z"
   },
   {
    "duration": 54,
    "start_time": "2024-06-26T07:15:05.524Z"
   },
   {
    "duration": 89,
    "start_time": "2024-06-26T07:17:55.879Z"
   },
   {
    "duration": 87,
    "start_time": "2024-06-26T07:19:07.352Z"
   },
   {
    "duration": 95,
    "start_time": "2024-06-26T07:30:33.282Z"
   },
   {
    "duration": 135,
    "start_time": "2024-06-26T07:30:41.377Z"
   },
   {
    "duration": 166,
    "start_time": "2024-06-26T07:30:56.204Z"
   },
   {
    "duration": 84,
    "start_time": "2024-06-26T07:50:36.787Z"
   },
   {
    "duration": 13,
    "start_time": "2024-06-26T07:50:47.086Z"
   },
   {
    "duration": 12,
    "start_time": "2024-06-26T07:50:48.724Z"
   },
   {
    "duration": 86,
    "start_time": "2024-06-26T07:51:42.412Z"
   },
   {
    "duration": 87,
    "start_time": "2024-06-26T07:51:48.077Z"
   },
   {
    "duration": 86,
    "start_time": "2024-06-26T07:52:06.387Z"
   },
   {
    "duration": 3,
    "start_time": "2024-06-26T07:52:51.637Z"
   },
   {
    "duration": 57,
    "start_time": "2024-06-26T07:54:37.230Z"
   },
   {
    "duration": 62,
    "start_time": "2024-06-26T07:55:34.897Z"
   },
   {
    "duration": 52,
    "start_time": "2024-06-26T07:55:53.852Z"
   },
   {
    "duration": 65,
    "start_time": "2024-06-26T07:56:51.786Z"
   },
   {
    "duration": 84,
    "start_time": "2024-06-26T08:09:50.490Z"
   },
   {
    "duration": 377,
    "start_time": "2024-06-26T08:13:35.720Z"
   },
   {
    "duration": 429,
    "start_time": "2024-06-26T08:13:46.793Z"
   },
   {
    "duration": 66,
    "start_time": "2024-06-26T08:42:44.308Z"
   },
   {
    "duration": 3,
    "start_time": "2024-06-26T08:42:56.214Z"
   },
   {
    "duration": 30,
    "start_time": "2024-06-26T08:42:56.219Z"
   },
   {
    "duration": 29,
    "start_time": "2024-06-26T08:42:56.251Z"
   },
   {
    "duration": 458,
    "start_time": "2024-06-26T08:42:56.282Z"
   },
   {
    "duration": 316,
    "start_time": "2024-06-26T08:42:56.743Z"
   },
   {
    "duration": 50,
    "start_time": "2024-06-26T08:42:57.060Z"
   },
   {
    "duration": 66,
    "start_time": "2024-06-26T08:42:57.111Z"
   },
   {
    "duration": 67,
    "start_time": "2024-06-26T08:42:57.179Z"
   },
   {
    "duration": 2,
    "start_time": "2024-06-26T08:42:57.248Z"
   },
   {
    "duration": 107,
    "start_time": "2024-06-26T08:42:57.251Z"
   },
   {
    "duration": 51,
    "start_time": "2024-06-26T08:42:57.360Z"
   },
   {
    "duration": 54,
    "start_time": "2024-06-26T08:42:57.413Z"
   },
   {
    "duration": 52,
    "start_time": "2024-06-26T08:42:57.471Z"
   },
   {
    "duration": 538,
    "start_time": "2024-06-26T08:44:57.680Z"
   },
   {
    "duration": 7609,
    "start_time": "2024-06-26T08:44:58.220Z"
   },
   {
    "duration": 4,
    "start_time": "2024-06-26T08:45:05.831Z"
   },
   {
    "duration": 457,
    "start_time": "2024-06-26T08:45:05.838Z"
   },
   {
    "duration": 324,
    "start_time": "2024-06-26T08:45:06.298Z"
   },
   {
    "duration": 49,
    "start_time": "2024-06-26T08:45:06.624Z"
   },
   {
    "duration": 85,
    "start_time": "2024-06-26T08:45:06.675Z"
   },
   {
    "duration": 69,
    "start_time": "2024-06-26T08:45:06.761Z"
   },
   {
    "duration": 2,
    "start_time": "2024-06-26T08:45:06.832Z"
   },
   {
    "duration": 36,
    "start_time": "2024-06-26T08:45:06.837Z"
   },
   {
    "duration": 62,
    "start_time": "2024-06-26T08:45:06.875Z"
   },
   {
    "duration": 54,
    "start_time": "2024-06-26T08:45:06.939Z"
   },
   {
    "duration": 53,
    "start_time": "2024-06-26T08:45:06.995Z"
   }
  ],
  "kernelspec": {
   "display_name": "Python 3 (ipykernel)",
   "language": "python",
   "name": "python3"
  },
  "language_info": {
   "codemirror_mode": {
    "name": "ipython",
    "version": 3
   },
   "file_extension": ".py",
   "mimetype": "text/x-python",
   "name": "python",
   "nbconvert_exporter": "python",
   "pygments_lexer": "ipython3",
   "version": "3.11.5"
  },
  "toc": {
   "base_numbering": 1,
   "nav_menu": {},
   "number_sections": true,
   "sideBar": true,
   "skip_h1_title": true,
   "title_cell": "Table of Contents",
   "title_sidebar": "Contents",
   "toc_cell": false,
   "toc_position": {},
   "toc_section_display": true,
   "toc_window_display": false
  }
 },
 "nbformat": 4,
 "nbformat_minor": 2
}
