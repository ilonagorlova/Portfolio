{
 "cells": [
  {
   "cell_type": "markdown",
   "id": "d8c22252",
   "metadata": {
    "toc": true
   },
   "source": [
    "<h1>Table of Contents<span class=\"tocSkip\"></span></h1>\n",
    "<div class=\"toc\"><ul class=\"toc-item\"><li><span><a href=\"#Цель-проекта\" data-toc-modified-id=\"Цель-проекта-1\"><span class=\"toc-item-num\">1&nbsp;&nbsp;</span>Цель проекта</a></span></li><li><span><a href=\"#Шаги\" data-toc-modified-id=\"Шаги-2\"><span class=\"toc-item-num\">2&nbsp;&nbsp;</span>Шаги</a></span></li><li><span><a href=\"#Обзор-данных.\" data-toc-modified-id=\"Обзор-данных.-3\"><span class=\"toc-item-num\">3&nbsp;&nbsp;</span>Обзор данных.</a></span><ul class=\"toc-item\"><li><span><a href=\"#Вывод-по-разделу\" data-toc-modified-id=\"Вывод-по-разделу-3.1\"><span class=\"toc-item-num\">3.1&nbsp;&nbsp;</span>Вывод по разделу</a></span></li></ul></li><li><span><a href=\"#Приоритизация-гипотез\" data-toc-modified-id=\"Приоритизация-гипотез-4\"><span class=\"toc-item-num\">4&nbsp;&nbsp;</span>Приоритизация гипотез</a></span><ul class=\"toc-item\"><li><span><a href=\"#Расчёт-приоритета-с-использованием-фреймфорков-ICE-и-RICE.\" data-toc-modified-id=\"Расчёт-приоритета-с-использованием-фреймфорков-ICE-и-RICE.-4.1\"><span class=\"toc-item-num\">4.1&nbsp;&nbsp;</span>Расчёт приоритета с использованием фреймфорков ICE и RICE.</a></span></li><li><span><a href=\"#Вывод-по-разделу\" data-toc-modified-id=\"Вывод-по-разделу-4.2\"><span class=\"toc-item-num\">4.2&nbsp;&nbsp;</span>Вывод по разделу</a></span></li></ul></li><li><span><a href=\"#Анализ-результатов-A/B-теста.\" data-toc-modified-id=\"Анализ-результатов-A/B-теста.-5\"><span class=\"toc-item-num\">5&nbsp;&nbsp;</span>Анализ результатов A/B теста.</a></span><ul class=\"toc-item\"><li><span><a href=\"#График-кумулятивной-выручки.\" data-toc-modified-id=\"График-кумулятивной-выручки.-5.1\"><span class=\"toc-item-num\">5.1&nbsp;&nbsp;</span>График кумулятивной выручки.</a></span></li><li><span><a href=\"#График-кумулятивного-среднего-чека-по-группам.\" data-toc-modified-id=\"График-кумулятивного-среднего-чека-по-группам.-5.2\"><span class=\"toc-item-num\">5.2&nbsp;&nbsp;</span>График кумулятивного среднего чека по группам.</a></span></li><li><span><a href=\"#График-относительного-различия-для-среднего-чека.\" data-toc-modified-id=\"График-относительного-различия-для-среднего-чека.-5.3\"><span class=\"toc-item-num\">5.3&nbsp;&nbsp;</span>График относительного различия для среднего чека.</a></span></li><li><span><a href=\"#График-кумулятивного-среднего-количества-заказов-на-посетителя-по-группам.\" data-toc-modified-id=\"График-кумулятивного-среднего-количества-заказов-на-посетителя-по-группам.-5.4\"><span class=\"toc-item-num\">5.4&nbsp;&nbsp;</span>График кумулятивного среднего количества заказов на посетителя по группам.</a></span></li><li><span><a href=\"#График-относительного-изменения-кумулятивного-среднего-количества-заказов-на-посетителя-группы-B-к-группе-A\" data-toc-modified-id=\"График-относительного-изменения-кумулятивного-среднего-количества-заказов-на-посетителя-группы-B-к-группе-A-5.5\"><span class=\"toc-item-num\">5.5&nbsp;&nbsp;</span>График относительного изменения кумулятивного среднего количества заказов на посетителя группы B к группе A</a></span></li><li><span><a href=\"#Точечный-график-количества-заказов.\" data-toc-modified-id=\"Точечный-график-количества-заказов.-5.6\"><span class=\"toc-item-num\">5.6&nbsp;&nbsp;</span>Точечный график количества заказов.</a></span></li><li><span><a href=\"#95-и-99-перцентили-количества-заказов-на-1-пользователя.\" data-toc-modified-id=\"95-и-99-перцентили-количества-заказов-на-1-пользователя.-5.7\"><span class=\"toc-item-num\">5.7&nbsp;&nbsp;</span>95 и 99 перцентили количества заказов на 1 пользователя.</a></span></li><li><span><a href=\"#Точечный-график-стоимостей-заказов.\" data-toc-modified-id=\"Точечный-график-стоимостей-заказов.-5.8\"><span class=\"toc-item-num\">5.8&nbsp;&nbsp;</span>Точечный график стоимостей заказов.</a></span></li><li><span><a href=\"#95-й-и-99-й-перцентили-стоимости-заказов.\" data-toc-modified-id=\"95-й-и-99-й-перцентили-стоимости-заказов.-5.9\"><span class=\"toc-item-num\">5.9&nbsp;&nbsp;</span>95-й и 99-й перцентили стоимости заказов.</a></span></li><li><span><a href=\"#Cтатистическую-значимость-различий-в-среднем-количестве-заказов-на-посетителя-между-группами-по-«сырым»-данным.\" data-toc-modified-id=\"Cтатистическую-значимость-различий-в-среднем-количестве-заказов-на-посетителя-между-группами-по-«сырым»-данным.-5.10\"><span class=\"toc-item-num\">5.10&nbsp;&nbsp;</span>Cтатистическую значимость различий в среднем количестве заказов на посетителя между группами по «сырым» данным.</a></span></li><li><span><a href=\"#Cтатистическая-значимость-различий-в-среднем-чеке-заказа-между-группами-по-«сырым»-данным.\" data-toc-modified-id=\"Cтатистическая-значимость-различий-в-среднем-чеке-заказа-между-группами-по-«сырым»-данным.-5.11\"><span class=\"toc-item-num\">5.11&nbsp;&nbsp;</span>Cтатистическая значимость различий в среднем чеке заказа между группами по «сырым» данным.</a></span></li><li><span><a href=\"#Cтатистическая-значимость-различий-в-среднем-количестве-заказов-на-посетителя-между-группами-по-«очищенным»-данным.\" data-toc-modified-id=\"Cтатистическая-значимость-различий-в-среднем-количестве-заказов-на-посетителя-между-группами-по-«очищенным»-данным.-5.12\"><span class=\"toc-item-num\">5.12&nbsp;&nbsp;</span>Cтатистическая значимость различий в среднем количестве заказов на посетителя между группами по «очищенным» данным.</a></span></li><li><span><a href=\"#Статистическая-значимость-различий-в-среднем-чеке-заказа-между-группами-по-«очищенным»-данным.\" data-toc-modified-id=\"Статистическая-значимость-различий-в-среднем-чеке-заказа-между-группами-по-«очищенным»-данным.-5.13\"><span class=\"toc-item-num\">5.13&nbsp;&nbsp;</span>Статистическая значимость различий в среднем чеке заказа между группами по «очищенным» данным.</a></span></li><li><span><a href=\"#Вывод-по-разделу\" data-toc-modified-id=\"Вывод-по-разделу-5.14\"><span class=\"toc-item-num\">5.14&nbsp;&nbsp;</span>Вывод по разделу</a></span></li><li><span><a href=\"#Общий-вывод\" data-toc-modified-id=\"Общий-вывод-5.15\"><span class=\"toc-item-num\">5.15&nbsp;&nbsp;</span>Общий вывод</a></span></li></ul></li></ul></div>"
   ]
  },
  {
   "cell_type": "markdown",
   "id": "53a90e2d",
   "metadata": {},
   "source": [
    "# Проверка гипотез для увеличения выручки интернет-магазина"
   ]
  },
  {
   "cell_type": "markdown",
   "id": "9975e3fa",
   "metadata": {},
   "source": [
    "## Цель проекта"
   ]
  },
  {
   "cell_type": "markdown",
   "id": "c25bcaa2",
   "metadata": {},
   "source": [
    "Целью проекта является приоритизация гипотез для увеличения выручки интернет-магазина и анализ результатов проведенного А/В тестирования. "
   ]
  },
  {
   "cell_type": "markdown",
   "id": "e0e7e6e5",
   "metadata": {},
   "source": [
    "## Шаги"
   ]
  },
  {
   "cell_type": "markdown",
   "id": "f8eea452",
   "metadata": {},
   "source": [
    "В ходе исследования необходимо выполнить следующие шаги.\n",
    "\n",
    "1. Обзор и предобработка данных.\n",
    "2. Приоритизация гипотез: выбрать наиболее приоритетные гипотезы из списка, предоставленного отделом маркетинга, с использованием фреймворков ICE и RICE.\n",
    "3. Анализ результатов проведенного A/B-тестирования, который включает в себя следующие задачи:\n",
    "    * визуализация кумулятивной выручки, кумулятивного среднего чека для групп А и В, относительного изменения кумулятивного среднего чека группы B к группе A за период тестирования;\n",
    "    * визуализация кумулятивного среднего количества заказов на посетителя в группах А и В, относительного изменения кумулятивного среднего количества заказов на посетителя группы B к группе A за период тестирования; \n",
    "    * оценка аномалий в данных (количества заказов на одного пользователя и стоимости заказов)\n",
    "    * оценка статистической значимости разницы в среднем количестве заказов на одного пользователя (т.е. конверсии) между группами А и В с учетом и без учёта аномалий (при их наличии);\n",
    "    * оценка статистической значимости разницы среднего чека между группами А и В с учетом и без учёта аномалий (при их наличии)."
   ]
  },
  {
   "cell_type": "markdown",
   "id": "6abba0dd",
   "metadata": {},
   "source": [
    "## Обзор данных."
   ]
  },
  {
   "cell_type": "markdown",
   "id": "124b14ba",
   "metadata": {},
   "source": [
    "Интернет-магазин предоставил 3 файла для исследования. Откроем эти файлы, создадим датафреймы и посмотрим, что за информация в них содержится."
   ]
  },
  {
   "cell_type": "code",
   "execution_count": 1,
   "id": "aee5b676",
   "metadata": {},
   "outputs": [],
   "source": [
    "# импортируем все нужные для этого проекта библиотеки и модули\n",
    "import pandas as pd\n",
    "import seaborn as sns\n",
    "import numpy as np\n",
    "import matplotlib.pyplot as plt\n",
    "import matplotlib.dates as mdates\n",
    "import scipy.stats as stats"
   ]
  },
  {
   "cell_type": "code",
   "execution_count": 2,
   "id": "ddbbed81",
   "metadata": {},
   "outputs": [],
   "source": [
    "# функция для отображение 2 и более датафреймов горизотально (из просторов интернета, используем далее)\n",
    "from IPython.display import display_html\n",
    "from itertools import chain,cycle\n",
    "def display_side_by_side(*args,titles=cycle([''])):\n",
    "    html_str=''\n",
    "    for df,title in zip(args, chain(titles,cycle(['</br>'])) ):\n",
    "        html_str+='<th style=\"text-align:center\"><td style=\"vertical-align:top\">'\n",
    "        html_str+=f'<h2 style=\"text-align: center;\">{title}</h2>'\n",
    "        html_str+=df.to_html().replace('table','table style=\"display:inline\"')\n",
    "        html_str+='</td></th>'\n",
    "    display_html(html_str,raw=True)"
   ]
  },
  {
   "cell_type": "code",
   "execution_count": 3,
   "id": "863cb026",
   "metadata": {
    "scrolled": true
   },
   "outputs": [],
   "source": [
    "hypothesis = pd.read_csv('hypothesis.csv') # открываем локально файл и создаем датафрейм "
   ]
  },
  {
   "cell_type": "code",
   "execution_count": 4,
   "id": "4b643986",
   "metadata": {
    "scrolled": true
   },
   "outputs": [],
   "source": [
    "orders = pd.read_csv('orders.csv') # открываем локально файл и создаем датафрейм"
   ]
  },
  {
   "cell_type": "code",
   "execution_count": 5,
   "id": "763c0c72",
   "metadata": {
    "scrolled": true
   },
   "outputs": [],
   "source": [
    "visitors = pd.read_csv('visitors.csv') # открываем локально файл и создаем датафрейм"
   ]
  },
  {
   "cell_type": "code",
   "execution_count": 6,
   "id": "bd55c4cf",
   "metadata": {},
   "outputs": [
    {
     "name": "stdout",
     "output_type": "stream",
     "text": [
      "<class 'pandas.core.frame.DataFrame'>\n",
      "RangeIndex: 9 entries, 0 to 8\n",
      "Data columns (total 5 columns):\n",
      " #   Column      Non-Null Count  Dtype \n",
      "---  ------      --------------  ----- \n",
      " 0   Hypothesis  9 non-null      object\n",
      " 1   Reach       9 non-null      int64 \n",
      " 2   Impact      9 non-null      int64 \n",
      " 3   Confidence  9 non-null      int64 \n",
      " 4   Efforts     9 non-null      int64 \n",
      "dtypes: int64(4), object(1)\n",
      "memory usage: 492.0+ bytes\n"
     ]
    }
   ],
   "source": [
    "# выведем основную информацию о датафрейме\n",
    "hypothesis.info()"
   ]
  },
  {
   "cell_type": "code",
   "execution_count": 7,
   "id": "fb5473ec",
   "metadata": {},
   "outputs": [],
   "source": [
    "# переведем названия столбцов в нижний регистр\n",
    "hypothesis.columns = hypothesis.columns.str.lower()"
   ]
  },
  {
   "cell_type": "code",
   "execution_count": 8,
   "id": "76eedba3",
   "metadata": {},
   "outputs": [
    {
     "data": {
      "text/html": [
       "<div>\n",
       "<style scoped>\n",
       "    .dataframe tbody tr th:only-of-type {\n",
       "        vertical-align: middle;\n",
       "    }\n",
       "\n",
       "    .dataframe tbody tr th {\n",
       "        vertical-align: top;\n",
       "    }\n",
       "\n",
       "    .dataframe thead th {\n",
       "        text-align: right;\n",
       "    }\n",
       "</style>\n",
       "<table border=\"1\" class=\"dataframe\">\n",
       "  <thead>\n",
       "    <tr style=\"text-align: right;\">\n",
       "      <th></th>\n",
       "      <th>hypothesis</th>\n",
       "      <th>reach</th>\n",
       "      <th>impact</th>\n",
       "      <th>confidence</th>\n",
       "      <th>efforts</th>\n",
       "    </tr>\n",
       "  </thead>\n",
       "  <tbody>\n",
       "    <tr>\n",
       "      <th>0</th>\n",
       "      <td>Добавить два новых канала привлечения трафика, что позволит привлекать на 30% больше пользователей</td>\n",
       "      <td>3</td>\n",
       "      <td>10</td>\n",
       "      <td>8</td>\n",
       "      <td>6</td>\n",
       "    </tr>\n",
       "    <tr>\n",
       "      <th>1</th>\n",
       "      <td>Запустить собственную службу доставки, что сократит срок доставки заказов</td>\n",
       "      <td>2</td>\n",
       "      <td>5</td>\n",
       "      <td>4</td>\n",
       "      <td>10</td>\n",
       "    </tr>\n",
       "    <tr>\n",
       "      <th>2</th>\n",
       "      <td>Добавить блоки рекомендаций товаров на сайт интернет магазина, чтобы повысить конверсию и средний чек заказа</td>\n",
       "      <td>8</td>\n",
       "      <td>3</td>\n",
       "      <td>7</td>\n",
       "      <td>3</td>\n",
       "    </tr>\n",
       "    <tr>\n",
       "      <th>3</th>\n",
       "      <td>Изменить структура категорий, что увеличит конверсию, т.к. пользователи быстрее найдут нужный товар</td>\n",
       "      <td>8</td>\n",
       "      <td>3</td>\n",
       "      <td>3</td>\n",
       "      <td>8</td>\n",
       "    </tr>\n",
       "    <tr>\n",
       "      <th>4</th>\n",
       "      <td>Изменить цвет фона главной страницы, чтобы увеличить вовлеченность пользователей</td>\n",
       "      <td>3</td>\n",
       "      <td>1</td>\n",
       "      <td>1</td>\n",
       "      <td>1</td>\n",
       "    </tr>\n",
       "    <tr>\n",
       "      <th>5</th>\n",
       "      <td>Добавить страницу отзывов клиентов о магазине, что позволит увеличить количество заказов</td>\n",
       "      <td>3</td>\n",
       "      <td>2</td>\n",
       "      <td>2</td>\n",
       "      <td>3</td>\n",
       "    </tr>\n",
       "    <tr>\n",
       "      <th>6</th>\n",
       "      <td>Показать на главной странице баннеры с актуальными акциями и распродажами, чтобы увеличить конверсию</td>\n",
       "      <td>5</td>\n",
       "      <td>3</td>\n",
       "      <td>8</td>\n",
       "      <td>3</td>\n",
       "    </tr>\n",
       "    <tr>\n",
       "      <th>7</th>\n",
       "      <td>Добавить форму подписки на все основные страницы, чтобы собрать базу клиентов для email-рассылок</td>\n",
       "      <td>10</td>\n",
       "      <td>7</td>\n",
       "      <td>8</td>\n",
       "      <td>5</td>\n",
       "    </tr>\n",
       "    <tr>\n",
       "      <th>8</th>\n",
       "      <td>Запустить акцию, дающую скидку на товар в день рождения</td>\n",
       "      <td>1</td>\n",
       "      <td>9</td>\n",
       "      <td>9</td>\n",
       "      <td>5</td>\n",
       "    </tr>\n",
       "  </tbody>\n",
       "</table>\n",
       "</div>"
      ],
      "text/plain": [
       "                                                                                                     hypothesis  \\\n",
       "0            Добавить два новых канала привлечения трафика, что позволит привлекать на 30% больше пользователей   \n",
       "1                                     Запустить собственную службу доставки, что сократит срок доставки заказов   \n",
       "2  Добавить блоки рекомендаций товаров на сайт интернет магазина, чтобы повысить конверсию и средний чек заказа   \n",
       "3           Изменить структура категорий, что увеличит конверсию, т.к. пользователи быстрее найдут нужный товар   \n",
       "4                              Изменить цвет фона главной страницы, чтобы увеличить вовлеченность пользователей   \n",
       "5                      Добавить страницу отзывов клиентов о магазине, что позволит увеличить количество заказов   \n",
       "6          Показать на главной странице баннеры с актуальными акциями и распродажами, чтобы увеличить конверсию   \n",
       "7              Добавить форму подписки на все основные страницы, чтобы собрать базу клиентов для email-рассылок   \n",
       "8                                                       Запустить акцию, дающую скидку на товар в день рождения   \n",
       "\n",
       "   reach  impact  confidence  efforts  \n",
       "0      3      10           8        6  \n",
       "1      2       5           4       10  \n",
       "2      8       3           7        3  \n",
       "3      8       3           3        8  \n",
       "4      3       1           1        1  \n",
       "5      3       2           2        3  \n",
       "6      5       3           8        3  \n",
       "7     10       7           8        5  \n",
       "8      1       9           9        5  "
      ]
     },
     "execution_count": 8,
     "metadata": {},
     "output_type": "execute_result"
    }
   ],
   "source": [
    "# изменим максимальную длину строки при выводе, чтобы прочитать название гипотез полностью\n",
    "pd.options.display.max_colwidth = 150\n",
    "\n",
    "hypothesis.head(9)"
   ]
  },
  {
   "cell_type": "code",
   "execution_count": 9,
   "id": "82c816e0",
   "metadata": {},
   "outputs": [
    {
     "name": "stdout",
     "output_type": "stream",
     "text": [
      "<class 'pandas.core.frame.DataFrame'>\n",
      "RangeIndex: 1197 entries, 0 to 1196\n",
      "Data columns (total 5 columns):\n",
      " #   Column         Non-Null Count  Dtype \n",
      "---  ------         --------------  ----- \n",
      " 0   transactionId  1197 non-null   int64 \n",
      " 1   visitorId      1197 non-null   int64 \n",
      " 2   date           1197 non-null   object\n",
      " 3   revenue        1197 non-null   int64 \n",
      " 4   group          1197 non-null   object\n",
      "dtypes: int64(3), object(2)\n",
      "memory usage: 46.9+ KB\n"
     ]
    }
   ],
   "source": [
    "# выведем основную информацию о датафрейме\n",
    "orders.info()"
   ]
  },
  {
   "cell_type": "code",
   "execution_count": 10,
   "id": "5e190ed5",
   "metadata": {},
   "outputs": [
    {
     "data": {
      "text/html": [
       "<div>\n",
       "<style scoped>\n",
       "    .dataframe tbody tr th:only-of-type {\n",
       "        vertical-align: middle;\n",
       "    }\n",
       "\n",
       "    .dataframe tbody tr th {\n",
       "        vertical-align: top;\n",
       "    }\n",
       "\n",
       "    .dataframe thead th {\n",
       "        text-align: right;\n",
       "    }\n",
       "</style>\n",
       "<table border=\"1\" class=\"dataframe\">\n",
       "  <thead>\n",
       "    <tr style=\"text-align: right;\">\n",
       "      <th></th>\n",
       "      <th>transactionId</th>\n",
       "      <th>visitorId</th>\n",
       "      <th>date</th>\n",
       "      <th>revenue</th>\n",
       "      <th>group</th>\n",
       "    </tr>\n",
       "  </thead>\n",
       "  <tbody>\n",
       "    <tr>\n",
       "      <th>0</th>\n",
       "      <td>3667963787</td>\n",
       "      <td>3312258926</td>\n",
       "      <td>2019-08-15</td>\n",
       "      <td>1650</td>\n",
       "      <td>B</td>\n",
       "    </tr>\n",
       "    <tr>\n",
       "      <th>1</th>\n",
       "      <td>2804400009</td>\n",
       "      <td>3642806036</td>\n",
       "      <td>2019-08-15</td>\n",
       "      <td>730</td>\n",
       "      <td>B</td>\n",
       "    </tr>\n",
       "    <tr>\n",
       "      <th>2</th>\n",
       "      <td>2961555356</td>\n",
       "      <td>4069496402</td>\n",
       "      <td>2019-08-15</td>\n",
       "      <td>400</td>\n",
       "      <td>A</td>\n",
       "    </tr>\n",
       "    <tr>\n",
       "      <th>3</th>\n",
       "      <td>3797467345</td>\n",
       "      <td>1196621759</td>\n",
       "      <td>2019-08-15</td>\n",
       "      <td>9759</td>\n",
       "      <td>B</td>\n",
       "    </tr>\n",
       "    <tr>\n",
       "      <th>4</th>\n",
       "      <td>2282983706</td>\n",
       "      <td>2322279887</td>\n",
       "      <td>2019-08-15</td>\n",
       "      <td>2308</td>\n",
       "      <td>B</td>\n",
       "    </tr>\n",
       "  </tbody>\n",
       "</table>\n",
       "</div>"
      ],
      "text/plain": [
       "   transactionId   visitorId        date  revenue group\n",
       "0     3667963787  3312258926  2019-08-15     1650     B\n",
       "1     2804400009  3642806036  2019-08-15      730     B\n",
       "2     2961555356  4069496402  2019-08-15      400     A\n",
       "3     3797467345  1196621759  2019-08-15     9759     B\n",
       "4     2282983706  2322279887  2019-08-15     2308     B"
      ]
     },
     "execution_count": 10,
     "metadata": {},
     "output_type": "execute_result"
    }
   ],
   "source": [
    "# выведем первые 5 строк\n",
    "orders.head()"
   ]
  },
  {
   "cell_type": "code",
   "execution_count": 11,
   "id": "0867992d",
   "metadata": {},
   "outputs": [],
   "source": [
    "# переведем столбец date в тип datetime\n",
    "orders['date'] = pd.to_datetime(orders['date'])"
   ]
  },
  {
   "cell_type": "code",
   "execution_count": 12,
   "id": "89adb473",
   "metadata": {},
   "outputs": [
    {
     "name": "stdout",
     "output_type": "stream",
     "text": [
      "<class 'pandas.core.frame.DataFrame'>\n",
      "RangeIndex: 1197 entries, 0 to 1196\n",
      "Data columns (total 5 columns):\n",
      " #   Column         Non-Null Count  Dtype         \n",
      "---  ------         --------------  -----         \n",
      " 0   transactionId  1197 non-null   int64         \n",
      " 1   visitorId      1197 non-null   int64         \n",
      " 2   date           1197 non-null   datetime64[ns]\n",
      " 3   revenue        1197 non-null   int64         \n",
      " 4   group          1197 non-null   object        \n",
      "dtypes: datetime64[ns](1), int64(3), object(1)\n",
      "memory usage: 46.9+ KB\n"
     ]
    }
   ],
   "source": [
    "# выведем основную информацию о датафрейме\n",
    "orders.info()"
   ]
  },
  {
   "cell_type": "code",
   "execution_count": 13,
   "id": "dc6db59a",
   "metadata": {},
   "outputs": [
    {
     "data": {
      "text/plain": [
       "0"
      ]
     },
     "execution_count": 13,
     "metadata": {},
     "output_type": "execute_result"
    }
   ],
   "source": [
    "# проверка явных дубликатов\n",
    "orders.duplicated().sum()"
   ]
  },
  {
   "cell_type": "code",
   "execution_count": 14,
   "id": "e55ac6b6",
   "metadata": {},
   "outputs": [
    {
     "name": "stdout",
     "output_type": "stream",
     "text": [
      "Количество заказов за время тестирования в группе А \n"
     ]
    },
    {
     "data": {
      "text/plain": [
       "557"
      ]
     },
     "execution_count": 14,
     "metadata": {},
     "output_type": "execute_result"
    }
   ],
   "source": [
    "print('Количество заказов за время тестирования в группе А ')\n",
    "orders[orders['group'] == 'A']['transactionId'].nunique()"
   ]
  },
  {
   "cell_type": "code",
   "execution_count": 15,
   "id": "f5a951c8",
   "metadata": {},
   "outputs": [
    {
     "name": "stdout",
     "output_type": "stream",
     "text": [
      "Количество заказов за время тестирования в группе B \n"
     ]
    },
    {
     "data": {
      "text/plain": [
       "640"
      ]
     },
     "execution_count": 15,
     "metadata": {},
     "output_type": "execute_result"
    }
   ],
   "source": [
    "print('Количество заказов за время тестирования в группе B ')\n",
    "orders[orders['group'] == 'B']['transactionId'].nunique()"
   ]
  },
  {
   "cell_type": "code",
   "execution_count": 16,
   "id": "d3e50a3b",
   "metadata": {},
   "outputs": [
    {
     "name": "stdout",
     "output_type": "stream",
     "text": [
      "<class 'pandas.core.frame.DataFrame'>\n",
      "RangeIndex: 62 entries, 0 to 61\n",
      "Data columns (total 3 columns):\n",
      " #   Column    Non-Null Count  Dtype \n",
      "---  ------    --------------  ----- \n",
      " 0   date      62 non-null     object\n",
      " 1   group     62 non-null     object\n",
      " 2   visitors  62 non-null     int64 \n",
      "dtypes: int64(1), object(2)\n",
      "memory usage: 1.6+ KB\n"
     ]
    }
   ],
   "source": [
    "# выведем основную информацию о датафрейме\n",
    "visitors.info()"
   ]
  },
  {
   "cell_type": "code",
   "execution_count": 17,
   "id": "2102755c",
   "metadata": {},
   "outputs": [
    {
     "data": {
      "text/html": [
       "<div>\n",
       "<style scoped>\n",
       "    .dataframe tbody tr th:only-of-type {\n",
       "        vertical-align: middle;\n",
       "    }\n",
       "\n",
       "    .dataframe tbody tr th {\n",
       "        vertical-align: top;\n",
       "    }\n",
       "\n",
       "    .dataframe thead th {\n",
       "        text-align: right;\n",
       "    }\n",
       "</style>\n",
       "<table border=\"1\" class=\"dataframe\">\n",
       "  <thead>\n",
       "    <tr style=\"text-align: right;\">\n",
       "      <th></th>\n",
       "      <th>date</th>\n",
       "      <th>group</th>\n",
       "      <th>visitors</th>\n",
       "    </tr>\n",
       "  </thead>\n",
       "  <tbody>\n",
       "    <tr>\n",
       "      <th>0</th>\n",
       "      <td>2019-08-01</td>\n",
       "      <td>A</td>\n",
       "      <td>719</td>\n",
       "    </tr>\n",
       "    <tr>\n",
       "      <th>1</th>\n",
       "      <td>2019-08-02</td>\n",
       "      <td>A</td>\n",
       "      <td>619</td>\n",
       "    </tr>\n",
       "    <tr>\n",
       "      <th>2</th>\n",
       "      <td>2019-08-03</td>\n",
       "      <td>A</td>\n",
       "      <td>507</td>\n",
       "    </tr>\n",
       "    <tr>\n",
       "      <th>3</th>\n",
       "      <td>2019-08-04</td>\n",
       "      <td>A</td>\n",
       "      <td>717</td>\n",
       "    </tr>\n",
       "    <tr>\n",
       "      <th>4</th>\n",
       "      <td>2019-08-05</td>\n",
       "      <td>A</td>\n",
       "      <td>756</td>\n",
       "    </tr>\n",
       "  </tbody>\n",
       "</table>\n",
       "</div>"
      ],
      "text/plain": [
       "         date group  visitors\n",
       "0  2019-08-01     A       719\n",
       "1  2019-08-02     A       619\n",
       "2  2019-08-03     A       507\n",
       "3  2019-08-04     A       717\n",
       "4  2019-08-05     A       756"
      ]
     },
     "execution_count": 17,
     "metadata": {},
     "output_type": "execute_result"
    }
   ],
   "source": [
    "# выведем первые 5 строк\n",
    "visitors.head()"
   ]
  },
  {
   "cell_type": "code",
   "execution_count": 18,
   "id": "d028774a",
   "metadata": {},
   "outputs": [
    {
     "data": {
      "text/plain": [
       "0"
      ]
     },
     "execution_count": 18,
     "metadata": {},
     "output_type": "execute_result"
    }
   ],
   "source": [
    "# проверка явных дубликатов\n",
    "visitors.duplicated().sum()"
   ]
  },
  {
   "cell_type": "code",
   "execution_count": 19,
   "id": "225ab5a7",
   "metadata": {},
   "outputs": [],
   "source": [
    "# переведем столбец date в тип datetime\n",
    "visitors['date'] = pd.to_datetime(visitors['date'])"
   ]
  },
  {
   "cell_type": "code",
   "execution_count": 20,
   "id": "f8cc2e71",
   "metadata": {},
   "outputs": [
    {
     "name": "stdout",
     "output_type": "stream",
     "text": [
      "Дата начала тестирования 2019-08-01 00:00:00\n",
      "Дата конца тестирования 2019-08-31 00:00:00\n"
     ]
    }
   ],
   "source": [
    "print('Дата начала тестирования', visitors['date'].min())\n",
    "print('Дата конца тестирования', visitors['date'].max())"
   ]
  },
  {
   "cell_type": "code",
   "execution_count": 21,
   "id": "0f7721bd",
   "metadata": {
    "scrolled": false
   },
   "outputs": [
    {
     "name": "stdout",
     "output_type": "stream",
     "text": [
      "Количество пользователей, посетивших сайт, за время тестирования в группе А \n"
     ]
    },
    {
     "data": {
      "text/plain": [
       "18736"
      ]
     },
     "execution_count": 21,
     "metadata": {},
     "output_type": "execute_result"
    }
   ],
   "source": [
    "print('Количество пользователей, посетивших сайт, за время тестирования в группе А ')\n",
    "visitors[visitors['group'] == 'A']['visitors'].sum()"
   ]
  },
  {
   "cell_type": "code",
   "execution_count": 22,
   "id": "0d12238b",
   "metadata": {
    "scrolled": false
   },
   "outputs": [
    {
     "name": "stdout",
     "output_type": "stream",
     "text": [
      "Количество пользователей, посетивших сайт, за время тестирования в группе В \n"
     ]
    },
    {
     "data": {
      "text/plain": [
       "18916"
      ]
     },
     "execution_count": 22,
     "metadata": {},
     "output_type": "execute_result"
    }
   ],
   "source": [
    "print('Количество пользователей, посетивших сайт, за время тестирования в группе В ')\n",
    "visitors[visitors['group'] == 'B']['visitors'].sum()"
   ]
  },
  {
   "cell_type": "markdown",
   "id": "11c35c05",
   "metadata": {},
   "source": [
    "### Вывод по разделу"
   ]
  },
  {
   "cell_type": "markdown",
   "id": "395262f5",
   "metadata": {},
   "source": [
    "Интернет-магазином было предоставлено 3 файла для исследования.\n",
    "\n",
    "На основе файла hypothesis.csv был создан датафрейм `hypothesis` c данными о 9 гипотезах, которые были сформулированы компанией с целью увеличения выручки. Датафрейм содержит 5 столбцов со следующей информацией:\n",
    "\n",
    "* hypothesis — краткое описание гипотезы;\n",
    "* reach — охват пользователей по 10-балльной шкале;\n",
    "* impact — влияние на пользователей по 10-балльной шкале;\n",
    "* confidence — уверенность в гипотезе по 10-балльной шкале;\n",
    "* efforts — затраты ресурсов на проверку гипотезы по 10-балльной шкале.\n",
    "\n",
    "Названия столбцов были перевены в нижний регистр.\n",
    "\n",
    "На основе файла orders.csv был создан датафрейм `orders` с данными о 1197 совершенных заказах пользователях. Датафрейм содержит 5 столбцов со следующей информацией:\n",
    "* transactionId - идентификатор заказа;\n",
    "*  visitorId - идентификатор пользователя, совершившего заказ;\n",
    "*  date - дата, когда был совершён заказ;\n",
    "*  revenue - выручка заказа;\n",
    "*  group - группа A/B-теста, в которую попал заказ.\n",
    "Дубликатов в датафрейме не обнаружено, столбец с датой `date` был переведен в тип datetime.\n",
    "\n",
    "На основе файла visitors.csv был создан датафрейм `visitors` с данными о количествен посещений пользователей за 31 день проведения теста в группах А и В (всего 62 записи). Датафрейм содержит 3 столбца со следующей информацией:\n",
    "\n",
    "*  date - дата, когда был совершён заказ;\n",
    "*  group - группа A/B-теста, в которую попал заказ;\n",
    "*  visitors - количество пользователей в указанную дату в указанной группе A/B-теста.\n",
    "Дубликатов в датафрейме не обнаружено, столбец с датой был переведен в тип datetime.\n",
    "\n",
    "Тестирование проводилось **с 1 по 31 августа 2019 г.**\n",
    "В группу А попали 18736, совершивших 557 заказов. В группу В попали 18916 пользователей, совершивших 640 заказов."
   ]
  },
  {
   "cell_type": "markdown",
   "id": "6de4d795",
   "metadata": {},
   "source": [
    "## Приоритизация гипотез"
   ]
  },
  {
   "cell_type": "markdown",
   "id": "a5c95e3b",
   "metadata": {},
   "source": [
    "В файле hypothesis.csv содержится 9 гипотез для увеличения выручки интернет-магазина с указанными параметрами Reach, Impact, Confidence, Effort.\n",
    "Используем фрейморки ICE и RICE для выбора наиболее приоритетных гипотез."
   ]
  },
  {
   "cell_type": "markdown",
   "id": "edb6d486",
   "metadata": {},
   "source": [
    "### Расчёт приоритета с использованием фреймфорков ICE и RICE."
   ]
  },
  {
   "cell_type": "markdown",
   "id": "26c52e4a",
   "metadata": {},
   "source": [
    "Фреймфорк **ICE** рассчитывается по следующей формуле: "
   ]
  },
  {
   "cell_type": "markdown",
   "id": "55a8046d",
   "metadata": {},
   "source": [
    "`ICE SCORE = Impact * Confidence / Efforts` , где\n",
    "\n",
    "* Impact - насколько сильно изменение повлияет на пользователей, их опыт и удовлетворение от продукта;\n",
    "* Confidence - насколько вы уверены, что это изменение повлияет на пользователей именно так; \n",
    "* Efforts - сколько стоит протестировать эту гипотезу. "
   ]
  },
  {
   "cell_type": "code",
   "execution_count": 23,
   "id": "3e616f7f",
   "metadata": {},
   "outputs": [],
   "source": [
    "# добавляем столбец в датафрейм с расчетом приоритета с использованием фреймворка RICE  \n",
    "hypothesis['ICE'] = (hypothesis['impact'] * hypothesis['confidence']) / hypothesis['efforts'] "
   ]
  },
  {
   "cell_type": "markdown",
   "id": "11551a5e",
   "metadata": {},
   "source": [
    "Рассчитаем приоритет гипотез с использованием фреймфорка RICE. В этом фреймфорке значение приорититета рассчитывается по аналогичной формуле, но с добавлением параметра `Reach` :\n",
    "\n",
    "`RICE = Reach * Impact * Confidence / Efforts` , где\n",
    "\n",
    "* Reach -  показатель того, скольких пользователей затронет изменение"
   ]
  },
  {
   "cell_type": "code",
   "execution_count": 24,
   "id": "01586f29",
   "metadata": {},
   "outputs": [],
   "source": [
    "# добавляем столбец в датафрейм с расчетом приоритета с использованием фреймворка RICE  \n",
    "hypothesis['RICE'] = (hypothesis['reach'] * hypothesis['impact'] * hypothesis['confidence']) / hypothesis['efforts'] "
   ]
  },
  {
   "cell_type": "code",
   "execution_count": 25,
   "id": "e37a461d",
   "metadata": {},
   "outputs": [],
   "source": [
    "# временный датафрейм для вывода с сортировкой гипотез по убыванию приоритета ICE\n",
    "temp1 = hypothesis[['hypothesis', 'ICE']].sort_values(by='ICE', ascending=False).style.background_gradient(sns.light_palette(\"brown\", as_cmap=True))                   "
   ]
  },
  {
   "cell_type": "code",
   "execution_count": 26,
   "id": "8f9c84a4",
   "metadata": {},
   "outputs": [],
   "source": [
    "# временный датафрейм для вывода с сортировкой гипотез по убыванию приоритета RICE\n",
    "temp2 = hypothesis[['hypothesis', 'RICE', 'reach']].sort_values(by='RICE', ascending=False).style.background_gradient(sns.light_palette(\"brown\", as_cmap=True))  "
   ]
  },
  {
   "cell_type": "code",
   "execution_count": 27,
   "id": "b66410fd",
   "metadata": {},
   "outputs": [
    {
     "data": {
      "text/html": [
       "<th style=\"text-align:center\"><td style=\"vertical-align:top\"><h2 style=\"text-align: center;\"></h2><style type=\"text/css\">\n",
       "#T_2694e_row0_col1 {\n",
       "  background-color: #a52a2a;\n",
       "  color: #f1f1f1;\n",
       "}\n",
       "#T_2694e_row1_col1 {\n",
       "  background-color: #b44f4f;\n",
       "  color: #f1f1f1;\n",
       "}\n",
       "#T_2694e_row2_col1 {\n",
       "  background-color: #be6b6b;\n",
       "  color: #f1f1f1;\n",
       "}\n",
       "#T_2694e_row3_col1 {\n",
       "  background-color: #cf9595;\n",
       "  color: #f1f1f1;\n",
       "}\n",
       "#T_2694e_row4_col1 {\n",
       "  background-color: #d4a2a2;\n",
       "  color: #000000;\n",
       "}\n",
       "#T_2694e_row5_col1 {\n",
       "  background-color: #ede4e4;\n",
       "  color: #000000;\n",
       "}\n",
       "#T_2694e_row6_col1 {\n",
       "  background-color: #f1ecec;\n",
       "  color: #000000;\n",
       "}\n",
       "#T_2694e_row7_col1 {\n",
       "  background-color: #f2efef;\n",
       "  color: #000000;\n",
       "}\n",
       "#T_2694e_row8_col1 {\n",
       "  background-color: #f2f0f0;\n",
       "  color: #000000;\n",
       "}\n",
       "</style>\n",
       "<table style=\"display:inline\" id=\"T_2694e\">\n",
       "  <thead>\n",
       "    <tr>\n",
       "      <th class=\"blank level0\" >&nbsp;</th>\n",
       "      <th id=\"T_2694e_level0_col0\" class=\"col_heading level0 col0\" >hypothesis</th>\n",
       "      <th id=\"T_2694e_level0_col1\" class=\"col_heading level0 col1\" >ICE</th>\n",
       "    </tr>\n",
       "  </thead>\n",
       "  <tbody>\n",
       "    <tr>\n",
       "      <th id=\"T_2694e_level0_row0\" class=\"row_heading level0 row0\" >8</th>\n",
       "      <td id=\"T_2694e_row0_col0\" class=\"data row0 col0\" >Запустить акцию, дающую скидку на товар в день рождения</td>\n",
       "      <td id=\"T_2694e_row0_col1\" class=\"data row0 col1\" >16.200000</td>\n",
       "    </tr>\n",
       "    <tr>\n",
       "      <th id=\"T_2694e_level0_row1\" class=\"row_heading level0 row1\" >0</th>\n",
       "      <td id=\"T_2694e_row1_col0\" class=\"data row1 col0\" >Добавить два новых канала привлечения трафика, что позволит привлекать на 30% больше пользователей</td>\n",
       "      <td id=\"T_2694e_row1_col1\" class=\"data row1 col1\" >13.333333</td>\n",
       "    </tr>\n",
       "    <tr>\n",
       "      <th id=\"T_2694e_level0_row2\" class=\"row_heading level0 row2\" >7</th>\n",
       "      <td id=\"T_2694e_row2_col0\" class=\"data row2 col0\" >Добавить форму подписки на все основные страницы, чтобы собрать базу клиентов для email-рассылок</td>\n",
       "      <td id=\"T_2694e_row2_col1\" class=\"data row2 col1\" >11.200000</td>\n",
       "    </tr>\n",
       "    <tr>\n",
       "      <th id=\"T_2694e_level0_row3\" class=\"row_heading level0 row3\" >6</th>\n",
       "      <td id=\"T_2694e_row3_col0\" class=\"data row3 col0\" >Показать на главной странице баннеры с актуальными акциями и распродажами, чтобы увеличить конверсию</td>\n",
       "      <td id=\"T_2694e_row3_col1\" class=\"data row3 col1\" >8.000000</td>\n",
       "    </tr>\n",
       "    <tr>\n",
       "      <th id=\"T_2694e_level0_row4\" class=\"row_heading level0 row4\" >2</th>\n",
       "      <td id=\"T_2694e_row4_col0\" class=\"data row4 col0\" >Добавить блоки рекомендаций товаров на сайт интернет магазина, чтобы повысить конверсию и средний чек заказа</td>\n",
       "      <td id=\"T_2694e_row4_col1\" class=\"data row4 col1\" >7.000000</td>\n",
       "    </tr>\n",
       "    <tr>\n",
       "      <th id=\"T_2694e_level0_row5\" class=\"row_heading level0 row5\" >1</th>\n",
       "      <td id=\"T_2694e_row5_col0\" class=\"data row5 col0\" >Запустить собственную службу доставки, что сократит срок доставки заказов</td>\n",
       "      <td id=\"T_2694e_row5_col1\" class=\"data row5 col1\" >2.000000</td>\n",
       "    </tr>\n",
       "    <tr>\n",
       "      <th id=\"T_2694e_level0_row6\" class=\"row_heading level0 row6\" >5</th>\n",
       "      <td id=\"T_2694e_row6_col0\" class=\"data row6 col0\" >Добавить страницу отзывов клиентов о магазине, что позволит увеличить количество заказов</td>\n",
       "      <td id=\"T_2694e_row6_col1\" class=\"data row6 col1\" >1.333333</td>\n",
       "    </tr>\n",
       "    <tr>\n",
       "      <th id=\"T_2694e_level0_row7\" class=\"row_heading level0 row7\" >3</th>\n",
       "      <td id=\"T_2694e_row7_col0\" class=\"data row7 col0\" >Изменить структура категорий, что увеличит конверсию, т.к. пользователи быстрее найдут нужный товар</td>\n",
       "      <td id=\"T_2694e_row7_col1\" class=\"data row7 col1\" >1.125000</td>\n",
       "    </tr>\n",
       "    <tr>\n",
       "      <th id=\"T_2694e_level0_row8\" class=\"row_heading level0 row8\" >4</th>\n",
       "      <td id=\"T_2694e_row8_col0\" class=\"data row8 col0\" >Изменить цвет фона главной страницы, чтобы увеличить вовлеченность пользователей</td>\n",
       "      <td id=\"T_2694e_row8_col1\" class=\"data row8 col1\" >1.000000</td>\n",
       "    </tr>\n",
       "  </tbody>\n",
       "</table style=\"display:inline\">\n",
       "</td></th><th style=\"text-align:center\"><td style=\"vertical-align:top\"><h2 style=\"text-align: center;\"></h2><style type=\"text/css\">\n",
       "#T_c1b6d_row0_col1, #T_c1b6d_row0_col2 {\n",
       "  background-color: #a52a2a;\n",
       "  color: #f1f1f1;\n",
       "}\n",
       "#T_c1b6d_row1_col1 {\n",
       "  background-color: #cd9090;\n",
       "  color: #f1f1f1;\n",
       "}\n",
       "#T_c1b6d_row1_col2, #T_c1b6d_row5_col2 {\n",
       "  background-color: #b65656;\n",
       "  color: #f1f1f1;\n",
       "}\n",
       "#T_c1b6d_row2_col1, #T_c1b6d_row3_col1 {\n",
       "  background-color: #d8adad;\n",
       "  color: #000000;\n",
       "}\n",
       "#T_c1b6d_row2_col2, #T_c1b6d_row7_col2, #T_c1b6d_row8_col2 {\n",
       "  background-color: #e1c5c5;\n",
       "  color: #000000;\n",
       "}\n",
       "#T_c1b6d_row3_col2 {\n",
       "  background-color: #d09898;\n",
       "  color: #f1f1f1;\n",
       "}\n",
       "#T_c1b6d_row4_col1 {\n",
       "  background-color: #e9d8d8;\n",
       "  color: #000000;\n",
       "}\n",
       "#T_c1b6d_row4_col2, #T_c1b6d_row8_col1 {\n",
       "  background-color: #f2f0f0;\n",
       "  color: #000000;\n",
       "}\n",
       "#T_c1b6d_row5_col1 {\n",
       "  background-color: #eee5e5;\n",
       "  color: #000000;\n",
       "}\n",
       "#T_c1b6d_row6_col1, #T_c1b6d_row7_col1 {\n",
       "  background-color: #f2efef;\n",
       "  color: #000000;\n",
       "}\n",
       "#T_c1b6d_row6_col2 {\n",
       "  background-color: #eadada;\n",
       "  color: #000000;\n",
       "}\n",
       "</style>\n",
       "<table style=\"display:inline\" id=\"T_c1b6d\">\n",
       "  <thead>\n",
       "    <tr>\n",
       "      <th class=\"blank level0\" >&nbsp;</th>\n",
       "      <th id=\"T_c1b6d_level0_col0\" class=\"col_heading level0 col0\" >hypothesis</th>\n",
       "      <th id=\"T_c1b6d_level0_col1\" class=\"col_heading level0 col1\" >RICE</th>\n",
       "      <th id=\"T_c1b6d_level0_col2\" class=\"col_heading level0 col2\" >reach</th>\n",
       "    </tr>\n",
       "  </thead>\n",
       "  <tbody>\n",
       "    <tr>\n",
       "      <th id=\"T_c1b6d_level0_row0\" class=\"row_heading level0 row0\" >7</th>\n",
       "      <td id=\"T_c1b6d_row0_col0\" class=\"data row0 col0\" >Добавить форму подписки на все основные страницы, чтобы собрать базу клиентов для email-рассылок</td>\n",
       "      <td id=\"T_c1b6d_row0_col1\" class=\"data row0 col1\" >112.000000</td>\n",
       "      <td id=\"T_c1b6d_row0_col2\" class=\"data row0 col2\" >10</td>\n",
       "    </tr>\n",
       "    <tr>\n",
       "      <th id=\"T_c1b6d_level0_row1\" class=\"row_heading level0 row1\" >2</th>\n",
       "      <td id=\"T_c1b6d_row1_col0\" class=\"data row1 col0\" >Добавить блоки рекомендаций товаров на сайт интернет магазина, чтобы повысить конверсию и средний чек заказа</td>\n",
       "      <td id=\"T_c1b6d_row1_col1\" class=\"data row1 col1\" >56.000000</td>\n",
       "      <td id=\"T_c1b6d_row1_col2\" class=\"data row1 col2\" >8</td>\n",
       "    </tr>\n",
       "    <tr>\n",
       "      <th id=\"T_c1b6d_level0_row2\" class=\"row_heading level0 row2\" >0</th>\n",
       "      <td id=\"T_c1b6d_row2_col0\" class=\"data row2 col0\" >Добавить два новых канала привлечения трафика, что позволит привлекать на 30% больше пользователей</td>\n",
       "      <td id=\"T_c1b6d_row2_col1\" class=\"data row2 col1\" >40.000000</td>\n",
       "      <td id=\"T_c1b6d_row2_col2\" class=\"data row2 col2\" >3</td>\n",
       "    </tr>\n",
       "    <tr>\n",
       "      <th id=\"T_c1b6d_level0_row3\" class=\"row_heading level0 row3\" >6</th>\n",
       "      <td id=\"T_c1b6d_row3_col0\" class=\"data row3 col0\" >Показать на главной странице баннеры с актуальными акциями и распродажами, чтобы увеличить конверсию</td>\n",
       "      <td id=\"T_c1b6d_row3_col1\" class=\"data row3 col1\" >40.000000</td>\n",
       "      <td id=\"T_c1b6d_row3_col2\" class=\"data row3 col2\" >5</td>\n",
       "    </tr>\n",
       "    <tr>\n",
       "      <th id=\"T_c1b6d_level0_row4\" class=\"row_heading level0 row4\" >8</th>\n",
       "      <td id=\"T_c1b6d_row4_col0\" class=\"data row4 col0\" >Запустить акцию, дающую скидку на товар в день рождения</td>\n",
       "      <td id=\"T_c1b6d_row4_col1\" class=\"data row4 col1\" >16.200000</td>\n",
       "      <td id=\"T_c1b6d_row4_col2\" class=\"data row4 col2\" >1</td>\n",
       "    </tr>\n",
       "    <tr>\n",
       "      <th id=\"T_c1b6d_level0_row5\" class=\"row_heading level0 row5\" >3</th>\n",
       "      <td id=\"T_c1b6d_row5_col0\" class=\"data row5 col0\" >Изменить структура категорий, что увеличит конверсию, т.к. пользователи быстрее найдут нужный товар</td>\n",
       "      <td id=\"T_c1b6d_row5_col1\" class=\"data row5 col1\" >9.000000</td>\n",
       "      <td id=\"T_c1b6d_row5_col2\" class=\"data row5 col2\" >8</td>\n",
       "    </tr>\n",
       "    <tr>\n",
       "      <th id=\"T_c1b6d_level0_row6\" class=\"row_heading level0 row6\" >1</th>\n",
       "      <td id=\"T_c1b6d_row6_col0\" class=\"data row6 col0\" >Запустить собственную службу доставки, что сократит срок доставки заказов</td>\n",
       "      <td id=\"T_c1b6d_row6_col1\" class=\"data row6 col1\" >4.000000</td>\n",
       "      <td id=\"T_c1b6d_row6_col2\" class=\"data row6 col2\" >2</td>\n",
       "    </tr>\n",
       "    <tr>\n",
       "      <th id=\"T_c1b6d_level0_row7\" class=\"row_heading level0 row7\" >5</th>\n",
       "      <td id=\"T_c1b6d_row7_col0\" class=\"data row7 col0\" >Добавить страницу отзывов клиентов о магазине, что позволит увеличить количество заказов</td>\n",
       "      <td id=\"T_c1b6d_row7_col1\" class=\"data row7 col1\" >4.000000</td>\n",
       "      <td id=\"T_c1b6d_row7_col2\" class=\"data row7 col2\" >3</td>\n",
       "    </tr>\n",
       "    <tr>\n",
       "      <th id=\"T_c1b6d_level0_row8\" class=\"row_heading level0 row8\" >4</th>\n",
       "      <td id=\"T_c1b6d_row8_col0\" class=\"data row8 col0\" >Изменить цвет фона главной страницы, чтобы увеличить вовлеченность пользователей</td>\n",
       "      <td id=\"T_c1b6d_row8_col1\" class=\"data row8 col1\" >3.000000</td>\n",
       "      <td id=\"T_c1b6d_row8_col2\" class=\"data row8 col2\" >3</td>\n",
       "    </tr>\n",
       "  </tbody>\n",
       "</table style=\"display:inline\">\n",
       "</td></th>"
      ]
     },
     "metadata": {},
     "output_type": "display_data"
    }
   ],
   "source": [
    "display_side_by_side(temp1, temp2)"
   ]
  },
  {
   "cell_type": "markdown",
   "id": "0bfc01b4",
   "metadata": {},
   "source": [
    "### Вывод по разделу"
   ]
  },
  {
   "cell_type": "markdown",
   "id": "aae53d44",
   "metadata": {},
   "source": [
    "Наиболее приоритетные гипотезы о способе увеличения выручки интернет-магазина с использованием фреймфорка **ICE** (гипотезы представлены по убыванию приоритета):\n",
    "1. Запустить акцию, дающую скидку на товар в день рождения.\t(8)\n",
    "2. Добавить два новых канала привлечения трафика, что позволит привлекать на 30% больше пользователей (0).\t\n",
    "3. Добавить форму подписки на все основные страницы, чтобы собрать базу клиентов для email-рассылок (7).\n",
    "4. Показать на главной странице баннеры с актуальными акциями и распродажами, чтобы увеличить конверсию ( 6).\n",
    "5. Добавить блоки рекомендаций товаров на сайт интернет магазина, чтобы повысить конверсию и средний чек заказа (2).\n",
    "\n",
    "У гипотез 8, 0 и 7 высокие показатели Impact и Confidence и средний Efforts, у гипотез 6 и 2 также высокий показатель Confidence, а Impact = Efforts (эти показатели в формуле сокращаются и не влияют на приоритет).\n",
    "\n",
    "После применения фреймформа **RICE** с учетом параметра Reach набор наиболее перспективных гипотез остался таким же, однако их рейтинг изменился (гипотезы представлены по убыванию приоритета):\n",
    "1. Добавить форму подписки на все основные страницы, чтобы собрать базу клиентов для email-рассылок (7)\n",
    "2. Добавить блоки рекомендаций товаров на сайт интернет магазина, чтобы повысить конверсию и средний чек заказа (2)\n",
    "3. Добавить два новых канала привлечения трафика, что позволит привлекать на 30% больше пользователей (0)\t\n",
    "4. Показать на главной странице баннеры с актуальными акциями и распродажами, чтобы увеличить конверсию. (6) \n",
    "5. Запустить акцию, дающую скидку на товар в день рождения. (8)\n",
    "\n",
    "На первое место вышла гипотеза 7 (у нее максимальный параметр Reach), далее гипотезы № 2, 0, 6, 8.\n",
    "Гипотеза 3, несмотря на большое значение Reach, в пятерку не вошла (из-за невысокого Impact). А Гипотеза 8, несмотря на низкий reach, осталась на 5 месте на счет высоких показателей Impact, Confidence."
   ]
  },
  {
   "cell_type": "markdown",
   "id": "e324e0b7",
   "metadata": {},
   "source": [
    "## Анализ результатов A/B теста."
   ]
  },
  {
   "cell_type": "markdown",
   "id": "358f2848",
   "metadata": {},
   "source": [
    "Результаты A/B-теста содержатся в датафреймах `orders` и `visitors`.\n"
   ]
  },
  {
   "cell_type": "markdown",
   "id": "6c78f0db",
   "metadata": {},
   "source": [
    "### График кумулятивной выручки."
   ]
  },
  {
   "cell_type": "markdown",
   "id": "8f399a53",
   "metadata": {},
   "source": [
    "Построим график кумулятивной выручки для групп А и В по дням."
   ]
  },
  {
   "cell_type": "code",
   "execution_count": 28,
   "id": "3f6ce1dd",
   "metadata": {},
   "outputs": [],
   "source": [
    "# создаем массив уникальных пар значений дат и групп теста\n",
    "datesGroups = orders[['date','group']].drop_duplicates()"
   ]
  },
  {
   "cell_type": "code",
   "execution_count": 29,
   "id": "07aabc7a",
   "metadata": {},
   "outputs": [],
   "source": [
    "# получаем агрегированные кумулятивные по дням данные о заказах \n",
    "ordersAggregated = datesGroups.apply(lambda x: orders[np.logical_and(orders['date'] <= x['date'], orders['group'] == x['group'])].agg({'date' : 'max', 'group' : 'max', 'transactionId' : 'nunique', 'visitorId' : 'nunique', 'revenue' : 'sum'}), axis=1).sort_values(by=['date','group'])"
   ]
  },
  {
   "cell_type": "code",
   "execution_count": 30,
   "id": "0cefb6ba",
   "metadata": {},
   "outputs": [],
   "source": [
    "# получаем агрегированные кумулятивные по дням данные о посетителях интернет-магазина \n",
    "visitorsAggregated = datesGroups.apply(lambda x: visitors[np.logical_and(visitors['date'] <= x['date'], visitors['group'] == x['group'])].agg({'date' : 'max', 'group' : 'max', 'visitors' : 'sum'}), axis=1).sort_values(by=['date','group'])"
   ]
  },
  {
   "cell_type": "code",
   "execution_count": 31,
   "id": "09f579d4",
   "metadata": {},
   "outputs": [
    {
     "name": "stdout",
     "output_type": "stream",
     "text": [
      "        date group  orders  buyers  revenue  visitors\n",
      "0 2019-08-01     A      24      20   148579       719\n",
      "1 2019-08-01     B      21      20   101217       713\n",
      "2 2019-08-02     A      44      38   242401      1338\n",
      "3 2019-08-02     B      45      43   266748      1294\n",
      "4 2019-08-03     A      68      62   354874      1845\n"
     ]
    }
   ],
   "source": [
    "# объединяем кумулятивные данные в одной таблице и присваиваем ее столбцам понятные названия\n",
    "cumulativeData = ordersAggregated.merge(visitorsAggregated, left_on=['date', 'group'], right_on=['date', 'group'])\n",
    "cumulativeData.columns = ['date', 'group', 'orders', 'buyers', 'revenue', 'visitors']\n",
    "\n",
    "# выводим первые 5 строк\n",
    "print(cumulativeData.head(5))"
   ]
  },
  {
   "cell_type": "code",
   "execution_count": 32,
   "id": "50d91e7b",
   "metadata": {},
   "outputs": [
    {
     "data": {
      "image/png": "[encoded data removed]",
      "text/plain": [
       "<Figure size 640x480 with 1 Axes>"
      ]
     },
     "metadata": {},
     "output_type": "display_data"
    }
   ],
   "source": [
    "# датафрейм с кумулятивным количеством заказов и кумулятивной выручкой по дням в группе А\n",
    "cumulativeRevenueA = cumulativeData[cumulativeData['group']=='A'][['date','revenue', 'orders']]\n",
    "\n",
    "# датафрейм с кумулятивным количеством заказов и кумулятивной выручкой по дням в группе B\n",
    "cumulativeRevenueB = cumulativeData[cumulativeData['group']=='B'][['date','revenue', 'orders']]\n",
    "\n",
    "# Строим 2 графика на 1 холсте\n",
    "fig, ax = plt.subplots()\n",
    "# Строим график выручки группы А\n",
    "plt.plot(cumulativeRevenueA['date'], cumulativeRevenueA['revenue']/1000000, label='A')\n",
    "# Строим график выручки группы B\n",
    "plt.plot(cumulativeRevenueB['date'], cumulativeRevenueB['revenue']/1000000, label='B')\n",
    "plt.grid()\n",
    "plt.xticks(rotation=45)\n",
    "plt.xlabel('Дата')\n",
    "plt.ylabel('Выручка, млн ')\n",
    "plt.title('График кумулятивной выручки по дням в группах А и В')\n",
    "\n",
    "# добавляем промежуточные метки с шагом 1 день на ось Х\n",
    "days = mdates.DayLocator()\n",
    "ax.xaxis.set_minor_locator(days)\n",
    "plt.legend() \n",
    "plt.show()"
   ]
  },
  {
   "cell_type": "markdown",
   "id": "cc51b635",
   "metadata": {},
   "source": [
    "Кумулятивная выручка групп А и В увеличивается в течение периода тестирования. Кумулятивная выручка группы А ниже чем у группы В начиная с 5ого дня тестирования (кроме 13ого дня).\n",
    "На графике кумулятивной выручки группы B наблюдается резкий скачок 18 августа, в этот день мог произойти всплеск числа заказов или могли появиться очень дорогие заказы в выборке."
   ]
  },
  {
   "cell_type": "markdown",
   "id": "781b3ebe",
   "metadata": {},
   "source": [
    "### График кумулятивного среднего чека по группам."
   ]
  },
  {
   "cell_type": "code",
   "execution_count": 33,
   "id": "5aa63a82",
   "metadata": {},
   "outputs": [
    {
     "data": {
      "image/png": "[encoded data removed]",
      "text/plain": [
       "<Figure size 640x480 with 1 Axes>"
      ]
     },
     "metadata": {},
     "output_type": "display_data"
    }
   ],
   "source": [
    "# Строим 2 графика на 1 холсте\n",
    "fig, ax = plt.subplots()\n",
    "\n",
    "# Строим график среднего чека группы А\n",
    "plt.plot(cumulativeRevenueA['date'], cumulativeRevenueA['revenue']/cumulativeRevenueA['orders'], label='A')\n",
    "# Строим график среднего чека группы B\n",
    "plt.plot(cumulativeRevenueB['date'], cumulativeRevenueB['revenue']/cumulativeRevenueB['orders'], label='B')\n",
    "\n",
    "plt.grid()\n",
    "plt.xticks(rotation=45)\n",
    "# добавляем промежуточные метки с шагом 1 день на ось Х\n",
    "ax.xaxis.set_minor_locator(days)\n",
    "plt.xlabel('Дата')\n",
    "plt.ylabel('Средний чек')\n",
    "plt.title('График кумулятивного среднего чека по дням в группах А и В')\n",
    "plt.legend()\n",
    "plt.show()\n",
    "\n"
   ]
  },
  {
   "cell_type": "markdown",
   "id": "26d19a59",
   "metadata": {},
   "source": [
    "Средний чек группы В превышает средний чек группы А почти все время тестирования (за исключения 1 и 11-15 августа).\n",
    "При этом у графика кумулятивного среднего чека группы В наблюдается резкий скачок 19 августа, после чего наблюдается снижение.\n",
    "Возможно, в группу B 19 августа попали крупные заказы (резкий всплеск на графике). Тогда для этой группы нужно больше данных, чтобы прийти к реальному среднему чеку и установиться на его уровне.\n",
    "График группы А сначала снижается до 6 августа, затем растет до 13 августа и устанавливается на значениях около 7000 с 14 августа."
   ]
  },
  {
   "cell_type": "markdown",
   "id": "4b843f24",
   "metadata": {},
   "source": [
    "### График относительного различия для среднего чека."
   ]
  },
  {
   "cell_type": "code",
   "execution_count": 34,
   "id": "c250a8dd",
   "metadata": {},
   "outputs": [
    {
     "data": {
      "image/png": "[encoded data removed]",
      "text/plain": [
       "<Figure size 640x480 with 1 Axes>"
      ]
     },
     "metadata": {},
     "output_type": "display_data"
    }
   ],
   "source": [
    "# собираем данные о кумулятивной выручке групп А и В в одном датафрейме\n",
    "mergedCumulativeRevenue = cumulativeRevenueA.merge(cumulativeRevenueB, left_on='date', right_on='date', how='left', suffixes=['A', 'B'])\n",
    "\n",
    "fig, ax = plt.subplots()\n",
    "# cтроим отношение средних чеков\n",
    "plt.plot(mergedCumulativeRevenue['date'], (\n",
    "    mergedCumulativeRevenue['revenueB']/mergedCumulativeRevenue['ordersB'])/(\n",
    "    mergedCumulativeRevenue['revenueA']/mergedCumulativeRevenue['ordersA'])-1)\n",
    "\n",
    "# добавляем прямую y-0\n",
    "plt.axhline(y=0, color='black', linestyle='--')\n",
    "\n",
    "# добавляем прямую y=0.26\n",
    "plt.axhline(y=0.26, color='grey', linestyle='--')\n",
    "\n",
    "plt.grid()\n",
    "plt.xticks(rotation=45)\n",
    "# добавляем промежуточные метки с шагом 1 день на ось Х\n",
    "ax.xaxis.set_minor_locator(days)\n",
    "plt.xlabel('Дата')\n",
    "plt.ylabel('ср.чек В / ср.чек А - 1')\n",
    "plt.title('График относительного изменения кумулятивного среднего чека группы B к группе A.')\n",
    "plt.show()"
   ]
  },
  {
   "cell_type": "markdown",
   "id": "92a99272",
   "metadata": {},
   "source": [
    "Большую чать периода тестирования кумулятивный средний чек группы В превышал кумулятивный средний чек группы А (за исключением 1 августа, 11-15 августа).\n",
    "На графике наблюдаются резкие скачки в периоды 1-4, 7-13, 18-19 августа - в эти дни наблюдаются наибольшие различия кумулятивного среднего чека между сегментами А и В.\n",
    "Только к концу периода тестирование с 28-29 августа график начинает устанавливаться на уровне значения 0.26. Требуется больше данных, чтобы определить установился график или нет."
   ]
  },
  {
   "cell_type": "markdown",
   "id": "0ea81be5",
   "metadata": {},
   "source": [
    "### График кумулятивного среднего количества заказов на посетителя по группам."
   ]
  },
  {
   "cell_type": "code",
   "execution_count": 35,
   "id": "c75e8adc",
   "metadata": {},
   "outputs": [
    {
     "data": {
      "image/png": "[encoded data removed]",
      "text/plain": [
       "<Figure size 640x480 with 1 Axes>"
      ]
     },
     "metadata": {},
     "output_type": "display_data"
    }
   ],
   "source": [
    "# считаем среднее количество заказов на посетителя, то есть конверсию\n",
    "cumulativeData['conversion'] = cumulativeData['orders']/cumulativeData['visitors']\n",
    "\n",
    "# отделяем данные по группе A\n",
    "cumulativeDataA = cumulativeData[cumulativeData['group']=='A']\n",
    "\n",
    "# отделяем данные по группе B\n",
    "cumulativeDataB = cumulativeData[cumulativeData['group']=='B']\n",
    "\n",
    "fig, ax = plt.subplots()\n",
    "# строим графики\n",
    "plt.plot(cumulativeDataA['date'], cumulativeDataA['conversion'], label='A')\n",
    "plt.plot(cumulativeDataB['date'], cumulativeDataB['conversion'], label='B')\n",
    "plt.legend()\n",
    "plt.grid()\n",
    "plt.xticks(rotation=45)\n",
    "# добавляем промежуточные метки с шагом 1 день на ось Х\n",
    "ax.xaxis.set_minor_locator(days)\n",
    "plt.xlabel('Дата')\n",
    "plt.ylabel('Число заказов')\n",
    "plt.title('График кумулятивного среднего количества заказов на посетителя по группам.')\n",
    "\n",
    "# задаем масштаб осей\n",
    "plt.ylim(0, 0.04)\n",
    "plt.show()"
   ]
  },
  {
   "cell_type": "markdown",
   "id": "c42162f3",
   "metadata": {},
   "source": [
    "Кумулятивное среднее число заказов на посетителя у группы А было больше, чем у группы В только начале теста до 6 августа (за исключением 2 августа). В остальной период тестирования у группы В число заказов больше. Среднее число заказов у обеих групп стабилизировалось с 9 августа: у группы А на уровне 0.03 заказа на посетителя, у группы В - 0.034 заказа на посетителя."
   ]
  },
  {
   "cell_type": "markdown",
   "id": "74775bf4",
   "metadata": {},
   "source": [
    "### График относительного изменения кумулятивного среднего количества заказов на посетителя группы B к группе A "
   ]
  },
  {
   "cell_type": "code",
   "execution_count": 36,
   "id": "20d55234",
   "metadata": {},
   "outputs": [
    {
     "data": {
      "image/png": "[encoded data removed]",
      "text/plain": [
       "<Figure size 640x480 with 1 Axes>"
      ]
     },
     "metadata": {},
     "output_type": "display_data"
    }
   ],
   "source": [
    "# собираем данные о кумулятивной конверсии групп А и В в одном датафрейме\n",
    "mergedCumulativeConversions = cumulativeDataA[['date','conversion']].merge(cumulativeDataB[['date','conversion']], left_on='date', right_on='date', how='left', suffixes=['A', 'B'])\n",
    "\n",
    "# строим графики на 1 холсте\n",
    "fig, ax = plt.subplots()\n",
    "# строим график отношения кумулятивной конверсии группы В к группе А\n",
    "plt.plot(mergedCumulativeConversions['date'], mergedCumulativeConversions['conversionB']/mergedCumulativeConversions['conversionA']-1, label=\"Относительный прирост кумулятивного среднего количества заказов на посетителя группы B относительно группы A\")\n",
    "plt.grid()\n",
    "plt.xticks(rotation=45)\n",
    "# добавляем промежуточные метки с шагом 1 день на ось Х\n",
    "ax.xaxis.set_minor_locator(days)\n",
    "plt.xlabel('Дата')\n",
    "plt.ylabel('Отношение')\n",
    "plt.title('График относительного изменения кумулятивного среднего количества заказов на посетителя группы B к группе A.')\n",
    "# добавляем прямую y=0\n",
    "plt.axhline(y=0, color='black', linestyle='--')\n",
    "# добавляем прямую y=0.125\n",
    "plt.axhline(y=0.125, color='grey', linestyle='--')\n",
    "plt.show()"
   ]
  },
  {
   "cell_type": "markdown",
   "id": "d4b33283",
   "metadata": {},
   "source": [
    "С 6 августа среднее число заказов на посетителя у группы В стабильно больше, чем в группы А. Отношение среднего число заказов на посетителя для группы В к группе А резко растет до 15-17 августа, затем немного уменьшается начиная с середины теста (17 августа) и установилось на значениях 0.1-0.15.\n"
   ]
  },
  {
   "cell_type": "markdown",
   "id": "31d36c6d",
   "metadata": {},
   "source": [
    "### Точечный график количества заказов."
   ]
  },
  {
   "cell_type": "markdown",
   "id": "b315e8eb",
   "metadata": {},
   "source": [
    "Рассчитаем количество заказов на 1 пользователя."
   ]
  },
  {
   "cell_type": "code",
   "execution_count": 37,
   "id": "1657b7c1",
   "metadata": {},
   "outputs": [
    {
     "data": {
      "text/html": [
       "<div>\n",
       "<style scoped>\n",
       "    .dataframe tbody tr th:only-of-type {\n",
       "        vertical-align: middle;\n",
       "    }\n",
       "\n",
       "    .dataframe tbody tr th {\n",
       "        vertical-align: top;\n",
       "    }\n",
       "\n",
       "    .dataframe thead th {\n",
       "        text-align: right;\n",
       "    }\n",
       "</style>\n",
       "<table border=\"1\" class=\"dataframe\">\n",
       "  <thead>\n",
       "    <tr style=\"text-align: right;\">\n",
       "      <th></th>\n",
       "      <th>userId</th>\n",
       "      <th>orders</th>\n",
       "    </tr>\n",
       "  </thead>\n",
       "  <tbody>\n",
       "    <tr>\n",
       "      <th>1023</th>\n",
       "      <td>4256040402</td>\n",
       "      <td>11</td>\n",
       "    </tr>\n",
       "    <tr>\n",
       "      <th>591</th>\n",
       "      <td>2458001652</td>\n",
       "      <td>11</td>\n",
       "    </tr>\n",
       "    <tr>\n",
       "      <th>569</th>\n",
       "      <td>2378935119</td>\n",
       "      <td>9</td>\n",
       "    </tr>\n",
       "    <tr>\n",
       "      <th>487</th>\n",
       "      <td>2038680547</td>\n",
       "      <td>8</td>\n",
       "    </tr>\n",
       "    <tr>\n",
       "      <th>44</th>\n",
       "      <td>199603092</td>\n",
       "      <td>5</td>\n",
       "    </tr>\n",
       "  </tbody>\n",
       "</table>\n",
       "</div>"
      ],
      "text/plain": [
       "          userId  orders\n",
       "1023  4256040402      11\n",
       "591   2458001652      11\n",
       "569   2378935119       9\n",
       "487   2038680547       8\n",
       "44     199603092       5"
      ]
     },
     "execution_count": 37,
     "metadata": {},
     "output_type": "execute_result"
    }
   ],
   "source": [
    "# сгруппируем датафрейм по visitorId, рассчитаем число уникальных заказов на каждого пользователя\n",
    "ordersByUsers = (\n",
    "    orders.groupby('visitorId', as_index=False)\n",
    "    .agg({'transactionId': 'nunique'})\n",
    ")\n",
    "\n",
    "# переименуем азвания столбцов\n",
    "ordersByUsers.columns = ['userId', 'orders']\n",
    "\n",
    "# выведем топ-5 пользователей по количеству заказов\n",
    "ordersByUsers.sort_values(by='orders', ascending=False).head()"
   ]
  },
  {
   "cell_type": "code",
   "execution_count": 38,
   "id": "5df60a0d",
   "metadata": {},
   "outputs": [
    {
     "data": {
      "image/png": "[encoded data removed]",
      "text/plain": [
       "<Figure size 640x480 with 1 Axes>"
      ]
     },
     "metadata": {},
     "output_type": "display_data"
    }
   ],
   "source": [
    "# считаем число пользователей, созадем список от 0 до этого числа - 1 (индексы пользователей для графика)\n",
    "x_values = pd.Series(range(0,len(ordersByUsers)))\n",
    "\n",
    "# строим точечную диаграмму\n",
    "plt.scatter(x_values, ordersByUsers['orders'], alpha = 0.6)\n",
    "\n",
    "listOf_Yticks = np.arange(0, 12, 1)\n",
    "plt.yticks(listOf_Yticks)\n",
    "\n",
    "plt.xlabel('Пользователи')\n",
    "plt.ylabel('Количество заказов')\n",
    "plt.title('Точечная диаграмма количества заказов на одного пользователя')\n",
    "plt.show()"
   ]
  },
  {
   "cell_type": "markdown",
   "id": "5c1de23f",
   "metadata": {},
   "source": [
    "Больше всего пользователей делали 1 заказ, также многие пользователи оформляли 2 заказа. Значительно реже пользователи оформляли 3 и более заказов."
   ]
  },
  {
   "cell_type": "markdown",
   "id": "2f1d5821",
   "metadata": {},
   "source": [
    "### 95 и 99 перцентили количества заказов на 1 пользователя."
   ]
  },
  {
   "cell_type": "markdown",
   "id": "2fe8ff93",
   "metadata": {},
   "source": [
    "Рассчитаем 95-й и 99-й выборочные перцентили количества заказов на одного пользователя."
   ]
  },
  {
   "cell_type": "code",
   "execution_count": 39,
   "id": "db9600a6",
   "metadata": {},
   "outputs": [
    {
     "name": "stdout",
     "output_type": "stream",
     "text": [
      "[2. 4.]\n"
     ]
    }
   ],
   "source": [
    "print(np.percentile(ordersByUsers['orders'], [95, 99])) "
   ]
  },
  {
   "cell_type": "markdown",
   "id": "00252314",
   "metadata": {},
   "source": [
    "Не более 5% пользователей оформляли больше чем 2 (т. е. 3 и более) заказа, не более 1 % пользователей оформляли более 4 заказов. \n",
    "Выберем за **верхнюю границу числа заказов на одного пользователя 2 заказа** и отсеим аномальных пользователей по ней далее. "
   ]
  },
  {
   "cell_type": "markdown",
   "id": "3d719949",
   "metadata": {},
   "source": [
    "### Точечный график стоимостей заказов."
   ]
  },
  {
   "cell_type": "code",
   "execution_count": 40,
   "id": "654736b5",
   "metadata": {},
   "outputs": [
    {
     "data": {
      "image/png": "[encoded data removed]",
      "text/plain": [
       "<Figure size 640x480 with 1 Axes>"
      ]
     },
     "metadata": {},
     "output_type": "display_data"
    }
   ],
   "source": [
    "# считаем число пользователей, созадем список от 0 до этого числа - 1 (индексы пользователей для графика)\n",
    "x_values = pd.Series(range(0,len(orders['revenue'])))\n",
    "\n",
    "# строим точечную диаграмму стоимости заказов \n",
    "plt.scatter(x_values, orders['revenue'], s=5, marker =\"o\", alpha = 0.5) \n",
    "plt.xlabel('Заказы')\n",
    "plt.ylabel('Стоимость заказов')\n",
    "plt.title('Точечная диаграмма стоимости заказов')\n",
    "plt.show()"
   ]
  },
  {
   "cell_type": "code",
   "execution_count": 41,
   "id": "a4cc6f03",
   "metadata": {},
   "outputs": [
    {
     "data": {
      "image/png": "[encoded data removed]",
      "text/plain": [
       "<Figure size 640x480 with 1 Axes>"
      ]
     },
     "metadata": {},
     "output_type": "display_data"
    }
   ],
   "source": [
    "x_values = pd.Series(range(0,len(orders['revenue'])))\n",
    "plt.scatter(x_values, orders['revenue'], s=5, marker =\"o\", alpha = 0.5) \n",
    "plt.ylim(0,250000)\n",
    "plt.xlabel('Заказы')\n",
    "plt.ylabel('Стоимость заказов')\n",
    "plt.title('Точечная диаграмма стоимости заказов')\n",
    "plt.axhline(y=30000, color='black', linestyle='--')\n",
    "plt.show()"
   ]
  },
  {
   "cell_type": "markdown",
   "id": "f7bd175a",
   "metadata": {},
   "source": [
    "На общем графике выделяются 2 очень дорогих заказа со стоимостью около 200 000 и 1 300 000 .\n",
    "Если уменьшить масштаб оси y до 250 000, то видно, что основная часть заказов имеет стоимость менее 30 000 р. Уточним границу аномально больших заказов с помощью расчета перцентилей ниже."
   ]
  },
  {
   "cell_type": "markdown",
   "id": "da3a2097",
   "metadata": {},
   "source": [
    "Узнаем, в какие даты совершались 2 самых дорогих заказа."
   ]
  },
  {
   "cell_type": "code",
   "execution_count": 42,
   "id": "e4c09261",
   "metadata": {},
   "outputs": [
    {
     "data": {
      "text/html": [
       "<div>\n",
       "<style scoped>\n",
       "    .dataframe tbody tr th:only-of-type {\n",
       "        vertical-align: middle;\n",
       "    }\n",
       "\n",
       "    .dataframe tbody tr th {\n",
       "        vertical-align: top;\n",
       "    }\n",
       "\n",
       "    .dataframe thead th {\n",
       "        text-align: right;\n",
       "    }\n",
       "</style>\n",
       "<table border=\"1\" class=\"dataframe\">\n",
       "  <thead>\n",
       "    <tr style=\"text-align: right;\">\n",
       "      <th></th>\n",
       "      <th>date</th>\n",
       "      <th>revenue</th>\n",
       "      <th>group</th>\n",
       "    </tr>\n",
       "  </thead>\n",
       "  <tbody>\n",
       "    <tr>\n",
       "      <th>1196</th>\n",
       "      <td>2019-08-15</td>\n",
       "      <td>202740</td>\n",
       "      <td>B</td>\n",
       "    </tr>\n",
       "  </tbody>\n",
       "</table>\n",
       "</div>"
      ],
      "text/plain": [
       "           date  revenue group\n",
       "1196 2019-08-15   202740     B"
      ]
     },
     "execution_count": 42,
     "metadata": {},
     "output_type": "execute_result"
    }
   ],
   "source": [
    "orders[(orders['revenue'] > 200000) & (orders['revenue'] < 250000)][['date', 'revenue','group']]"
   ]
  },
  {
   "cell_type": "markdown",
   "id": "76db3f07",
   "metadata": {},
   "source": [
    "Заказ стоимостью около 202 740 был совершен 15 августа в группе B, на графике кумулятивной выручки и среднего чека он не сильно отразился."
   ]
  },
  {
   "cell_type": "code",
   "execution_count": 43,
   "id": "627177d9",
   "metadata": {},
   "outputs": [
    {
     "data": {
      "text/html": [
       "<div>\n",
       "<style scoped>\n",
       "    .dataframe tbody tr th:only-of-type {\n",
       "        vertical-align: middle;\n",
       "    }\n",
       "\n",
       "    .dataframe tbody tr th {\n",
       "        vertical-align: top;\n",
       "    }\n",
       "\n",
       "    .dataframe thead th {\n",
       "        text-align: right;\n",
       "    }\n",
       "</style>\n",
       "<table border=\"1\" class=\"dataframe\">\n",
       "  <thead>\n",
       "    <tr style=\"text-align: right;\">\n",
       "      <th></th>\n",
       "      <th>date</th>\n",
       "      <th>revenue</th>\n",
       "      <th>group</th>\n",
       "    </tr>\n",
       "  </thead>\n",
       "  <tbody>\n",
       "    <tr>\n",
       "      <th>425</th>\n",
       "      <td>2019-08-19</td>\n",
       "      <td>1294500</td>\n",
       "      <td>B</td>\n",
       "    </tr>\n",
       "  </tbody>\n",
       "</table>\n",
       "</div>"
      ],
      "text/plain": [
       "          date  revenue group\n",
       "425 2019-08-19  1294500     B"
      ]
     },
     "execution_count": 43,
     "metadata": {},
     "output_type": "execute_result"
    }
   ],
   "source": [
    "orders[orders['revenue'] > 1000000][['date', 'revenue','group']]"
   ]
  },
  {
   "cell_type": "markdown",
   "id": "5daa9a4c",
   "metadata": {},
   "source": [
    "Аномальный заказ стоимостью около **1 294 500** был совершен **19 августа** в группе B, он и является причиной резкого скачка на графиках кумулятивной выручки и среднего чека."
   ]
  },
  {
   "cell_type": "markdown",
   "id": "6465d98a",
   "metadata": {},
   "source": [
    "### 95-й и 99-й перцентили стоимости заказов."
   ]
  },
  {
   "cell_type": "code",
   "execution_count": 44,
   "id": "9552cf37",
   "metadata": {},
   "outputs": [
    {
     "data": {
      "text/plain": [
       "array([28000. , 58233.2])"
      ]
     },
     "execution_count": 44,
     "metadata": {},
     "output_type": "execute_result"
    }
   ],
   "source": [
    "np.percentile(orders['revenue'], [95, 99])"
   ]
  },
  {
   "cell_type": "markdown",
   "id": "1574babf",
   "metadata": {},
   "source": [
    "В предоставленных данных не более 5% заказов дороже 28 000  и не более 1% дороже 58233.2 . Выберем в качестве верхней границы стоимости заказов в 28 000 для отсеивания аномальных пользователей далее."
   ]
  },
  {
   "cell_type": "markdown",
   "id": "62f30772",
   "metadata": {},
   "source": [
    "### Cтатистическую значимость различий в среднем количестве заказов на посетителя между группами по «сырым» данным. "
   ]
  },
  {
   "cell_type": "markdown",
   "id": "f4648432",
   "metadata": {},
   "source": [
    "Посчитаем статистическую значимость различий **в среднем числе заказов на пользователя** между группами по «сырым» данным — без удаления аномальных пользователей.\n",
    "Сформулируем гипотезы.\n",
    "\n",
    "**Нулевая гипотеза H0**: различий в среднем количестве заказов между группами нет.\n",
    "\n",
    "**Альтернативная гипотеза H1**: различия в среднем между группами есть."
   ]
  },
  {
   "cell_type": "markdown",
   "id": "7a8eec8e",
   "metadata": {},
   "source": [
    "Создадим датафрейм `data` с агрегированными данными для дальнейших расчётов."
   ]
  },
  {
   "cell_type": "code",
   "execution_count": 45,
   "id": "6cb28894",
   "metadata": {
    "scrolled": true
   },
   "outputs": [
    {
     "data": {
      "text/html": [
       "<div>\n",
       "<style scoped>\n",
       "    .dataframe tbody tr th:only-of-type {\n",
       "        vertical-align: middle;\n",
       "    }\n",
       "\n",
       "    .dataframe tbody tr th {\n",
       "        vertical-align: top;\n",
       "    }\n",
       "\n",
       "    .dataframe thead th {\n",
       "        text-align: right;\n",
       "    }\n",
       "</style>\n",
       "<table border=\"1\" class=\"dataframe\">\n",
       "  <thead>\n",
       "    <tr style=\"text-align: right;\">\n",
       "      <th></th>\n",
       "      <th>date</th>\n",
       "      <th>ordersPerDateA</th>\n",
       "      <th>revenuePerDateA</th>\n",
       "      <th>ordersPerDateB</th>\n",
       "      <th>revenuePerDateB</th>\n",
       "      <th>ordersCummulativeA</th>\n",
       "      <th>revenueCummulativeA</th>\n",
       "      <th>ordersCummulativeB</th>\n",
       "      <th>revenueCummulativeB</th>\n",
       "      <th>visitorsPerDateA</th>\n",
       "      <th>visitorsPerDateB</th>\n",
       "      <th>visitorsCummulativeA</th>\n",
       "      <th>visitorsCummulativeB</th>\n",
       "    </tr>\n",
       "  </thead>\n",
       "  <tbody>\n",
       "    <tr>\n",
       "      <th>0</th>\n",
       "      <td>2019-08-01</td>\n",
       "      <td>24</td>\n",
       "      <td>148579</td>\n",
       "      <td>21</td>\n",
       "      <td>101217</td>\n",
       "      <td>24</td>\n",
       "      <td>148579</td>\n",
       "      <td>21</td>\n",
       "      <td>101217</td>\n",
       "      <td>719</td>\n",
       "      <td>713</td>\n",
       "      <td>719</td>\n",
       "      <td>713</td>\n",
       "    </tr>\n",
       "    <tr>\n",
       "      <th>1</th>\n",
       "      <td>2019-08-02</td>\n",
       "      <td>20</td>\n",
       "      <td>93822</td>\n",
       "      <td>24</td>\n",
       "      <td>165531</td>\n",
       "      <td>44</td>\n",
       "      <td>242401</td>\n",
       "      <td>45</td>\n",
       "      <td>266748</td>\n",
       "      <td>619</td>\n",
       "      <td>581</td>\n",
       "      <td>1338</td>\n",
       "      <td>1294</td>\n",
       "    </tr>\n",
       "    <tr>\n",
       "      <th>2</th>\n",
       "      <td>2019-08-03</td>\n",
       "      <td>24</td>\n",
       "      <td>112473</td>\n",
       "      <td>16</td>\n",
       "      <td>114248</td>\n",
       "      <td>68</td>\n",
       "      <td>354874</td>\n",
       "      <td>61</td>\n",
       "      <td>380996</td>\n",
       "      <td>507</td>\n",
       "      <td>509</td>\n",
       "      <td>1845</td>\n",
       "      <td>1803</td>\n",
       "    </tr>\n",
       "    <tr>\n",
       "      <th>3</th>\n",
       "      <td>2019-08-04</td>\n",
       "      <td>16</td>\n",
       "      <td>70825</td>\n",
       "      <td>17</td>\n",
       "      <td>108571</td>\n",
       "      <td>84</td>\n",
       "      <td>425699</td>\n",
       "      <td>78</td>\n",
       "      <td>489567</td>\n",
       "      <td>717</td>\n",
       "      <td>770</td>\n",
       "      <td>2562</td>\n",
       "      <td>2573</td>\n",
       "    </tr>\n",
       "    <tr>\n",
       "      <th>4</th>\n",
       "      <td>2019-08-05</td>\n",
       "      <td>25</td>\n",
       "      <td>124218</td>\n",
       "      <td>23</td>\n",
       "      <td>92428</td>\n",
       "      <td>109</td>\n",
       "      <td>549917</td>\n",
       "      <td>101</td>\n",
       "      <td>581995</td>\n",
       "      <td>756</td>\n",
       "      <td>707</td>\n",
       "      <td>3318</td>\n",
       "      <td>3280</td>\n",
       "    </tr>\n",
       "  </tbody>\n",
       "</table>\n",
       "</div>"
      ],
      "text/plain": [
       "        date  ordersPerDateA  revenuePerDateA  ordersPerDateB  \\\n",
       "0 2019-08-01              24           148579              21   \n",
       "1 2019-08-02              20            93822              24   \n",
       "2 2019-08-03              24           112473              16   \n",
       "3 2019-08-04              16            70825              17   \n",
       "4 2019-08-05              25           124218              23   \n",
       "\n",
       "   revenuePerDateB  ordersCummulativeA  revenueCummulativeA  \\\n",
       "0           101217                  24               148579   \n",
       "1           165531                  44               242401   \n",
       "2           114248                  68               354874   \n",
       "3           108571                  84               425699   \n",
       "4            92428                 109               549917   \n",
       "\n",
       "   ordersCummulativeB  revenueCummulativeB  visitorsPerDateA  \\\n",
       "0                  21               101217               719   \n",
       "1                  45               266748               619   \n",
       "2                  61               380996               507   \n",
       "3                  78               489567               717   \n",
       "4                 101               581995               756   \n",
       "\n",
       "   visitorsPerDateB  visitorsCummulativeA  visitorsCummulativeB  \n",
       "0               713                   719                   713  \n",
       "1               581                  1338                  1294  \n",
       "2               509                  1845                  1803  \n",
       "3               770                  2562                  2573  \n",
       "4               707                  3318                  3280  "
      ]
     },
     "execution_count": 45,
     "metadata": {},
     "output_type": "execute_result"
    }
   ],
   "source": [
    "visitorsADaily = visitors[visitors['group'] == 'A'][['date', 'visitors']]\n",
    "visitorsADaily.columns = ['date', 'visitorsPerDateA']\n",
    "\n",
    "visitorsACummulative = visitorsADaily.apply(\n",
    "    lambda x: visitorsADaily[visitorsADaily['date'] <= x['date']].agg(\n",
    "        {'date': 'max', 'visitorsPerDateA': 'sum'}\n",
    "    ),\n",
    "    axis=1,\n",
    ")\n",
    "visitorsACummulative.columns = ['date', 'visitorsCummulativeA']\n",
    "\n",
    "visitorsBDaily = visitors[visitors['group'] == 'B'][['date', 'visitors']]\n",
    "visitorsBDaily.columns = ['date', 'visitorsPerDateB']\n",
    "\n",
    "visitorsBCummulative = visitorsBDaily.apply(\n",
    "    lambda x: visitorsBDaily[visitorsBDaily['date'] <= x['date']].agg(\n",
    "        {'date': 'max', 'visitorsPerDateB': 'sum'}\n",
    "    ),\n",
    "    axis=1,\n",
    ")\n",
    "visitorsBCummulative.columns = ['date', 'visitorsCummulativeB']\n",
    "\n",
    "ordersADaily = (\n",
    "    orders[orders['group'] == 'A'][['date', 'transactionId', 'visitorId', 'revenue']]\n",
    "    .groupby('date', as_index=False)\n",
    "    .agg({'transactionId': pd.Series.nunique, 'revenue': 'sum'})\n",
    ")\n",
    "ordersADaily.columns = ['date', 'ordersPerDateA', 'revenuePerDateA']\n",
    "\n",
    "ordersACummulative = ordersADaily.apply(\n",
    "    lambda x: ordersADaily[ordersADaily['date'] <= x['date']].agg(\n",
    "        {'date': 'max', 'ordersPerDateA': 'sum', 'revenuePerDateA': 'sum'}\n",
    "    ),\n",
    "    axis=1,\n",
    ").sort_values(by=['date'])\n",
    "ordersACummulative.columns = [\n",
    "    'date',\n",
    "    'ordersCummulativeA',\n",
    "    'revenueCummulativeA',\n",
    "]\n",
    "\n",
    "ordersBDaily = (\n",
    "    orders[orders['group'] == 'B'][['date', 'transactionId', 'visitorId', 'revenue']]\n",
    "    .groupby('date', as_index=False)\n",
    "    .agg({'transactionId': pd.Series.nunique, 'revenue': 'sum'})\n",
    ")\n",
    "ordersBDaily.columns = ['date', 'ordersPerDateB', 'revenuePerDateB']\n",
    "\n",
    "ordersBCummulative = ordersBDaily.apply(\n",
    "    lambda x: ordersBDaily[ordersBDaily['date'] <= x['date']].agg(\n",
    "        {'date': 'max', 'ordersPerDateB': 'sum', 'revenuePerDateB': 'sum'}\n",
    "    ),\n",
    "    axis=1,\n",
    ").sort_values(by=['date'])\n",
    "ordersBCummulative.columns = [\n",
    "    'date',\n",
    "    'ordersCummulativeB',\n",
    "    'revenueCummulativeB',\n",
    "]\n",
    "\n",
    "data = (\n",
    "    ordersADaily.merge(\n",
    "        ordersBDaily, left_on='date', right_on='date', how='left'\n",
    "    )\n",
    "    .merge(ordersACummulative, left_on='date', right_on='date', how='left')\n",
    "    .merge(ordersBCummulative, left_on='date', right_on='date', how='left')\n",
    "    .merge(visitorsADaily, left_on='date', right_on='date', how='left')\n",
    "    .merge(visitorsBDaily, left_on='date', right_on='date', how='left')\n",
    "    .merge(visitorsACummulative, left_on='date', right_on='date', how='left')\n",
    "    .merge(visitorsBCummulative, left_on='date', right_on='date', how='left')\n",
    ")\n",
    "\n",
    "data.head()"
   ]
  },
  {
   "cell_type": "markdown",
   "id": "9e119934",
   "metadata": {},
   "source": [
    "Датафрейм содержит 13 столбцов со следующей информацией:\n",
    "* `date` — дата;\n",
    "* `ordersPerDateA` — количество заказов в выбранную дату в группе A;\n",
    "* `revenuePerDateA` — суммарная выручка в выбранную дату в группе A;\n",
    "* `ordersPerDateB` — количество заказов в выбранную дату в группе B;\n",
    "* `revenuePerDateB` — суммарная выручка в выбранную дату в группе B;\n",
    "* `ordersCummulativeA` — суммарное число заказов до выбранной даты включительно в группе A;\n",
    "* `revenueCummulativeA` — суммарная выручка до выбранной даты включительно в группе A;\n",
    "* `ordersCummulativeB` — суммарное количество заказов до выбранной даты включительно в группе B;\n",
    "* `revenueCummulativeB` — суммарная выручка до выбранной даты включительно в группе B;\n",
    "* `visitorsPerDateA` — количество пользователей в выбранную дату в группе A;\n",
    "* `visitorsPerDateB` — количество пользователей в выбранную дату в группе B;\n",
    "* `visitorsCummulativeA` — количество пользователей до выбранной даты включительно в группе A;\n",
    "* `visitorsCummulativeB` — количество пользователей до выбранной даты включительно в группе B."
   ]
  },
  {
   "cell_type": "markdown",
   "id": "30dd6887",
   "metadata": {},
   "source": [
    "Посчитаем **статистическую значимость различия в среднем количестве заказов между группами**.\n",
    "Создадим переменные `ordersByUsersA` и `ordersByUsersB` со столбцами `userId, orders` для группы А и В соответственно. Для пользователей, которые заказывали хотя бы 1 раз, укажем число совершённых заказов. "
   ]
  },
  {
   "cell_type": "code",
   "execution_count": 46,
   "id": "627a03c7",
   "metadata": {},
   "outputs": [],
   "source": [
    "# датафрейм с числом заказов на пользователя группы А\n",
    "ordersByUsersA = (\n",
    "    orders[orders['group'] == 'A']\n",
    "    .groupby('visitorId', as_index=False)\n",
    "    .agg({'transactionId': pd.Series.nunique})\n",
    ")\n",
    "# переименуем столбцы\n",
    "ordersByUsersA.columns = ['userId', 'orders']\n",
    "\n",
    "# датафрейм с числом заказов на пользователя группы А\n",
    "ordersByUsersB = (\n",
    "    orders[orders['group'] == 'B']\n",
    "    .groupby('visitorId', as_index=False)\n",
    "    .agg({'transactionId': pd.Series.nunique})\n",
    ")\n",
    "# переименуем столбцы\n",
    "ordersByUsersB.columns = ['userId', 'orders']"
   ]
  },
  {
   "cell_type": "markdown",
   "id": "21146765",
   "metadata": {},
   "source": [
    "Объявим переменные `sampleA` и `sampleB`, в которых пользователям из разных групп будет соответствовать количество заказов. Тем, кто ничего не заказал, будут соответствовать нули."
   ]
  },
  {
   "cell_type": "code",
   "execution_count": 47,
   "id": "94a3e8bf",
   "metadata": {},
   "outputs": [],
   "source": [
    "sampleA = pd.concat([ordersByUsersA['orders'],pd.Series(0,\n",
    "                     index=np.arange(data['visitorsPerDateA'].sum() - len(ordersByUsersA['orders'])),\n",
    "                     name='orders')],axis=0)\n",
    "\n",
    "sampleB = pd.concat([ordersByUsersB['orders'],pd.Series(0, \n",
    "                     index=np.arange(data['visitorsPerDateB'].sum() - len(ordersByUsersB['orders'])),\n",
    "                     name='orders')],axis=0)"
   ]
  },
  {
   "cell_type": "markdown",
   "id": "46647f3c",
   "metadata": {},
   "source": [
    "Для расчёта статистической значимости различий в среднем числе заказов будем использовать **критерий Манна-Уитни**, так как согласно построенными выше графикам, данные содержат сильные выбросы.\n",
    "Среднее число заказов будем рассчитывать как среднее по выборкам `sampleA` и `sampleB` (так как число элементов выборки - это число всех пользователей (в том числе с нулевыми заказами), сумма элементов - количество заказов)."
   ]
  },
  {
   "cell_type": "code",
   "execution_count": 48,
   "id": "7b2405b2",
   "metadata": {},
   "outputs": [
    {
     "name": "stdout",
     "output_type": "stream",
     "text": [
      "p-value 0.017\n",
      "Относительная разница в среднем количестве заказов между группами В и А 0.138\n",
      "Отвергаем нулевую гипотезу о равенстве среднего количества заказов группы А и В\n"
     ]
    }
   ],
   "source": [
    "# задаем уровень значимости для этого и следующих стат.тестов\n",
    "alpha = 0.05\n",
    "\n",
    "# считаем p-value с помощью критерия Манна-Уитни\n",
    "p_value = stats.mannwhitneyu(sampleA, sampleB)[1]\n",
    "\n",
    "print('p-value', \"{0:.3f}\".format(stats.mannwhitneyu(sampleA, sampleB)[1]))\n",
    "print('Относительная разница в среднем количестве заказов между группами В и А', \"{0:.3f}\".\n",
    "      format(sampleB.mean() / sampleA.mean() - 1))\n",
    "\n",
    "if p_value < alpha:\n",
    "    print('Отвергаем нулевую гипотезу о равенстве среднего количества заказов группы А и В')\n",
    "else:\n",
    "    print('Не отвергаем нулевую гипотезу о равенстве среднего количества заказов группы А и В')"
   ]
  },
  {
   "cell_type": "markdown",
   "id": "8bd5c47f",
   "metadata": {},
   "source": [
    "Согласно проведенному тесту, p-value получился меньше 0.05 из-за чего мы **отвергли нулевую гипотезу о равенстве среднего количества заказов на посетителя в группах А и В** в пользу **альтернативной о том, что между средними количествами заказов на посетителя в группах наблюдается значимое различие**.\n",
    "Среднее количество заказов у группы В на 13.8 % больше, чем у группы А."
   ]
  },
  {
   "cell_type": "markdown",
   "id": "42619a77",
   "metadata": {},
   "source": [
    "### Cтатистическая значимость различий в среднем чеке заказа между группами по «сырым» данным. "
   ]
  },
  {
   "cell_type": "markdown",
   "id": "3e1cb16b",
   "metadata": {},
   "source": [
    "Посчитаем статистическую значимость различий в среднем чеке заказа между группами по «сырым» данным — без удаления аномальных пользователей.\n",
    "Сформулируем гипотезы.\n",
    "\n",
    "**Нулевая гипотеза H0**: различий в среднем чеке между группами нет.\n",
    "\n",
    "**Альтернативная гипотеза H1**: различия в среднем чеке между группами есть."
   ]
  },
  {
   "cell_type": "markdown",
   "id": "7a2e0dde",
   "metadata": {},
   "source": [
    "Будем оценивать данные о выручке с заказов для группы А и В с помощью критерия Манна-Уитни."
   ]
  },
  {
   "cell_type": "code",
   "execution_count": 49,
   "id": "9d073c0e",
   "metadata": {},
   "outputs": [
    {
     "name": "stdout",
     "output_type": "stream",
     "text": [
      "P-value 0.729\n",
      "Относительная разница в среднем чеке групп В и А 0.259\n",
      "Не отвергаем нулевую гипотезу о равенстве средних чеков группы А и В\n"
     ]
    }
   ],
   "source": [
    "# задаем уровень значимости\n",
    "alpha = 0.05\n",
    "# считаем p-value с помощью критерия Манна-Уитни\n",
    "p_value = stats.mannwhitneyu(orders[orders['group']=='A']['revenue'], orders[orders['group']=='B']['revenue'])[1]\n",
    "print('P-value', '{0:.3f}'.format(p_value))\n",
    "print('Относительная разница в среднем чеке групп В и А', '{0:.3f}'.format(\n",
    "    orders[orders['group']=='B']['revenue'].mean()/orders[orders['group']=='A']['revenue'].mean()-1))\n",
    "\n",
    "if p_value < alpha:\n",
    "    print('Отвергаем нулевую гипотезу о равенствен средних чеков группы А и В')\n",
    "else:\n",
    "    print('Не отвергаем нулевую гипотезу о равенстве средних чеков группы А и В')"
   ]
  },
  {
   "cell_type": "markdown",
   "id": "a44e5705",
   "metadata": {},
   "source": [
    "Несмотря на то, что средний чек группы В на 26 % больше среднего чека группы А, p-value получился 0.729 (что гораздо больше 0.05), поэтому **нулевую гипотезу о равенстве средних чеков между группами мы не отвергаем**."
   ]
  },
  {
   "cell_type": "markdown",
   "id": "36be3a91",
   "metadata": {},
   "source": [
    "### Cтатистическая значимость различий в среднем количестве заказов на посетителя между группами по «очищенным» данным."
   ]
  },
  {
   "cell_type": "markdown",
   "id": "5db1b2a1",
   "metadata": {},
   "source": [
    " На основе данных о рассчитанных 95-ом и 99-ом перцентилях примем аномальных пользователей за тех, кто совершил от 3 заказов или совершил заказ на сумму более 28 000 р."
   ]
  },
  {
   "cell_type": "code",
   "execution_count": 50,
   "id": "4ac61fbf",
   "metadata": {},
   "outputs": [
    {
     "name": "stdout",
     "output_type": "stream",
     "text": [
      "1099    148427295\n",
      "18      199603092\n",
      "928     204675465\n",
      "23      237748145\n",
      "37      249864742\n",
      "dtype: int64\n",
      "Количество аномальных пользователей 74\n"
     ]
    }
   ],
   "source": [
    "usersWithManyOrders = pd.concat(\n",
    "    [\n",
    "        ordersByUsersA[ordersByUsersA['orders'] > 2]['userId'],\n",
    "        ordersByUsersB[ordersByUsersB['orders'] > 2]['userId'],\n",
    "    ],\n",
    "    axis=0,\n",
    ")\n",
    "usersWithExpensiveOrders = orders[orders['revenue'] > 28000]['visitorId']\n",
    "abnormalUsers = (\n",
    "    pd.concat([usersWithManyOrders, usersWithExpensiveOrders], axis=0)\n",
    "    .drop_duplicates()\n",
    "    .sort_values()\n",
    ")\n",
    "print(abnormalUsers.head(5))\n",
    "print('Количество аномальных пользователей', abnormalUsers.shape[0])"
   ]
  },
  {
   "cell_type": "markdown",
   "id": "02a05a28",
   "metadata": {},
   "source": [
    "Всего в данных 74 аномальных пользователя."
   ]
  },
  {
   "cell_type": "code",
   "execution_count": 51,
   "id": "f53e98ee",
   "metadata": {},
   "outputs": [
    {
     "name": "stdout",
     "output_type": "stream",
     "text": [
      "Доля аномальных пользователей 7.2 %\n"
     ]
    }
   ],
   "source": [
    "print('Доля аномальных пользователей', '{0:.1f}'.format(abnormalUsers.shape[0]/orders['visitorId'].nunique()*100), '%')"
   ]
  },
  {
   "cell_type": "markdown",
   "id": "174d556e",
   "metadata": {},
   "source": [
    "Применим критерий Манна-Уитни к очищенным данным без аномальных пользователей для оценки статистической значимости различий среднего количества заказов на пользователя в группах А и В.\n",
    "Сначала подготовим отфильтрованные выборки количества заказов по пользователям по группам теста `sampleAFiltered` и `sampleBFiltered`:"
   ]
  },
  {
   "cell_type": "code",
   "execution_count": 52,
   "id": "dc7352ca",
   "metadata": {},
   "outputs": [],
   "source": [
    "sampleAFiltered = pd.concat(\n",
    "    [\n",
    "        ordersByUsersA[\n",
    "            np.logical_not(ordersByUsersA['userId'].isin(abnormalUsers))\n",
    "        ]['orders'],\n",
    "        pd.Series(\n",
    "            0,\n",
    "            index=np.arange(\n",
    "                data['visitorsPerDateA'].sum() - len(ordersByUsersA['orders'])\n",
    "            ),\n",
    "            name='orders',\n",
    "        ),\n",
    "    ],\n",
    "    axis=0,\n",
    ")\n",
    "\n",
    "sampleBFiltered = pd.concat(\n",
    "    [\n",
    "        ordersByUsersB[\n",
    "            np.logical_not(ordersByUsersB['userId'].isin(abnormalUsers))\n",
    "        ]['orders'],\n",
    "        pd.Series(\n",
    "            0,\n",
    "            index=np.arange(\n",
    "                data['visitorsPerDateB'].sum() - len(ordersByUsersB['orders'])\n",
    "            ),\n",
    "            name='orders',\n",
    "        ),\n",
    "    ],\n",
    "    axis=0,\n",
    ")"
   ]
  },
  {
   "cell_type": "markdown",
   "id": "5e86bf06",
   "metadata": {},
   "source": [
    "Сформулируем гипотезы.\n",
    "\n",
    "**Нулевая гипотеза H0**: различий в среднем количестве заказов на одного пользователя между группами нет.\n",
    "\n",
    "**Альтернативная гипотеза H1**: различия в среднем количестве заказов на одного пользователя между группами есть."
   ]
  },
  {
   "cell_type": "markdown",
   "id": "4a5aca53",
   "metadata": {},
   "source": [
    "Применим статистический критерий Манна-Уитни к полученным выборкам."
   ]
  },
  {
   "cell_type": "code",
   "execution_count": 53,
   "id": "f7482451",
   "metadata": {},
   "outputs": [
    {
     "name": "stdout",
     "output_type": "stream",
     "text": [
      "p-value 0.013\n",
      "Относительная разница в среднем количестве заказов на посетителя между группами В и А 0.173\n",
      "Отвергаем нулевую гипотезу о равенстве среднего количества заказов на посетителя у групп А и В\n"
     ]
    }
   ],
   "source": [
    "p_value = stats.mannwhitneyu(sampleAFiltered, sampleBFiltered)[1]\n",
    "\n",
    "print('p-value', \"{0:.3f}\".format(p_value))\n",
    "\n",
    "print('Относительная разница в среднем количестве заказов на посетителя между группами В и А', \"{0:.3f}\".format(sampleBFiltered.mean()/sampleAFiltered.mean()-1))\n",
    "\n",
    "if p_value < alpha:\n",
    "    print('Отвергаем нулевую гипотезу о равенстве среднего количества заказов на посетителя у групп А и В')\n",
    "else:\n",
    "    print('Не отвергаем нулевую гипотезу о равенстве среднего количества заказов на посетителя у групп А и В')"
   ]
  },
  {
   "cell_type": "markdown",
   "id": "b9a7272e",
   "metadata": {},
   "source": [
    "После удаления аномальных пользователей, **среднее количество заказов у группы В увеличилось относительно группы А на 3,5 %** (c 13.8 до 17.3%).\n",
    "\n",
    "P-value равен 0.013, результат теста такой же - **нулевую гипотезу о равенстве среднего количества заказов в группе А и В отвергаем**."
   ]
  },
  {
   "cell_type": "markdown",
   "id": "f71e4deb",
   "metadata": {},
   "source": [
    "### Статистическая значимость различий в среднем чеке заказа между группами по «очищенным» данным."
   ]
  },
  {
   "cell_type": "markdown",
   "id": "915f346e",
   "metadata": {},
   "source": [
    "Применим критерий Манна-Уитни к очищенным данным без аномальных пользователей для оценки статистической значимости различий среднего чека в группах А и В.\n",
    "Сформулируем гипотезы.\n",
    "\n",
    "**Нулевая гипотеза H0**: различий в среднем чеке между группами нет.\n",
    "\n",
    "**Альтернативная гипотеза H1**: различия в среднем чеке между группами есть."
   ]
  },
  {
   "cell_type": "code",
   "execution_count": 54,
   "id": "b0e1030a",
   "metadata": {},
   "outputs": [
    {
     "name": "stdout",
     "output_type": "stream",
     "text": [
      "P-value 0.738\n",
      "Относительная разница в среднем чеке между группами В и А -0.020\n",
      "Не отвергаем нулевую гипотезу о равенстве средних чеков группы А и В\n"
     ]
    }
   ],
   "source": [
    "# задаем уровень значимости\n",
    "alpha = 0.05\n",
    "# считаем с помощью критерия Манна-Уитни\n",
    "p_value = stats.mannwhitneyu(orders[np.logical_and(orders['group'] == 'A',np.logical_not(orders['visitorId'].isin(abnormalUsers)),)]['revenue'],\n",
    "            orders[np.logical_and(orders['group'] == 'B',np.logical_not(orders['visitorId'].isin(abnormalUsers)),)]['revenue'],)[1]\n",
    "\n",
    "print('P-value', \"{0:.3f}\".format(p_value))\n",
    "print('Относительная разница в среднем чеке между группами В и А',\n",
    "    \"{0:.3f}\".format(\n",
    "        orders[\n",
    "            np.logical_and(\n",
    "                orders['group'] == 'B',\n",
    "                np.logical_not(orders['visitorId'].isin(abnormalUsers)),\n",
    "            )\n",
    "        ]['revenue'].mean()\n",
    "        / orders[\n",
    "            np.logical_and(\n",
    "                orders['group'] == 'A',\n",
    "                np.logical_not(orders['visitorId'].isin(abnormalUsers)),\n",
    "            )\n",
    "        ]['revenue'].mean()\n",
    "        - 1\n",
    "    )\n",
    ")\n",
    "\n",
    "if p_value < alpha:\n",
    "    print('Отвергаем нулевую гипотезу о равенстве средних чеков группы А и В')\n",
    "else:\n",
    "    print('Не отвергаем нулевую гипотезу о равенстве средних чеков группы А и В')"
   ]
  },
  {
   "cell_type": "markdown",
   "id": "fd08fe3a",
   "metadata": {},
   "source": [
    "После удаления пользователей с аномальными заказами, изменилась разница в средних чеках между группами А и В. Если с учетом аномальных пользователей средний чек у группы В был выше, чем у группы А, на 26 %, то после удаления аномалий разница в среднем чеке стала гораздо меньше: **средний чек в группе В оказался на 2 % ниже, чем в группе А**.\n",
    "\n",
    "На результаты теста удалений аномалий не повлияло - **нулевая гипотеза о равенстве средних чеков не отвергается**. Таким образом, критерий Манна-Уитни правильно сработал и с данными, содержащими аномалиями."
   ]
  },
  {
   "cell_type": "markdown",
   "id": "abeae736",
   "metadata": {},
   "source": [
    "### Вывод по разделу"
   ]
  },
  {
   "cell_type": "markdown",
   "id": "260b2bb5",
   "metadata": {},
   "source": [
    "А/В Тестирование проводилось **с 1 по 31 августа 2019 года**.\n",
    "\n",
    "Сначала проводилась визуальная оценка результатов А/В тестирования и были получены следующие выводы.\n",
    "\n",
    "**Среднее количество заказов на пользователя (конверсия) в группах А и В**\n",
    "\n",
    "Кумулятивное среднее число заказов на посетителя у группы В больше, чем у группы А с 6 августа, с 9 августа графики стабилизируются на уровне 0.034 у группы В, 0.03 у группы А. Отношение среднего число заказов на посетителя для группы В к группе А резко растет до 15-17 августа, затем немного уменьшается начиная с середины теста (17 августа) и устанавливается на значениях 0.1-0.15.\n",
    "\n",
    "Согласно точечной диаграмме среднего количества заказов видно, что в данных присутствуют **аномальные пользователи**, которые соверили **до 11 заказов** за период тестирования. При этом согласно расчетам 95-ого перцентиля, большинство пользователей совершают **до 2 заказов**, не более 5 % процентов пользователей совершают 3 и более заказов. Граничное значение **в 2 заказа** будет использовано далее для фильтрации аномальных пользователей.\n",
    "\n",
    "**Средний чек в группах А и В**\n",
    "\n",
    "На графиках кумулятивной выручки и среднего чека видно, что большую часть период тестирования показатели группы В превышают показатели группы А. Однако на графиках группы В виден резкий скачок 17-18 августа, что может быть связано с аномально дорогим заказом или всплеска количества заказов в эти даты.\n",
    "На графике разницы среднего чека группы В по отношению к группе А также имеются скачки 17-18 августа, после чего отношение уменьшается и начинается устанавливаться на уровне около 0.26 только в последние дни тестирования.\n",
    "\n",
    "На точечной диаграмме стоимости заказов видно, что стоимость большинства заказов менее 50 000. Отдельно выделяются 2 очень дорогих заказа - на **202 740** и **1 294 500**, они были совершены **15 и 19 августа** соответственно в группе В. Самый дорогой заказ является причиной **резкого скачка с 18 по 19 августа** на графиках кумулятивной выручки и среднего чека. Согласно расчету 95-ого перцентиля не более 5 % пользователей совершают заказы **дороже 28 000**, это значение было выбрано как граница для фильтрации аномальных пользователей.\n",
    "\n",
    "**Результаты статистических тестов**\n",
    "\n",
    "После анализа графиков среднего количества заказов на пользователя (конверсии) и среднего чека в группах А и В проводились **4 расчета статистической значимости разницы** этих показателей для \"сырых\" данных (включая аномальных пользователей с большим количеством заказов и очень дорогими заказами) и для отфильтрованных данных без аномалий.\n",
    "\n",
    "В качестве критериев аномальных пользователей были выбраны следующие граничные значения:\n",
    "* количество заказов на пользователя более 2\n",
    "* средний чек более 28 000.\n",
    "\n",
    "Были получены следующие результаты:\n",
    "\n",
    "1. **В среднем количестве заказов между группами А и В наблюдается значимое различие, как с учетом, там и без учета аномальных пользователей**. Фильтрация аномальных пользователей увеличила разницу в среднем количестве заказов между группами В и А с 13.8 % до 17.3 %.\n",
    "\n",
    "2. **Статистически значимого различия по среднего чеку между группами нет ни по сырым, но по отфильтрованным данным**. При этом до учета аномалий средний чек группы В превышал средний чек группы А на 26 %, а после удаления аномалий средний чеки между группами почти сравнялись (средний чек группы В оказался ниже группы А на 2 %).\n",
    "\n",
    "Несмотря на то, что 19 августа был  совершен очень дорогой заказ, который повлиял на значения кумулятивной выручки и средний чек, и график кумулятивного среднего чека еще не успел установиться, результаты статистического теста с учетом и без учета аномальных значений оказались одинаковыми. В связи с этим, продолжать тест дальше и ждать установления графика кумулятивного среднего чека нет смысла."
   ]
  },
  {
   "cell_type": "markdown",
   "id": "23a9421a",
   "metadata": {},
   "source": [
    "### Общий вывод"
   ]
  },
  {
   "cell_type": "markdown",
   "id": "b51d5239",
   "metadata": {},
   "source": [
    "Целью проекта является приоритизация гипотез для увеличения выручки интернет-магазина и анализ результатов проведенного А/В тестирования. \n",
    "Таким образом, исследование состояло из 2 частей.\n",
    "\n",
    "1. Приоритизация гипотез.\n",
    "2. Анализ результатов проведенного А/В тестирования.\n",
    "\n",
    "Интернет-магазином было предоставлено 3 файла с данными: hypothesis.csv с названиями и оценками гипотез, orders.csv с данными о заказах, visitors.csv с данными о количестве посетителей в 2 группах за каждый день исследования.\n",
    "Отделом маркетинга было составлено 9 гипотез, а также даны оценки параметрам Reach, Impact, Confidence и Efforts для приоритизации гипотез.\n",
    "\n",
    "После проведенного обзора данных было выявлено, что тестирование проводилось  **с 1 по 31 августа 2019 г.**  В группу А попали 18736 пользователей, которые соврешили 557 заказов. В группу B попали 18916 пользователей, которые совершили 640 заказов. Дубликатов в данных не обнаружено. При предобработки данных тип столбцов с датой был переведен в datetime.\n",
    "    \n",
    "**Приоритизация гипотез**\n",
    "\n",
    "Приоритизация гипотез производилась путем расчетов с использованием фреймворков **ICE** и **RICE**.\n",
    "\n",
    "По результатам расчётов с использованием фреймофрка **ICE топ-5 наиболее приоритетных гипотез** (перечислены по убыванию приоритета):\n",
    "1. Запустить акцию, дающую скидку на товар в день рождения.\n",
    "2. Добавить два новых канала привлечения трафика, что позволит привлекать на 30% больше пользователей.\t\n",
    "3. Добавить форму подписки на все основные страницы, чтобы собрать базу клиентов для email-рассылок.\n",
    "4. Показать на главной странице баннеры с актуальными акциями и распродажами, чтобы увеличить конверсию.\n",
    "5. Добавить блоки рекомендаций товаров на сайт интернет магазина, чтобы повысить конверсию и средний чек заказа.\n",
    "\n",
    "По результатам расчётов с использованием фреймофрка **RICE, который учитывает также параметр Reach, в топ-5 по приоритету вошли те же гипотезы, но их рейтинг изменился** (перечислены по убыванию приоритета):\n",
    "\n",
    "1. Добавить форму подписки на все основные страницы, чтобы собрать базу клиентов для email-рассылок.\n",
    "2. Добавить блоки рекомендаций товаров на сайт интернет магазина, чтобы повысить конверсию и средний чек заказа.\n",
    "3. Добавить два новых канала привлечения трафика, что позволит привлекать на 30% больше пользователей.\t\n",
    "4. Показать на главной странице баннеры с актуальными акциями и распродажами, чтобы увеличить конверсию.\n",
    "5. Запустить акцию, дающую скидку на товар в день рождения.\n",
    "\n",
    "**Анализ результатов А/В теста**\n",
    "\n",
    "Исследовалась **разница между средним количеством заказов на посетителя (конверсией) и средним чеком в группах А и В**.\n",
    "\n",
    "Согласно **визуальной оценке**, среднее количество заказов на посетителя у группы В выше, чем у группы А почти весь период тестирования. Относительная разница к концу тестирования зафиксировалась на уровне 10-15 %. При этом в данных были найдены пользователи, совершившие **аномальное** количество заказов (от 3 до 11).\n",
    "\n",
    "На графике кумулятивного среднего чека показатели группы В лучше, чем у группы А почти весь период тестирования, однако с 18 по 19 августа наблюдается резкий скачок, который произошел из-за аномально дорого заказа стоимостью 1294 500 (что на 2 порядка больше обычных заказов). После оценки выбросов в качестве границы **аномально** дорогих заказов было выбрано значение 28000 (95-й перцентиль). График разницы между средними чеками группы В и А также имеет несколько скачков и не успел установиться к концу периода тестирования.\n",
    "\n",
    "Статистические тесты проводились 4 раза:\n",
    "* оценка статистической значимости разницы в среднем количестве заказов на пользователя между группами А и В по сырым данным (включая аномалии);\n",
    "* оценка статистической значимости разницы в среднем количестве заказов на пользователя между группами А и В по фильтрованным данным (без учета аномальных пользователей);\n",
    "* оценка статистической значимости разницы в среднем чеке между группами А и В по сырым данным; \n",
    "* оценка статистической значимости разницы в среднем чеке между группами А и В по фильтрованным данным.\n",
    "\n",
    "Были выявлено, что:\n",
    "\n",
    "1. **В среднем количестве заказов между группами А и В наблюдается значимое различие, как с учетом, там и без учета аномальных пользователей**. Фильтрация аномальных пользователей увеличила разницу в среднем количестве заказов на пользователя между группами В и А с 13.8 % до 17.3 %.\n",
    "\n",
    "2. **Статистически значимого различия по среднего чеку между группами нет ни по сырым, но по отфильтрованным данным**. При этом до учета аномалий средний чек группы В превышал средний чек группы А на 26 %, а после удаления аномалий средний чеки между группами почти сравнялись (средний чек группы В оказался ниже группы А на 2 %).\n",
    "\n",
    "\n",
    "Несмотря на то, что 19 августа был  совершен очень дорогой заказ, который повлиял на значения кумулятивной выручки и средний чек, и график кумулятивного среднего чека еще не успел установиться, результаты статистического теста с учетом и без учета аномальных значений оказались одинаковыми. В связи с этим, продолжать тест дальше и ждать установления графика кумулятивного среднего чека нет смысла.\n",
    "\n",
    "Таким образом, проведенное А/В тестирование показало, что внесенные изменения в работу интернет-магазина, привели **к росту среднего количества заказов на пользователя (конверсии) в группе В, но не повлияли на средний чек**.\n"
   ]
  }
 ],
 "metadata": {
  "ExecuteTimeLog": [
   {
    "duration": 724,
    "start_time": "2024-02-07T17:56:40.723Z"
   },
   {
    "duration": 16,
    "start_time": "2024-02-07T17:56:41.449Z"
   },
   {
    "duration": 2643,
    "start_time": "2024-02-07T17:56:41.467Z"
   },
   {
    "duration": 6,
    "start_time": "2024-02-07T17:56:44.113Z"
   },
   {
    "duration": 58,
    "start_time": "2024-02-07T17:56:44.121Z"
   },
   {
    "duration": 14,
    "start_time": "2024-02-07T17:56:44.180Z"
   },
   {
    "duration": 65,
    "start_time": "2024-02-07T17:56:44.195Z"
   },
   {
    "duration": 20,
    "start_time": "2024-02-07T17:56:44.261Z"
   },
   {
    "duration": 75,
    "start_time": "2024-02-07T17:56:44.282Z"
   },
   {
    "duration": 123,
    "start_time": "2024-02-07T17:56:44.359Z"
   },
   {
    "duration": 31,
    "start_time": "2024-02-07T17:56:44.484Z"
   },
   {
    "duration": 70,
    "start_time": "2024-02-07T17:56:44.517Z"
   },
   {
    "duration": 66,
    "start_time": "2024-02-07T17:56:44.588Z"
   },
   {
    "duration": 42,
    "start_time": "2024-02-07T17:56:44.655Z"
   },
   {
    "duration": 66,
    "start_time": "2024-02-07T17:56:44.698Z"
   },
   {
    "duration": 68,
    "start_time": "2024-02-07T17:56:44.766Z"
   },
   {
    "duration": 30,
    "start_time": "2024-02-07T17:56:44.836Z"
   },
   {
    "duration": 54,
    "start_time": "2024-02-07T17:56:44.868Z"
   },
   {
    "duration": 28,
    "start_time": "2024-02-07T17:56:44.924Z"
   },
   {
    "duration": 86,
    "start_time": "2024-02-07T17:56:44.954Z"
   },
   {
    "duration": 40,
    "start_time": "2024-02-07T17:56:45.042Z"
   },
   {
    "duration": 29,
    "start_time": "2024-02-07T17:56:45.084Z"
   },
   {
    "duration": 66,
    "start_time": "2024-02-07T17:56:45.115Z"
   },
   {
    "duration": 65,
    "start_time": "2024-02-07T17:56:45.182Z"
   },
   {
    "duration": 53,
    "start_time": "2024-02-07T17:56:45.249Z"
   },
   {
    "duration": 67,
    "start_time": "2024-02-07T17:56:45.303Z"
   },
   {
    "duration": 53,
    "start_time": "2024-02-07T17:56:45.371Z"
   },
   {
    "duration": 54,
    "start_time": "2024-02-07T17:56:45.428Z"
   },
   {
    "duration": 65,
    "start_time": "2024-02-07T17:56:45.484Z"
   },
   {
    "duration": 17,
    "start_time": "2024-02-07T17:56:45.551Z"
   },
   {
    "duration": 87,
    "start_time": "2024-02-07T17:56:45.570Z"
   },
   {
    "duration": 19,
    "start_time": "2024-02-07T17:56:45.659Z"
   },
   {
    "duration": 56,
    "start_time": "2024-02-07T17:56:45.680Z"
   },
   {
    "duration": 560,
    "start_time": "2024-02-07T17:56:45.738Z"
   },
   {
    "duration": 33,
    "start_time": "2024-02-07T17:56:46.300Z"
   },
   {
    "duration": 28,
    "start_time": "2024-02-07T17:56:46.335Z"
   },
   {
    "duration": 379,
    "start_time": "2024-02-07T17:56:46.365Z"
   },
   {
    "duration": 4,
    "start_time": "2024-02-07T17:56:46.747Z"
   },
   {
    "duration": 27,
    "start_time": "2024-02-07T17:56:46.753Z"
   },
   {
    "duration": 273,
    "start_time": "2024-02-07T17:56:46.782Z"
   },
   {
    "duration": 276,
    "start_time": "2024-02-07T17:56:47.056Z"
   },
   {
    "duration": 303,
    "start_time": "2024-02-07T17:56:47.334Z"
   },
   {
    "duration": 261,
    "start_time": "2024-02-07T17:56:47.639Z"
   },
   {
    "duration": 298,
    "start_time": "2024-02-07T17:56:47.902Z"
   },
   {
    "duration": 129,
    "start_time": "2024-02-07T17:56:48.202Z"
   },
   {
    "duration": 404,
    "start_time": "2024-02-07T17:56:48.332Z"
   },
   {
    "duration": 303,
    "start_time": "2024-02-07T17:56:48.738Z"
   },
   {
    "duration": 272,
    "start_time": "2024-02-07T17:56:49.042Z"
   },
   {
    "duration": 24,
    "start_time": "2024-02-07T17:56:49.316Z"
   },
   {
    "duration": 422,
    "start_time": "2024-02-07T17:56:49.341Z"
   },
   {
    "duration": 756,
    "start_time": "2024-02-07T17:56:49.765Z"
   },
   {
    "duration": 6,
    "start_time": "2024-02-07T17:56:50.522Z"
   },
   {
    "duration": 529,
    "start_time": "2024-02-07T17:56:50.530Z"
   },
   {
    "duration": 305,
    "start_time": "2024-02-07T17:56:51.061Z"
   },
   {
    "duration": 461,
    "start_time": "2024-02-07T17:56:51.369Z"
   },
   {
    "duration": 10,
    "start_time": "2024-02-07T17:56:51.832Z"
   },
   {
    "duration": 34,
    "start_time": "2024-02-07T17:56:51.843Z"
   },
   {
    "duration": 261,
    "start_time": "2024-02-07T17:56:51.879Z"
   }
  ],
  "kernelspec": {
   "display_name": "Python 3 (ipykernel)",
   "language": "python",
   "name": "python3"
  },
  "language_info": {
   "codemirror_mode": {
    "name": "ipython",
    "version": 3
   },
   "file_extension": ".py",
   "mimetype": "text/x-python",
   "name": "python",
   "nbconvert_exporter": "python",
   "pygments_lexer": "ipython3",
   "version": "3.11.5"
  },
  "toc": {
   "base_numbering": 1,
   "nav_menu": {},
   "number_sections": true,
   "sideBar": true,
   "skip_h1_title": true,
   "title_cell": "Table of Contents",
   "title_sidebar": "Contents",
   "toc_cell": true,
   "toc_position": {
    "height": "calc(100% - 180px)",
    "left": "10px",
    "top": "150px",
    "width": "287.442px"
   },
   "toc_section_display": true,
   "toc_window_display": true
  }
 },
 "nbformat": 4,
 "nbformat_minor": 5
}
